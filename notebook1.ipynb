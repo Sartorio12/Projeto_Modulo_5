{
  "cells": [
    {
      "cell_type": "markdown",
      "metadata": {
        "colab_type": "text",
        "id": "view-in-github"
      },
      "source": [
        "<a href=\"https://colab.research.google.com/github/Sartorio12/Projeto_Modulo_5/blob/main/notebook1.ipynb\" target=\"_parent\"><img src=\"https://colab.research.google.com/assets/colab-badge.svg\" alt=\"Open In Colab\"/></a>"
      ]
    },
    {
      "cell_type": "markdown",
      "metadata": {
        "id": "w8Pkkz7384Q5"
      },
      "source": [
        "# <center>Projeto Final do Módulo V</center>\n",
        "<center> Um breve estudo sobre gastos parlamentares Brasileiros\n",
        "\n",
        "<center><img src='https://i.imgur.com/QLJaHpa.png' style=\"width:200px\">\n",
        "\n",
        "<center><a href=\"https://colab.research.google.com/github/Sartorio12/Projeto_Modulo_5/blob/main/notebook1.ipynb\" target=\"_parent\"><img src=\"https://colab.research.google.com/assets/colab-badge.svg\" alt=\"Open In Colab\"/></a>\n",
        "\n",
        "**Grupo 5:** <a href=\"https://github.com/analumf\" target=\"_blank\">Analu Francisco</a> ; <a href=\"https://github.com/leticiafelippe\" target=\"_blank\">Letícia Felippe</a> ; <a href=\"https://github.com/sartorio12\" target=\"_blank\">Mateus Sartorio</a> ; <a href=\"www.linkedin.com/in/mateus-sartorio\" target=\"blank\">Mateus Sartório</a> ; <a href=\"https://github.com/hara0-tavares\" target=\"_blank\">Harão Tavares</a> ; <a href=\"https://github.com/jonathaslkc\" target=\"_blank\">Jonathas Carvalho</a>\n",
        "\n"
      ]
    },
    {
      "cell_type": "markdown",
      "metadata": {
        "id": "hytt2A2k84Q9"
      },
      "source": [
        "<center><img src='https://i.imgur.com/QadqCNH.jpg' style=\"width:600px\">\n",
        "<center>Fonte: Agência Câmara de Notícias — Roque de Sá/Agência Senado"
      ]
    },
    {
      "cell_type": "markdown",
      "metadata": {
        "id": "2QqPkbsd84Q-"
      },
      "source": [
        "---\n",
        "\n",
        "# **1.** Sobre o estudo e objetivos"
      ]
    },
    {
      "cell_type": "markdown",
      "metadata": {
        "id": "WpcYUhQ884Q_"
      },
      "source": [
        "O que você imagina quando ouve o conceito **\"Cota Parlamentar\"** ou **\"Cota para o Exercício da Atividade Parlamentar (CEAP)\"**?\n",
        "\n",
        "Você sabia que é através da **CEAP** que deputados e senadores custeiam suas despesas em atividades parlamentares? O mais interessante disso, é que os dados da CEAP que iremos analisar hoje são abertos e podem ser acessados por qualquer pesso, ou seja, qualquer pessoa pode ver como os deputados e senadores utilizam essse tipo de recurso. \n",
        "\n",
        "Apesar de cobrir uma quantidade grande de despesas, os gastos com a CEAP devem seguir uma série de regras definidas pelo Ato da Mesa 43/2009. Isso quer dizer que os parlamentares não podem utilizar esses recursos de qualquer maneira. Alguns exemplos de gastos vedados são a aquisição de gêneros alimentícios (ex.: o parlamentar pode gastar com as suas refeições mas não pode comprar carne para o churrasco no fim de semana), gastos de caráter eleitoral e gastos com a participação em cursos de educação básica, graduação e pós-graduação.\n",
        "\n",
        "Além disso, como citado anteriormente, a CEAP é destinada a custear gastos exclusivamente vinculados ao exercício da atividade parlamentar, o que veda o seu uso para o benefício de terceiros, como por exemplo, o pagamento de refeições para outras pessoas além do próprio parlamentar.\n",
        "Apesar de todas essas regras, a fiscalização desses gastos é bastante falha, sendo comum o surgimento de denúncias sobre irregularidades.\n",
        "\n",
        "Neste cenário surgiu um projeto chamado Operação Serenata de Amor ( https://serenata.ai/ ), que tem como objetivo utilizar ferramentas de ciência de dados para fiscalizar gastos públicos e compartilhar informações relevantes com o público. O projeto tem uma série de módulos. Alguns deles são responsáveis por baixar e limpar os dados, outros por identificar irregularidades e por fim existem alguns módulos responsáveis pela divulgação de eventuais alertas de irregularidades. Um desses módulos de divulgação é o bot @RosieDaSerenata, responsável por publicar alertas de irregularidades no Twitter.\n",
        "\n",
        "<center><img src='https://i.imgur.com/AjyWlf1.jpg'>"
      ]
    },
    {
      "cell_type": "markdown",
      "metadata": {
        "id": "qXuQYpmx84RB"
      },
      "source": [
        "**É sobre isso que vamos tratar nesta análise, que tem dois focos principais:**\n",
        "- *Demonstrar como investigaremos esses dados utilizando Python.*\n",
        "- *Elaborar conceitos a respeito da utilização da CEAP nos últimos 3 anos, com destaques no cenário de pandemia(COVID-19).*\n",
        "\n",
        "#### <center> **Nós do grupo 5 esperamos que a leitura desse notebook seja esclarecedora e útil :)**"
      ]
    },
    {
      "cell_type": "markdown",
      "metadata": {
        "id": "zzvSqRuh84RB"
      },
      "source": [
        "# **2.** Começando a nossa análise"
      ]
    },
    {
      "cell_type": "markdown",
      "metadata": {
        "id": "DYBCfql084RC"
      },
      "source": [
        "Essa parte será um pouco teórica, pois nela exibiremos um pouco sobre a limpeza dos dados coletados no site da Câmara. Caso você queira somente acompanhar quais foram as nossas deduções baseadas nessas informações, pode pular para a parte X ( Preciso preencher a parte ).\n",
        "\n",
        "*Antes de mais nada, vamos apresentar um glossário sobre o DataSet:*\n",
        "\n",
        "- `Nome Parlamentar(txNomeParlamentar)` :  *Nome adotado pelo Parlamentar ao tomar posse do seu mandato.*\n",
        "- `ideCadastro(Identificador Único do Parlamentar)` : *Número que identifica unicamente um deputado federal na CD.*\n",
        "- `nuCarteiraParlamentar(Número da Carteira Parlamentar)` : *Documento usado para identificar um deputado federal na CD.*\n",
        "- `nuLegislatura(Número da  Legislatura)` : *No contexto da cota CEAP, representa o ano base de início da legislatura.*\n",
        "- `sgUF(Sigla da Unidade Federal)` : *Representa a UF do parlamentar.*\n",
        "- `sdPartido(Sigla do Partido)` : *Representa o partido do parlamentar.*\n",
        "- `codLegislatura(Código da Legislatura)` : *No contexto da cota CEAP, o seu conteúdo representa o código identificador da Legislatura.*\n",
        "- `numSubCota(Número da Subcota) `: *Representa o código do Tipo de Despesa, comprovada por meio da emissão de um documento fiscal, a qual é debitada na cota do deputado.*\n",
        "- `txtDescricao(Descrição da Subcota)` : *Descrição do Tipo de Despesa.*\n",
        "- `numEspecificacaoSubCota(Número da Especificação da Subcota)` : *Representa o código desta especificação mais detalhada.*\n",
        "- `txtDescricaoEspecificacao(Descrição da Especificação da Subcota)` : *Detalha o tipo de despesa efetuada.*\n",
        "- `txtFornecedor(Fornecedor)` : *Representa o fornecedor do produto ou serviço presente no documento fiscal.*\n",
        "- `txtCNPJCPF(CNPJ/CPF)` : *Indica se o fornecedor é CNPJ ou CPF , presente no documento fiscal.*\n",
        "- `txtNumero(Número do Documento)` : *Indica o número do documento do emissor da NF em questão.*\n",
        "- `indTipoDocumento(Indicativo de Tipo de Documento Fiscal)` : *Tipo de documento do fiscal – 0 para Nota Fiscal; 1 para Recibo; 2 para Despesa no Exterior.*\n",
        "- `datEmissao(Data de Emissão)` : *A data de emissão do documento.*\n",
        "- `vlrDocumento(Valor do Documento)` : *O seu conteúdo é o valor de face do documento fiscal ou o valor do documento que deu causa à despesa.*\n",
        "- `vlrGlosa(Valor da Glosa)` : *Valor da glosa do documento que deu causa à despesa.*\n",
        "- `vlrLiquido(Valor Liquido)` : *Valor líquido do documento (será calculado pela diferença entre o Valor do Documento e o Valor da Glosa)*\n",
        "- `numMes(Mês) `: *Indica o mês da emissão da nota.*\n",
        "- `numAno(Ano) `: *Indica o ano da emissão da nota.*\n",
        "- `numParcela(Número da Parcela)` : *O seu conteúdo representa o número da parcela do documento fiscal. Ocorre quando o documento tem de ser reembolsado de forma parcelada.*\n",
        "- `txtPassageiro(Nome do Passageiro)` : *O nome do passageiro, em caso da emissão do documento ser uma passagem aérea.*\n",
        "- `txtTrecho(Trecho)` : *Representa qual o trecho da viagem, somente em casos de viagem aérea.*\n",
        "- `numLote(Número do Lote) `: *Representa a capa do lote em que esse documento será incluído para ser entregue na Câmara para ressarcimento.*\n",
        "- `numRessarcimento(Número do Ressarcimento) `: *Indica o ressarcimento do qual o documento faz parte.*\n",
        "- `vlrRestituição(Valor da Restituição)` : *Indica o valor que será restituído sobre aquele documento.*\n",
        "- `nuDeputadoId(Identificador do Solicitante)` : *Número que identifica um Parlamentar ou Liderança na Transparência da Cota para Exercício da Atividade Parlamentar.*"
      ]
    },
    {
      "cell_type": "markdown",
      "metadata": {
        "id": "M0vl8brR84RD"
      },
      "source": [
        "## **2.1.** Materiais e métodos"
      ]
    },
    {
      "cell_type": "markdown",
      "metadata": {
        "id": "zz6xxH9X84RE"
      },
      "source": [
        "O presente trabalho foi desenvolvido utilizando `Google Colaboratory` e `Jupyter Notebook`, com a importação das seguintes bibliotecas:\n",
        "> * `Pandas`: é uma biblioteca para uso em Python, open-source e de uso gratuito (sob uma licença BSD), que fornece ferramentas para análise e manipulação de dados. ;<br>\n",
        "> * `Numpy`: é uma biblioteca para a linguagem Python com funções para se trabalhar com computação numérica. Seu principal objeto é o vetor n-dimensional, ou ndarray .;<br>\n",
        "> * `Matplotlib`: é uma biblioteca com recursos para a geração de gráficos 2D a partir de arrays. Gráficos comuns podem ser criados com alta qualidade a partir de comandos simples, inspirados nos comandos gráficos do MATLAB;<br>\n",
        "> * `Seaborn`: é uma biblioteca que atua em cima do matplotlib e ajuda a melhorar o visual dos gráficos, dando uma aparência mais bem acabada; e<br>\n",
        "> * `Datetime`: é um módulo que fornece as classes para manipulação de datas e horas. Ainda que a aritmética de data e hora seja suportada, o foco da implementação é na extração eficiente do atributo para formatação da saída e manipulação.\n",
        "\n",
        "A base de dados pode ser encontrada no site da Câmara (https://www.camara.leg.br/cota-parlamentar/), de acesso livre.\n",
        "\n",
        "Para versionamento do código utilizamos o `Git` e `GitHub` para publicação do trabalho.\n",
        "\n",
        "Para organização e acompanhamento das tarefas entre os integrantes do grupo foi utilizado o `Trello`.\n",
        "\n",
        "As reuniões foram estabelecidas através da plataforma `Discord`."
      ]
    },
    {
      "cell_type": "markdown",
      "metadata": {
        "id": "yorWRC0y84RF"
      },
      "source": [
        "## **3.1** Importando nossas bibliotecas"
      ]
    },
    {
      "cell_type": "markdown",
      "metadata": {
        "id": "lNWHLhJc84RF"
      },
      "source": [
        "A parte incial, simples importação de bibliotecas que serão utilizadas."
      ]
    },
    {
      "cell_type": "code",
      "execution_count": 3,
      "metadata": {
        "id": "6X5ldIquTfk9"
      },
      "outputs": [],
      "source": [
        "import pandas as pd\n",
        "import numpy as np\n",
        "import matplotlib.pyplot as plt\n",
        "from sklearn.preprocessing import MinMaxScaler"
      ]
    },
    {
      "cell_type": "markdown",
      "metadata": {
        "id": "i7R8bFEPTflC"
      },
      "source": [
        "## **3.2.** Importando nossos dados"
      ]
    },
    {
      "cell_type": "code",
      "execution_count": 4,
      "metadata": {
        "id": "n1PvipkSTflO"
      },
      "outputs": [],
      "source": [
        "df1 = pd.read_csv('Ano-2019.csv', sep=';')\n",
        "df2 = pd.read_csv('Ano-2020.csv', sep=';')\n",
        "df3 = pd.read_csv('Ano-2021.csv', sep=';')"
      ]
    },
    {
      "cell_type": "markdown",
      "metadata": {
        "id": "BqliSP5Q84RI"
      },
      "source": [
        "## **3.3.** Começando com limpeza e verificação de dados"
      ]
    },
    {
      "cell_type": "code",
      "execution_count": 5,
      "metadata": {
        "id": "eZKq04yqXV4G"
      },
      "outputs": [],
      "source": [
        "#Concatenando os 3 arquivos em um único\n",
        "df_unico = pd.concat([df1,df2,df3])"
      ]
    },
    {
      "cell_type": "code",
      "execution_count": 6,
      "metadata": {
        "id": "jAfX1cnE84RJ",
        "outputId": "2a732e75-2464-474a-c76d-543b6fa8d65f"
      },
      "outputs": [
        {
          "data": {
            "text/plain": [
              "PT               71008\n",
              "PSL              67028\n",
              "PP               44060\n",
              "PL               38495\n",
              "MDB              38487\n",
              "PSD              36623\n",
              "PSB              34907\n",
              "PSDB             34371\n",
              "REPUBLICANOS     29028\n",
              "PDT              28706\n",
              "DEM              27015\n",
              "PTB              12719\n",
              "SOLIDARIEDADE    12350\n",
              "PODE             10574\n",
              "CIDADANIA         9341\n",
              "AVANTE            9257\n",
              "PROS              8599\n",
              "PSOL              8099\n",
              "PCdoB             7288\n",
              "PSC               6991\n",
              "PATRIOTA          5951\n",
              "NOVO              5829\n",
              "PV                3761\n",
              "PR                1118\n",
              "REDE               708\n",
              "PRB                531\n",
              "S.PART.            377\n",
              "PPS                225\n",
              "PATRI              154\n",
              "PHS                139\n",
              "PPL                 20\n",
              "Name: sgPartido, dtype: int64"
            ]
          },
          "execution_count": 6,
          "metadata": {},
          "output_type": "execute_result"
        }
      ],
      "source": [
        "# Verificando o número de partidos que contém o DataFrame\n",
        "df_unico.sgPartido.value_counts()"
      ]
    },
    {
      "cell_type": "code",
      "execution_count": 7,
      "metadata": {
        "id": "oWpgPnQ1XWtE"
      },
      "outputs": [],
      "source": [
        "# Criando uma cópia do dataframe para eventuais imprevistos que possam ocorrer\n",
        "df_copia = df_unico.copy()"
      ]
    },
    {
      "cell_type": "code",
      "execution_count": 8,
      "metadata": {
        "id": "cs7mB3tNXZ7Y",
        "outputId": "158f08bd-65d7-4ae5-d0b4-25b71831465c"
      },
      "outputs": [
        {
          "data": {
            "text/plain": [
              "Index(['txNomeParlamentar', 'cpf', 'ideCadastro', 'nuCarteiraParlamentar',\n",
              "       'nuLegislatura', 'sgUF', 'sgPartido', 'codLegislatura', 'numSubCota',\n",
              "       'txtDescricao', 'numEspecificacaoSubCota', 'txtDescricaoEspecificacao',\n",
              "       'txtFornecedor', 'txtCNPJCPF', 'txtNumero', 'indTipoDocumento',\n",
              "       'datEmissao', 'vlrDocumento', 'vlrGlosa', 'vlrLiquido', 'numMes',\n",
              "       'numAno', 'numParcela', 'txtPassageiro', 'txtTrecho', 'numLote',\n",
              "       'numRessarcimento', 'vlrRestituicao', 'nuDeputadoId', 'ideDocumento',\n",
              "       'urlDocumento'],\n",
              "      dtype='object')"
            ]
          },
          "execution_count": 8,
          "metadata": {},
          "output_type": "execute_result"
        }
      ],
      "source": [
        "# Verificando o nome das colunas para facilitar na análise\n",
        "df_copia.columns"
      ]
    },
    {
      "cell_type": "code",
      "execution_count": 9,
      "metadata": {
        "id": "dnmX5tRsXhbX",
        "outputId": "757f1b37-6a39-42be-ceeb-2e67bc0d9f68"
      },
      "outputs": [
        {
          "data": {
            "text/plain": [
              "txNomeParlamentar             object\n",
              "cpf                          float64\n",
              "ideCadastro                  float64\n",
              "nuCarteiraParlamentar        float64\n",
              "nuLegislatura                  int64\n",
              "sgUF                          object\n",
              "sgPartido                     object\n",
              "codLegislatura                 int64\n",
              "numSubCota                     int64\n",
              "txtDescricao                  object\n",
              "numEspecificacaoSubCota        int64\n",
              "txtDescricaoEspecificacao     object\n",
              "txtFornecedor                 object\n",
              "txtCNPJCPF                    object\n",
              "txtNumero                     object\n",
              "indTipoDocumento               int64\n",
              "datEmissao                    object\n",
              "vlrDocumento                 float64\n",
              "vlrGlosa                     float64\n",
              "vlrLiquido                   float64\n",
              "numMes                         int64\n",
              "numAno                         int64\n",
              "numParcela                     int64\n",
              "txtPassageiro                 object\n",
              "txtTrecho                     object\n",
              "numLote                        int64\n",
              "numRessarcimento             float64\n",
              "vlrRestituicao               float64\n",
              "nuDeputadoId                   int64\n",
              "ideDocumento                   int64\n",
              "urlDocumento                  object\n",
              "dtype: object"
            ]
          },
          "execution_count": 9,
          "metadata": {},
          "output_type": "execute_result"
        }
      ],
      "source": [
        "# Conferindo o tipo de dado em cada coluna\n",
        "df_copia.dtypes"
      ]
    },
    {
      "cell_type": "code",
      "execution_count": 10,
      "metadata": {
        "id": "L8gbslV8Xh7G",
        "outputId": "a23e4a29-2167-49f5-b7c3-aa039211195a"
      },
      "outputs": [
        {
          "name": "stdout",
          "output_type": "stream",
          "text": [
            "<class 'pandas.core.frame.DataFrame'>\n",
            "Int64Index: 555500 entries, 0 to 105604\n",
            "Data columns (total 31 columns):\n",
            " #   Column                     Non-Null Count   Dtype  \n",
            "---  ------                     --------------   -----  \n",
            " 0   txNomeParlamentar          555500 non-null  object \n",
            " 1   cpf                        553661 non-null  float64\n",
            " 2   ideCadastro                553759 non-null  float64\n",
            " 3   nuCarteiraParlamentar      553759 non-null  float64\n",
            " 4   nuLegislatura              555500 non-null  int64  \n",
            " 5   sgUF                       553759 non-null  object \n",
            " 6   sgPartido                  553759 non-null  object \n",
            " 7   codLegislatura             555500 non-null  int64  \n",
            " 8   numSubCota                 555500 non-null  int64  \n",
            " 9   txtDescricao               555500 non-null  object \n",
            " 10  numEspecificacaoSubCota    555500 non-null  int64  \n",
            " 11  txtDescricaoEspecificacao  136177 non-null  object \n",
            " 12  txtFornecedor              555467 non-null  object \n",
            " 13  txtCNPJCPF                 531710 non-null  object \n",
            " 14  txtNumero                  555500 non-null  object \n",
            " 15  indTipoDocumento           555500 non-null  int64  \n",
            " 16  datEmissao                 539850 non-null  object \n",
            " 17  vlrDocumento               555500 non-null  float64\n",
            " 18  vlrGlosa                   555500 non-null  float64\n",
            " 19  vlrLiquido                 555500 non-null  float64\n",
            " 20  numMes                     555500 non-null  int64  \n",
            " 21  numAno                     555500 non-null  int64  \n",
            " 22  numParcela                 555500 non-null  int64  \n",
            " 23  txtPassageiro              129493 non-null  object \n",
            " 24  txtTrecho                  128426 non-null  object \n",
            " 25  numLote                    555500 non-null  int64  \n",
            " 26  numRessarcimento           180842 non-null  float64\n",
            " 27  vlrRestituicao             364 non-null     float64\n",
            " 28  nuDeputadoId               555500 non-null  int64  \n",
            " 29  ideDocumento               555500 non-null  int64  \n",
            " 30  urlDocumento               349639 non-null  object \n",
            "dtypes: float64(8), int64(11), object(12)\n",
            "memory usage: 135.6+ MB\n"
          ]
        }
      ],
      "source": [
        "# Vendo todas as informações e contando os valores não nulos em cada coluna\n",
        "df_copia.info()"
      ]
    },
    {
      "cell_type": "code",
      "execution_count": 11,
      "metadata": {
        "id": "Bk7JsqaMXnB1",
        "outputId": "40c237ee-d448-4249-fec2-90405ed8e384"
      },
      "outputs": [
        {
          "data": {
            "text/plain": [
              "txNomeParlamentar             0.00\n",
              "cpf                           0.33\n",
              "ideCadastro                   0.31\n",
              "nuCarteiraParlamentar         0.31\n",
              "nuLegislatura                 0.00\n",
              "sgUF                          0.31\n",
              "sgPartido                     0.31\n",
              "codLegislatura                0.00\n",
              "numSubCota                    0.00\n",
              "txtDescricao                  0.00\n",
              "numEspecificacaoSubCota       0.00\n",
              "txtDescricaoEspecificacao    75.49\n",
              "txtFornecedor                 0.01\n",
              "txtCNPJCPF                    4.28\n",
              "txtNumero                     0.00\n",
              "indTipoDocumento              0.00\n",
              "datEmissao                    2.82\n",
              "vlrDocumento                  0.00\n",
              "vlrGlosa                      0.00\n",
              "vlrLiquido                    0.00\n",
              "numMes                        0.00\n",
              "numAno                        0.00\n",
              "numParcela                    0.00\n",
              "txtPassageiro                76.69\n",
              "txtTrecho                    76.88\n",
              "numLote                       0.00\n",
              "numRessarcimento             67.45\n",
              "vlrRestituicao               99.93\n",
              "nuDeputadoId                  0.00\n",
              "ideDocumento                  0.00\n",
              "urlDocumento                 37.06\n",
              "dtype: float64"
            ]
          },
          "execution_count": 11,
          "metadata": {},
          "output_type": "execute_result"
        }
      ],
      "source": [
        "# Procurando numero de dados nulos em percentual\n",
        "round(df_copia.isnull().mean()*100,2)"
      ]
    },
    {
      "cell_type": "code",
      "execution_count": 12,
      "metadata": {
        "id": "KFgu2unNXnlN",
        "outputId": "9968f5d6-4299-4bea-af35-e188f161db72"
      },
      "outputs": [
        {
          "data": {
            "text/html": [
              "<div>\n",
              "<style scoped>\n",
              "    .dataframe tbody tr th:only-of-type {\n",
              "        vertical-align: middle;\n",
              "    }\n",
              "\n",
              "    .dataframe tbody tr th {\n",
              "        vertical-align: top;\n",
              "    }\n",
              "\n",
              "    .dataframe thead th {\n",
              "        text-align: right;\n",
              "    }\n",
              "</style>\n",
              "<table border=\"1\" class=\"dataframe\">\n",
              "  <thead>\n",
              "    <tr style=\"text-align: right;\">\n",
              "      <th></th>\n",
              "      <th>cpf</th>\n",
              "      <th>ideCadastro</th>\n",
              "      <th>nuCarteiraParlamentar</th>\n",
              "      <th>nuLegislatura</th>\n",
              "      <th>codLegislatura</th>\n",
              "      <th>numSubCota</th>\n",
              "      <th>numEspecificacaoSubCota</th>\n",
              "      <th>indTipoDocumento</th>\n",
              "      <th>vlrDocumento</th>\n",
              "      <th>vlrGlosa</th>\n",
              "      <th>vlrLiquido</th>\n",
              "      <th>numMes</th>\n",
              "      <th>numAno</th>\n",
              "      <th>numParcela</th>\n",
              "      <th>numLote</th>\n",
              "      <th>numRessarcimento</th>\n",
              "      <th>vlrRestituicao</th>\n",
              "      <th>nuDeputadoId</th>\n",
              "      <th>ideDocumento</th>\n",
              "    </tr>\n",
              "  </thead>\n",
              "  <tbody>\n",
              "    <tr>\n",
              "      <th>count</th>\n",
              "      <td>5.536610e+05</td>\n",
              "      <td>553759.000000</td>\n",
              "      <td>553759.000000</td>\n",
              "      <td>555500.000000</td>\n",
              "      <td>555500.000000</td>\n",
              "      <td>555500.000000</td>\n",
              "      <td>555500.000000</td>\n",
              "      <td>555500.000000</td>\n",
              "      <td>555500.000000</td>\n",
              "      <td>555500.000000</td>\n",
              "      <td>555500.000000</td>\n",
              "      <td>555500.000000</td>\n",
              "      <td>555500.000000</td>\n",
              "      <td>555500.000000</td>\n",
              "      <td>5.555000e+05</td>\n",
              "      <td>180842.0</td>\n",
              "      <td>364.000000</td>\n",
              "      <td>555500.000000</td>\n",
              "      <td>5.555000e+05</td>\n",
              "    </tr>\n",
              "    <tr>\n",
              "      <th>mean</th>\n",
              "      <td>3.208493e+10</td>\n",
              "      <td>166015.342644</td>\n",
              "      <td>289.007700</td>\n",
              "      <td>2018.894387</td>\n",
              "      <td>55.973597</td>\n",
              "      <td>250.656994</td>\n",
              "      <td>0.251131</td>\n",
              "      <td>1.029525</td>\n",
              "      <td>884.412172</td>\n",
              "      <td>3.900387</td>\n",
              "      <td>808.744693</td>\n",
              "      <td>6.083879</td>\n",
              "      <td>2019.669870</td>\n",
              "      <td>0.000238</td>\n",
              "      <td>1.130421e+06</td>\n",
              "      <td>0.0</td>\n",
              "      <td>873.633571</td>\n",
              "      <td>2734.361870</td>\n",
              "      <td>5.045073e+06</td>\n",
              "    </tr>\n",
              "    <tr>\n",
              "      <th>std</th>\n",
              "      <td>2.921625e+10</td>\n",
              "      <td>45864.510704</td>\n",
              "      <td>153.129661</td>\n",
              "      <td>0.641326</td>\n",
              "      <td>0.160331</td>\n",
              "      <td>412.069770</td>\n",
              "      <td>0.457949</td>\n",
              "      <td>1.567946</td>\n",
              "      <td>2464.526292</td>\n",
              "      <td>139.446699</td>\n",
              "      <td>2464.253989</td>\n",
              "      <td>3.337029</td>\n",
              "      <td>0.775475</td>\n",
              "      <td>0.015413</td>\n",
              "      <td>7.872364e+05</td>\n",
              "      <td>0.0</td>\n",
              "      <td>2367.571616</td>\n",
              "      <td>773.342999</td>\n",
              "      <td>2.865350e+06</td>\n",
              "    </tr>\n",
              "    <tr>\n",
              "      <th>min</th>\n",
              "      <td>1.608657e+06</td>\n",
              "      <td>4930.000000</td>\n",
              "      <td>1.000000</td>\n",
              "      <td>2015.000000</td>\n",
              "      <td>55.000000</td>\n",
              "      <td>1.000000</td>\n",
              "      <td>0.000000</td>\n",
              "      <td>0.000000</td>\n",
              "      <td>-6605.570000</td>\n",
              "      <td>0.000000</td>\n",
              "      <td>-7821.200000</td>\n",
              "      <td>1.000000</td>\n",
              "      <td>2019.000000</td>\n",
              "      <td>0.000000</td>\n",
              "      <td>0.000000e+00</td>\n",
              "      <td>0.0</td>\n",
              "      <td>1.000000</td>\n",
              "      <td>19.000000</td>\n",
              "      <td>0.000000e+00</td>\n",
              "    </tr>\n",
              "    <tr>\n",
              "      <th>25%</th>\n",
              "      <td>6.197278e+09</td>\n",
              "      <td>141531.000000</td>\n",
              "      <td>160.000000</td>\n",
              "      <td>2019.000000</td>\n",
              "      <td>56.000000</td>\n",
              "      <td>3.000000</td>\n",
              "      <td>0.000000</td>\n",
              "      <td>0.000000</td>\n",
              "      <td>63.000000</td>\n",
              "      <td>0.000000</td>\n",
              "      <td>49.510000</td>\n",
              "      <td>3.000000</td>\n",
              "      <td>2019.000000</td>\n",
              "      <td>0.000000</td>\n",
              "      <td>0.000000e+00</td>\n",
              "      <td>0.0</td>\n",
              "      <td>6.975000</td>\n",
              "      <td>2265.000000</td>\n",
              "      <td>1.705442e+06</td>\n",
              "    </tr>\n",
              "    <tr>\n",
              "      <th>50%</th>\n",
              "      <td>2.227515e+10</td>\n",
              "      <td>178938.000000</td>\n",
              "      <td>292.000000</td>\n",
              "      <td>2019.000000</td>\n",
              "      <td>56.000000</td>\n",
              "      <td>10.000000</td>\n",
              "      <td>0.000000</td>\n",
              "      <td>0.000000</td>\n",
              "      <td>201.380000</td>\n",
              "      <td>0.000000</td>\n",
              "      <td>184.500000</td>\n",
              "      <td>6.000000</td>\n",
              "      <td>2019.000000</td>\n",
              "      <td>0.000000</td>\n",
              "      <td>1.620008e+06</td>\n",
              "      <td>0.0</td>\n",
              "      <td>26.105000</td>\n",
              "      <td>3062.000000</td>\n",
              "      <td>6.888214e+06</td>\n",
              "    </tr>\n",
              "    <tr>\n",
              "      <th>75%</th>\n",
              "      <td>5.098035e+10</td>\n",
              "      <td>204449.000000</td>\n",
              "      <td>424.000000</td>\n",
              "      <td>2019.000000</td>\n",
              "      <td>56.000000</td>\n",
              "      <td>122.000000</td>\n",
              "      <td>0.000000</td>\n",
              "      <td>1.000000</td>\n",
              "      <td>747.600000</td>\n",
              "      <td>0.000000</td>\n",
              "      <td>642.000000</td>\n",
              "      <td>9.000000</td>\n",
              "      <td>2020.000000</td>\n",
              "      <td>0.000000</td>\n",
              "      <td>1.707915e+06</td>\n",
              "      <td>0.0</td>\n",
              "      <td>277.395000</td>\n",
              "      <td>3312.000000</td>\n",
              "      <td>7.075930e+06</td>\n",
              "    </tr>\n",
              "    <tr>\n",
              "      <th>max</th>\n",
              "      <td>9.989866e+10</td>\n",
              "      <td>217330.000000</td>\n",
              "      <td>627.000000</td>\n",
              "      <td>2019.000000</td>\n",
              "      <td>56.000000</td>\n",
              "      <td>999.000000</td>\n",
              "      <td>4.000000</td>\n",
              "      <td>4.000000</td>\n",
              "      <td>172000.000000</td>\n",
              "      <td>86000.000000</td>\n",
              "      <td>151260.000000</td>\n",
              "      <td>12.000000</td>\n",
              "      <td>2021.000000</td>\n",
              "      <td>1.000000</td>\n",
              "      <td>1.789366e+06</td>\n",
              "      <td>0.0</td>\n",
              "      <td>20000.000000</td>\n",
              "      <td>3487.000000</td>\n",
              "      <td>7.245337e+06</td>\n",
              "    </tr>\n",
              "  </tbody>\n",
              "</table>\n",
              "</div>"
            ],
            "text/plain": [
              "                cpf    ideCadastro  nuCarteiraParlamentar  nuLegislatura  \\\n",
              "count  5.536610e+05  553759.000000          553759.000000  555500.000000   \n",
              "mean   3.208493e+10  166015.342644             289.007700    2018.894387   \n",
              "std    2.921625e+10   45864.510704             153.129661       0.641326   \n",
              "min    1.608657e+06    4930.000000               1.000000    2015.000000   \n",
              "25%    6.197278e+09  141531.000000             160.000000    2019.000000   \n",
              "50%    2.227515e+10  178938.000000             292.000000    2019.000000   \n",
              "75%    5.098035e+10  204449.000000             424.000000    2019.000000   \n",
              "max    9.989866e+10  217330.000000             627.000000    2019.000000   \n",
              "\n",
              "       codLegislatura     numSubCota  numEspecificacaoSubCota  \\\n",
              "count   555500.000000  555500.000000            555500.000000   \n",
              "mean        55.973597     250.656994                 0.251131   \n",
              "std          0.160331     412.069770                 0.457949   \n",
              "min         55.000000       1.000000                 0.000000   \n",
              "25%         56.000000       3.000000                 0.000000   \n",
              "50%         56.000000      10.000000                 0.000000   \n",
              "75%         56.000000     122.000000                 0.000000   \n",
              "max         56.000000     999.000000                 4.000000   \n",
              "\n",
              "       indTipoDocumento   vlrDocumento       vlrGlosa     vlrLiquido  \\\n",
              "count     555500.000000  555500.000000  555500.000000  555500.000000   \n",
              "mean           1.029525     884.412172       3.900387     808.744693   \n",
              "std            1.567946    2464.526292     139.446699    2464.253989   \n",
              "min            0.000000   -6605.570000       0.000000   -7821.200000   \n",
              "25%            0.000000      63.000000       0.000000      49.510000   \n",
              "50%            0.000000     201.380000       0.000000     184.500000   \n",
              "75%            1.000000     747.600000       0.000000     642.000000   \n",
              "max            4.000000  172000.000000   86000.000000  151260.000000   \n",
              "\n",
              "              numMes         numAno     numParcela       numLote  \\\n",
              "count  555500.000000  555500.000000  555500.000000  5.555000e+05   \n",
              "mean        6.083879    2019.669870       0.000238  1.130421e+06   \n",
              "std         3.337029       0.775475       0.015413  7.872364e+05   \n",
              "min         1.000000    2019.000000       0.000000  0.000000e+00   \n",
              "25%         3.000000    2019.000000       0.000000  0.000000e+00   \n",
              "50%         6.000000    2019.000000       0.000000  1.620008e+06   \n",
              "75%         9.000000    2020.000000       0.000000  1.707915e+06   \n",
              "max        12.000000    2021.000000       1.000000  1.789366e+06   \n",
              "\n",
              "       numRessarcimento  vlrRestituicao   nuDeputadoId  ideDocumento  \n",
              "count          180842.0      364.000000  555500.000000  5.555000e+05  \n",
              "mean                0.0      873.633571    2734.361870  5.045073e+06  \n",
              "std                 0.0     2367.571616     773.342999  2.865350e+06  \n",
              "min                 0.0        1.000000      19.000000  0.000000e+00  \n",
              "25%                 0.0        6.975000    2265.000000  1.705442e+06  \n",
              "50%                 0.0       26.105000    3062.000000  6.888214e+06  \n",
              "75%                 0.0      277.395000    3312.000000  7.075930e+06  \n",
              "max                 0.0    20000.000000    3487.000000  7.245337e+06  "
            ]
          },
          "execution_count": 12,
          "metadata": {},
          "output_type": "execute_result"
        }
      ],
      "source": [
        "# o describe foi feito pra destacar os valores negativos presentes nas colunas:'vlrDocumento' e 'vlrLiquido' \n",
        "df_copia.describe()"
      ]
    },
    {
      "cell_type": "markdown",
      "metadata": {
        "id": "OflcX1LRZfSP"
      },
      "source": [
        "Achamos importante explicar o que são esses valores negativos ( compensação de passagens aéreas) conforme dicionário do arquivo.\n",
        "https://www2.camara.leg.br/transparencia/cota-para-exercicio-da-atividade-parlamentar/explicacoes-sobre-o-formato-dos-arquivos-xml"
      ]
    },
    {
      "cell_type": "code",
      "execution_count": 13,
      "metadata": {
        "id": "Y0Ld6i5VX5EP",
        "outputId": "015a6f23-db71-4154-cb59-f807b1f30395"
      },
      "outputs": [
        {
          "data": {
            "text/plain": [
              "0          111.30\n",
              "1          117.19\n",
              "2          120.15\n",
              "3          151.18\n",
              "4          119.90\n",
              "           ...   \n",
              "105600    5000.00\n",
              "105601    7000.00\n",
              "105602    4000.00\n",
              "105603       1.10\n",
              "105604       1.08\n",
              "Name: vlrLiquido, Length: 427074, dtype: float64"
            ]
          },
          "execution_count": 13,
          "metadata": {},
          "output_type": "execute_result"
        }
      ],
      "source": [
        "# Essa consulta fizemos um novo df, filtrando na coluna 'txtDescricao' valores diferentes de 'PASSAGEM AÉREA - RPA'  e 'PASSAGEM AÉREA - SIGEPA'\n",
        "# a partir desse novo df fazer os cálculos de despesas.\n",
        "valores = df_copia[(df_copia['txtDescricao'] != 'PASSAGEM AÉREA - RPA')&(df_copia['txtDescricao'] != 'PASSAGEM AÉREA - SIGEPA')]\n",
        "valores['txtDescricao'].unique()\n",
        "valores.vlrLiquido"
      ]
    },
    {
      "cell_type": "code",
      "execution_count": 14,
      "metadata": {
        "id": "I10CR2QeZBSV",
        "outputId": "7741f384-f085-4a2b-e860-73e9f4d307d5"
      },
      "outputs": [
        {
          "data": {
            "text/plain": [
              "23210    -868.00\n",
              "28211   -1762.66\n",
              "Name: vlrLiquido, dtype: float64"
            ]
          },
          "execution_count": 14,
          "metadata": {},
          "output_type": "execute_result"
        }
      ],
      "source": [
        "# os dois valores negativos da coluna 'VrlLiquido'\n",
        "valores.query('vlrLiquido < 0')['vlrLiquido']"
      ]
    },
    {
      "cell_type": "code",
      "execution_count": 15,
      "metadata": {
        "id": "vLCzhibdZRFE",
        "outputId": "46f4f44e-20e6-4fbc-d99f-ac4ee0720c83"
      },
      "outputs": [
        {
          "data": {
            "text/plain": [
              "0        2019-01-16\n",
              "1        2019-02-04\n",
              "2        2019-02-25\n",
              "3        2019-03-28\n",
              "4        2019-05-07\n",
              "            ...    \n",
              "105600   2021-07-28\n",
              "105601   2021-08-11\n",
              "105602   2021-07-29\n",
              "105603          NaT\n",
              "105604          NaT\n",
              "Name: datEmissao, Length: 555500, dtype: datetime64[ns]"
            ]
          },
          "execution_count": 15,
          "metadata": {},
          "output_type": "execute_result"
        }
      ],
      "source": [
        "# Convertemos a coluna datEmissao de object para datatime e colocamos só pra mostrar o formato dia/mes/ano pq o horário é irrelevante para as consultas\n",
        "df_copia['datEmissao'] = pd.to_datetime(df_copia['datEmissao'], format = '%Y/%m/%d')\n",
        "df_copia['datEmissao']"
      ]
    },
    {
      "cell_type": "code",
      "execution_count": 16,
      "metadata": {
        "id": "dCWjhkYqZUUE",
        "outputId": "3585d2c3-e30c-4abe-b2b0-d7c69e94694b"
      },
      "outputs": [
        {
          "data": {
            "text/plain": [
              "txNomeParlamentar                    object\n",
              "cpf                                 float64\n",
              "ideCadastro                         float64\n",
              "nuCarteiraParlamentar               float64\n",
              "nuLegislatura                         int64\n",
              "sgUF                                 object\n",
              "sgPartido                            object\n",
              "codLegislatura                        int64\n",
              "numSubCota                            int64\n",
              "txtDescricao                         object\n",
              "numEspecificacaoSubCota               int64\n",
              "txtDescricaoEspecificacao            object\n",
              "txtFornecedor                        object\n",
              "txtCNPJCPF                           object\n",
              "txtNumero                            object\n",
              "indTipoDocumento                      int64\n",
              "datEmissao                   datetime64[ns]\n",
              "vlrDocumento                        float64\n",
              "vlrGlosa                            float64\n",
              "vlrLiquido                          float64\n",
              "numMes                                int64\n",
              "numAno                                int64\n",
              "numParcela                            int64\n",
              "txtPassageiro                        object\n",
              "txtTrecho                            object\n",
              "numLote                               int64\n",
              "numRessarcimento                    float64\n",
              "vlrRestituicao                      float64\n",
              "nuDeputadoId                          int64\n",
              "ideDocumento                          int64\n",
              "urlDocumento                         object\n",
              "dtype: object"
            ]
          },
          "execution_count": 16,
          "metadata": {},
          "output_type": "execute_result"
        }
      ],
      "source": [
        "#Conferindo se o type da data foi transformado\n",
        "df_copia.dtypes"
      ]
    },
    {
      "cell_type": "code",
      "execution_count": 17,
      "metadata": {
        "id": "RVO6Bj2w84RP",
        "outputId": "12f8a6b1-2ab5-452f-e755-d5dcfbeebcc4"
      },
      "outputs": [
        {
          "data": {
            "text/plain": [
              "(555500, 31)"
            ]
          },
          "execution_count": 17,
          "metadata": {},
          "output_type": "execute_result"
        }
      ],
      "source": [
        "# Verificando o novo tamanho do DataFrame\n",
        "df_copia.shape"
      ]
    },
    {
      "cell_type": "code",
      "execution_count": 18,
      "metadata": {
        "id": "ObInEfcq84RP",
        "outputId": "713a70b9-277b-4824-f4d9-c04c9a32a823"
      },
      "outputs": [
        {
          "data": {
            "text/html": [
              "<div>\n",
              "<style scoped>\n",
              "    .dataframe tbody tr th:only-of-type {\n",
              "        vertical-align: middle;\n",
              "    }\n",
              "\n",
              "    .dataframe tbody tr th {\n",
              "        vertical-align: top;\n",
              "    }\n",
              "\n",
              "    .dataframe thead th {\n",
              "        text-align: right;\n",
              "    }\n",
              "</style>\n",
              "<table border=\"1\" class=\"dataframe\">\n",
              "  <thead>\n",
              "    <tr style=\"text-align: right;\">\n",
              "      <th></th>\n",
              "      <th>txNomeParlamentar</th>\n",
              "      <th>sgUF</th>\n",
              "      <th>sgPartido</th>\n",
              "      <th>vlrLiquido</th>\n",
              "    </tr>\n",
              "  </thead>\n",
              "  <tbody>\n",
              "    <tr>\n",
              "      <th>0</th>\n",
              "      <td>LID.GOV-CD</td>\n",
              "      <td>NaN</td>\n",
              "      <td>NaN</td>\n",
              "      <td>111.30</td>\n",
              "    </tr>\n",
              "    <tr>\n",
              "      <th>1</th>\n",
              "      <td>LID.GOV-CD</td>\n",
              "      <td>NaN</td>\n",
              "      <td>NaN</td>\n",
              "      <td>117.19</td>\n",
              "    </tr>\n",
              "    <tr>\n",
              "      <th>2</th>\n",
              "      <td>LID.GOV-CD</td>\n",
              "      <td>NaN</td>\n",
              "      <td>NaN</td>\n",
              "      <td>120.15</td>\n",
              "    </tr>\n",
              "    <tr>\n",
              "      <th>3</th>\n",
              "      <td>LID.GOV-CD</td>\n",
              "      <td>NaN</td>\n",
              "      <td>NaN</td>\n",
              "      <td>151.18</td>\n",
              "    </tr>\n",
              "    <tr>\n",
              "      <th>4</th>\n",
              "      <td>LID.GOV-CD</td>\n",
              "      <td>NaN</td>\n",
              "      <td>NaN</td>\n",
              "      <td>119.90</td>\n",
              "    </tr>\n",
              "    <tr>\n",
              "      <th>...</th>\n",
              "      <td>...</td>\n",
              "      <td>...</td>\n",
              "      <td>...</td>\n",
              "      <td>...</td>\n",
              "    </tr>\n",
              "    <tr>\n",
              "      <th>439</th>\n",
              "      <td>LIDMIN</td>\n",
              "      <td>NaN</td>\n",
              "      <td>NaN</td>\n",
              "      <td>4000.00</td>\n",
              "    </tr>\n",
              "    <tr>\n",
              "      <th>440</th>\n",
              "      <td>LIDMIN</td>\n",
              "      <td>NaN</td>\n",
              "      <td>NaN</td>\n",
              "      <td>137.97</td>\n",
              "    </tr>\n",
              "    <tr>\n",
              "      <th>441</th>\n",
              "      <td>LIDMIN</td>\n",
              "      <td>NaN</td>\n",
              "      <td>NaN</td>\n",
              "      <td>175.18</td>\n",
              "    </tr>\n",
              "    <tr>\n",
              "      <th>442</th>\n",
              "      <td>LIDMIN</td>\n",
              "      <td>NaN</td>\n",
              "      <td>NaN</td>\n",
              "      <td>3800.00</td>\n",
              "    </tr>\n",
              "    <tr>\n",
              "      <th>443</th>\n",
              "      <td>LIDMIN</td>\n",
              "      <td>NaN</td>\n",
              "      <td>NaN</td>\n",
              "      <td>3800.00</td>\n",
              "    </tr>\n",
              "  </tbody>\n",
              "</table>\n",
              "<p>1741 rows × 4 columns</p>\n",
              "</div>"
            ],
            "text/plain": [
              "    txNomeParlamentar sgUF sgPartido  vlrLiquido\n",
              "0          LID.GOV-CD  NaN       NaN      111.30\n",
              "1          LID.GOV-CD  NaN       NaN      117.19\n",
              "2          LID.GOV-CD  NaN       NaN      120.15\n",
              "3          LID.GOV-CD  NaN       NaN      151.18\n",
              "4          LID.GOV-CD  NaN       NaN      119.90\n",
              "..                ...  ...       ...         ...\n",
              "439            LIDMIN  NaN       NaN     4000.00\n",
              "440            LIDMIN  NaN       NaN      137.97\n",
              "441            LIDMIN  NaN       NaN      175.18\n",
              "442            LIDMIN  NaN       NaN     3800.00\n",
              "443            LIDMIN  NaN       NaN     3800.00\n",
              "\n",
              "[1741 rows x 4 columns]"
            ]
          },
          "execution_count": 18,
          "metadata": {},
          "output_type": "execute_result"
        }
      ],
      "source": [
        "# Aqui estamos procurando por Parlamentares sem estado e sem partido.\n",
        "sem_partido_sem_uf = valores[valores['sgUF'].isnull()][['txNomeParlamentar', 'sgUF', 'sgPartido','vlrLiquido']]\n",
        "sem_partido_sem_uf"
      ]
    },
    {
      "cell_type": "code",
      "execution_count": null,
      "metadata": {
        "id": "dRcVVz-F84RP"
      },
      "outputs": [],
      "source": [
        "#Atribuindo os partidos correspondentes as despesas atribuídas apenas a lideranças\n",
        "valores['sgPartido'] = np.where(valores['txNomeParlamentar'] == \"LIDERANÇA DO PSL\", 'PSL', valores.sgPartido)\n",
        "valores['sgPartido'] = np.where(valores['txNomeParlamentar'] == \"LIDERANÇA DO PT\", 'PT', valores.sgPartido)\n",
        "valores['sgPartido'] = np.where(valores['txNomeParlamentar'] == \"LIDERANÇA DO PTB\", 'PTB', valores.sgPartido) \n",
        "valores['sgPartido'] = np.where(valores['txNomeParlamentar'] == \"LIDERANÇA DO PSDB\", 'PSDB', valores.sgPartido)\n",
        "valores['sgPartido'] = np.where(valores['txNomeParlamentar'] == \"LIDERANÇA DO PODEMOS\", 'PODEMOS', valores.sgPartido)\n",
        "valores['sgPartido'] = np.where(valores['txNomeParlamentar'] == \"LIDERANÇA DO SOLIDARIEDADE\", 'SOLIDARIEDADE', valores.sgPartido)\n",
        "valores['sgPartido'] = np.where(valores['txNomeParlamentar'] == \"LIDERANÇA DO PSD\", 'PSD', valores.sgPartido)\n",
        "valores['sgPartido'] = np.where(valores['txNomeParlamentar'] == \"LIDERANÇA DO NOVO\", 'NOVO', valores.sgPartido)\n",
        "valores['sgPartido'] = np.where(valores['txNomeParlamentar'] == \"LIDERANÇA DO DEMOCRATAS\", 'DEMOCRATAS', valores.sgPartido)\n",
        "valores['sgPartido'] = np.where(valores['txNomeParlamentar'] == \"LIDERANÇA DO CIDADANIA\", 'CIDADANIA', valores.sgPartido)\n",
        "valores['sgPartido'] = np.where(valores['txNomeParlamentar'] == \"LIDERANÇA DO AVANTE\", 'AVANTE', valores.sgPartido)\n",
        "valores['sgPartido'] = np.where(valores['txNomeParlamentar'] == \"LIDERANÇA DO PDT\", 'PDT', valores.sgPartido)\n",
        "valores['sgPartido'] = np.where(valores['txNomeParlamentar'] == \"LIDERANÇA DO PSOL\", 'PSOL', valores.sgPartido)\n",
        "valores['sgPartido'] = np.where(valores['txNomeParlamentar'] == \"LIDERANÇA DO PROGRESSISTAS\", 'PROGRESSISTAS', valores.sgPartido)\n",
        "valores['sgPartido'] = np.where(valores['txNomeParlamentar'] == \"LIDERANÇA DO PARTIDO REPUBLICANO DA ORDEM SOCIAL\", 'SOCIAL', valores.sgPartido)"
      ]
    },
    {
      "cell_type": "code",
      "execution_count": 20,
      "metadata": {
        "id": "LGqDGevB84RQ",
        "outputId": "8968b2ce-7793-47ad-ad15-aaabfd39fe35"
      },
      "outputs": [
        {
          "data": {
            "text/plain": [
              "LIDERANÇA DO PT                                     515\n",
              "LIDERANÇA DO PTB                                    169\n",
              "LIDERANÇA DO PSDB                                   168\n",
              "LIDERANÇA DO PODEMOS                                140\n",
              "LIDERANÇA DO SOLIDARIEDADE                          137\n",
              "LIDERANÇA DO PSD                                    104\n",
              "LIDERANÇA DO NOVO                                    94\n",
              "LIDERANÇA DO DEMOCRATAS                              75\n",
              "LIDERANÇA DO CIDADANIA                               68\n",
              "LIDMIN                                               67\n",
              "LIDERANÇA DO PARTIDO REPUBLICANO DA ORDEM SOCIAL     51\n",
              "LIDERANÇA DO AVANTE                                  49\n",
              "LIDERANÇA DO PDT                                     36\n",
              "LIDERANÇA DO PSL                                     29\n",
              "LID.GOV-CD                                           15\n",
              "LIDERANÇA DO PSOL                                    14\n",
              "LIDERANÇA DO PROGRESSISTAS                           10\n",
              "Name: txNomeParlamentar, dtype: int64"
            ]
          },
          "execution_count": 20,
          "metadata": {},
          "output_type": "execute_result"
        }
      ],
      "source": [
        "# Verificando quantos partidos não possuem registros de UF\n",
        "sem_partido_sem_uf['txNomeParlamentar'].value_counts()"
      ]
    },
    {
      "cell_type": "code",
      "execution_count": 21,
      "metadata": {
        "id": "KqCM54Y_84RQ",
        "outputId": "99424076-799b-44e3-fd4e-9f8ee886f93c"
      },
      "outputs": [
        {
          "data": {
            "text/plain": [
              "SP    83873\n",
              "MG    65193\n",
              "RJ    50674\n",
              "RS    48467\n",
              "BA    43331\n",
              "PR    41816\n",
              "PE    28292\n",
              "SC    19900\n",
              "CE    19632\n",
              "MA    14412\n",
              "PA    14402\n",
              "PB    12727\n",
              "GO    11315\n",
              "RN    10183\n",
              "ES     9516\n",
              "TO     9378\n",
              "MT     9260\n",
              "MS     7970\n",
              "RO     7512\n",
              "PI     7284\n",
              "AC     6702\n",
              "AL     6629\n",
              "SE     6124\n",
              "AM     5723\n",
              "RR     5405\n",
              "AP     5216\n",
              "DF     2823\n",
              "Name: sgUF, dtype: int64"
            ]
          },
          "execution_count": 21,
          "metadata": {},
          "output_type": "execute_result"
        }
      ],
      "source": [
        "# Realizando a contagem de frequência por estado dentro do DataFrame\n",
        "df_unico.sgUF.value_counts()"
      ]
    },
    {
      "cell_type": "code",
      "execution_count": 22,
      "metadata": {
        "id": "C6lPPzhw84RQ",
        "outputId": "72c2853d-7185-49c1-ffe6-0ae6c0826c30"
      },
      "outputs": [
        {
          "data": {
            "text/html": [
              "<div>\n",
              "<style scoped>\n",
              "    .dataframe tbody tr th:only-of-type {\n",
              "        vertical-align: middle;\n",
              "    }\n",
              "\n",
              "    .dataframe tbody tr th {\n",
              "        vertical-align: top;\n",
              "    }\n",
              "\n",
              "    .dataframe thead th {\n",
              "        text-align: right;\n",
              "    }\n",
              "</style>\n",
              "<table border=\"1\" class=\"dataframe\">\n",
              "  <thead>\n",
              "    <tr style=\"text-align: right;\">\n",
              "      <th></th>\n",
              "      <th>txNomeParlamentar</th>\n",
              "      <th>cpf</th>\n",
              "      <th>ideCadastro</th>\n",
              "      <th>nuCarteiraParlamentar</th>\n",
              "      <th>nuLegislatura</th>\n",
              "      <th>sgUF</th>\n",
              "      <th>sgPartido</th>\n",
              "      <th>codLegislatura</th>\n",
              "      <th>numSubCota</th>\n",
              "      <th>txtDescricao</th>\n",
              "      <th>...</th>\n",
              "      <th>numAno</th>\n",
              "      <th>numParcela</th>\n",
              "      <th>txtPassageiro</th>\n",
              "      <th>txtTrecho</th>\n",
              "      <th>numLote</th>\n",
              "      <th>numRessarcimento</th>\n",
              "      <th>vlrRestituicao</th>\n",
              "      <th>nuDeputadoId</th>\n",
              "      <th>ideDocumento</th>\n",
              "      <th>urlDocumento</th>\n",
              "    </tr>\n",
              "  </thead>\n",
              "  <tbody>\n",
              "    <tr>\n",
              "      <th>327</th>\n",
              "      <td>LIDERANÇA DO PTB</td>\n",
              "      <td>NaN</td>\n",
              "      <td>NaN</td>\n",
              "      <td>NaN</td>\n",
              "      <td>2019</td>\n",
              "      <td>NaN</td>\n",
              "      <td>PTB</td>\n",
              "      <td>56</td>\n",
              "      <td>13</td>\n",
              "      <td>FORNECIMENTO DE ALIMENTAÇÃO DO PARLAMENTAR</td>\n",
              "      <td>...</td>\n",
              "      <td>2020</td>\n",
              "      <td>0</td>\n",
              "      <td>NaN</td>\n",
              "      <td>NaN</td>\n",
              "      <td>1693983</td>\n",
              "      <td>NaN</td>\n",
              "      <td>NaN</td>\n",
              "      <td>2722</td>\n",
              "      <td>7050361</td>\n",
              "      <td>http://camara.leg.br/cota-parlamentar/nota-fis...</td>\n",
              "    </tr>\n",
              "    <tr>\n",
              "      <th>130</th>\n",
              "      <td>LIDERANÇA DO NOVO</td>\n",
              "      <td>NaN</td>\n",
              "      <td>NaN</td>\n",
              "      <td>NaN</td>\n",
              "      <td>2019</td>\n",
              "      <td>NaN</td>\n",
              "      <td>NOVO</td>\n",
              "      <td>56</td>\n",
              "      <td>1</td>\n",
              "      <td>MANUTENÇÃO DE ESCRITÓRIO DE APOIO À ATIVIDADE ...</td>\n",
              "      <td>...</td>\n",
              "      <td>2019</td>\n",
              "      <td>0</td>\n",
              "      <td>NaN</td>\n",
              "      <td>NaN</td>\n",
              "      <td>1665175</td>\n",
              "      <td>NaN</td>\n",
              "      <td>NaN</td>\n",
              "      <td>3441</td>\n",
              "      <td>6989710</td>\n",
              "      <td>https://www.camara.leg.br/cota-parlamentar/doc...</td>\n",
              "    </tr>\n",
              "    <tr>\n",
              "      <th>472</th>\n",
              "      <td>LIDERANÇA DO PT</td>\n",
              "      <td>NaN</td>\n",
              "      <td>NaN</td>\n",
              "      <td>NaN</td>\n",
              "      <td>2019</td>\n",
              "      <td>NaN</td>\n",
              "      <td>PT</td>\n",
              "      <td>56</td>\n",
              "      <td>3</td>\n",
              "      <td>COMBUSTÍVEIS E LUBRIFICANTES.</td>\n",
              "      <td>...</td>\n",
              "      <td>2019</td>\n",
              "      <td>0</td>\n",
              "      <td>NaN</td>\n",
              "      <td>NaN</td>\n",
              "      <td>1611617</td>\n",
              "      <td>NaN</td>\n",
              "      <td>NaN</td>\n",
              "      <td>2439</td>\n",
              "      <td>6868362</td>\n",
              "      <td>http://camara.leg.br/cota-parlamentar/nota-fis...</td>\n",
              "    </tr>\n",
              "    <tr>\n",
              "      <th>176</th>\n",
              "      <td>LIDERANÇA DO PSD</td>\n",
              "      <td>NaN</td>\n",
              "      <td>NaN</td>\n",
              "      <td>NaN</td>\n",
              "      <td>2019</td>\n",
              "      <td>NaN</td>\n",
              "      <td>PSD</td>\n",
              "      <td>56</td>\n",
              "      <td>13</td>\n",
              "      <td>FORNECIMENTO DE ALIMENTAÇÃO DO PARLAMENTAR</td>\n",
              "      <td>...</td>\n",
              "      <td>2021</td>\n",
              "      <td>0</td>\n",
              "      <td>NaN</td>\n",
              "      <td>NaN</td>\n",
              "      <td>1772211</td>\n",
              "      <td>NaN</td>\n",
              "      <td>NaN</td>\n",
              "      <td>2725</td>\n",
              "      <td>7208153</td>\n",
              "      <td>http://camara.leg.br/cota-parlamentar/nota-fis...</td>\n",
              "    </tr>\n",
              "    <tr>\n",
              "      <th>805</th>\n",
              "      <td>LIDERANÇA DO SOLIDARIEDADE</td>\n",
              "      <td>NaN</td>\n",
              "      <td>NaN</td>\n",
              "      <td>NaN</td>\n",
              "      <td>2019</td>\n",
              "      <td>NaN</td>\n",
              "      <td>SOLIDARIEDADE</td>\n",
              "      <td>56</td>\n",
              "      <td>13</td>\n",
              "      <td>FORNECIMENTO DE ALIMENTAÇÃO DO PARLAMENTAR</td>\n",
              "      <td>...</td>\n",
              "      <td>2019</td>\n",
              "      <td>0</td>\n",
              "      <td>NaN</td>\n",
              "      <td>NaN</td>\n",
              "      <td>1653382</td>\n",
              "      <td>NaN</td>\n",
              "      <td>NaN</td>\n",
              "      <td>2864</td>\n",
              "      <td>6962882</td>\n",
              "      <td>http://camara.leg.br/cota-parlamentar/nota-fis...</td>\n",
              "    </tr>\n",
              "  </tbody>\n",
              "</table>\n",
              "<p>5 rows × 31 columns</p>\n",
              "</div>"
            ],
            "text/plain": [
              "              txNomeParlamentar  cpf  ideCadastro  nuCarteiraParlamentar  \\\n",
              "327            LIDERANÇA DO PTB  NaN          NaN                    NaN   \n",
              "130           LIDERANÇA DO NOVO  NaN          NaN                    NaN   \n",
              "472             LIDERANÇA DO PT  NaN          NaN                    NaN   \n",
              "176            LIDERANÇA DO PSD  NaN          NaN                    NaN   \n",
              "805  LIDERANÇA DO SOLIDARIEDADE  NaN          NaN                    NaN   \n",
              "\n",
              "     nuLegislatura sgUF      sgPartido  codLegislatura  numSubCota  \\\n",
              "327           2019  NaN            PTB              56          13   \n",
              "130           2019  NaN           NOVO              56           1   \n",
              "472           2019  NaN             PT              56           3   \n",
              "176           2019  NaN            PSD              56          13   \n",
              "805           2019  NaN  SOLIDARIEDADE              56          13   \n",
              "\n",
              "                                          txtDescricao  ...  numAno  \\\n",
              "327         FORNECIMENTO DE ALIMENTAÇÃO DO PARLAMENTAR  ...    2020   \n",
              "130  MANUTENÇÃO DE ESCRITÓRIO DE APOIO À ATIVIDADE ...  ...    2019   \n",
              "472                      COMBUSTÍVEIS E LUBRIFICANTES.  ...    2019   \n",
              "176         FORNECIMENTO DE ALIMENTAÇÃO DO PARLAMENTAR  ...    2021   \n",
              "805         FORNECIMENTO DE ALIMENTAÇÃO DO PARLAMENTAR  ...    2019   \n",
              "\n",
              "    numParcela txtPassageiro txtTrecho  numLote  numRessarcimento  \\\n",
              "327          0           NaN       NaN  1693983               NaN   \n",
              "130          0           NaN       NaN  1665175               NaN   \n",
              "472          0           NaN       NaN  1611617               NaN   \n",
              "176          0           NaN       NaN  1772211               NaN   \n",
              "805          0           NaN       NaN  1653382               NaN   \n",
              "\n",
              "    vlrRestituicao  nuDeputadoId  ideDocumento  \\\n",
              "327            NaN          2722       7050361   \n",
              "130            NaN          3441       6989710   \n",
              "472            NaN          2439       6868362   \n",
              "176            NaN          2725       7208153   \n",
              "805            NaN          2864       6962882   \n",
              "\n",
              "                                          urlDocumento  \n",
              "327  http://camara.leg.br/cota-parlamentar/nota-fis...  \n",
              "130  https://www.camara.leg.br/cota-parlamentar/doc...  \n",
              "472  http://camara.leg.br/cota-parlamentar/nota-fis...  \n",
              "176  http://camara.leg.br/cota-parlamentar/nota-fis...  \n",
              "805  http://camara.leg.br/cota-parlamentar/nota-fis...  \n",
              "\n",
              "[5 rows x 31 columns]"
            ]
          },
          "execution_count": 22,
          "metadata": {},
          "output_type": "execute_result"
        }
      ],
      "source": [
        "#Verificando o funcionamento da atribuição\n",
        "valores[valores['txNomeParlamentar'].str.match('LIDERANÇA')].sample(5)"
      ]
    },
    {
      "cell_type": "markdown",
      "metadata": {
        "id": "Y1lAHDifTflS"
      },
      "source": [
        "## **4.** Realizando a análise com perguntas"
      ]
    },
    {
      "cell_type": "code",
      "execution_count": 23,
      "metadata": {
        "id": "OCweEFKc84RR"
      },
      "outputs": [],
      "source": [
        "#Criando uma cópia para trabalharmos nas questões e realizar as análises devidas\n",
        "df_2 = df_copia.copy()"
      ]
    },
    {
      "cell_type": "markdown",
      "metadata": {
        "id": "hCg3EIF584RR"
      },
      "source": [
        "### 1. Como se comportam os gastos com cotas parlamentares ao longo do tempo? Existe alguma tendência de aumento ou redução desse custo?"
      ]
    },
    {
      "cell_type": "code",
      "execution_count": 24,
      "metadata": {
        "id": "wdYvKDdJ84RS"
      },
      "outputs": [],
      "source": [
        "#Criando dataframes separados por ano\n",
        "df2019 = df_2[df_2['numAno'] == 2019]\n",
        "df2020 = df_2[df_2['numAno'] == 2020]\n",
        "df2021 = df_2[df_2['numAno'] == 2021]"
      ]
    },
    {
      "cell_type": "code",
      "execution_count": 25,
      "metadata": {
        "id": "apFpTecl84RS",
        "outputId": "c3bf2f2a-6fd9-4612-be94-d481a92d9dbd"
      },
      "outputs": [
        {
          "name": "stdout",
          "output_type": "stream",
          "text": [
            "Total no período R$ 491,290,961.69\n"
          ]
        }
      ],
      "source": [
        "#Imprimindo total de gastos nos três anos\n",
        "print(f\"Total no período R$ {df_2['vlrDocumento'].sum():,.2f}\")"
      ]
    },
    {
      "cell_type": "code",
      "execution_count": 26,
      "metadata": {
        "id": "XhnlUgQk84RS",
        "outputId": "9f50de21-36d5-4678-aba4-8a8e7c99d2a9"
      },
      "outputs": [
        {
          "data": {
            "text/plain": [
              "numMes\n",
              "1     15031911.98\n",
              "2     15179993.42\n",
              "3     15887663.75\n",
              "4     18358991.96\n",
              "5     18998139.82\n",
              "6     17418489.29\n",
              "7     17768588.82\n",
              "8     19388708.89\n",
              "9     18845433.28\n",
              "10    20170938.99\n",
              "11    18958231.01\n",
              "12    17587628.42\n",
              "Name: vlrDocumento, dtype: float64"
            ]
          },
          "execution_count": 26,
          "metadata": {},
          "output_type": "execute_result"
        }
      ],
      "source": [
        "#Soma de gastos agrupados por mês de cada ano\n",
        "df2019.groupby(['numMes'])['vlrDocumento'].sum()"
      ]
    },
    {
      "cell_type": "code",
      "execution_count": 27,
      "metadata": {
        "id": "-4SfAZGa84RS",
        "outputId": "0ea1a817-8407-45a5-dfdb-1b3d312e3541",
        "scrolled": true
      },
      "outputs": [
        {
          "data": {
            "text/plain": [
              "numMes\n",
              "1     13608236.49\n",
              "2     16981054.74\n",
              "3     14829053.22\n",
              "4     10676489.54\n",
              "5     11074026.38\n",
              "6     11051403.59\n",
              "7     12214190.91\n",
              "8     13127546.17\n",
              "9     13802390.19\n",
              "10    13844965.14\n",
              "11    16059843.29\n",
              "12    25760481.34\n",
              "Name: vlrDocumento, dtype: float64"
            ]
          },
          "execution_count": 27,
          "metadata": {},
          "output_type": "execute_result"
        }
      ],
      "source": [
        "df2020.groupby(['numMes'])['vlrDocumento'].sum()"
      ]
    },
    {
      "cell_type": "code",
      "execution_count": 28,
      "metadata": {
        "id": "C1IQQptS84RT",
        "outputId": "b1a5e18d-8356-4506-e8a2-21f5c3617e98"
      },
      "outputs": [
        {
          "data": {
            "text/plain": [
              "numMes\n",
              "1    12883504.64\n",
              "2    15504068.70\n",
              "3    14859519.73\n",
              "4    14947054.49\n",
              "5    15865528.96\n",
              "6    14690740.05\n",
              "7    12383295.66\n",
              "8     3532848.83\n",
              "Name: vlrDocumento, dtype: float64"
            ]
          },
          "execution_count": 28,
          "metadata": {},
          "output_type": "execute_result"
        }
      ],
      "source": [
        "#2021 até julho mais alguns dias de agosto\n",
        "df2021.groupby(['numMes'])['vlrDocumento'].sum()"
      ]
    },
    {
      "cell_type": "code",
      "execution_count": 29,
      "metadata": {
        "id": "HLQWbENU84RT",
        "outputId": "5cb6d36b-8935-4fd9-ae04-9d568eeb46e9"
      },
      "outputs": [
        {
          "name": "stderr",
          "output_type": "stream",
          "text": [
            "C:\\Users\\sart\\AppData\\Local\\Temp\\ipykernel_32\\1641749911.py:3: FutureWarning: The frame.append method is deprecated and will be removed from pandas in a future version. Use pandas.concat instead.\n",
            "  df2021_copia = df2021_copia.append({'numMes':9}, ignore_index = True)\n",
            "C:\\Users\\sart\\AppData\\Local\\Temp\\ipykernel_32\\1641749911.py:4: FutureWarning: The frame.append method is deprecated and will be removed from pandas in a future version. Use pandas.concat instead.\n",
            "  df2021_copia = df2021_copia.append({'numMes':10}, ignore_index = True)\n",
            "C:\\Users\\sart\\AppData\\Local\\Temp\\ipykernel_32\\1641749911.py:5: FutureWarning: The frame.append method is deprecated and will be removed from pandas in a future version. Use pandas.concat instead.\n",
            "  df2021_copia = df2021_copia.append({'numMes':11}, ignore_index = True)\n",
            "C:\\Users\\sart\\AppData\\Local\\Temp\\ipykernel_32\\1641749911.py:6: FutureWarning: The frame.append method is deprecated and will be removed from pandas in a future version. Use pandas.concat instead.\n",
            "  df2021_copia = df2021_copia.append({'numMes':12}, ignore_index = True)\n"
          ]
        }
      ],
      "source": [
        "#Criando uma cópia do dataframe de 2021 para acrescentar os demais meses restantes para criação correta do gráfico seguinte\n",
        "df2021_copia = df2021.copy()\n",
        "df2021_copia = df2021_copia.append({'numMes':9}, ignore_index = True)\n",
        "df2021_copia = df2021_copia.append({'numMes':10}, ignore_index = True)\n",
        "df2021_copia = df2021_copia.append({'numMes':11}, ignore_index = True)\n",
        "df2021_copia = df2021_copia.append({'numMes':12}, ignore_index = True)\n",
        "df2021_copia['numMes'] = df2021_copia['numMes'].astype('int64')"
      ]
    },
    {
      "cell_type": "code",
      "execution_count": 30,
      "metadata": {
        "id": "hiWgixTa84RT",
        "outputId": "bcb68071-3a73-4838-bd28-f0f26589faec",
        "scrolled": true
      },
      "outputs": [
        {
          "data": {
            "image/png": "[encoded data removed]",
            "text/plain": [
              "<Figure size 1008x360 with 1 Axes>"
            ]
          },
          "metadata": {
            "needs_background": "light"
          },
          "output_type": "display_data"
        }
      ],
      "source": [
        "#Gráfico agrupado por mês, com gráfico de barra dos três anos, com linha de tendência (média)\n",
        "plt.figure(figsize = (14, 5))\n",
        "wid = 0.28\n",
        "r1 = np.arange(len(df2019['numMes'].unique()))\n",
        "r2 = [x + wid for x in r1]\n",
        "r3 = [x + wid for x in r2]\n",
        "\n",
        "z = np.polyfit(df_2['numMes'].sort_values().unique(), (df_2.groupby(['numMes'])['vlrDocumento'].sum().sort_values())/3, 1)\n",
        "p = np.poly1d(z)\n",
        "plt.plot(df_2['numMes'].sort_values().unique(), p(df_2['numMes'].sort_values().unique()), 'r--', label = 'Linha de Tendência')\n",
        "\n",
        "plt.bar(r1, df2019.groupby(['numMes'])['vlrDocumento'].sum(), width = wid, label = 'Ano de 2019', color = '#7CFC00')\n",
        "plt.bar(r2, df2020.groupby(['numMes'])['vlrDocumento'].sum(), width = wid, label = 'Ano de 2020', color = '#008000')\n",
        "plt.bar(r3, df2021_copia.groupby(['numMes'])['vlrDocumento'].sum(), width = wid, label = 'Ano de 2021', color = '#32CD32')\n",
        "\n",
        "#plt.xticks([r + wid for r in range(df19['numMes'].unique())], ['2019', '2020'])\n",
        "plt.xticks([r + wid for r in range(len(df2019['numMes'].unique()))], df2019['numMes'].sort_values().unique())\n",
        "\n",
        "plt.title('Gráfico de Gastos com Linha de Tendência')\n",
        "plt.xlabel('Range Meses')\n",
        "plt.ylabel('Range Valores R$ (Mi)')\n",
        "\n",
        "plt.legend()\n",
        "plt.grid(axis = 'y')\n",
        "plt.show()"
      ]
    },
    {
      "cell_type": "markdown",
      "metadata": {
        "id": "IXNubzBJ84RT"
      },
      "source": [
        "Conforme é possível analisar em 2019, antes da pandemia, os gastos totais dos parlamentares iniciam com R$ 15.031.911,98, seguindo com os meses seguintes em tendência de alta, alcançando a casa dos 20mi no mês de outubro de 2019. Acompanhando a virada de ano, e, conforme cenário no período, deficit nos gastos aproximando da casa dos 10mi.\n",
        "\n",
        "O destaque é para o mês de dezembro de 2020, onde estourou a faixa dos 25mi."
      ]
    },
    {
      "cell_type": "markdown",
      "metadata": {
        "id": "uyELwaXh84RU"
      },
      "source": [
        "### 2. Qual a média de gastos por parlamentar?"
      ]
    },
    {
      "cell_type": "code",
      "execution_count": 67,
      "metadata": {
        "id": "mzCHXfgj84RU",
        "outputId": "580aba30-b621-437a-acfd-6c770e331ef0"
      },
      "outputs": [],
      "source": [
        "#Média de gastos agrupada por parlamentar\n",
        "mean = df_2.groupby(['txNomeParlamentar'])['vlrDocumento'].mean()\n",
        "mean = mean.sort_values()\n",
        "mean = mean.tail()"
      ]
    },
    {
      "cell_type": "code",
      "execution_count": 73,
      "metadata": {},
      "outputs": [
        {
          "name": "stderr",
          "output_type": "stream",
          "text": [
            "No artists with labels found to put in legend.  Note that artists whose label start with an underscore are ignored when legend() is called with no argument.\n"
          ]
        },
        {
          "data": {
            "image/png": "[encoded data removed]",
            "text/plain": [
              "<Figure size 432x288 with 1 Axes>"
            ]
          },
          "metadata": {
            "needs_background": "light"
          },
          "output_type": "display_data"
        }
      ],
      "source": [
        "plt.plot(mean, 'go')\n",
        "plt.plot(mean, 'b--')\n",
        "plt.xticks(mean.index, rotation=90)\n",
        "plt.title('Média geral de gastos por parlamentar')\n",
        "plt.xlabel('Nome do Parlamentar')\n",
        "plt.ylabel('Média de gastos')\n",
        "plt.legend()\n",
        "plt.grid(True)\n",
        "plt.show()"
      ]
    },
    {
      "cell_type": "markdown",
      "metadata": {
        "id": "3szmKAUi84RU"
      },
      "source": [
        "O Deputado com a maior média de gastos no período foi José Reinaldo (PSDB - MA), com aproximadamente R$ 13 mil reais gastos por mês em cotas parlamentares, seguido por Alberto Fraga (DEM - DF), com uma média de R$ 10 mil gastos por mês no período analisado."
      ]
    },
    {
      "cell_type": "markdown",
      "metadata": {
        "id": "1hCQzlq784RU"
      },
      "source": [
        "### 3. Quais foram os parlamentares que mais e que menos consumiram recursos?"
      ]
    },
    {
      "cell_type": "code",
      "execution_count": 33,
      "metadata": {
        "id": "48DarZ7-84RV",
        "outputId": "f438f370-5397-4a2c-881a-6635b3dfdeaa"
      },
      "outputs": [
        {
          "data": {
            "text/plain": [
              "txNomeParlamentar\n",
              "LUCIANA SANTOS    0.49\n",
              "MANDETTA          0.60\n",
              "DaLua do Rota     1.08\n",
              "SARNEY FILHO      1.25\n",
              "ROCHA             2.53\n",
              "Name: vlrDocumento, dtype: float64"
            ]
          },
          "execution_count": 33,
          "metadata": {},
          "output_type": "execute_result"
        }
      ],
      "source": [
        "#Criaçao de um dataframe excluíndo os dados negativos de valor, e criando agrupamento ordenado por soma de gastos\n",
        "df_2_2 = df_2[df_2['vlrDocumento'] >= 0]\n",
        "menos_gast = df_2_2.groupby(['txNomeParlamentar'])['vlrDocumento'].sum().sort_values().head(5)\n",
        "menos_gast"
      ]
    },
    {
      "cell_type": "code",
      "execution_count": 34,
      "metadata": {
        "id": "k4vcOJXR84RV",
        "outputId": "8e7166fd-711d-4d25-8e1a-5d5b960dfdfb"
      },
      "outputs": [
        {
          "data": {
            "image/png": "[encoded data removed]",
            "text/plain": [
              "<Figure size 432x288 with 1 Axes>"
            ]
          },
          "metadata": {
            "needs_background": "light"
          },
          "output_type": "display_data"
        }
      ],
      "source": [
        "plt.plot(menos_gast.index, menos_gast, 'go')\n",
        "plt.plot(menos_gast.index, menos_gast, 'b--', label = 'Gastos Parlamentares')\n",
        "\n",
        "plt.xticks(menos_gast.index, rotation=90)\n",
        "\n",
        "plt.title('Gráfico de Gastos [Menos]')\n",
        "plt.xlabel('Range Parlamentar')\n",
        "plt.ylabel('Range Valor (R$))')\n",
        "\n",
        "plt.legend()\n",
        "plt.grid(True)\n",
        "plt.show()"
      ]
    },
    {
      "cell_type": "code",
      "execution_count": 35,
      "metadata": {
        "id": "98Ja9K1J84RV",
        "outputId": "c3f8a7fe-91b8-4309-82ab-39026599c4ab"
      },
      "outputs": [
        {
          "data": {
            "text/plain": [
              "txNomeParlamentar\n",
              "Jéssica Sales         1416133.42\n",
              "Wellington Roberto    1385090.81\n",
              "Perpétua Almeida      1376839.42\n",
              "Silas Câmara          1373755.01\n",
              "Jesus Sérgio          1360451.70\n",
              "Name: vlrDocumento, dtype: float64"
            ]
          },
          "execution_count": 35,
          "metadata": {},
          "output_type": "execute_result"
        }
      ],
      "source": [
        "#Agrupamento de gastos de parlamentar do maior para menor\n",
        "mais_gast = df_2.groupby(['txNomeParlamentar'])['vlrDocumento'].sum().sort_values(ascending = False).head(5)\n",
        "mais_gast"
      ]
    },
    {
      "cell_type": "code",
      "execution_count": 36,
      "metadata": {
        "id": "iH2DdzFF84RV",
        "outputId": "b3096641-bacd-4ae5-96ea-cdc05cef883d"
      },
      "outputs": [
        {
          "data": {
            "image/png": "[encoded data removed]",
            "text/plain": [
              "<Figure size 432x288 with 1 Axes>"
            ]
          },
          "metadata": {
            "needs_background": "light"
          },
          "output_type": "display_data"
        }
      ],
      "source": [
        "plt.plot(mais_gast.index, mais_gast, 'go')\n",
        "plt.plot(mais_gast.index, mais_gast, 'b--', label = 'Gastos Parlamentares')\n",
        "\n",
        "plt.xticks(mais_gast.index, rotation = 90)\n",
        "\n",
        "plt.title('Gráfico de Gastos [Mais]')\n",
        "plt.xlabel('Range Parlamentar')\n",
        "plt.ylabel('Range Valor R$ (Mi)')\n",
        "\n",
        "plt.legend()\n",
        "plt.grid(True)\n",
        "plt.show()"
      ]
    },
    {
      "cell_type": "markdown",
      "metadata": {
        "id": "lsWDXfWm84RW"
      },
      "source": [
        "Aqui podemos notar que o deputado que mais consumiu recursos foi a Jéssica Sales, atingindo a marca de mais de R$ 1,41 Mi no período de 2019 até 2021. Já o que menos consumiu recursos públicos foi a deputada Luciana Santos, utilizando apenas 50 reais da verba, com despesas telefônicas."
      ]
    },
    {
      "cell_type": "markdown",
      "metadata": {
        "id": "y2fpc13184RW"
      },
      "source": [
        "### 4. Quais são as categorias de despesas mais onerosas dentre os recursos destinados às cotas parlamentares?"
      ]
    },
    {
      "cell_type": "code",
      "execution_count": 37,
      "metadata": {
        "id": "Ws_1KoBx84RW",
        "outputId": "b8f1fcaf-9784-408d-c0db-85b7268dddf1"
      },
      "outputs": [
        {
          "data": {
            "text/plain": [
              "txtDescricao\n",
              "PARTICIPAÇÃO EM CURSO, PALESTRA OU EVENTO SIMILAR            1.539535e+05\n",
              "PASSAGENS TERRESTRES, MARÍTIMAS OU FLUVIAIS                  1.940142e+05\n",
              "LOCAÇÃO OU FRETAMENTO DE EMBARCAÇÕES                         4.450000e+05\n",
              "ASSINATURA DE PUBLICAÇÕES                                    5.832491e+05\n",
              "SERVIÇO DE TÁXI, PEDÁGIO E ESTACIONAMENTO                    1.836470e+06\n",
              "FORNECIMENTO DE ALIMENTAÇÃO DO PARLAMENTAR                   2.023309e+06\n",
              "SERVIÇO DE SEGURANÇA PRESTADO POR EMPRESA ESPECIALIZADA.     2.617691e+06\n",
              "LOCAÇÃO OU FRETAMENTO DE AERONAVES                           3.542367e+06\n",
              "HOSPEDAGEM ,EXCETO DO PARLAMENTAR NO DISTRITO FEDERAL.       3.610273e+06\n",
              "SERVIÇOS POSTAIS                                             3.998291e+06\n",
              "PASSAGEM AÉREA - REEMBOLSO                                   5.917361e+06\n",
              "TELEFONIA                                                    1.237999e+07\n",
              "PASSAGEM AÉREA - SIGEPA                                      2.060582e+07\n",
              "COMBUSTÍVEIS E LUBRIFICANTES.                                3.643998e+07\n",
              "CONSULTORIAS, PESQUISAS E TRABALHOS TÉCNICOS.                5.627142e+07\n",
              "MANUTENÇÃO DE ESCRITÓRIO DE APOIO À ATIVIDADE PARLAMENTAR    6.254503e+07\n",
              "LOCAÇÃO OU FRETAMENTO DE VEÍCULOS AUTOMOTORES                6.781413e+07\n",
              "PASSAGEM AÉREA - RPA                                         7.241028e+07\n",
              "DIVULGAÇÃO DA ATIVIDADE PARLAMENTAR.                         1.379023e+08\n",
              "Name: vlrDocumento, dtype: float64"
            ]
          },
          "execution_count": 37,
          "metadata": {},
          "output_type": "execute_result"
        }
      ],
      "source": [
        "#Agrupamento de gastos por categoria, somando o total e ordenando do maior para o menor\n",
        "categoria_oner = df_2.groupby(['txtDescricao'])['vlrDocumento'].sum().sort_values(ascending = True)\n",
        "categoria_oner"
      ]
    },
    {
      "cell_type": "code",
      "execution_count": 38,
      "metadata": {
        "id": "pYgVOpl884Ra",
        "outputId": "4e427102-5923-4060-c676-f02a4a3f13dd"
      },
      "outputs": [
        {
          "data": {
            "image/png": "[encoded data removed]",
            "text/plain": [
              "<Figure size 720x360 with 1 Axes>"
            ]
          },
          "metadata": {
            "needs_background": "light"
          },
          "output_type": "display_data"
        }
      ],
      "source": [
        "#Plotando gráfico barras na horizontal para meior visualização\n",
        "plt.figure(figsize = (10, 5))\n",
        "plt.barh(categoria_oner.index, categoria_oner, color = 'g')\n",
        "\n",
        "#plt.xticks(categoria_oner.index)\n",
        "\n",
        "plt.title('Maiores Gastos de acordo com Categoria')\n",
        "plt.xlabel('Range Valor R$ (mi)')\n",
        "plt.ylabel('Range Categorias')\n",
        "\n",
        "plt.show()"
      ]
    },
    {
      "cell_type": "code",
      "execution_count": 39,
      "metadata": {
        "id": "5qkMbx_W84Ra",
        "outputId": "60ef11fc-a5f4-4cbc-f000-2d32c2704627"
      },
      "outputs": [
        {
          "data": {
            "text/plain": [
              "txtDescricao\n",
              "ASSINATURA DE PUBLICAÇÕES                        5.832491e+05\n",
              "FORNECIMENTO DE ALIMENTAÇÃO DO PARLAMENTAR       2.023309e+06\n",
              "COMBUSTÍVEIS E LUBRIFICANTES.                    3.643998e+07\n",
              "CONSULTORIAS, PESQUISAS E TRABALHOS TÉCNICOS.    5.627142e+07\n",
              "DIVULGAÇÃO DA ATIVIDADE PARLAMENTAR.             1.379023e+08\n",
              "Name: vlrDocumento, dtype: float64"
            ]
          },
          "execution_count": 39,
          "metadata": {},
          "output_type": "execute_result"
        }
      ],
      "source": [
        "categoria_oner2 = df_2.groupby(['txtDescricao'])['vlrDocumento'].sum().head().sort_values(ascending = True)\n",
        "categoria_oner2"
      ]
    },
    {
      "cell_type": "code",
      "execution_count": 40,
      "metadata": {
        "id": "EXQtUwym84Rb",
        "outputId": "90bd8650-8b07-460c-9bb2-eabea2e19937"
      },
      "outputs": [
        {
          "data": {
            "image/png": "[encoded data removed]",
            "text/plain": [
              "<Figure size 432x432 with 1 Axes>"
            ]
          },
          "metadata": {},
          "output_type": "display_data"
        }
      ],
      "source": [
        "#Plotando em gráfico com porcentagem para melhor visualização\n",
        "labels = categoria_oner2.index\n",
        "sizes = categoria_oner2\n",
        "\n",
        "explode = (0, 0, 0, 0, 0.2)\n",
        "\n",
        "fig1, ax1 = plt.subplots(figsize=(6, 6))\n",
        "\n",
        "cc = ['#32CD32', '#00FF00', '#7CFC00', '#006400', '#008000']\n",
        "\n",
        "ax1.pie(sizes, explode = explode, labels = labels, autopct = '%1.1f%%', shadow = True, startangle = 90, colors = cc)\n",
        "\n",
        "ax1.axis('equal')\n",
        "plt.show()"
      ]
    },
    {
      "cell_type": "markdown",
      "metadata": {
        "id": "dea8yk0q84Rb"
      },
      "source": [
        "Verificamos que os gastos com divulgação de atividade parlamentar são a maioria, com aproximadamente 59,1% dos gastos entre todas as categorias."
      ]
    },
    {
      "cell_type": "markdown",
      "metadata": {
        "id": "o1h22WBN84Rb"
      },
      "source": [
        "### 5. Quais são os trechos de viagem mais recorrentes entre as despesas de viagem?"
      ]
    },
    {
      "cell_type": "code",
      "execution_count": 41,
      "metadata": {
        "id": "C2UEIy0o84Rb",
        "outputId": "bddac11a-5d96-4a92-b8b3-c81d94e99eab"
      },
      "outputs": [
        {
          "data": {
            "text/plain": [
              "txtTrecho\n",
              "BSB/BSB    9890\n",
              "BSB/CGH    5083\n",
              "CGH/BSB    4912\n",
              "BSB/SDU    4134\n",
              "SDU/BSB    3987\n",
              "Name: txtTrecho, dtype: int64"
            ]
          },
          "execution_count": 41,
          "metadata": {},
          "output_type": "execute_result"
        }
      ],
      "source": [
        "#Agrupamento da contagem de viagens por trecho, as 5 maiores\n",
        "trechos_recorr = df_2.groupby(['txtTrecho'])['txtTrecho'].count().sort_values(ascending = False).head(5)\n",
        "trechos_recorr"
      ]
    },
    {
      "cell_type": "code",
      "execution_count": 42,
      "metadata": {
        "id": "RLO8iWG484Rc",
        "outputId": "c1d66729-80ce-45c9-e92a-c72d064a0824"
      },
      "outputs": [
        {
          "data": {
            "image/png": "[encoded data removed]",
            "text/plain": [
              "<Figure size 432x432 with 1 Axes>"
            ]
          },
          "metadata": {},
          "output_type": "display_data"
        }
      ],
      "source": [
        "#Plotando em gráfico com porcentagem para melhor visualização\n",
        "labels = trechos_recorr.index\n",
        "sizes = trechos_recorr\n",
        "\n",
        "explode = (0.2, 0, 0, 0, 0)\n",
        "\n",
        "fig1, ax1 = plt.subplots(figsize=(6, 6))\n",
        "\n",
        "cc = ['#32CD32', '#00FF00', '#7CFC00', '#006400', '#008000']\n",
        "\n",
        "ax1.pie(sizes, explode = explode, labels = labels, autopct = '%1.1f%%', shadow = False, startangle = 90, colors = cc)\n",
        "\n",
        "ax1.axis('equal')\n",
        "plt.show()"
      ]
    },
    {
      "cell_type": "markdown",
      "metadata": {
        "id": "WHa2drCF84Rd"
      },
      "source": [
        "A maior parte dos gastos com transporte é derivada de viagens dentro de Brasilia (BSB), atingindo o percentual de 35,3% dos gastos totais. \n",
        "\n",
        "Lembrando que gastos com transporte englobam tanto o valor de gasolina gasto quanto passagens de avião e locação de carros."
      ]
    },
    {
      "cell_type": "markdown",
      "metadata": {
        "id": "n8Ec45lM84Rd"
      },
      "source": [
        "### 6. Qual a média de gastos por estado?"
      ]
    },
    {
      "cell_type": "code",
      "execution_count": null,
      "metadata": {
        "id": "maUF3EN-84Rd",
        "outputId": "c6b2e27b-b90d-47d7-cf20-9badf7bc21e2",
        "scrolled": true
      },
      "outputs": [],
      "source": [
        "#Média de gastos por estados\n",
        "media_estados = df_2.groupby(['sgUF'])['vlrDocumento'].mean().sort_values()\n",
        "media_estados"
      ]
    },
    {
      "cell_type": "code",
      "execution_count": null,
      "metadata": {
        "id": "ghgmPs6o84Re",
        "outputId": "0975d0dc-46c4-4aff-c0fb-eee129205f05"
      },
      "outputs": [],
      "source": [
        "media_estados2 = df_2.groupby(['sgUF'])['vlrDocumento'].sum().sort_values()\n",
        "media_estados2"
      ]
    },
    {
      "cell_type": "code",
      "execution_count": 45,
      "metadata": {
        "id": "UhUMRBQ-84Re",
        "outputId": "b114c51c-9c78-4322-f1cb-de99b49bafed"
      },
      "outputs": [
        {
          "data": {
            "image/png": "[encoded data removed]",
            "text/plain": [
              "<Figure size 864x360 with 1 Axes>"
            ]
          },
          "metadata": {
            "needs_background": "light"
          },
          "output_type": "display_data"
        }
      ],
      "source": [
        "#Plotando em gráfico de barras a média dos estados, na ordem do maior para menor\n",
        "plt.figure(figsize = (12, 5))\n",
        "plt.bar(media_estados.index, media_estados, color = 'g', label = 'ESTADOS')\n",
        "#plt.plot(media_estados.index, media_estados, 'r--')\n",
        "\n",
        "#plt.xticks(media_estados.index)\n",
        "plt.title('Gráfico de Gastos Parlamentar por Estados')\n",
        "plt.xlabel('Range Estados')\n",
        "plt.ylabel('Range Valor R$ (mi)')\n",
        "\n",
        "plt.legend()\n",
        "plt.show()"
      ]
    },
    {
      "cell_type": "markdown",
      "metadata": {
        "id": "a9iBIwPa84Rf"
      },
      "source": [
        "Aqui podemos notar a região norte dominando, sendo o Amapá campeão em gastos parlamentares, com somados aproximadamente 2 bilhões em reais gastos nesses 3 anos."
      ]
    },
    {
      "cell_type": "markdown",
      "metadata": {
        "id": "KDlWL3TP9IPV"
      },
      "source": [
        "### 7. Qual é o valor total de gastos por estado?"
      ]
    },
    {
      "cell_type": "code",
      "execution_count": 46,
      "metadata": {
        "colab": {
          "base_uri": "https://localhost:8080/",
          "height": 896
        },
        "id": "iRUdUlFD9Ji6",
        "outputId": "078c950b-0204-437e-ea5a-509437426036"
      },
      "outputs": [
        {
          "data": {
            "text/html": [
              "<style type=\"text/css\">\n",
              "#T_90485_row0_col1 {\n",
              "  background-color: #b40426;\n",
              "  color: #f1f1f1;\n",
              "}\n",
              "#T_90485_row1_col1 {\n",
              "  background-color: #ed8366;\n",
              "  color: #f1f1f1;\n",
              "}\n",
              "#T_90485_row2_col1 {\n",
              "  background-color: #f6a283;\n",
              "  color: #000000;\n",
              "}\n",
              "#T_90485_row3_col1 {\n",
              "  background-color: #f7b79b;\n",
              "  color: #000000;\n",
              "}\n",
              "#T_90485_row4_col1 {\n",
              "  background-color: #d4dbe6;\n",
              "  color: #000000;\n",
              "}\n",
              "#T_90485_row5_col1 {\n",
              "  background-color: #cad8ef;\n",
              "  color: #000000;\n",
              "}\n",
              "#T_90485_row6_col1 {\n",
              "  background-color: #b5cdfa;\n",
              "  color: #000000;\n",
              "}\n",
              "#T_90485_row7_col1 {\n",
              "  background-color: #b2ccfb;\n",
              "  color: #000000;\n",
              "}\n",
              "#T_90485_row8_col1 {\n",
              "  background-color: #9abbff;\n",
              "  color: #000000;\n",
              "}\n",
              "#T_90485_row9_col1 {\n",
              "  background-color: #8db0fe;\n",
              "  color: #000000;\n",
              "}\n",
              "#T_90485_row10_col1 {\n",
              "  background-color: #7ea1fa;\n",
              "  color: #f1f1f1;\n",
              "}\n",
              "#T_90485_row11_col1 {\n",
              "  background-color: #6e90f2;\n",
              "  color: #f1f1f1;\n",
              "}\n",
              "#T_90485_row12_col1 {\n",
              "  background-color: #6180e9;\n",
              "  color: #f1f1f1;\n",
              "}\n",
              "#T_90485_row13_col1 {\n",
              "  background-color: #5f7fe8;\n",
              "  color: #f1f1f1;\n",
              "}\n",
              "#T_90485_row14_col1 {\n",
              "  background-color: #5d7ce6;\n",
              "  color: #f1f1f1;\n",
              "}\n",
              "#T_90485_row15_col1 {\n",
              "  background-color: #5875e1;\n",
              "  color: #f1f1f1;\n",
              "}\n",
              "#T_90485_row16_col1 {\n",
              "  background-color: #5673e0;\n",
              "  color: #f1f1f1;\n",
              "}\n",
              "#T_90485_row17_col1, #T_90485_row18_col1, #T_90485_row19_col1 {\n",
              "  background-color: #516ddb;\n",
              "  color: #f1f1f1;\n",
              "}\n",
              "#T_90485_row20_col1 {\n",
              "  background-color: #506bda;\n",
              "  color: #f1f1f1;\n",
              "}\n",
              "#T_90485_row21_col1 {\n",
              "  background-color: #4f69d9;\n",
              "  color: #f1f1f1;\n",
              "}\n",
              "#T_90485_row22_col1 {\n",
              "  background-color: #4e68d8;\n",
              "  color: #f1f1f1;\n",
              "}\n",
              "#T_90485_row23_col1 {\n",
              "  background-color: #4c66d6;\n",
              "  color: #f1f1f1;\n",
              "}\n",
              "#T_90485_row24_col1 {\n",
              "  background-color: #4a63d3;\n",
              "  color: #f1f1f1;\n",
              "}\n",
              "#T_90485_row25_col1 {\n",
              "  background-color: #445acc;\n",
              "  color: #f1f1f1;\n",
              "}\n",
              "#T_90485_row26_col1 {\n",
              "  background-color: #3b4cc0;\n",
              "  color: #f1f1f1;\n",
              "}\n",
              "</style>\n",
              "<table id=\"T_90485\">\n",
              "  <thead>\n",
              "    <tr>\n",
              "      <th class=\"blank level0\" >&nbsp;</th>\n",
              "      <th id=\"T_90485_level0_col0\" class=\"col_heading level0 col0\" >sgUF</th>\n",
              "      <th id=\"T_90485_level0_col1\" class=\"col_heading level0 col1\" >Valor_Total</th>\n",
              "    </tr>\n",
              "  </thead>\n",
              "  <tbody>\n",
              "    <tr>\n",
              "      <th id=\"T_90485_level0_row0\" class=\"row_heading level0 row0\" >0</th>\n",
              "      <td id=\"T_90485_row0_col0\" class=\"data row0 col0\" >SP</td>\n",
              "      <td id=\"T_90485_row0_col1\" class=\"data row0 col1\" >R$ 52635438.40</td>\n",
              "    </tr>\n",
              "    <tr>\n",
              "      <th id=\"T_90485_level0_row1\" class=\"row_heading level0 row1\" >1</th>\n",
              "      <td id=\"T_90485_row1_col0\" class=\"data row1 col0\" >MG</td>\n",
              "      <td id=\"T_90485_row1_col1\" class=\"data row1 col1\" >R$ 43162671.56</td>\n",
              "    </tr>\n",
              "    <tr>\n",
              "      <th id=\"T_90485_level0_row2\" class=\"row_heading level0 row2\" >2</th>\n",
              "      <td id=\"T_90485_row2_col0\" class=\"data row2 col0\" >BA</td>\n",
              "      <td id=\"T_90485_row2_col1\" class=\"data row2 col1\" >R$ 39441897.60</td>\n",
              "    </tr>\n",
              "    <tr>\n",
              "      <th id=\"T_90485_level0_row3\" class=\"row_heading level0 row3\" >3</th>\n",
              "      <td id=\"T_90485_row3_col0\" class=\"data row3 col0\" >RJ</td>\n",
              "      <td id=\"T_90485_row3_col1\" class=\"data row3 col1\" >R$ 36707801.80</td>\n",
              "    </tr>\n",
              "    <tr>\n",
              "      <th id=\"T_90485_level0_row4\" class=\"row_heading level0 row4\" >4</th>\n",
              "      <td id=\"T_90485_row4_col0\" class=\"data row4 col0\" >PR</td>\n",
              "      <td id=\"T_90485_row4_col1\" class=\"data row4 col1\" >R$ 26785753.60</td>\n",
              "    </tr>\n",
              "    <tr>\n",
              "      <th id=\"T_90485_level0_row5\" class=\"row_heading level0 row5\" >5</th>\n",
              "      <td id=\"T_90485_row5_col0\" class=\"data row5 col0\" >RS</td>\n",
              "      <td id=\"T_90485_row5_col1\" class=\"data row5 col1\" >R$ 25075845.74</td>\n",
              "    </tr>\n",
              "    <tr>\n",
              "      <th id=\"T_90485_level0_row6\" class=\"row_heading level0 row6\" >6</th>\n",
              "      <td id=\"T_90485_row6_col0\" class=\"data row6 col0\" >CE</td>\n",
              "      <td id=\"T_90485_row6_col1\" class=\"data row6 col1\" >R$ 21933892.08</td>\n",
              "    </tr>\n",
              "    <tr>\n",
              "      <th id=\"T_90485_level0_row7\" class=\"row_heading level0 row7\" >7</th>\n",
              "      <td id=\"T_90485_row7_col0\" class=\"data row7 col0\" >PE</td>\n",
              "      <td id=\"T_90485_row7_col1\" class=\"data row7 col1\" >R$ 21591701.23</td>\n",
              "    </tr>\n",
              "    <tr>\n",
              "      <th id=\"T_90485_level0_row8\" class=\"row_heading level0 row8\" >8</th>\n",
              "      <td id=\"T_90485_row8_col0\" class=\"data row8 col0\" >MA</td>\n",
              "      <td id=\"T_90485_row8_col1\" class=\"data row8 col1\" >R$ 18126874.79</td>\n",
              "    </tr>\n",
              "    <tr>\n",
              "      <th id=\"T_90485_level0_row9\" class=\"row_heading level0 row9\" >9</th>\n",
              "      <td id=\"T_90485_row9_col0\" class=\"data row9 col0\" >PA</td>\n",
              "      <td id=\"T_90485_row9_col1\" class=\"data row9 col1\" >R$ 16469118.51</td>\n",
              "    </tr>\n",
              "    <tr>\n",
              "      <th id=\"T_90485_level0_row10\" class=\"row_heading level0 row10\" >10</th>\n",
              "      <td id=\"T_90485_row10_col0\" class=\"data row10 col0\" >GO</td>\n",
              "      <td id=\"T_90485_row10_col1\" class=\"data row10 col1\" >R$ 14416890.65</td>\n",
              "    </tr>\n",
              "    <tr>\n",
              "      <th id=\"T_90485_level0_row11\" class=\"row_heading level0 row11\" >11</th>\n",
              "      <td id=\"T_90485_row11_col0\" class=\"data row11 col0\" >PB</td>\n",
              "      <td id=\"T_90485_row11_col1\" class=\"data row11 col1\" >R$ 12161287.75</td>\n",
              "    </tr>\n",
              "    <tr>\n",
              "      <th id=\"T_90485_level0_row12\" class=\"row_heading level0 row12\" >12</th>\n",
              "      <td id=\"T_90485_row12_col0\" class=\"data row12 col0\" >AC</td>\n",
              "      <td id=\"T_90485_row12_col1\" class=\"data row12 col1\" >R$ 10293532.20</td>\n",
              "    </tr>\n",
              "    <tr>\n",
              "      <th id=\"T_90485_level0_row13\" class=\"row_heading level0 row13\" >13</th>\n",
              "      <td id=\"T_90485_row13_col0\" class=\"data row13 col0\" >PI</td>\n",
              "      <td id=\"T_90485_row13_col1\" class=\"data row13 col1\" >R$ 10105986.48</td>\n",
              "    </tr>\n",
              "    <tr>\n",
              "      <th id=\"T_90485_level0_row14\" class=\"row_heading level0 row14\" >14</th>\n",
              "      <td id=\"T_90485_row14_col0\" class=\"data row14 col0\" >SC</td>\n",
              "      <td id=\"T_90485_row14_col1\" class=\"data row14 col1\" >R$ 9722726.40</td>\n",
              "    </tr>\n",
              "    <tr>\n",
              "      <th id=\"T_90485_level0_row15\" class=\"row_heading level0 row15\" >15</th>\n",
              "      <td id=\"T_90485_row15_col0\" class=\"data row15 col0\" >AP</td>\n",
              "      <td id=\"T_90485_row15_col1\" class=\"data row15 col1\" >R$ 8930724.82</td>\n",
              "    </tr>\n",
              "    <tr>\n",
              "      <th id=\"T_90485_level0_row16\" class=\"row_heading level0 row16\" >16</th>\n",
              "      <td id=\"T_90485_row16_col0\" class=\"data row16 col0\" >AM</td>\n",
              "      <td id=\"T_90485_row16_col1\" class=\"data row16 col1\" >R$ 8698992.79</td>\n",
              "    </tr>\n",
              "    <tr>\n",
              "      <th id=\"T_90485_level0_row17\" class=\"row_heading level0 row17\" >17</th>\n",
              "      <td id=\"T_90485_row17_col0\" class=\"data row17 col0\" >ES</td>\n",
              "      <td id=\"T_90485_row17_col1\" class=\"data row17 col1\" >R$ 7982895.03</td>\n",
              "    </tr>\n",
              "    <tr>\n",
              "      <th id=\"T_90485_level0_row18\" class=\"row_heading level0 row18\" >18</th>\n",
              "      <td id=\"T_90485_row18_col0\" class=\"data row18 col0\" >SE</td>\n",
              "      <td id=\"T_90485_row18_col1\" class=\"data row18 col1\" >R$ 7970503.96</td>\n",
              "    </tr>\n",
              "    <tr>\n",
              "      <th id=\"T_90485_level0_row19\" class=\"row_heading level0 row19\" >19</th>\n",
              "      <td id=\"T_90485_row19_col0\" class=\"data row19 col0\" >TO</td>\n",
              "      <td id=\"T_90485_row19_col1\" class=\"data row19 col1\" >R$ 7916891.67</td>\n",
              "    </tr>\n",
              "    <tr>\n",
              "      <th id=\"T_90485_level0_row20\" class=\"row_heading level0 row20\" >20</th>\n",
              "      <td id=\"T_90485_row20_col0\" class=\"data row20 col0\" >RR</td>\n",
              "      <td id=\"T_90485_row20_col1\" class=\"data row20 col1\" >R$ 7854212.79</td>\n",
              "    </tr>\n",
              "    <tr>\n",
              "      <th id=\"T_90485_level0_row21\" class=\"row_heading level0 row21\" >21</th>\n",
              "      <td id=\"T_90485_row21_col0\" class=\"data row21 col0\" >AL</td>\n",
              "      <td id=\"T_90485_row21_col1\" class=\"data row21 col1\" >R$ 7640373.82</td>\n",
              "    </tr>\n",
              "    <tr>\n",
              "      <th id=\"T_90485_level0_row22\" class=\"row_heading level0 row22\" >22</th>\n",
              "      <td id=\"T_90485_row22_col0\" class=\"data row22 col0\" >RN</td>\n",
              "      <td id=\"T_90485_row22_col1\" class=\"data row22 col1\" >R$ 7500253.34</td>\n",
              "    </tr>\n",
              "    <tr>\n",
              "      <th id=\"T_90485_level0_row23\" class=\"row_heading level0 row23\" >23</th>\n",
              "      <td id=\"T_90485_row23_col0\" class=\"data row23 col0\" >MT</td>\n",
              "      <td id=\"T_90485_row23_col1\" class=\"data row23 col1\" >R$ 7184822.30</td>\n",
              "    </tr>\n",
              "    <tr>\n",
              "      <th id=\"T_90485_level0_row24\" class=\"row_heading level0 row24\" >24</th>\n",
              "      <td id=\"T_90485_row24_col0\" class=\"data row24 col0\" >MS</td>\n",
              "      <td id=\"T_90485_row24_col1\" class=\"data row24 col1\" >R$ 6942314.37</td>\n",
              "    </tr>\n",
              "    <tr>\n",
              "      <th id=\"T_90485_level0_row25\" class=\"row_heading level0 row25\" >25</th>\n",
              "      <td id=\"T_90485_row25_col0\" class=\"data row25 col0\" >RO</td>\n",
              "      <td id=\"T_90485_row25_col1\" class=\"data row25 col1\" >R$ 5926355.59</td>\n",
              "    </tr>\n",
              "    <tr>\n",
              "      <th id=\"T_90485_level0_row26\" class=\"row_heading level0 row26\" >26</th>\n",
              "      <td id=\"T_90485_row26_col0\" class=\"data row26 col0\" >DF</td>\n",
              "      <td id=\"T_90485_row26_col1\" class=\"data row26 col1\" >R$ 4303815.07</td>\n",
              "    </tr>\n",
              "  </tbody>\n",
              "</table>\n"
            ],
            "text/plain": [
              "<pandas.io.formats.style.Styler at 0x1ebc2c1d420>"
            ]
          },
          "execution_count": 46,
          "metadata": {},
          "output_type": "execute_result"
        }
      ],
      "source": [
        "gastos_uftotal = df_copia[['sgUF' , 'vlrLiquido']].groupby('sgUF').sum().sort_values('vlrLiquido', ascending = False).round(2)\n",
        "\n",
        "gastos_uftotal.rename(columns = {'vlrLiquido':'Valor_Total'}, inplace = True)\n",
        "\n",
        "gastos_uftotal = gastos_uftotal.reset_index()\n",
        "\n",
        "gastos_uftotal2 = gastos_uftotal.style.format({'Valor_Total': 'R$ {:.2F}'}).background_gradient(cmap = 'coolwarm')\n",
        "\n",
        "gastos_uftotal2"
      ]
    },
    {
      "cell_type": "code",
      "execution_count": 47,
      "metadata": {
        "colab": {
          "base_uri": "https://localhost:8080/",
          "height": 421
        },
        "id": "BetzrfiE9OqD",
        "outputId": "d3b86a2f-2eb1-4e79-ada3-a2643dbdb881"
      },
      "outputs": [
        {
          "name": "stdout",
          "output_type": "stream",
          "text": [
            "\n"
          ]
        },
        {
          "data": {
            "image/png": "[encoded data removed]",
            "text/plain": [
              "<Figure size 1080x432 with 1 Axes>"
            ]
          },
          "metadata": {
            "needs_background": "light"
          },
          "output_type": "display_data"
        }
      ],
      "source": [
        "plt.figure(figsize=(15,6))\n",
        "x = gastos_uftotal.sgUF\n",
        "y = gastos_uftotal['Valor_Total']/1000000\n",
        "plt.grid()\n",
        "plt.title('Despesa Total por Estados')\n",
        "plt.xlabel('Estados')\n",
        "plt.ylabel('Valores em Milhões de Reais ')\n",
        "plt.bar(x,y)\n",
        "print()"
      ]
    },
    {
      "cell_type": "markdown",
      "metadata": {
        "id": "QWjfaVHs9VH9"
      },
      "source": [
        "### 8. Quais estados têm maior número de representantes?"
      ]
    },
    {
      "cell_type": "code",
      "execution_count": 48,
      "metadata": {
        "colab": {
          "base_uri": "https://localhost:8080/",
          "height": 206
        },
        "id": "1BI03Ia99YJc",
        "outputId": "3e00952c-132e-4cea-ee03-fe4914c34dbd"
      },
      "outputs": [
        {
          "data": {
            "text/html": [
              "<div>\n",
              "<style scoped>\n",
              "    .dataframe tbody tr th:only-of-type {\n",
              "        vertical-align: middle;\n",
              "    }\n",
              "\n",
              "    .dataframe tbody tr th {\n",
              "        vertical-align: top;\n",
              "    }\n",
              "\n",
              "    .dataframe thead th {\n",
              "        text-align: right;\n",
              "    }\n",
              "</style>\n",
              "<table border=\"1\" class=\"dataframe\">\n",
              "  <thead>\n",
              "    <tr style=\"text-align: right;\">\n",
              "      <th></th>\n",
              "      <th>sgUF</th>\n",
              "      <th>Quantidade De Representantes</th>\n",
              "    </tr>\n",
              "  </thead>\n",
              "  <tbody>\n",
              "    <tr>\n",
              "      <th>0</th>\n",
              "      <td>SP</td>\n",
              "      <td>104</td>\n",
              "    </tr>\n",
              "    <tr>\n",
              "      <th>1</th>\n",
              "      <td>RJ</td>\n",
              "      <td>82</td>\n",
              "    </tr>\n",
              "    <tr>\n",
              "      <th>2</th>\n",
              "      <td>MG</td>\n",
              "      <td>81</td>\n",
              "    </tr>\n",
              "    <tr>\n",
              "      <th>3</th>\n",
              "      <td>BA</td>\n",
              "      <td>56</td>\n",
              "    </tr>\n",
              "    <tr>\n",
              "      <th>4</th>\n",
              "      <td>RS</td>\n",
              "      <td>47</td>\n",
              "    </tr>\n",
              "  </tbody>\n",
              "</table>\n",
              "</div>"
            ],
            "text/plain": [
              "  sgUF  Quantidade De Representantes\n",
              "0   SP                           104\n",
              "1   RJ                            82\n",
              "2   MG                            81\n",
              "3   BA                            56\n",
              "4   RS                            47"
            ]
          },
          "execution_count": 48,
          "metadata": {},
          "output_type": "execute_result"
        }
      ],
      "source": [
        "parlamentares_uf = df_copia[['txNomeParlamentar', 'sgUF']].drop_duplicates()\n",
        "\n",
        "parlamentares_uf = parlamentares_uf.groupby('sgUF').count().sort_values('txNomeParlamentar', ascending = False)\n",
        "\n",
        "parlamentares_uf.rename(columns = {'txNomeParlamentar':'Quantidade De Representantes'}, inplace = True)\n",
        "\n",
        "parlamentares_uf = parlamentares_uf.reset_index()\n",
        "\n",
        "maximo = parlamentares_uf['Quantidade De Representantes'].max()\n",
        "\n",
        "parlamentares_uf.head()\n",
        "\n"
      ]
    },
    {
      "cell_type": "code",
      "execution_count": 49,
      "metadata": {
        "colab": {
          "base_uri": "https://localhost:8080/",
          "height": 421
        },
        "id": "-TlHWDg29bN1",
        "outputId": "88c4f578-72ab-4c48-9f8b-63f598ec3f23"
      },
      "outputs": [
        {
          "name": "stdout",
          "output_type": "stream",
          "text": [
            "\n"
          ]
        },
        {
          "data": {
            "image/png": "[encoded data removed]",
            "text/plain": [
              "<Figure size 1080x432 with 1 Axes>"
            ]
          },
          "metadata": {
            "needs_background": "light"
          },
          "output_type": "display_data"
        }
      ],
      "source": [
        "plt.figure(figsize=(15,6))\n",
        "x = parlamentares_uf.sgUF\n",
        "y = parlamentares_uf['Quantidade De Representantes']\n",
        "plt.grid()\n",
        "plt.title('Quantidade De Parlamentares por Estado')\n",
        "plt.xlabel('Estados')\n",
        "plt.ylabel('Número de Representantes')\n",
        "plt.bar(x,y)\n",
        "print()"
      ]
    },
    {
      "cell_type": "markdown",
      "metadata": {
        "id": "oirAEnbo9khS"
      },
      "source": [
        "### 9. Há alguma correlação entre a quantidade de parlamentares por estado e o valor total dos gastos?"
      ]
    },
    {
      "cell_type": "code",
      "execution_count": 50,
      "metadata": {
        "id": "BiUYDCZQ9nu-"
      },
      "outputs": [],
      "source": [
        "gastos_uftotal = df_copia[['sgUF' , 'vlrLiquido']].groupby('sgUF').sum().sort_values('vlrLiquido', ascending = False).round(2)\n",
        "\n",
        "gastos_uftotal.rename(columns = {'vlrLiquido':'Valor_Total'}, inplace = True)\n",
        "\n",
        "gastos_uftotal = gastos_uftotal.reset_index()\n",
        "\n",
        "parlamentares_uf = df_copia[['txNomeParlamentar', 'sgUF']].drop_duplicates()\n",
        "\n",
        "parlamentares_uf = parlamentares_uf.groupby('sgUF').count().sort_values('txNomeParlamentar', ascending = False)\n",
        "\n",
        "parlamentares_uf.rename(columns = {'txNomeParlamentar':'Quantidade De Representantes'}, inplace = True)\n",
        "\n",
        "parlamentares_uf = parlamentares_uf.reset_index()\n",
        "\n",
        "maximo = parlamentares_uf['Quantidade De Representantes'].max()\n",
        "\n"
      ]
    },
    {
      "cell_type": "code",
      "execution_count": 51,
      "metadata": {
        "colab": {
          "base_uri": "https://localhost:8080/",
          "height": 479
        },
        "id": "HUN1IR3q9q9h",
        "outputId": "888ee55d-f933-4219-9ee9-70aaa46e85fe"
      },
      "outputs": [
        {
          "data": {
            "image/png": "[encoded data removed]",
            "text/plain": [
              "<Figure size 1440x504 with 2 Axes>"
            ]
          },
          "metadata": {
            "needs_background": "light"
          },
          "output_type": "display_data"
        }
      ],
      "source": [
        "y = np.array(gastos_uftotal['Valor_Total']/1000000)\n",
        "x = np.array(gastos_uftotal.sgUF)\n",
        "plt.figure(figsize=(20,7))\n",
        "plt.subplot(1,2,1)\n",
        "plt.grid(axis= 'y')\n",
        "plt.bar(x,y)\n",
        "plt.title('Despesas em Milhões de Reais por Estado')\n",
        "\n",
        "x = np.array(parlamentares_uf.sgUF)\n",
        "y = np.array(parlamentares_uf['Quantidade De Representantes'])\n",
        "plt.subplot(1,2,2)\n",
        "plt.bar(x,y)\n",
        "plt.grid(axis= 'x')\n",
        "plt.title('Número de Deputado por Estados')\n",
        "plt.suptitle('Gráficos')\n",
        "plt.show()"
      ]
    },
    {
      "cell_type": "code",
      "execution_count": 52,
      "metadata": {
        "colab": {
          "base_uri": "https://localhost:8080/",
          "height": 896
        },
        "id": "-Mo4jiNX9xB9",
        "outputId": "f1661308-9241-4f80-920e-2e5f40a054be"
      },
      "outputs": [
        {
          "data": {
            "text/html": [
              "<div>\n",
              "<style scoped>\n",
              "    .dataframe tbody tr th:only-of-type {\n",
              "        vertical-align: middle;\n",
              "    }\n",
              "\n",
              "    .dataframe tbody tr th {\n",
              "        vertical-align: top;\n",
              "    }\n",
              "\n",
              "    .dataframe thead th {\n",
              "        text-align: right;\n",
              "    }\n",
              "</style>\n",
              "<table border=\"1\" class=\"dataframe\">\n",
              "  <thead>\n",
              "    <tr style=\"text-align: right;\">\n",
              "      <th></th>\n",
              "      <th>index</th>\n",
              "      <th>sgUF</th>\n",
              "      <th>Valor_Total</th>\n",
              "      <th>Quantidade De Representantes</th>\n",
              "    </tr>\n",
              "  </thead>\n",
              "  <tbody>\n",
              "    <tr>\n",
              "      <th>0</th>\n",
              "      <td>0</td>\n",
              "      <td>SP</td>\n",
              "      <td>52635438.40</td>\n",
              "      <td>104</td>\n",
              "    </tr>\n",
              "    <tr>\n",
              "      <th>1</th>\n",
              "      <td>1</td>\n",
              "      <td>MG</td>\n",
              "      <td>43162671.56</td>\n",
              "      <td>81</td>\n",
              "    </tr>\n",
              "    <tr>\n",
              "      <th>2</th>\n",
              "      <td>2</td>\n",
              "      <td>BA</td>\n",
              "      <td>39441897.60</td>\n",
              "      <td>56</td>\n",
              "    </tr>\n",
              "    <tr>\n",
              "      <th>3</th>\n",
              "      <td>3</td>\n",
              "      <td>RJ</td>\n",
              "      <td>36707801.80</td>\n",
              "      <td>82</td>\n",
              "    </tr>\n",
              "    <tr>\n",
              "      <th>4</th>\n",
              "      <td>4</td>\n",
              "      <td>PR</td>\n",
              "      <td>26785753.60</td>\n",
              "      <td>46</td>\n",
              "    </tr>\n",
              "    <tr>\n",
              "      <th>5</th>\n",
              "      <td>5</td>\n",
              "      <td>RS</td>\n",
              "      <td>25075845.74</td>\n",
              "      <td>47</td>\n",
              "    </tr>\n",
              "    <tr>\n",
              "      <th>6</th>\n",
              "      <td>6</td>\n",
              "      <td>CE</td>\n",
              "      <td>21933892.08</td>\n",
              "      <td>39</td>\n",
              "    </tr>\n",
              "    <tr>\n",
              "      <th>7</th>\n",
              "      <td>7</td>\n",
              "      <td>PE</td>\n",
              "      <td>21591701.23</td>\n",
              "      <td>38</td>\n",
              "    </tr>\n",
              "    <tr>\n",
              "      <th>8</th>\n",
              "      <td>8</td>\n",
              "      <td>MA</td>\n",
              "      <td>18126874.79</td>\n",
              "      <td>34</td>\n",
              "    </tr>\n",
              "    <tr>\n",
              "      <th>9</th>\n",
              "      <td>9</td>\n",
              "      <td>PA</td>\n",
              "      <td>16469118.51</td>\n",
              "      <td>27</td>\n",
              "    </tr>\n",
              "    <tr>\n",
              "      <th>10</th>\n",
              "      <td>10</td>\n",
              "      <td>GO</td>\n",
              "      <td>14416890.65</td>\n",
              "      <td>27</td>\n",
              "    </tr>\n",
              "    <tr>\n",
              "      <th>11</th>\n",
              "      <td>11</td>\n",
              "      <td>PB</td>\n",
              "      <td>12161287.75</td>\n",
              "      <td>20</td>\n",
              "    </tr>\n",
              "    <tr>\n",
              "      <th>12</th>\n",
              "      <td>12</td>\n",
              "      <td>AC</td>\n",
              "      <td>10293532.20</td>\n",
              "      <td>14</td>\n",
              "    </tr>\n",
              "    <tr>\n",
              "      <th>13</th>\n",
              "      <td>13</td>\n",
              "      <td>PI</td>\n",
              "      <td>10105986.48</td>\n",
              "      <td>15</td>\n",
              "    </tr>\n",
              "    <tr>\n",
              "      <th>14</th>\n",
              "      <td>14</td>\n",
              "      <td>SC</td>\n",
              "      <td>9722726.40</td>\n",
              "      <td>30</td>\n",
              "    </tr>\n",
              "    <tr>\n",
              "      <th>15</th>\n",
              "      <td>15</td>\n",
              "      <td>AP</td>\n",
              "      <td>8930724.82</td>\n",
              "      <td>15</td>\n",
              "    </tr>\n",
              "    <tr>\n",
              "      <th>16</th>\n",
              "      <td>16</td>\n",
              "      <td>AM</td>\n",
              "      <td>8698992.79</td>\n",
              "      <td>14</td>\n",
              "    </tr>\n",
              "    <tr>\n",
              "      <th>17</th>\n",
              "      <td>17</td>\n",
              "      <td>ES</td>\n",
              "      <td>7982895.03</td>\n",
              "      <td>17</td>\n",
              "    </tr>\n",
              "    <tr>\n",
              "      <th>18</th>\n",
              "      <td>18</td>\n",
              "      <td>SE</td>\n",
              "      <td>7970503.96</td>\n",
              "      <td>12</td>\n",
              "    </tr>\n",
              "    <tr>\n",
              "      <th>19</th>\n",
              "      <td>19</td>\n",
              "      <td>TO</td>\n",
              "      <td>7916891.67</td>\n",
              "      <td>12</td>\n",
              "    </tr>\n",
              "    <tr>\n",
              "      <th>20</th>\n",
              "      <td>20</td>\n",
              "      <td>RR</td>\n",
              "      <td>7854212.79</td>\n",
              "      <td>13</td>\n",
              "    </tr>\n",
              "    <tr>\n",
              "      <th>21</th>\n",
              "      <td>21</td>\n",
              "      <td>AL</td>\n",
              "      <td>7640373.82</td>\n",
              "      <td>14</td>\n",
              "    </tr>\n",
              "    <tr>\n",
              "      <th>22</th>\n",
              "      <td>22</td>\n",
              "      <td>RN</td>\n",
              "      <td>7500253.34</td>\n",
              "      <td>13</td>\n",
              "    </tr>\n",
              "    <tr>\n",
              "      <th>23</th>\n",
              "      <td>23</td>\n",
              "      <td>MT</td>\n",
              "      <td>7184822.30</td>\n",
              "      <td>15</td>\n",
              "    </tr>\n",
              "    <tr>\n",
              "      <th>24</th>\n",
              "      <td>24</td>\n",
              "      <td>MS</td>\n",
              "      <td>6942314.37</td>\n",
              "      <td>16</td>\n",
              "    </tr>\n",
              "    <tr>\n",
              "      <th>25</th>\n",
              "      <td>25</td>\n",
              "      <td>RO</td>\n",
              "      <td>5926355.59</td>\n",
              "      <td>13</td>\n",
              "    </tr>\n",
              "    <tr>\n",
              "      <th>26</th>\n",
              "      <td>26</td>\n",
              "      <td>DF</td>\n",
              "      <td>4303815.07</td>\n",
              "      <td>15</td>\n",
              "    </tr>\n",
              "  </tbody>\n",
              "</table>\n",
              "</div>"
            ],
            "text/plain": [
              "    index sgUF  Valor_Total  Quantidade De Representantes\n",
              "0       0   SP  52635438.40                           104\n",
              "1       1   MG  43162671.56                            81\n",
              "2       2   BA  39441897.60                            56\n",
              "3       3   RJ  36707801.80                            82\n",
              "4       4   PR  26785753.60                            46\n",
              "5       5   RS  25075845.74                            47\n",
              "6       6   CE  21933892.08                            39\n",
              "7       7   PE  21591701.23                            38\n",
              "8       8   MA  18126874.79                            34\n",
              "9       9   PA  16469118.51                            27\n",
              "10     10   GO  14416890.65                            27\n",
              "11     11   PB  12161287.75                            20\n",
              "12     12   AC  10293532.20                            14\n",
              "13     13   PI  10105986.48                            15\n",
              "14     14   SC   9722726.40                            30\n",
              "15     15   AP   8930724.82                            15\n",
              "16     16   AM   8698992.79                            14\n",
              "17     17   ES   7982895.03                            17\n",
              "18     18   SE   7970503.96                            12\n",
              "19     19   TO   7916891.67                            12\n",
              "20     20   RR   7854212.79                            13\n",
              "21     21   AL   7640373.82                            14\n",
              "22     22   RN   7500253.34                            13\n",
              "23     23   MT   7184822.30                            15\n",
              "24     24   MS   6942314.37                            16\n",
              "25     25   RO   5926355.59                            13\n",
              "26     26   DF   4303815.07                            15"
            ]
          },
          "execution_count": 52,
          "metadata": {},
          "output_type": "execute_result"
        }
      ],
      "source": [
        "auxiliar = pd.merge(gastos_uftotal,parlamentares_uf, on = ['sgUF'])\n",
        "\n",
        "auxiliar = auxiliar.reset_index()\n",
        "\n",
        "auxiliar.rename(columns = {'Valor_Total\t': 'Valor_Total'}, inplace = True)\n",
        "\n",
        "auxiliar"
      ]
    },
    {
      "cell_type": "markdown",
      "metadata": {
        "id": "pjX-qaBx93s2"
      },
      "source": [
        "Aplicando Normalização Biblioteca MinMaxScaler"
      ]
    },
    {
      "cell_type": "code",
      "execution_count": 53,
      "metadata": {
        "id": "uNfnWLNz95QM"
      },
      "outputs": [],
      "source": [
        "from sklearn.preprocessing import MinMaxScaler\n",
        "\n",
        "scaler = MinMaxScaler()\n",
        "\n",
        "dados_normalizados = scaler.fit_transform(auxiliar[['Valor_Total', 'Quantidade De Representantes']])\n"
      ]
    },
    {
      "cell_type": "code",
      "execution_count": 54,
      "metadata": {
        "colab": {
          "base_uri": "https://localhost:8080/",
          "height": 896
        },
        "id": "EUbEmXw398Pz",
        "outputId": "c935f564-89e6-4670-b91b-1f50a0617521"
      },
      "outputs": [
        {
          "data": {
            "text/html": [
              "<div>\n",
              "<style scoped>\n",
              "    .dataframe tbody tr th:only-of-type {\n",
              "        vertical-align: middle;\n",
              "    }\n",
              "\n",
              "    .dataframe tbody tr th {\n",
              "        vertical-align: top;\n",
              "    }\n",
              "\n",
              "    .dataframe thead th {\n",
              "        text-align: right;\n",
              "    }\n",
              "</style>\n",
              "<table border=\"1\" class=\"dataframe\">\n",
              "  <thead>\n",
              "    <tr style=\"text-align: right;\">\n",
              "      <th></th>\n",
              "      <th>Valor_Total</th>\n",
              "      <th>Quantidade De Representantes</th>\n",
              "    </tr>\n",
              "  </thead>\n",
              "  <tbody>\n",
              "    <tr>\n",
              "      <th>0</th>\n",
              "      <td>1.000000</td>\n",
              "      <td>1.000000</td>\n",
              "    </tr>\n",
              "    <tr>\n",
              "      <th>1</th>\n",
              "      <td>0.804005</td>\n",
              "      <td>0.750000</td>\n",
              "    </tr>\n",
              "    <tr>\n",
              "      <th>2</th>\n",
              "      <td>0.727021</td>\n",
              "      <td>0.478261</td>\n",
              "    </tr>\n",
              "    <tr>\n",
              "      <th>3</th>\n",
              "      <td>0.670451</td>\n",
              "      <td>0.760870</td>\n",
              "    </tr>\n",
              "    <tr>\n",
              "      <th>4</th>\n",
              "      <td>0.465160</td>\n",
              "      <td>0.369565</td>\n",
              "    </tr>\n",
              "    <tr>\n",
              "      <th>5</th>\n",
              "      <td>0.429781</td>\n",
              "      <td>0.380435</td>\n",
              "    </tr>\n",
              "    <tr>\n",
              "      <th>6</th>\n",
              "      <td>0.364773</td>\n",
              "      <td>0.293478</td>\n",
              "    </tr>\n",
              "    <tr>\n",
              "      <th>7</th>\n",
              "      <td>0.357693</td>\n",
              "      <td>0.282609</td>\n",
              "    </tr>\n",
              "    <tr>\n",
              "      <th>8</th>\n",
              "      <td>0.286004</td>\n",
              "      <td>0.239130</td>\n",
              "    </tr>\n",
              "    <tr>\n",
              "      <th>9</th>\n",
              "      <td>0.251705</td>\n",
              "      <td>0.163043</td>\n",
              "    </tr>\n",
              "    <tr>\n",
              "      <th>10</th>\n",
              "      <td>0.209243</td>\n",
              "      <td>0.163043</td>\n",
              "    </tr>\n",
              "    <tr>\n",
              "      <th>11</th>\n",
              "      <td>0.162574</td>\n",
              "      <td>0.086957</td>\n",
              "    </tr>\n",
              "    <tr>\n",
              "      <th>12</th>\n",
              "      <td>0.123930</td>\n",
              "      <td>0.021739</td>\n",
              "    </tr>\n",
              "    <tr>\n",
              "      <th>13</th>\n",
              "      <td>0.120049</td>\n",
              "      <td>0.032609</td>\n",
              "    </tr>\n",
              "    <tr>\n",
              "      <th>14</th>\n",
              "      <td>0.112119</td>\n",
              "      <td>0.195652</td>\n",
              "    </tr>\n",
              "    <tr>\n",
              "      <th>15</th>\n",
              "      <td>0.095733</td>\n",
              "      <td>0.032609</td>\n",
              "    </tr>\n",
              "    <tr>\n",
              "      <th>16</th>\n",
              "      <td>0.090938</td>\n",
              "      <td>0.021739</td>\n",
              "    </tr>\n",
              "    <tr>\n",
              "      <th>17</th>\n",
              "      <td>0.076122</td>\n",
              "      <td>0.054348</td>\n",
              "    </tr>\n",
              "    <tr>\n",
              "      <th>18</th>\n",
              "      <td>0.075865</td>\n",
              "      <td>0.000000</td>\n",
              "    </tr>\n",
              "    <tr>\n",
              "      <th>19</th>\n",
              "      <td>0.074756</td>\n",
              "      <td>0.000000</td>\n",
              "    </tr>\n",
              "    <tr>\n",
              "      <th>20</th>\n",
              "      <td>0.073459</td>\n",
              "      <td>0.010870</td>\n",
              "    </tr>\n",
              "    <tr>\n",
              "      <th>21</th>\n",
              "      <td>0.069035</td>\n",
              "      <td>0.021739</td>\n",
              "    </tr>\n",
              "    <tr>\n",
              "      <th>22</th>\n",
              "      <td>0.066136</td>\n",
              "      <td>0.010870</td>\n",
              "    </tr>\n",
              "    <tr>\n",
              "      <th>23</th>\n",
              "      <td>0.059609</td>\n",
              "      <td>0.032609</td>\n",
              "    </tr>\n",
              "    <tr>\n",
              "      <th>24</th>\n",
              "      <td>0.054592</td>\n",
              "      <td>0.043478</td>\n",
              "    </tr>\n",
              "    <tr>\n",
              "      <th>25</th>\n",
              "      <td>0.033571</td>\n",
              "      <td>0.010870</td>\n",
              "    </tr>\n",
              "    <tr>\n",
              "      <th>26</th>\n",
              "      <td>0.000000</td>\n",
              "      <td>0.032609</td>\n",
              "    </tr>\n",
              "  </tbody>\n",
              "</table>\n",
              "</div>"
            ],
            "text/plain": [
              "    Valor_Total  Quantidade De Representantes\n",
              "0      1.000000                      1.000000\n",
              "1      0.804005                      0.750000\n",
              "2      0.727021                      0.478261\n",
              "3      0.670451                      0.760870\n",
              "4      0.465160                      0.369565\n",
              "5      0.429781                      0.380435\n",
              "6      0.364773                      0.293478\n",
              "7      0.357693                      0.282609\n",
              "8      0.286004                      0.239130\n",
              "9      0.251705                      0.163043\n",
              "10     0.209243                      0.163043\n",
              "11     0.162574                      0.086957\n",
              "12     0.123930                      0.021739\n",
              "13     0.120049                      0.032609\n",
              "14     0.112119                      0.195652\n",
              "15     0.095733                      0.032609\n",
              "16     0.090938                      0.021739\n",
              "17     0.076122                      0.054348\n",
              "18     0.075865                      0.000000\n",
              "19     0.074756                      0.000000\n",
              "20     0.073459                      0.010870\n",
              "21     0.069035                      0.021739\n",
              "22     0.066136                      0.010870\n",
              "23     0.059609                      0.032609\n",
              "24     0.054592                      0.043478\n",
              "25     0.033571                      0.010870\n",
              "26     0.000000                      0.032609"
            ]
          },
          "execution_count": 54,
          "metadata": {},
          "output_type": "execute_result"
        }
      ],
      "source": [
        "dados_normalizados = pd.DataFrame(dados_normalizados)\n",
        "\n",
        "dados_normalizados.rename(columns= {0:'Valor_Total', 1: 'Quantidade De Representantes'}, inplace = True)\n",
        "\n",
        "dados_normalizados"
      ]
    },
    {
      "cell_type": "code",
      "execution_count": 55,
      "metadata": {
        "colab": {
          "base_uri": "https://localhost:8080/",
          "height": 387
        },
        "id": "e4gNFm119_r2",
        "outputId": "762e4fd3-4081-46ea-c4fc-c30f5db5ca92"
      },
      "outputs": [
        {
          "name": "stderr",
          "output_type": "stream",
          "text": [
            "No artists with labels found to put in legend.  Note that artists whose label start with an underscore are ignored when legend() is called with no argument.\n"
          ]
        },
        {
          "data": {
            "image/png": "[encoded data removed]",
            "text/plain": [
              "<Figure size 864x360 with 2 Axes>"
            ]
          },
          "metadata": {},
          "output_type": "display_data"
        }
      ],
      "source": [
        "fig, ax1 = plt.subplots()\n",
        "\n",
        "color = 'tab:blue'\n",
        "ax1.set_xlabel('Estados')\n",
        "ax1.set_ylabel('Gastos em Milhões de Reais', color = color)\n",
        "ax1.plot(auxiliar.sgUF, dados_normalizados.Valor_Total, color = color)\n",
        "ax1.tick_params(axis = 'y',labelcolor = color)\n",
        "\n",
        "ax2 = ax1.twinx()\n",
        " \n",
        "color = 'tab:orange'\n",
        "ax2.set_ylabel('Quantidade de Parlemantares por Estado', color = color, rotation = '270')\n",
        "ax2.plot(dados_normalizados['Quantidade De Representantes'], color = color)\n",
        "ax2.tick_params(axis = 'y',labelcolor = color)\n",
        "\n",
        "plt.gcf().set_size_inches(12,5)\n",
        "fig.tight_layout()\n",
        "plt.grid()\n",
        "plt.legend()\n",
        "plt.show()"
      ]
    },
    {
      "cell_type": "markdown",
      "metadata": {
        "id": "kvA3wXJk-JBb"
      },
      "source": [
        "### 10. Qual a média de gastos por partido?"
      ]
    },
    {
      "cell_type": "code",
      "execution_count": 56,
      "metadata": {
        "colab": {
          "base_uri": "https://localhost:8080/"
        },
        "id": "ZFldQcsk-MPJ",
        "outputId": "122896d5-b70c-4d2e-fa9c-a4b50c24b69f"
      },
      "outputs": [
        {
          "name": "stdout",
          "output_type": "stream",
          "text": [
            "O gasto médio por partido é de:                  vlrLiquido\n",
            "sgPartido                 \n",
            "PT             53101273.58\n",
            "PSL            38739174.80\n",
            "PL             36009565.01\n",
            "PP             34429101.14\n",
            "MDB            31505872.66\n",
            "PSD            30858143.15\n",
            "REPUBLICANOS   29649278.16\n",
            "PSDB           29144733.57\n",
            "PDT            25918297.00\n",
            "DEM            24800421.63\n",
            "PSB            23840979.53\n",
            "SOLIDARIEDADE  12705776.76\n",
            "PTB            11167849.03\n",
            "PROS            9237066.10\n",
            "PODE            8760995.95\n",
            "PCdoB           8024907.11\n",
            "PSC             7636683.06\n",
            "PSOL            6889210.31\n",
            "AVANTE          6566561.48\n",
            "CIDADANIA       5449976.65\n",
            "PATRIOTA        4999415.72\n",
            "PV              2525711.92\n",
            "NOVO            1653571.43\n",
            "PR              1218771.70\n",
            "REDE             815376.91\n",
            "PRB              621097.18\n",
            "S.PART.          608624.30\n",
            "PPS              218419.43\n",
            "PHS              180055.49\n",
            "PATRI            161737.83\n",
            "PPL               44925.75\n"
          ]
        }
      ],
      "source": [
        "gastos_partidos = df_copia[['sgPartido','vlrLiquido']].groupby(['sgPartido']).sum().sort_values('vlrLiquido', ascending = False)\n",
        "\n",
        "\n",
        "print('O gasto médio por partido é de: ', gastos_partidos) "
      ]
    },
    {
      "cell_type": "markdown",
      "metadata": {
        "id": "uuFjdyby-_8D"
      },
      "source": [
        "### 11. Quais são os partidos que mais e que menos consumiram a cota parlamentar?"
      ]
    },
    {
      "cell_type": "code",
      "execution_count": 57,
      "metadata": {
        "colab": {
          "base_uri": "https://localhost:8080/",
          "height": 363
        },
        "id": "6jO5CP-N_D1b",
        "outputId": "db507eb1-ab23-4557-c00c-cf939e405ace"
      },
      "outputs": [
        {
          "data": {
            "text/html": [
              "<style type=\"text/css\">\n",
              "#T_58cf7_row0_col1 {\n",
              "  background-color: #67000d;\n",
              "  color: #f1f1f1;\n",
              "}\n",
              "#T_58cf7_row1_col1 {\n",
              "  background-color: #fb6c4c;\n",
              "  color: #f1f1f1;\n",
              "}\n",
              "#T_58cf7_row2_col1 {\n",
              "  background-color: #fc8b6b;\n",
              "  color: #f1f1f1;\n",
              "}\n",
              "#T_58cf7_row3_col1 {\n",
              "  background-color: #fc9d7f;\n",
              "  color: #000000;\n",
              "}\n",
              "#T_58cf7_row4_col1 {\n",
              "  background-color: #fcbfa7;\n",
              "  color: #000000;\n",
              "}\n",
              "#T_58cf7_row5_col1 {\n",
              "  background-color: #fdc6b0;\n",
              "  color: #000000;\n",
              "}\n",
              "#T_58cf7_row6_col1 {\n",
              "  background-color: #fdd3c1;\n",
              "  color: #000000;\n",
              "}\n",
              "#T_58cf7_row7_col1 {\n",
              "  background-color: #fed8c7;\n",
              "  color: #000000;\n",
              "}\n",
              "#T_58cf7_row8_col1 {\n",
              "  background-color: #ffeee7;\n",
              "  color: #000000;\n",
              "}\n",
              "#T_58cf7_row9_col1 {\n",
              "  background-color: #fff5f0;\n",
              "  color: #000000;\n",
              "}\n",
              "</style>\n",
              "<table id=\"T_58cf7\">\n",
              "  <thead>\n",
              "    <tr>\n",
              "      <th class=\"blank level0\" >&nbsp;</th>\n",
              "      <th id=\"T_58cf7_level0_col0\" class=\"col_heading level0 col0\" >sgPartido</th>\n",
              "      <th id=\"T_58cf7_level0_col1\" class=\"col_heading level0 col1\" >vlrLiquido</th>\n",
              "    </tr>\n",
              "  </thead>\n",
              "  <tbody>\n",
              "    <tr>\n",
              "      <th id=\"T_58cf7_level0_row0\" class=\"row_heading level0 row0\" >0</th>\n",
              "      <td id=\"T_58cf7_row0_col0\" class=\"data row0 col0\" >PT</td>\n",
              "      <td id=\"T_58cf7_row0_col1\" class=\"data row0 col1\" >R$ 53101273.58</td>\n",
              "    </tr>\n",
              "    <tr>\n",
              "      <th id=\"T_58cf7_level0_row1\" class=\"row_heading level0 row1\" >1</th>\n",
              "      <td id=\"T_58cf7_row1_col0\" class=\"data row1 col0\" >PSL</td>\n",
              "      <td id=\"T_58cf7_row1_col1\" class=\"data row1 col1\" >R$ 38739174.80</td>\n",
              "    </tr>\n",
              "    <tr>\n",
              "      <th id=\"T_58cf7_level0_row2\" class=\"row_heading level0 row2\" >2</th>\n",
              "      <td id=\"T_58cf7_row2_col0\" class=\"data row2 col0\" >PL</td>\n",
              "      <td id=\"T_58cf7_row2_col1\" class=\"data row2 col1\" >R$ 36009565.01</td>\n",
              "    </tr>\n",
              "    <tr>\n",
              "      <th id=\"T_58cf7_level0_row3\" class=\"row_heading level0 row3\" >3</th>\n",
              "      <td id=\"T_58cf7_row3_col0\" class=\"data row3 col0\" >PP</td>\n",
              "      <td id=\"T_58cf7_row3_col1\" class=\"data row3 col1\" >R$ 34429101.14</td>\n",
              "    </tr>\n",
              "    <tr>\n",
              "      <th id=\"T_58cf7_level0_row4\" class=\"row_heading level0 row4\" >4</th>\n",
              "      <td id=\"T_58cf7_row4_col0\" class=\"data row4 col0\" >MDB</td>\n",
              "      <td id=\"T_58cf7_row4_col1\" class=\"data row4 col1\" >R$ 31505872.66</td>\n",
              "    </tr>\n",
              "    <tr>\n",
              "      <th id=\"T_58cf7_level0_row5\" class=\"row_heading level0 row5\" >5</th>\n",
              "      <td id=\"T_58cf7_row5_col0\" class=\"data row5 col0\" >PSD</td>\n",
              "      <td id=\"T_58cf7_row5_col1\" class=\"data row5 col1\" >R$ 30858143.15</td>\n",
              "    </tr>\n",
              "    <tr>\n",
              "      <th id=\"T_58cf7_level0_row6\" class=\"row_heading level0 row6\" >6</th>\n",
              "      <td id=\"T_58cf7_row6_col0\" class=\"data row6 col0\" >REPUBLICANOS</td>\n",
              "      <td id=\"T_58cf7_row6_col1\" class=\"data row6 col1\" >R$ 29649278.16</td>\n",
              "    </tr>\n",
              "    <tr>\n",
              "      <th id=\"T_58cf7_level0_row7\" class=\"row_heading level0 row7\" >7</th>\n",
              "      <td id=\"T_58cf7_row7_col0\" class=\"data row7 col0\" >PSDB</td>\n",
              "      <td id=\"T_58cf7_row7_col1\" class=\"data row7 col1\" >R$ 29144733.57</td>\n",
              "    </tr>\n",
              "    <tr>\n",
              "      <th id=\"T_58cf7_level0_row8\" class=\"row_heading level0 row8\" >8</th>\n",
              "      <td id=\"T_58cf7_row8_col0\" class=\"data row8 col0\" >PDT</td>\n",
              "      <td id=\"T_58cf7_row8_col1\" class=\"data row8 col1\" >R$ 25918297.00</td>\n",
              "    </tr>\n",
              "    <tr>\n",
              "      <th id=\"T_58cf7_level0_row9\" class=\"row_heading level0 row9\" >9</th>\n",
              "      <td id=\"T_58cf7_row9_col0\" class=\"data row9 col0\" >DEM</td>\n",
              "      <td id=\"T_58cf7_row9_col1\" class=\"data row9 col1\" >R$ 24800421.63</td>\n",
              "    </tr>\n",
              "  </tbody>\n",
              "</table>\n"
            ],
            "text/plain": [
              "<pandas.io.formats.style.Styler at 0x1ebd6ea1e40>"
            ]
          },
          "execution_count": 57,
          "metadata": {},
          "output_type": "execute_result"
        }
      ],
      "source": [
        "gastos_partidos = df_copia[['sgPartido','vlrLiquido']].groupby(['sgPartido']).sum().sort_values('vlrLiquido', ascending = False)\n",
        "\n",
        "gastos_partidos = gastos_partidos.reset_index().head(10)\n",
        "\n",
        "gastos_partidos.style.format({'vlrLiquido':'R$ {:.2f}'}).background_gradient(cmap = 'Reds')"
      ]
    },
    {
      "cell_type": "code",
      "execution_count": 58,
      "metadata": {
        "colab": {
          "base_uri": "https://localhost:8080/",
          "height": 421
        },
        "id": "jgwsjyE-_G3K",
        "outputId": "3b7d4819-f1b7-4f0b-970c-8768b248734f"
      },
      "outputs": [
        {
          "name": "stdout",
          "output_type": "stream",
          "text": [
            "\n"
          ]
        },
        {
          "data": {
            "image/png": "[encoded data removed]",
            "text/plain": [
              "<Figure size 1080x432 with 1 Axes>"
            ]
          },
          "metadata": {
            "needs_background": "light"
          },
          "output_type": "display_data"
        }
      ],
      "source": [
        "plt.figure(figsize=(15,6))\n",
        "x = gastos_partidos.sgPartido\n",
        "y = gastos_partidos['vlrLiquido']/1000000\n",
        "plt.grid()\n",
        "plt.title('Despesa Total por Partido')\n",
        "plt.xlabel('Partidos')\n",
        "plt.ylabel('Valores em Milhões de Reais ')\n",
        "plt.bar(x,y)\n",
        "print()"
      ]
    },
    {
      "cell_type": "code",
      "execution_count": 59,
      "metadata": {
        "colab": {
          "base_uri": "https://localhost:8080/",
          "height": 363
        },
        "id": "XaycfFUs_Nyd",
        "outputId": "60bbaa10-c3cc-4fc7-9f38-637d7ab0cc2d"
      },
      "outputs": [
        {
          "data": {
            "text/html": [
              "<style type=\"text/css\">\n",
              "#T_0aa3b_row0_col1 {\n",
              "  background-color: #fff5f0;\n",
              "  color: #000000;\n",
              "}\n",
              "#T_0aa3b_row1_col1 {\n",
              "  background-color: #ffede5;\n",
              "  color: #000000;\n",
              "}\n",
              "#T_0aa3b_row2_col1 {\n",
              "  background-color: #ffece4;\n",
              "  color: #000000;\n",
              "}\n",
              "#T_0aa3b_row3_col1 {\n",
              "  background-color: #feeae0;\n",
              "  color: #000000;\n",
              "}\n",
              "#T_0aa3b_row4_col1 {\n",
              "  background-color: #fcc2aa;\n",
              "  color: #000000;\n",
              "}\n",
              "#T_0aa3b_row5_col1 {\n",
              "  background-color: #fcc1a8;\n",
              "  color: #000000;\n",
              "}\n",
              "#T_0aa3b_row6_col1 {\n",
              "  background-color: #fca78b;\n",
              "  color: #000000;\n",
              "}\n",
              "#T_0aa3b_row7_col1 {\n",
              "  background-color: #fb7252;\n",
              "  color: #f1f1f1;\n",
              "}\n",
              "#T_0aa3b_row8_col1 {\n",
              "  background-color: #e83429;\n",
              "  color: #f1f1f1;\n",
              "}\n",
              "#T_0aa3b_row9_col1 {\n",
              "  background-color: #67000d;\n",
              "  color: #f1f1f1;\n",
              "}\n",
              "</style>\n",
              "<table id=\"T_0aa3b\">\n",
              "  <thead>\n",
              "    <tr>\n",
              "      <th class=\"blank level0\" >&nbsp;</th>\n",
              "      <th id=\"T_0aa3b_level0_col0\" class=\"col_heading level0 col0\" >sgPartido</th>\n",
              "      <th id=\"T_0aa3b_level0_col1\" class=\"col_heading level0 col1\" >vlrLiquido</th>\n",
              "    </tr>\n",
              "  </thead>\n",
              "  <tbody>\n",
              "    <tr>\n",
              "      <th id=\"T_0aa3b_level0_row0\" class=\"row_heading level0 row0\" >0</th>\n",
              "      <td id=\"T_0aa3b_row0_col0\" class=\"data row0 col0\" >PPL</td>\n",
              "      <td id=\"T_0aa3b_row0_col1\" class=\"data row0 col1\" >R$ 44925.75</td>\n",
              "    </tr>\n",
              "    <tr>\n",
              "      <th id=\"T_0aa3b_level0_row1\" class=\"row_heading level0 row1\" >1</th>\n",
              "      <td id=\"T_0aa3b_row1_col0\" class=\"data row1 col0\" >PATRI</td>\n",
              "      <td id=\"T_0aa3b_row1_col1\" class=\"data row1 col1\" >R$ 161737.83</td>\n",
              "    </tr>\n",
              "    <tr>\n",
              "      <th id=\"T_0aa3b_level0_row2\" class=\"row_heading level0 row2\" >2</th>\n",
              "      <td id=\"T_0aa3b_row2_col0\" class=\"data row2 col0\" >PHS</td>\n",
              "      <td id=\"T_0aa3b_row2_col1\" class=\"data row2 col1\" >R$ 180055.49</td>\n",
              "    </tr>\n",
              "    <tr>\n",
              "      <th id=\"T_0aa3b_level0_row3\" class=\"row_heading level0 row3\" >3</th>\n",
              "      <td id=\"T_0aa3b_row3_col0\" class=\"data row3 col0\" >PPS</td>\n",
              "      <td id=\"T_0aa3b_row3_col1\" class=\"data row3 col1\" >R$ 218419.43</td>\n",
              "    </tr>\n",
              "    <tr>\n",
              "      <th id=\"T_0aa3b_level0_row4\" class=\"row_heading level0 row4\" >4</th>\n",
              "      <td id=\"T_0aa3b_row4_col0\" class=\"data row4 col0\" >S.PART.</td>\n",
              "      <td id=\"T_0aa3b_row4_col1\" class=\"data row4 col1\" >R$ 608624.30</td>\n",
              "    </tr>\n",
              "    <tr>\n",
              "      <th id=\"T_0aa3b_level0_row5\" class=\"row_heading level0 row5\" >5</th>\n",
              "      <td id=\"T_0aa3b_row5_col0\" class=\"data row5 col0\" >PRB</td>\n",
              "      <td id=\"T_0aa3b_row5_col1\" class=\"data row5 col1\" >R$ 621097.18</td>\n",
              "    </tr>\n",
              "    <tr>\n",
              "      <th id=\"T_0aa3b_level0_row6\" class=\"row_heading level0 row6\" >6</th>\n",
              "      <td id=\"T_0aa3b_row6_col0\" class=\"data row6 col0\" >REDE</td>\n",
              "      <td id=\"T_0aa3b_row6_col1\" class=\"data row6 col1\" >R$ 815376.91</td>\n",
              "    </tr>\n",
              "    <tr>\n",
              "      <th id=\"T_0aa3b_level0_row7\" class=\"row_heading level0 row7\" >7</th>\n",
              "      <td id=\"T_0aa3b_row7_col0\" class=\"data row7 col0\" >PR</td>\n",
              "      <td id=\"T_0aa3b_row7_col1\" class=\"data row7 col1\" >R$ 1218771.70</td>\n",
              "    </tr>\n",
              "    <tr>\n",
              "      <th id=\"T_0aa3b_level0_row8\" class=\"row_heading level0 row8\" >8</th>\n",
              "      <td id=\"T_0aa3b_row8_col0\" class=\"data row8 col0\" >NOVO</td>\n",
              "      <td id=\"T_0aa3b_row8_col1\" class=\"data row8 col1\" >R$ 1653571.43</td>\n",
              "    </tr>\n",
              "    <tr>\n",
              "      <th id=\"T_0aa3b_level0_row9\" class=\"row_heading level0 row9\" >9</th>\n",
              "      <td id=\"T_0aa3b_row9_col0\" class=\"data row9 col0\" >PV</td>\n",
              "      <td id=\"T_0aa3b_row9_col1\" class=\"data row9 col1\" >R$ 2525711.92</td>\n",
              "    </tr>\n",
              "  </tbody>\n",
              "</table>\n"
            ],
            "text/plain": [
              "<pandas.io.formats.style.Styler at 0x1ebd6f15bd0>"
            ]
          },
          "execution_count": 59,
          "metadata": {},
          "output_type": "execute_result"
        }
      ],
      "source": [
        "gastos_partidos2 = df_copia[['sgPartido','vlrLiquido']].groupby(['sgPartido']).sum().sort_values('vlrLiquido', ascending = True)\n",
        "\n",
        "gastos_partidos2 = gastos_partidos2.reset_index().head(10)\n",
        "\n",
        "gastos_partidos2.style.format({'vlrLiquido':'R$ {:.2f}'}).background_gradient(cmap = 'Reds')"
      ]
    },
    {
      "cell_type": "code",
      "execution_count": 60,
      "metadata": {
        "colab": {
          "base_uri": "https://localhost:8080/",
          "height": 421
        },
        "id": "l5jhz9B9_RRq",
        "outputId": "addcc25e-e3fd-498e-f893-ee8bbe675a57"
      },
      "outputs": [
        {
          "name": "stdout",
          "output_type": "stream",
          "text": [
            "\n"
          ]
        },
        {
          "data": {
            "image/png": "[encoded data removed]",
            "text/plain": [
              "<Figure size 1080x432 with 1 Axes>"
            ]
          },
          "metadata": {
            "needs_background": "light"
          },
          "output_type": "display_data"
        }
      ],
      "source": [
        "plt.figure(figsize=(15,6))\n",
        "x = gastos_partidos2.sgPartido\n",
        "y = gastos_partidos2['vlrLiquido']/1000000\n",
        "plt.grid()\n",
        "plt.title('Despesa Total por Partido')\n",
        "plt.xlabel('Partidos')\n",
        "plt.ylabel('Valores em Milhões de Reais ')\n",
        "plt.bar(x,y)\n",
        "print()"
      ]
    },
    {
      "cell_type": "markdown",
      "metadata": {
        "id": "ncKCMbRx_ZNV"
      },
      "source": [
        "### 12. Há alguma correlação entre a quantidade de parlamentares por partido e o valor total dos gastos?"
      ]
    },
    {
      "cell_type": "code",
      "execution_count": 61,
      "metadata": {
        "id": "4AKHOYSW_asl"
      },
      "outputs": [],
      "source": [
        "gastos_uftotal = df_copia[['sgPartido' , 'vlrLiquido']].groupby('sgPartido').sum().sort_values('vlrLiquido', ascending = False).round(2)\n",
        "\n",
        "gastos_uftotal.rename(columns = {'vlrLiquido':'Valor_Total'}, inplace = True)\n",
        "\n",
        "gastos_uftotal = gastos_uftotal.reset_index()\n",
        "\n",
        "parlamentares_uf = df_copia[['txNomeParlamentar', 'sgPartido']].drop_duplicates()\n",
        "\n",
        "parlamentares_uf = parlamentares_uf.groupby('sgPartido').count().sort_values('txNomeParlamentar', ascending = False)\n",
        "\n",
        "parlamentares_uf.rename(columns = {'txNomeParlamentar':'Quantidade De Representantes'}, inplace = True)\n",
        "\n",
        "parlamentares_uf = parlamentares_uf.reset_index()\n",
        "\n",
        "maximo = parlamentares_uf['Quantidade De Representantes'].max()"
      ]
    },
    {
      "cell_type": "code",
      "execution_count": 62,
      "metadata": {
        "colab": {
          "base_uri": "https://localhost:8080/",
          "height": 479
        },
        "id": "83tKW6n1_lQC",
        "outputId": "37f86eea-e653-4b06-ef88-5ba0264d29cd"
      },
      "outputs": [
        {
          "data": {
            "image/png": "[encoded data removed]",
            "text/plain": [
              "<Figure size 1440x504 with 1 Axes>"
            ]
          },
          "metadata": {
            "needs_background": "light"
          },
          "output_type": "display_data"
        },
        {
          "data": {
            "image/png": "[encoded data removed]",
            "text/plain": [
              "<Figure size 1440x504 with 1 Axes>"
            ]
          },
          "metadata": {
            "needs_background": "light"
          },
          "output_type": "display_data"
        }
      ],
      "source": [
        "y = np.array(gastos_uftotal['Valor_Total']/1000000)\n",
        "x = np.array(gastos_uftotal.sgPartido)\n",
        "plt.figure(figsize=(20,7))\n",
        "plt.subplot(1,2,1)\n",
        "plt.xticks(gastos_uftotal.index, rotation = 90)\n",
        "plt.grid(axis= 'y')\n",
        "plt.bar(x,y)\n",
        "plt.title('Despesas em Milhões de Reais por Partido')\n",
        "\n",
        "x = np.array(parlamentares_uf.sgPartido)\n",
        "y = np.array(parlamentares_uf['Quantidade De Representantes'])\n",
        "plt.figure(figsize=(20,7))\n",
        "plt.subplot(1,2,2)\n",
        "plt.xticks(parlamentares_uf.index, rotation = 90)\n",
        "plt.bar(x,y)\n",
        "plt.grid(axis= 'x')\n",
        "plt.title('Número de Deputado por Partido')\n",
        "plt.show()"
      ]
    },
    {
      "cell_type": "markdown",
      "metadata": {},
      "source": [
        "## Extra - 1 . Qual foi o CNPJ que recebeu mais pagamentos de parlamentares ?"
      ]
    },
    {
      "cell_type": "code",
      "execution_count": null,
      "metadata": {},
      "outputs": [],
      "source": [
        "#Agrupando por CNPJ/CPF e somando os valores dos documentos e ordenando do maior para o menor e capturando o top five\n",
        "df_2.groupby(['txtCNPJCPF'])['vlrDocumento'].sum().sort_values(ascending = False).head(5)"
      ]
    },
    {
      "cell_type": "markdown",
      "metadata": {},
      "source": [
        "## Extra - 2. Em qual mês foram emitidos mais notas fiscais no ano de 2020 ?"
      ]
    },
    {
      "cell_type": "code",
      "execution_count": null,
      "metadata": {},
      "outputs": [],
      "source": [
        "#Agrupando por mês e contando a quantidade de notas emitidas ordenando do maior para o menor e capturando apenas o 1 elemento\n",
        "df2020.groupby(['numMes'])['datEmissao'].count().sort_values(ascending = False).head(1)"
      ]
    }
  ],
  "metadata": {
    "colab": {
      "collapsed_sections": [],
      "include_colab_link": true,
      "name": "notebook1.ipynb",
      "provenance": []
    },
    "interpreter": {
      "hash": "1899763f7b86cc3880a639718ab7c3bc6becf25acf3b993d363e255dc1991165"
    },
    "kernelspec": {
      "display_name": "Python 3",
      "language": "python",
      "name": "python3"
    },
    "language_info": {
      "codemirror_mode": {
        "name": "ipython",
        "version": 3
      },
      "file_extension": ".py",
      "mimetype": "text/x-python",
      "name": "python",
      "nbconvert_exporter": "python",
      "pygments_lexer": "ipython3",
      "version": "3.10.2"
    }
  },
  "nbformat": 4,
  "nbformat_minor": 0
}
