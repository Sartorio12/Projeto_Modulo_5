{
  "cells": [
    {
      "cell_type": "markdown",
      "metadata": {
        "id": "view-in-github",
        "colab_type": "text"
      },
      "source": [
        "<a href=\"https://colab.research.google.com/github/Sartorio12/Projeto_Modulo_5/blob/main/notebook1.ipynb\" target=\"_parent\"><img src=\"https://colab.research.google.com/assets/colab-badge.svg\" alt=\"Open In Colab\"/></a>"
      ]
    },
    {
      "cell_type": "code",
      "execution_count": null,
      "metadata": {
        "id": "6X5ldIquTfk9"
      },
      "outputs": [],
      "source": [
        "# Importando bibliotecas pandas e nunmpy\n",
        "\n",
        "import pandas as pd\n",
        "import numpy as np\n",
        "import matplotlib.pyplot as plt"
      ]
    },
    {
      "cell_type": "markdown",
      "metadata": {
        "id": "i7R8bFEPTflC"
      },
      "source": [
        "### Limpeza dos dados ( Analu e Letícia )"
      ]
    },
    {
      "cell_type": "code",
      "execution_count": null,
      "metadata": {
        "id": "n1PvipkSTflO"
      },
      "outputs": [],
      "source": [
        "# lendo os arquivos e numero de linhas e colunas\n",
        "df1 = pd.read_csv('Ano-2019.csv', sep=';')\n",
        "df1.shape"
      ]
    },
    {
      "cell_type": "code",
      "source": [
        "df2 = pd.read_csv('Ano-2020.csv', sep=';')\n",
        "df2.shape"
      ],
      "metadata": {
        "id": "D8-slADoW1ze"
      },
      "execution_count": null,
      "outputs": []
    },
    {
      "cell_type": "code",
      "source": [
        "df3 = pd.read_csv('Ano-2021.csv', sep=';')\n",
        "df3.shape"
      ],
      "metadata": {
        "id": "t9dgZcVQW2Mv"
      },
      "execution_count": null,
      "outputs": []
    },
    {
      "cell_type": "code",
      "source": [
        "#Concatenando os 3 arquivos em um único\n",
        "df_unico = pd.concat([df1,df2,df3])\n",
        "df_unico.shape"
      ],
      "metadata": {
        "id": "eZKq04yqXV4G"
      },
      "execution_count": null,
      "outputs": []
    },
    {
      "cell_type": "code",
      "source": [
        "# Criando uma cópia do dataframe como boa prática\n",
        "df_copia = df_unico.copy()\n",
        "df_copia"
      ],
      "metadata": {
        "id": "oWpgPnQ1XWtE"
      },
      "execution_count": null,
      "outputs": []
    },
    {
      "cell_type": "code",
      "source": [
        "# Nome das colunas\n",
        "df_copia.columns"
      ],
      "metadata": {
        "id": "cs7mB3tNXZ7Y"
      },
      "execution_count": null,
      "outputs": []
    },
    {
      "cell_type": "code",
      "source": [
        "# Tipo de dado de cada coluna\n",
        "df_copia.dtypes"
      ],
      "metadata": {
        "id": "dnmX5tRsXhbX"
      },
      "execution_count": null,
      "outputs": []
    },
    {
      "cell_type": "code",
      "source": [
        "# Vendo todas as informações\n",
        "df_copia.info()"
      ],
      "metadata": {
        "id": "L8gbslV8Xh7G"
      },
      "execution_count": null,
      "outputs": []
    },
    {
      "cell_type": "markdown",
      "source": [
        "observação: fizemos a consulta e achamos alguns valores nulos em algumas colunas mas achamos que elas não são relevantes pras consultas do nosso projeto.\n",
        "è preciso analisar em grupo se devemos removê-las ou mantê-las."
      ],
      "metadata": {
        "id": "Die2K1p9XrnY"
      }
    },
    {
      "cell_type": "code",
      "source": [
        "# Procurando numero de dados nulos em percentual\n",
        "round(df_copia.isnull().mean()*100,2)"
      ],
      "metadata": {
        "id": "Bk7JsqaMXnB1"
      },
      "execution_count": null,
      "outputs": []
    },
    {
      "cell_type": "code",
      "source": [
        "# o describe foi feito pra destacar os valores negativos presentes nas colunas:'vlrDocumento' e 'vlrLiquido' \n",
        "df_copia.describe()"
      ],
      "metadata": {
        "id": "KFgu2unNXnlN"
      },
      "execution_count": null,
      "outputs": []
    },
    {
      "cell_type": "markdown",
      "source": [
        "observação: Achamos importante explicar o que são esses valores negativos ( compensação de passagens aéreas) conforme dicionário do arquivo.\n",
        "https://www2.camara.leg.br/transparencia/cota-para-exercicio-da-atividade-parlamentar/explicacoes-sobre-o-formato-dos-arquivos-xml"
      ],
      "metadata": {
        "id": "OflcX1LRZfSP"
      }
    },
    {
      "cell_type": "code",
      "source": [
        "# Visualizando as 5 primeiras linhas do dataframe\n",
        "df_copia.head()"
      ],
      "metadata": {
        "id": "3aIl9ufhXyuW"
      },
      "execution_count": null,
      "outputs": []
    },
    {
      "cell_type": "code",
      "source": [
        "# Visualizando as cinco últimas linhas do dataframe\n",
        "df_copia.tail()"
      ],
      "metadata": {
        "id": "pu1MeZ8PX0p9"
      },
      "execution_count": null,
      "outputs": []
    },
    {
      "cell_type": "code",
      "source": [
        "# Buscamos amostra aleatória de cinco linhas\n",
        "df_copia.sample(5)"
      ],
      "metadata": {
        "id": "o63c7OS7X3pk"
      },
      "execution_count": null,
      "outputs": []
    },
    {
      "cell_type": "code",
      "source": [
        "# Essa consulta fizemos um novo df, filtrando na coluna 'txtDescricao' valores diferentes de 'PASSAGEM AÉREA - RPA'  e 'PASSAGEM AÉREA - SIGEPA' e a partir desse novo df fazer os cálculos de despesas.\n",
        "valores = df_copia[(df_copia['txtDescricao'] != 'PASSAGEM AÉREA - RPA')&(df_copia['txtDescricao'] != 'PASSAGEM AÉREA - SIGEPA')]\n",
        "valores['txtDescricao'].unique()\n",
        "valores.vlrLiquido"
      ],
      "metadata": {
        "id": "Y0Ld6i5VX5EP"
      },
      "execution_count": null,
      "outputs": []
    },
    {
      "cell_type": "code",
      "source": [
        "# os dois valores negativos da coluna 'VrlLiquido'\n",
        "valores.query('vlrLiquido < 0')['vlrLiquido']"
      ],
      "metadata": {
        "id": "I10CR2QeZBSV"
      },
      "execution_count": null,
      "outputs": []
    },
    {
      "cell_type": "code",
      "source": [
        "# Convertemos a coluna datEmissao de object para datatime e colocamos só pra mostrar o formato dia/mes/ano pq o horário é irrelevante para as consultas\n",
        "df_copia['datEmissao'] = pd.to_datetime(df_copia['datEmissao'], format = '%Y/%m/%d')\n",
        "df_copia['datEmissao']"
      ],
      "metadata": {
        "id": "vLCzhibdZRFE"
      },
      "execution_count": null,
      "outputs": []
    },
    {
      "cell_type": "code",
      "source": [
        "#Conferindo se o type da data foi transformado\n",
        "df_copia.dtypes"
      ],
      "metadata": {
        "id": "dCWjhkYqZUUE"
      },
      "execution_count": null,
      "outputs": []
    },
    {
      "cell_type": "markdown",
      "metadata": {
        "id": "Y1lAHDifTflS"
      },
      "source": [
        "### Análise dos DataFrames ( Harão e Jonathas)"
      ]
    }
  ],
  "metadata": {
    "interpreter": {
      "hash": "1899763f7b86cc3880a639718ab7c3bc6becf25acf3b993d363e255dc1991165"
    },
    "kernelspec": {
      "display_name": "Python 3.10.2 64-bit",
      "language": "python",
      "name": "python3"
    },
    "language_info": {
      "codemirror_mode": {
        "name": "ipython",
        "version": 3
      },
      "file_extension": ".py",
      "mimetype": "text/x-python",
      "name": "python",
      "nbconvert_exporter": "python",
      "pygments_lexer": "ipython3",
      "version": "3.10.2"
    },
    "orig_nbformat": 4,
    "colab": {
      "name": "notebook1.ipynb",
      "provenance": [],
      "collapsed_sections": [],
      "include_colab_link": true
    }
  },
  "nbformat": 4,
  "nbformat_minor": 0
}