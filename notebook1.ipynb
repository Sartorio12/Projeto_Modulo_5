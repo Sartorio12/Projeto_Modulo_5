{
  "cells": [
    {
      "cell_type": "markdown",
      "metadata": {
        "id": "view-in-github",
        "colab_type": "text"
      },
      "source": [
        "<a href=\"https://colab.research.google.com/github/Sartorio12/Projeto_Modulo_5/blob/main/notebook1.ipynb\" target=\"_parent\"><img src=\"https://colab.research.google.com/assets/colab-badge.svg\" alt=\"Open In Colab\"/></a>"
      ]
    },
    {
      "cell_type": "markdown",
      "metadata": {
        "id": "w8Pkkz7384Q5"
      },
      "source": [
        "# <center>Projeto Final do Módulo V</center>\n",
        "<center> Um breve estudo sobre gastos parlamentares Brasileiros\n",
        "\n",
        "<center><img src='https://i.imgur.com/QLJaHpa.png' style=\"width:200px\">\n",
        "\n",
        "<center><a href=\"https://colab.research.google.com/github/Sartorio12/Projeto_Modulo_5/blob/main/notebook1.ipynb\" target=\"_parent\"><img src=\"https://colab.research.google.com/assets/colab-badge.svg\" alt=\"Open In Colab\"/></a>\n",
        "\n",
        "**Grupo 5:** <a href=\"https://github.com/analumf\" target=\"_blank\">Analu Francisco</a> ; <a href=\"https://github.com/leticiafelippe\" target=\"_blank\">Letícia Felippe</a> ; <a href=\"https://github.com/sartorio12\" target=\"_blank\">Mateus Sartorio</a> ; <a href=\"www.linkedin.com/in/mateus-sartorio\" target=\"blank\">Mateus Sartório</a> ; <a href=\"https://github.com/hara0-tavares\" target=\"_blank\">Harão Tavares</a> ; <a href=\"https://github.com/jonathaslkc\" target=\"_blank\">Jonathas Carvalho</a>\n",
        "\n"
      ]
    },
    {
      "cell_type": "markdown",
      "metadata": {
        "id": "hytt2A2k84Q9"
      },
      "source": [
        "<center><img src='https://i.imgur.com/QadqCNH.jpg' style=\"width:600px\">\n",
        "<center>Fonte: Agência Câmara de Notícias — Roque de Sá/Agência Senado"
      ]
    },
    {
      "cell_type": "markdown",
      "metadata": {
        "id": "2QqPkbsd84Q-"
      },
      "source": [
        "---\n",
        "\n",
        "# **1.** Sobre o estudo e objetivos"
      ]
    },
    {
      "cell_type": "markdown",
      "metadata": {
        "id": "WpcYUhQ884Q_"
      },
      "source": [
        "O que você imagina quando ouve o conceito **\"Cota Parlamentar\"** ou **\"Cota para o Exercício da Atividade Parlamentar (CEAP)\"**?\n",
        "\n",
        "Você sabia que é através da **CEAP** que deputados e senadores custeiam suas despesas em atividades parlamentares? O mais interessante disso, é que os dados da CEAP que iremos analisar hoje são abertos e podem ser acessados por qualquer pesso, ou seja, qualquer pessoa pode ver como os deputados e senadores utilizam essse tipo de recurso. \n",
        "\n",
        "Apesar de cobrir uma quantidade grande de despesas, os gastos com a CEAP devem seguir uma série de regras definidas pelo Ato da Mesa 43/2009. Isso quer dizer que os parlamentares não podem utilizar esses recursos de qualquer maneira. Alguns exemplos de gastos vedados são a aquisição de gêneros alimentícios (ex.: o parlamentar pode gastar com as suas refeições mas não pode comprar carne para o churrasco no fim de semana), gastos de caráter eleitoral e gastos com a participação em cursos de educação básica, graduação e pós-graduação.\n",
        "\n",
        "Além disso, como citado anteriormente, a CEAP é destinada a custear gastos exclusivamente vinculados ao exercício da atividade parlamentar, o que veda o seu uso para o benefício de terceiros, como por exemplo, o pagamento de refeições para outras pessoas além do próprio parlamentar.\n",
        "Apesar de todas essas regras, a fiscalização desses gastos é bastante falha, sendo comum o surgimento de denúncias sobre irregularidades.\n",
        "\n",
        "Neste cenário surgiu um projeto chamado Operação Serenata de Amor ( https://serenata.ai/ ), que tem como objetivo utilizar ferramentas de ciência de dados para fiscalizar gastos públicos e compartilhar informações relevantes com o público. O projeto tem uma série de módulos. Alguns deles são responsáveis por baixar e limpar os dados, outros por identificar irregularidades e por fim existem alguns módulos responsáveis pela divulgação de eventuais alertas de irregularidades. Um desses módulos de divulgação é o bot @RosieDaSerenata, responsável por publicar alertas de irregularidades no Twitter.\n",
        "\n",
        "<center><img src='https://i.imgur.com/AjyWlf1.jpg'>"
      ]
    },
    {
      "cell_type": "markdown",
      "metadata": {
        "id": "qXuQYpmx84RB"
      },
      "source": [
        "**É sobre isso que vamos tratar nesta análise, que tem dois focos principais:**\n",
        "- *Demonstrar como investigaremos esses dados utilizando Python.*\n",
        "- *Elaborar conceitos a respeito da utilização da CEAP nos últimos 3 anos, com destaques no cenário de pandemia(COVID-19).*\n",
        "\n",
        "#### <center> **Nós do grupo 5 esperamos que a leitura desse notebook seja esclarecedora e útil :)**"
      ]
    },
    {
      "cell_type": "markdown",
      "metadata": {
        "id": "zzvSqRuh84RB"
      },
      "source": [
        "# **2.** Começando a nossa análise"
      ]
    },
    {
      "cell_type": "markdown",
      "metadata": {
        "id": "DYBCfql084RC"
      },
      "source": [
        "Essa parte será um pouco teórica, pois nela exibiremos um pouco sobre a limpeza dos dados coletados no site da Câmara. Caso você queira somente acompanhar quais foram as nossas deduções baseadas nessas informações, pode pular para a parte X ( Preciso preencher a parte ).\n",
        "\n",
        "*Antes de mais nada, vamos apresentar um glossário sobre o DataSet:*\n",
        "\n",
        "- `Nome Parlamentar(txNomeParlamentar)` :  *Nome adotado pelo Parlamentar ao tomar posse do seu mandato.*\n",
        "- `ideCadastro(Identificador Único do Parlamentar)` : *Número que identifica unicamente um deputado federal na CD.*\n",
        "- `nuCarteiraParlamentar(Número da Carteira Parlamentar)` : *Documento usado para identificar um deputado federal na CD.*\n",
        "- `nuLegislatura(Número da  Legislatura)` : *No contexto da cota CEAP, representa o ano base de início da legislatura.*\n",
        "- `sgUF(Sigla da Unidade Federal)` : *Representa a UF do parlamentar.*\n",
        "- `sdPartido(Sigla do Partido)` : *Representa o partido do parlamentar.*\n",
        "- `codLegislatura(Código da Legislatura)` : *No contexto da cota CEAP, o seu conteúdo representa o código identificador da Legislatura.*\n",
        "- `numSubCota(Número da Subcota) `: *Representa o código do Tipo de Despesa, comprovada por meio da emissão de um documento fiscal, a qual é debitada na cota do deputado.*\n",
        "- `txtDescricao(Descrição da Subcota)` : *Descrição do Tipo de Despesa.*\n",
        "- `numEspecificacaoSubCota(Número da Especificação da Subcota)` : *Representa o código desta especificação mais detalhada.*\n",
        "- `txtDescricaoEspecificacao(Descrição da Especificação da Subcota)` : *Detalha o tipo de despesa efetuada.*\n",
        "- `txtFornecedor(Fornecedor)` : *Representa o fornecedor do produto ou serviço presente no documento fiscal.*\n",
        "- `txtCNPJCPF(CNPJ/CPF)` : *Indica se o fornecedor é CNPJ ou CPF , presente no documento fiscal.*\n",
        "- `txtNumero(Número do Documento)` : *Indica o número do documento do emissor da NF em questão.*\n",
        "- `indTipoDocumento(Indicativo de Tipo de Documento Fiscal)` : *Tipo de documento do fiscal – 0 para Nota Fiscal; 1 para Recibo; 2 para Despesa no Exterior.*\n",
        "- `datEmissao(Data de Emissão)` : *A data de emissão do documento.*\n",
        "- `vlrDocumento(Valor do Documento)` : *O seu conteúdo é o valor de face do documento fiscal ou o valor do documento que deu causa à despesa.*\n",
        "- `vlrGlosa(Valor da Glosa)` : *Valor da glosa do documento que deu causa à despesa.*\n",
        "- `vlrLiquido(Valor Liquido)` : *Valor líquido do documento (será calculado pela diferença entre o Valor do Documento e o Valor da Glosa)*\n",
        "- `numMes(Mês) `: *Indica o mês da emissão da nota.*\n",
        "- `numAno(Ano) `: *Indica o ano da emissão da nota.*\n",
        "- `numParcela(Número da Parcela)` : *O seu conteúdo representa o número da parcela do documento fiscal. Ocorre quando o documento tem de ser reembolsado de forma parcelada.*\n",
        "- `txtPassageiro(Nome do Passageiro)` : *O nome do passageiro, em caso da emissão do documento ser uma passagem aérea.*\n",
        "- `txtTrecho(Trecho)` : *Representa qual o trecho da viagem, somente em casos de viagem aérea.*\n",
        "- `numLote(Número do Lote) `: *Representa a capa do lote em que esse documento será incluído para ser entregue na Câmara para ressarcimento.*\n",
        "- `numRessarcimento(Número do Ressarcimento) `: *Indica o ressarcimento do qual o documento faz parte.*\n",
        "- `vlrRestituição(Valor da Restituição)` : *Indica o valor que será restituído sobre aquele documento.*\n",
        "- `nuDeputadoId(Identificador do Solicitante)` : *Número que identifica um Parlamentar ou Liderança na Transparência da Cota para Exercício da Atividade Parlamentar.*"
      ]
    },
    {
      "cell_type": "markdown",
      "metadata": {
        "id": "M0vl8brR84RD"
      },
      "source": [
        "## **2.1.** Materiais e métodos"
      ]
    },
    {
      "cell_type": "markdown",
      "metadata": {
        "id": "zz6xxH9X84RE"
      },
      "source": [
        "O presente trabalho foi desenvolvido utilizando `Google Colaboratory` e `Jupyter Notebook`, com a importação das seguintes bibliotecas:\n",
        "> * `Pandas`: é uma biblioteca para uso em Python, open-source e de uso gratuito (sob uma licença BSD), que fornece ferramentas para análise e manipulação de dados. ;<br>\n",
        "> * `Numpy`: é uma biblioteca para a linguagem Python com funções para se trabalhar com computação numérica. Seu principal objeto é o vetor n-dimensional, ou ndarray .;<br>\n",
        "> * `Matplotlib`: é uma biblioteca com recursos para a geração de gráficos 2D a partir de arrays. Gráficos comuns podem ser criados com alta qualidade a partir de comandos simples, inspirados nos comandos gráficos do MATLAB;<br>\n",
        "> * `Seaborn`: é uma biblioteca que atua em cima do matplotlib e ajuda a melhorar o visual dos gráficos, dando uma aparência mais bem acabada; e<br>\n",
        "> * `Datetime`: é um módulo que fornece as classes para manipulação de datas e horas. Ainda que a aritmética de data e hora seja suportada, o foco da implementação é na extração eficiente do atributo para formatação da saída e manipulação.\n",
        "\n",
        "A base de dados pode ser encontrada no site da Câmara (https://www.camara.leg.br/cota-parlamentar/), de acesso livre.\n",
        "\n",
        "Para versionamento do código utilizamos o `Git` e `GitHub` para publicação do trabalho.\n",
        "\n",
        "Para organização e acompanhamento das tarefas entre os integrantes do grupo foi utilizado o `Trello`.\n",
        "\n",
        "As reuniões foram estabelecidas através da plataforma `Discord`."
      ]
    },
    {
      "cell_type": "markdown",
      "metadata": {
        "id": "yorWRC0y84RF"
      },
      "source": [
        "## **3.1** Importando nossas bibliotecas"
      ]
    },
    {
      "cell_type": "markdown",
      "metadata": {
        "id": "lNWHLhJc84RF"
      },
      "source": [
        "A parte incial, simples importação de bibliotecas que serão utilizadas."
      ]
    },
    {
      "cell_type": "code",
      "execution_count": 1,
      "metadata": {
        "id": "6X5ldIquTfk9"
      },
      "outputs": [],
      "source": [
        "import pandas as pd\n",
        "import numpy as np\n",
        "import matplotlib.pyplot as plt\n",
        "from sklearn.preprocessing import MinMaxScaler"
      ]
    },
    {
      "cell_type": "markdown",
      "metadata": {
        "id": "i7R8bFEPTflC"
      },
      "source": [
        "## **3.2.** Importando nossos dados"
      ]
    },
    {
      "cell_type": "code",
      "execution_count": 2,
      "metadata": {
        "id": "n1PvipkSTflO"
      },
      "outputs": [],
      "source": [
        "df1 = pd.read_csv('Ano-2019.csv', sep=';')\n",
        "df2 = pd.read_csv('Ano-2020.csv', sep=';')\n",
        "df3 = pd.read_csv('Ano-2021.csv', sep=';')"
      ]
    },
    {
      "cell_type": "markdown",
      "metadata": {
        "id": "BqliSP5Q84RI"
      },
      "source": [
        "## **3.3.** Começando com limpeza e verificação de dados"
      ]
    },
    {
      "cell_type": "code",
      "execution_count": 3,
      "metadata": {
        "id": "eZKq04yqXV4G"
      },
      "outputs": [],
      "source": [
        "#Concatenando os 3 arquivos em um único\n",
        "df_unico = pd.concat([df1,df2,df3])"
      ]
    },
    {
      "cell_type": "code",
      "execution_count": 4,
      "metadata": {
        "id": "jAfX1cnE84RJ",
        "outputId": "4688de17-8de2-419b-881e-d9df35c4b7fa",
        "colab": {
          "base_uri": "https://localhost:8080/"
        }
      },
      "outputs": [
        {
          "output_type": "execute_result",
          "data": {
            "text/plain": [
              "PT               71008\n",
              "PSL              67028\n",
              "PP               44060\n",
              "PL               38495\n",
              "MDB              38487\n",
              "PSD              36623\n",
              "PSB              34907\n",
              "PSDB             34371\n",
              "REPUBLICANOS     29028\n",
              "PDT              28706\n",
              "DEM              27015\n",
              "PTB              12719\n",
              "SOLIDARIEDADE    12350\n",
              "PODE             10574\n",
              "CIDADANIA         9341\n",
              "AVANTE            9257\n",
              "PROS              8599\n",
              "PSOL              8099\n",
              "PCdoB             7288\n",
              "PSC               6991\n",
              "PATRIOTA          5951\n",
              "NOVO              5829\n",
              "PV                3761\n",
              "PR                1118\n",
              "REDE               708\n",
              "PRB                531\n",
              "S.PART.            377\n",
              "PPS                225\n",
              "PATRI              154\n",
              "PHS                139\n",
              "PPL                 20\n",
              "Name: sgPartido, dtype: int64"
            ]
          },
          "metadata": {},
          "execution_count": 4
        }
      ],
      "source": [
        "# Verificando o número de partidos que contém o DataFrame\n",
        "df_unico.sgPartido.value_counts()"
      ]
    },
    {
      "cell_type": "code",
      "execution_count": 5,
      "metadata": {
        "id": "oWpgPnQ1XWtE"
      },
      "outputs": [],
      "source": [
        "# Criando uma cópia do dataframe para eventuais imprevistos que possam ocorrer\n",
        "df_copia = df_unico.copy()"
      ]
    },
    {
      "cell_type": "code",
      "execution_count": 6,
      "metadata": {
        "id": "cs7mB3tNXZ7Y",
        "outputId": "7877d51a-4591-44fa-b816-dfe491d54f26",
        "colab": {
          "base_uri": "https://localhost:8080/"
        }
      },
      "outputs": [
        {
          "output_type": "execute_result",
          "data": {
            "text/plain": [
              "Index(['txNomeParlamentar', 'cpf', 'ideCadastro', 'nuCarteiraParlamentar',\n",
              "       'nuLegislatura', 'sgUF', 'sgPartido', 'codLegislatura', 'numSubCota',\n",
              "       'txtDescricao', 'numEspecificacaoSubCota', 'txtDescricaoEspecificacao',\n",
              "       'txtFornecedor', 'txtCNPJCPF', 'txtNumero', 'indTipoDocumento',\n",
              "       'datEmissao', 'vlrDocumento', 'vlrGlosa', 'vlrLiquido', 'numMes',\n",
              "       'numAno', 'numParcela', 'txtPassageiro', 'txtTrecho', 'numLote',\n",
              "       'numRessarcimento', 'vlrRestituicao', 'nuDeputadoId', 'ideDocumento',\n",
              "       'urlDocumento'],\n",
              "      dtype='object')"
            ]
          },
          "metadata": {},
          "execution_count": 6
        }
      ],
      "source": [
        "# Verificando o nome das colunas para facilitar na análise\n",
        "df_copia.columns"
      ]
    },
    {
      "cell_type": "code",
      "execution_count": 7,
      "metadata": {
        "id": "dnmX5tRsXhbX",
        "outputId": "5d491e01-66e9-4566-9427-7c6d956c4aec",
        "colab": {
          "base_uri": "https://localhost:8080/"
        }
      },
      "outputs": [
        {
          "output_type": "execute_result",
          "data": {
            "text/plain": [
              "txNomeParlamentar             object\n",
              "cpf                          float64\n",
              "ideCadastro                  float64\n",
              "nuCarteiraParlamentar        float64\n",
              "nuLegislatura                  int64\n",
              "sgUF                          object\n",
              "sgPartido                     object\n",
              "codLegislatura                 int64\n",
              "numSubCota                     int64\n",
              "txtDescricao                  object\n",
              "numEspecificacaoSubCota        int64\n",
              "txtDescricaoEspecificacao     object\n",
              "txtFornecedor                 object\n",
              "txtCNPJCPF                    object\n",
              "txtNumero                     object\n",
              "indTipoDocumento               int64\n",
              "datEmissao                    object\n",
              "vlrDocumento                 float64\n",
              "vlrGlosa                     float64\n",
              "vlrLiquido                   float64\n",
              "numMes                         int64\n",
              "numAno                         int64\n",
              "numParcela                     int64\n",
              "txtPassageiro                 object\n",
              "txtTrecho                     object\n",
              "numLote                        int64\n",
              "numRessarcimento             float64\n",
              "vlrRestituicao               float64\n",
              "nuDeputadoId                   int64\n",
              "ideDocumento                   int64\n",
              "urlDocumento                  object\n",
              "dtype: object"
            ]
          },
          "metadata": {},
          "execution_count": 7
        }
      ],
      "source": [
        "# Conferindo o tipo de dado em cada coluna\n",
        "df_copia.dtypes"
      ]
    },
    {
      "cell_type": "code",
      "execution_count": 8,
      "metadata": {
        "id": "L8gbslV8Xh7G",
        "outputId": "dc304ae2-28d2-4114-c92a-c47150d1256a",
        "colab": {
          "base_uri": "https://localhost:8080/"
        }
      },
      "outputs": [
        {
          "output_type": "stream",
          "name": "stdout",
          "text": [
            "<class 'pandas.core.frame.DataFrame'>\n",
            "Int64Index: 555500 entries, 0 to 105604\n",
            "Data columns (total 31 columns):\n",
            " #   Column                     Non-Null Count   Dtype  \n",
            "---  ------                     --------------   -----  \n",
            " 0   txNomeParlamentar          555500 non-null  object \n",
            " 1   cpf                        553661 non-null  float64\n",
            " 2   ideCadastro                553759 non-null  float64\n",
            " 3   nuCarteiraParlamentar      553759 non-null  float64\n",
            " 4   nuLegislatura              555500 non-null  int64  \n",
            " 5   sgUF                       553759 non-null  object \n",
            " 6   sgPartido                  553759 non-null  object \n",
            " 7   codLegislatura             555500 non-null  int64  \n",
            " 8   numSubCota                 555500 non-null  int64  \n",
            " 9   txtDescricao               555500 non-null  object \n",
            " 10  numEspecificacaoSubCota    555500 non-null  int64  \n",
            " 11  txtDescricaoEspecificacao  136177 non-null  object \n",
            " 12  txtFornecedor              555467 non-null  object \n",
            " 13  txtCNPJCPF                 531710 non-null  object \n",
            " 14  txtNumero                  555500 non-null  object \n",
            " 15  indTipoDocumento           555500 non-null  int64  \n",
            " 16  datEmissao                 539850 non-null  object \n",
            " 17  vlrDocumento               555500 non-null  float64\n",
            " 18  vlrGlosa                   555500 non-null  float64\n",
            " 19  vlrLiquido                 555500 non-null  float64\n",
            " 20  numMes                     555500 non-null  int64  \n",
            " 21  numAno                     555500 non-null  int64  \n",
            " 22  numParcela                 555500 non-null  int64  \n",
            " 23  txtPassageiro              129493 non-null  object \n",
            " 24  txtTrecho                  128426 non-null  object \n",
            " 25  numLote                    555500 non-null  int64  \n",
            " 26  numRessarcimento           180842 non-null  float64\n",
            " 27  vlrRestituicao             364 non-null     float64\n",
            " 28  nuDeputadoId               555500 non-null  int64  \n",
            " 29  ideDocumento               555500 non-null  int64  \n",
            " 30  urlDocumento               349639 non-null  object \n",
            "dtypes: float64(8), int64(11), object(12)\n",
            "memory usage: 135.6+ MB\n"
          ]
        }
      ],
      "source": [
        "# Vendo todas as informações e contando os valores não nulos em cada coluna\n",
        "df_copia.info()"
      ]
    },
    {
      "cell_type": "code",
      "execution_count": 9,
      "metadata": {
        "id": "Bk7JsqaMXnB1",
        "outputId": "66a0ebb3-adc8-4247-a969-47212e679caf",
        "colab": {
          "base_uri": "https://localhost:8080/"
        }
      },
      "outputs": [
        {
          "output_type": "execute_result",
          "data": {
            "text/plain": [
              "txNomeParlamentar             0.00\n",
              "cpf                           0.33\n",
              "ideCadastro                   0.31\n",
              "nuCarteiraParlamentar         0.31\n",
              "nuLegislatura                 0.00\n",
              "sgUF                          0.31\n",
              "sgPartido                     0.31\n",
              "codLegislatura                0.00\n",
              "numSubCota                    0.00\n",
              "txtDescricao                  0.00\n",
              "numEspecificacaoSubCota       0.00\n",
              "txtDescricaoEspecificacao    75.49\n",
              "txtFornecedor                 0.01\n",
              "txtCNPJCPF                    4.28\n",
              "txtNumero                     0.00\n",
              "indTipoDocumento              0.00\n",
              "datEmissao                    2.82\n",
              "vlrDocumento                  0.00\n",
              "vlrGlosa                      0.00\n",
              "vlrLiquido                    0.00\n",
              "numMes                        0.00\n",
              "numAno                        0.00\n",
              "numParcela                    0.00\n",
              "txtPassageiro                76.69\n",
              "txtTrecho                    76.88\n",
              "numLote                       0.00\n",
              "numRessarcimento             67.45\n",
              "vlrRestituicao               99.93\n",
              "nuDeputadoId                  0.00\n",
              "ideDocumento                  0.00\n",
              "urlDocumento                 37.06\n",
              "dtype: float64"
            ]
          },
          "metadata": {},
          "execution_count": 9
        }
      ],
      "source": [
        "# Procurando numero de dados nulos em percentual\n",
        "round(df_copia.isnull().mean()*100,2)"
      ]
    },
    {
      "cell_type": "code",
      "execution_count": 10,
      "metadata": {
        "id": "KFgu2unNXnlN",
        "outputId": "abcd59a0-eed2-49a2-f418-f96241b304fe",
        "colab": {
          "base_uri": "https://localhost:8080/",
          "height": 364
        }
      },
      "outputs": [
        {
          "output_type": "execute_result",
          "data": {
            "text/plain": [
              "                cpf    ideCadastro  nuCarteiraParlamentar  nuLegislatura  \\\n",
              "count  5.536610e+05  553759.000000          553759.000000  555500.000000   \n",
              "mean   3.208493e+10  166015.342644             289.007700    2018.894387   \n",
              "std    2.921625e+10   45864.510704             153.129661       0.641326   \n",
              "min    1.608657e+06    4930.000000               1.000000    2015.000000   \n",
              "25%    6.197278e+09  141531.000000             160.000000    2019.000000   \n",
              "50%    2.227515e+10  178938.000000             292.000000    2019.000000   \n",
              "75%    5.098035e+10  204449.000000             424.000000    2019.000000   \n",
              "max    9.989866e+10  217330.000000             627.000000    2019.000000   \n",
              "\n",
              "       codLegislatura     numSubCota  numEspecificacaoSubCota  \\\n",
              "count   555500.000000  555500.000000            555500.000000   \n",
              "mean        55.973597     250.656994                 0.251131   \n",
              "std          0.160331     412.069770                 0.457949   \n",
              "min         55.000000       1.000000                 0.000000   \n",
              "25%         56.000000       3.000000                 0.000000   \n",
              "50%         56.000000      10.000000                 0.000000   \n",
              "75%         56.000000     122.000000                 0.000000   \n",
              "max         56.000000     999.000000                 4.000000   \n",
              "\n",
              "       indTipoDocumento   vlrDocumento       vlrGlosa     vlrLiquido  \\\n",
              "count     555500.000000  555500.000000  555500.000000  555500.000000   \n",
              "mean           1.029525     884.412172       3.900387     808.744693   \n",
              "std            1.567946    2464.526292     139.446699    2464.253989   \n",
              "min            0.000000   -6605.570000       0.000000   -7821.200000   \n",
              "25%            0.000000      63.000000       0.000000      49.510000   \n",
              "50%            0.000000     201.380000       0.000000     184.500000   \n",
              "75%            1.000000     747.600000       0.000000     642.000000   \n",
              "max            4.000000  172000.000000   86000.000000  151260.000000   \n",
              "\n",
              "              numMes         numAno     numParcela       numLote  \\\n",
              "count  555500.000000  555500.000000  555500.000000  5.555000e+05   \n",
              "mean        6.083879    2019.669870       0.000238  1.130421e+06   \n",
              "std         3.337029       0.775475       0.015413  7.872364e+05   \n",
              "min         1.000000    2019.000000       0.000000  0.000000e+00   \n",
              "25%         3.000000    2019.000000       0.000000  0.000000e+00   \n",
              "50%         6.000000    2019.000000       0.000000  1.620008e+06   \n",
              "75%         9.000000    2020.000000       0.000000  1.707915e+06   \n",
              "max        12.000000    2021.000000       1.000000  1.789366e+06   \n",
              "\n",
              "       numRessarcimento  vlrRestituicao   nuDeputadoId  ideDocumento  \n",
              "count          180842.0      364.000000  555500.000000  5.555000e+05  \n",
              "mean                0.0      873.633571    2734.361870  5.045073e+06  \n",
              "std                 0.0     2367.571616     773.342999  2.865350e+06  \n",
              "min                 0.0        1.000000      19.000000  0.000000e+00  \n",
              "25%                 0.0        6.975000    2265.000000  1.705442e+06  \n",
              "50%                 0.0       26.105000    3062.000000  6.888214e+06  \n",
              "75%                 0.0      277.395000    3312.000000  7.075930e+06  \n",
              "max                 0.0    20000.000000    3487.000000  7.245337e+06  "
            ],
            "text/html": [
              "\n",
              "  <div id=\"df-23959af6-470f-4fe0-9aed-eaa55d80f7ba\">\n",
              "    <div class=\"colab-df-container\">\n",
              "      <div>\n",
              "<style scoped>\n",
              "    .dataframe tbody tr th:only-of-type {\n",
              "        vertical-align: middle;\n",
              "    }\n",
              "\n",
              "    .dataframe tbody tr th {\n",
              "        vertical-align: top;\n",
              "    }\n",
              "\n",
              "    .dataframe thead th {\n",
              "        text-align: right;\n",
              "    }\n",
              "</style>\n",
              "<table border=\"1\" class=\"dataframe\">\n",
              "  <thead>\n",
              "    <tr style=\"text-align: right;\">\n",
              "      <th></th>\n",
              "      <th>cpf</th>\n",
              "      <th>ideCadastro</th>\n",
              "      <th>nuCarteiraParlamentar</th>\n",
              "      <th>nuLegislatura</th>\n",
              "      <th>codLegislatura</th>\n",
              "      <th>numSubCota</th>\n",
              "      <th>numEspecificacaoSubCota</th>\n",
              "      <th>indTipoDocumento</th>\n",
              "      <th>vlrDocumento</th>\n",
              "      <th>vlrGlosa</th>\n",
              "      <th>vlrLiquido</th>\n",
              "      <th>numMes</th>\n",
              "      <th>numAno</th>\n",
              "      <th>numParcela</th>\n",
              "      <th>numLote</th>\n",
              "      <th>numRessarcimento</th>\n",
              "      <th>vlrRestituicao</th>\n",
              "      <th>nuDeputadoId</th>\n",
              "      <th>ideDocumento</th>\n",
              "    </tr>\n",
              "  </thead>\n",
              "  <tbody>\n",
              "    <tr>\n",
              "      <th>count</th>\n",
              "      <td>5.536610e+05</td>\n",
              "      <td>553759.000000</td>\n",
              "      <td>553759.000000</td>\n",
              "      <td>555500.000000</td>\n",
              "      <td>555500.000000</td>\n",
              "      <td>555500.000000</td>\n",
              "      <td>555500.000000</td>\n",
              "      <td>555500.000000</td>\n",
              "      <td>555500.000000</td>\n",
              "      <td>555500.000000</td>\n",
              "      <td>555500.000000</td>\n",
              "      <td>555500.000000</td>\n",
              "      <td>555500.000000</td>\n",
              "      <td>555500.000000</td>\n",
              "      <td>5.555000e+05</td>\n",
              "      <td>180842.0</td>\n",
              "      <td>364.000000</td>\n",
              "      <td>555500.000000</td>\n",
              "      <td>5.555000e+05</td>\n",
              "    </tr>\n",
              "    <tr>\n",
              "      <th>mean</th>\n",
              "      <td>3.208493e+10</td>\n",
              "      <td>166015.342644</td>\n",
              "      <td>289.007700</td>\n",
              "      <td>2018.894387</td>\n",
              "      <td>55.973597</td>\n",
              "      <td>250.656994</td>\n",
              "      <td>0.251131</td>\n",
              "      <td>1.029525</td>\n",
              "      <td>884.412172</td>\n",
              "      <td>3.900387</td>\n",
              "      <td>808.744693</td>\n",
              "      <td>6.083879</td>\n",
              "      <td>2019.669870</td>\n",
              "      <td>0.000238</td>\n",
              "      <td>1.130421e+06</td>\n",
              "      <td>0.0</td>\n",
              "      <td>873.633571</td>\n",
              "      <td>2734.361870</td>\n",
              "      <td>5.045073e+06</td>\n",
              "    </tr>\n",
              "    <tr>\n",
              "      <th>std</th>\n",
              "      <td>2.921625e+10</td>\n",
              "      <td>45864.510704</td>\n",
              "      <td>153.129661</td>\n",
              "      <td>0.641326</td>\n",
              "      <td>0.160331</td>\n",
              "      <td>412.069770</td>\n",
              "      <td>0.457949</td>\n",
              "      <td>1.567946</td>\n",
              "      <td>2464.526292</td>\n",
              "      <td>139.446699</td>\n",
              "      <td>2464.253989</td>\n",
              "      <td>3.337029</td>\n",
              "      <td>0.775475</td>\n",
              "      <td>0.015413</td>\n",
              "      <td>7.872364e+05</td>\n",
              "      <td>0.0</td>\n",
              "      <td>2367.571616</td>\n",
              "      <td>773.342999</td>\n",
              "      <td>2.865350e+06</td>\n",
              "    </tr>\n",
              "    <tr>\n",
              "      <th>min</th>\n",
              "      <td>1.608657e+06</td>\n",
              "      <td>4930.000000</td>\n",
              "      <td>1.000000</td>\n",
              "      <td>2015.000000</td>\n",
              "      <td>55.000000</td>\n",
              "      <td>1.000000</td>\n",
              "      <td>0.000000</td>\n",
              "      <td>0.000000</td>\n",
              "      <td>-6605.570000</td>\n",
              "      <td>0.000000</td>\n",
              "      <td>-7821.200000</td>\n",
              "      <td>1.000000</td>\n",
              "      <td>2019.000000</td>\n",
              "      <td>0.000000</td>\n",
              "      <td>0.000000e+00</td>\n",
              "      <td>0.0</td>\n",
              "      <td>1.000000</td>\n",
              "      <td>19.000000</td>\n",
              "      <td>0.000000e+00</td>\n",
              "    </tr>\n",
              "    <tr>\n",
              "      <th>25%</th>\n",
              "      <td>6.197278e+09</td>\n",
              "      <td>141531.000000</td>\n",
              "      <td>160.000000</td>\n",
              "      <td>2019.000000</td>\n",
              "      <td>56.000000</td>\n",
              "      <td>3.000000</td>\n",
              "      <td>0.000000</td>\n",
              "      <td>0.000000</td>\n",
              "      <td>63.000000</td>\n",
              "      <td>0.000000</td>\n",
              "      <td>49.510000</td>\n",
              "      <td>3.000000</td>\n",
              "      <td>2019.000000</td>\n",
              "      <td>0.000000</td>\n",
              "      <td>0.000000e+00</td>\n",
              "      <td>0.0</td>\n",
              "      <td>6.975000</td>\n",
              "      <td>2265.000000</td>\n",
              "      <td>1.705442e+06</td>\n",
              "    </tr>\n",
              "    <tr>\n",
              "      <th>50%</th>\n",
              "      <td>2.227515e+10</td>\n",
              "      <td>178938.000000</td>\n",
              "      <td>292.000000</td>\n",
              "      <td>2019.000000</td>\n",
              "      <td>56.000000</td>\n",
              "      <td>10.000000</td>\n",
              "      <td>0.000000</td>\n",
              "      <td>0.000000</td>\n",
              "      <td>201.380000</td>\n",
              "      <td>0.000000</td>\n",
              "      <td>184.500000</td>\n",
              "      <td>6.000000</td>\n",
              "      <td>2019.000000</td>\n",
              "      <td>0.000000</td>\n",
              "      <td>1.620008e+06</td>\n",
              "      <td>0.0</td>\n",
              "      <td>26.105000</td>\n",
              "      <td>3062.000000</td>\n",
              "      <td>6.888214e+06</td>\n",
              "    </tr>\n",
              "    <tr>\n",
              "      <th>75%</th>\n",
              "      <td>5.098035e+10</td>\n",
              "      <td>204449.000000</td>\n",
              "      <td>424.000000</td>\n",
              "      <td>2019.000000</td>\n",
              "      <td>56.000000</td>\n",
              "      <td>122.000000</td>\n",
              "      <td>0.000000</td>\n",
              "      <td>1.000000</td>\n",
              "      <td>747.600000</td>\n",
              "      <td>0.000000</td>\n",
              "      <td>642.000000</td>\n",
              "      <td>9.000000</td>\n",
              "      <td>2020.000000</td>\n",
              "      <td>0.000000</td>\n",
              "      <td>1.707915e+06</td>\n",
              "      <td>0.0</td>\n",
              "      <td>277.395000</td>\n",
              "      <td>3312.000000</td>\n",
              "      <td>7.075930e+06</td>\n",
              "    </tr>\n",
              "    <tr>\n",
              "      <th>max</th>\n",
              "      <td>9.989866e+10</td>\n",
              "      <td>217330.000000</td>\n",
              "      <td>627.000000</td>\n",
              "      <td>2019.000000</td>\n",
              "      <td>56.000000</td>\n",
              "      <td>999.000000</td>\n",
              "      <td>4.000000</td>\n",
              "      <td>4.000000</td>\n",
              "      <td>172000.000000</td>\n",
              "      <td>86000.000000</td>\n",
              "      <td>151260.000000</td>\n",
              "      <td>12.000000</td>\n",
              "      <td>2021.000000</td>\n",
              "      <td>1.000000</td>\n",
              "      <td>1.789366e+06</td>\n",
              "      <td>0.0</td>\n",
              "      <td>20000.000000</td>\n",
              "      <td>3487.000000</td>\n",
              "      <td>7.245337e+06</td>\n",
              "    </tr>\n",
              "  </tbody>\n",
              "</table>\n",
              "</div>\n",
              "      <button class=\"colab-df-convert\" onclick=\"convertToInteractive('df-23959af6-470f-4fe0-9aed-eaa55d80f7ba')\"\n",
              "              title=\"Convert this dataframe to an interactive table.\"\n",
              "              style=\"display:none;\">\n",
              "        \n",
              "  <svg xmlns=\"http://www.w3.org/2000/svg\" height=\"24px\"viewBox=\"0 0 24 24\"\n",
              "       width=\"24px\">\n",
              "    <path d=\"M0 0h24v24H0V0z\" fill=\"none\"/>\n",
              "    <path d=\"M18.56 5.44l.94 2.06.94-2.06 2.06-.94-2.06-.94-.94-2.06-.94 2.06-2.06.94zm-11 1L8.5 8.5l.94-2.06 2.06-.94-2.06-.94L8.5 2.5l-.94 2.06-2.06.94zm10 10l.94 2.06.94-2.06 2.06-.94-2.06-.94-.94-2.06-.94 2.06-2.06.94z\"/><path d=\"M17.41 7.96l-1.37-1.37c-.4-.4-.92-.59-1.43-.59-.52 0-1.04.2-1.43.59L10.3 9.45l-7.72 7.72c-.78.78-.78 2.05 0 2.83L4 21.41c.39.39.9.59 1.41.59.51 0 1.02-.2 1.41-.59l7.78-7.78 2.81-2.81c.8-.78.8-2.07 0-2.86zM5.41 20L4 18.59l7.72-7.72 1.47 1.35L5.41 20z\"/>\n",
              "  </svg>\n",
              "      </button>\n",
              "      \n",
              "  <style>\n",
              "    .colab-df-container {\n",
              "      display:flex;\n",
              "      flex-wrap:wrap;\n",
              "      gap: 12px;\n",
              "    }\n",
              "\n",
              "    .colab-df-convert {\n",
              "      background-color: #E8F0FE;\n",
              "      border: none;\n",
              "      border-radius: 50%;\n",
              "      cursor: pointer;\n",
              "      display: none;\n",
              "      fill: #1967D2;\n",
              "      height: 32px;\n",
              "      padding: 0 0 0 0;\n",
              "      width: 32px;\n",
              "    }\n",
              "\n",
              "    .colab-df-convert:hover {\n",
              "      background-color: #E2EBFA;\n",
              "      box-shadow: 0px 1px 2px rgba(60, 64, 67, 0.3), 0px 1px 3px 1px rgba(60, 64, 67, 0.15);\n",
              "      fill: #174EA6;\n",
              "    }\n",
              "\n",
              "    [theme=dark] .colab-df-convert {\n",
              "      background-color: #3B4455;\n",
              "      fill: #D2E3FC;\n",
              "    }\n",
              "\n",
              "    [theme=dark] .colab-df-convert:hover {\n",
              "      background-color: #434B5C;\n",
              "      box-shadow: 0px 1px 3px 1px rgba(0, 0, 0, 0.15);\n",
              "      filter: drop-shadow(0px 1px 2px rgba(0, 0, 0, 0.3));\n",
              "      fill: #FFFFFF;\n",
              "    }\n",
              "  </style>\n",
              "\n",
              "      <script>\n",
              "        const buttonEl =\n",
              "          document.querySelector('#df-23959af6-470f-4fe0-9aed-eaa55d80f7ba button.colab-df-convert');\n",
              "        buttonEl.style.display =\n",
              "          google.colab.kernel.accessAllowed ? 'block' : 'none';\n",
              "\n",
              "        async function convertToInteractive(key) {\n",
              "          const element = document.querySelector('#df-23959af6-470f-4fe0-9aed-eaa55d80f7ba');\n",
              "          const dataTable =\n",
              "            await google.colab.kernel.invokeFunction('convertToInteractive',\n",
              "                                                     [key], {});\n",
              "          if (!dataTable) return;\n",
              "\n",
              "          const docLinkHtml = 'Like what you see? Visit the ' +\n",
              "            '<a target=\"_blank\" href=https://colab.research.google.com/notebooks/data_table.ipynb>data table notebook</a>'\n",
              "            + ' to learn more about interactive tables.';\n",
              "          element.innerHTML = '';\n",
              "          dataTable['output_type'] = 'display_data';\n",
              "          await google.colab.output.renderOutput(dataTable, element);\n",
              "          const docLink = document.createElement('div');\n",
              "          docLink.innerHTML = docLinkHtml;\n",
              "          element.appendChild(docLink);\n",
              "        }\n",
              "      </script>\n",
              "    </div>\n",
              "  </div>\n",
              "  "
            ]
          },
          "metadata": {},
          "execution_count": 10
        }
      ],
      "source": [
        "# o describe foi feito pra destacar os valores negativos presentes nas colunas:'vlrDocumento' e 'vlrLiquido' \n",
        "df_copia.describe()"
      ]
    },
    {
      "cell_type": "markdown",
      "metadata": {
        "id": "OflcX1LRZfSP"
      },
      "source": [
        "Achamos importante explicar o que são esses valores negativos ( compensação de passagens aéreas) conforme dicionário do arquivo.\n",
        "https://www2.camara.leg.br/transparencia/cota-para-exercicio-da-atividade-parlamentar/explicacoes-sobre-o-formato-dos-arquivos-xml"
      ]
    },
    {
      "cell_type": "code",
      "execution_count": 11,
      "metadata": {
        "id": "Y0Ld6i5VX5EP",
        "outputId": "b5a8ad6a-c01e-40c1-cddc-4585b15c78a3",
        "colab": {
          "base_uri": "https://localhost:8080/"
        }
      },
      "outputs": [
        {
          "output_type": "execute_result",
          "data": {
            "text/plain": [
              "0          111.30\n",
              "1          117.19\n",
              "2          120.15\n",
              "3          151.18\n",
              "4          119.90\n",
              "           ...   \n",
              "105600    5000.00\n",
              "105601    7000.00\n",
              "105602    4000.00\n",
              "105603       1.10\n",
              "105604       1.08\n",
              "Name: vlrLiquido, Length: 427074, dtype: float64"
            ]
          },
          "metadata": {},
          "execution_count": 11
        }
      ],
      "source": [
        "# Essa consulta fizemos um novo df, filtrando na coluna 'txtDescricao' valores diferentes de 'PASSAGEM AÉREA - RPA'  e 'PASSAGEM AÉREA - SIGEPA'\n",
        "# a partir desse novo df fazer os cálculos de despesas.\n",
        "valores = df_copia[(df_copia['txtDescricao'] != 'PASSAGEM AÉREA - RPA')&(df_copia['txtDescricao'] != 'PASSAGEM AÉREA - SIGEPA')]\n",
        "valores['txtDescricao'].unique()\n",
        "valores.vlrLiquido"
      ]
    },
    {
      "cell_type": "code",
      "execution_count": 12,
      "metadata": {
        "id": "I10CR2QeZBSV",
        "outputId": "612087c7-45fd-4fc1-cd84-740ac0d45cbc",
        "colab": {
          "base_uri": "https://localhost:8080/"
        }
      },
      "outputs": [
        {
          "output_type": "execute_result",
          "data": {
            "text/plain": [
              "23210    -868.00\n",
              "28211   -1762.66\n",
              "Name: vlrLiquido, dtype: float64"
            ]
          },
          "metadata": {},
          "execution_count": 12
        }
      ],
      "source": [
        "# os dois valores negativos da coluna 'VrlLiquido'\n",
        "valores.query('vlrLiquido < 0')['vlrLiquido']"
      ]
    },
    {
      "cell_type": "code",
      "execution_count": 13,
      "metadata": {
        "id": "vLCzhibdZRFE",
        "outputId": "7129dfc0-2559-4aa0-972c-46aedd153bb3",
        "colab": {
          "base_uri": "https://localhost:8080/"
        }
      },
      "outputs": [
        {
          "output_type": "execute_result",
          "data": {
            "text/plain": [
              "0        2019-01-16\n",
              "1        2019-02-04\n",
              "2        2019-02-25\n",
              "3        2019-03-28\n",
              "4        2019-05-07\n",
              "            ...    \n",
              "105600   2021-07-28\n",
              "105601   2021-08-11\n",
              "105602   2021-07-29\n",
              "105603          NaT\n",
              "105604          NaT\n",
              "Name: datEmissao, Length: 555500, dtype: datetime64[ns]"
            ]
          },
          "metadata": {},
          "execution_count": 13
        }
      ],
      "source": [
        "# Convertemos a coluna datEmissao de object para datatime e colocamos só pra mostrar o formato dia/mes/ano pq o horário é irrelevante para as consultas\n",
        "df_copia['datEmissao'] = pd.to_datetime(df_copia['datEmissao'], format = '%Y/%m/%d')\n",
        "df_copia['datEmissao']"
      ]
    },
    {
      "cell_type": "code",
      "execution_count": 14,
      "metadata": {
        "id": "dCWjhkYqZUUE",
        "outputId": "1b3b15bc-06bd-403c-f29e-f3e3e2359645",
        "colab": {
          "base_uri": "https://localhost:8080/"
        }
      },
      "outputs": [
        {
          "output_type": "execute_result",
          "data": {
            "text/plain": [
              "txNomeParlamentar                    object\n",
              "cpf                                 float64\n",
              "ideCadastro                         float64\n",
              "nuCarteiraParlamentar               float64\n",
              "nuLegislatura                         int64\n",
              "sgUF                                 object\n",
              "sgPartido                            object\n",
              "codLegislatura                        int64\n",
              "numSubCota                            int64\n",
              "txtDescricao                         object\n",
              "numEspecificacaoSubCota               int64\n",
              "txtDescricaoEspecificacao            object\n",
              "txtFornecedor                        object\n",
              "txtCNPJCPF                           object\n",
              "txtNumero                            object\n",
              "indTipoDocumento                      int64\n",
              "datEmissao                   datetime64[ns]\n",
              "vlrDocumento                        float64\n",
              "vlrGlosa                            float64\n",
              "vlrLiquido                          float64\n",
              "numMes                                int64\n",
              "numAno                                int64\n",
              "numParcela                            int64\n",
              "txtPassageiro                        object\n",
              "txtTrecho                            object\n",
              "numLote                               int64\n",
              "numRessarcimento                    float64\n",
              "vlrRestituicao                      float64\n",
              "nuDeputadoId                          int64\n",
              "ideDocumento                          int64\n",
              "urlDocumento                         object\n",
              "dtype: object"
            ]
          },
          "metadata": {},
          "execution_count": 14
        }
      ],
      "source": [
        "#Conferindo se o type da data foi transformado\n",
        "df_copia.dtypes"
      ]
    },
    {
      "cell_type": "code",
      "execution_count": 15,
      "metadata": {
        "id": "RVO6Bj2w84RP",
        "outputId": "31c4690b-10d8-46f3-8a95-724660f951ee",
        "colab": {
          "base_uri": "https://localhost:8080/"
        }
      },
      "outputs": [
        {
          "output_type": "execute_result",
          "data": {
            "text/plain": [
              "(555500, 31)"
            ]
          },
          "metadata": {},
          "execution_count": 15
        }
      ],
      "source": [
        "# Verificando o novo tamanho do DataFrame\n",
        "df_copia.shape"
      ]
    },
    {
      "cell_type": "code",
      "execution_count": 16,
      "metadata": {
        "id": "ObInEfcq84RP",
        "outputId": "dd0857bb-6715-47a4-8c35-bd0082531793",
        "colab": {
          "base_uri": "https://localhost:8080/",
          "height": 423
        }
      },
      "outputs": [
        {
          "output_type": "execute_result",
          "data": {
            "text/plain": [
              "    txNomeParlamentar sgUF sgPartido  vlrLiquido\n",
              "0          LID.GOV-CD  NaN       NaN      111.30\n",
              "1          LID.GOV-CD  NaN       NaN      117.19\n",
              "2          LID.GOV-CD  NaN       NaN      120.15\n",
              "3          LID.GOV-CD  NaN       NaN      151.18\n",
              "4          LID.GOV-CD  NaN       NaN      119.90\n",
              "..                ...  ...       ...         ...\n",
              "439            LIDMIN  NaN       NaN     4000.00\n",
              "440            LIDMIN  NaN       NaN      137.97\n",
              "441            LIDMIN  NaN       NaN      175.18\n",
              "442            LIDMIN  NaN       NaN     3800.00\n",
              "443            LIDMIN  NaN       NaN     3800.00\n",
              "\n",
              "[1741 rows x 4 columns]"
            ],
            "text/html": [
              "\n",
              "  <div id=\"df-95d27873-4f94-4a88-b421-fb33bf58b400\">\n",
              "    <div class=\"colab-df-container\">\n",
              "      <div>\n",
              "<style scoped>\n",
              "    .dataframe tbody tr th:only-of-type {\n",
              "        vertical-align: middle;\n",
              "    }\n",
              "\n",
              "    .dataframe tbody tr th {\n",
              "        vertical-align: top;\n",
              "    }\n",
              "\n",
              "    .dataframe thead th {\n",
              "        text-align: right;\n",
              "    }\n",
              "</style>\n",
              "<table border=\"1\" class=\"dataframe\">\n",
              "  <thead>\n",
              "    <tr style=\"text-align: right;\">\n",
              "      <th></th>\n",
              "      <th>txNomeParlamentar</th>\n",
              "      <th>sgUF</th>\n",
              "      <th>sgPartido</th>\n",
              "      <th>vlrLiquido</th>\n",
              "    </tr>\n",
              "  </thead>\n",
              "  <tbody>\n",
              "    <tr>\n",
              "      <th>0</th>\n",
              "      <td>LID.GOV-CD</td>\n",
              "      <td>NaN</td>\n",
              "      <td>NaN</td>\n",
              "      <td>111.30</td>\n",
              "    </tr>\n",
              "    <tr>\n",
              "      <th>1</th>\n",
              "      <td>LID.GOV-CD</td>\n",
              "      <td>NaN</td>\n",
              "      <td>NaN</td>\n",
              "      <td>117.19</td>\n",
              "    </tr>\n",
              "    <tr>\n",
              "      <th>2</th>\n",
              "      <td>LID.GOV-CD</td>\n",
              "      <td>NaN</td>\n",
              "      <td>NaN</td>\n",
              "      <td>120.15</td>\n",
              "    </tr>\n",
              "    <tr>\n",
              "      <th>3</th>\n",
              "      <td>LID.GOV-CD</td>\n",
              "      <td>NaN</td>\n",
              "      <td>NaN</td>\n",
              "      <td>151.18</td>\n",
              "    </tr>\n",
              "    <tr>\n",
              "      <th>4</th>\n",
              "      <td>LID.GOV-CD</td>\n",
              "      <td>NaN</td>\n",
              "      <td>NaN</td>\n",
              "      <td>119.90</td>\n",
              "    </tr>\n",
              "    <tr>\n",
              "      <th>...</th>\n",
              "      <td>...</td>\n",
              "      <td>...</td>\n",
              "      <td>...</td>\n",
              "      <td>...</td>\n",
              "    </tr>\n",
              "    <tr>\n",
              "      <th>439</th>\n",
              "      <td>LIDMIN</td>\n",
              "      <td>NaN</td>\n",
              "      <td>NaN</td>\n",
              "      <td>4000.00</td>\n",
              "    </tr>\n",
              "    <tr>\n",
              "      <th>440</th>\n",
              "      <td>LIDMIN</td>\n",
              "      <td>NaN</td>\n",
              "      <td>NaN</td>\n",
              "      <td>137.97</td>\n",
              "    </tr>\n",
              "    <tr>\n",
              "      <th>441</th>\n",
              "      <td>LIDMIN</td>\n",
              "      <td>NaN</td>\n",
              "      <td>NaN</td>\n",
              "      <td>175.18</td>\n",
              "    </tr>\n",
              "    <tr>\n",
              "      <th>442</th>\n",
              "      <td>LIDMIN</td>\n",
              "      <td>NaN</td>\n",
              "      <td>NaN</td>\n",
              "      <td>3800.00</td>\n",
              "    </tr>\n",
              "    <tr>\n",
              "      <th>443</th>\n",
              "      <td>LIDMIN</td>\n",
              "      <td>NaN</td>\n",
              "      <td>NaN</td>\n",
              "      <td>3800.00</td>\n",
              "    </tr>\n",
              "  </tbody>\n",
              "</table>\n",
              "<p>1741 rows × 4 columns</p>\n",
              "</div>\n",
              "      <button class=\"colab-df-convert\" onclick=\"convertToInteractive('df-95d27873-4f94-4a88-b421-fb33bf58b400')\"\n",
              "              title=\"Convert this dataframe to an interactive table.\"\n",
              "              style=\"display:none;\">\n",
              "        \n",
              "  <svg xmlns=\"http://www.w3.org/2000/svg\" height=\"24px\"viewBox=\"0 0 24 24\"\n",
              "       width=\"24px\">\n",
              "    <path d=\"M0 0h24v24H0V0z\" fill=\"none\"/>\n",
              "    <path d=\"M18.56 5.44l.94 2.06.94-2.06 2.06-.94-2.06-.94-.94-2.06-.94 2.06-2.06.94zm-11 1L8.5 8.5l.94-2.06 2.06-.94-2.06-.94L8.5 2.5l-.94 2.06-2.06.94zm10 10l.94 2.06.94-2.06 2.06-.94-2.06-.94-.94-2.06-.94 2.06-2.06.94z\"/><path d=\"M17.41 7.96l-1.37-1.37c-.4-.4-.92-.59-1.43-.59-.52 0-1.04.2-1.43.59L10.3 9.45l-7.72 7.72c-.78.78-.78 2.05 0 2.83L4 21.41c.39.39.9.59 1.41.59.51 0 1.02-.2 1.41-.59l7.78-7.78 2.81-2.81c.8-.78.8-2.07 0-2.86zM5.41 20L4 18.59l7.72-7.72 1.47 1.35L5.41 20z\"/>\n",
              "  </svg>\n",
              "      </button>\n",
              "      \n",
              "  <style>\n",
              "    .colab-df-container {\n",
              "      display:flex;\n",
              "      flex-wrap:wrap;\n",
              "      gap: 12px;\n",
              "    }\n",
              "\n",
              "    .colab-df-convert {\n",
              "      background-color: #E8F0FE;\n",
              "      border: none;\n",
              "      border-radius: 50%;\n",
              "      cursor: pointer;\n",
              "      display: none;\n",
              "      fill: #1967D2;\n",
              "      height: 32px;\n",
              "      padding: 0 0 0 0;\n",
              "      width: 32px;\n",
              "    }\n",
              "\n",
              "    .colab-df-convert:hover {\n",
              "      background-color: #E2EBFA;\n",
              "      box-shadow: 0px 1px 2px rgba(60, 64, 67, 0.3), 0px 1px 3px 1px rgba(60, 64, 67, 0.15);\n",
              "      fill: #174EA6;\n",
              "    }\n",
              "\n",
              "    [theme=dark] .colab-df-convert {\n",
              "      background-color: #3B4455;\n",
              "      fill: #D2E3FC;\n",
              "    }\n",
              "\n",
              "    [theme=dark] .colab-df-convert:hover {\n",
              "      background-color: #434B5C;\n",
              "      box-shadow: 0px 1px 3px 1px rgba(0, 0, 0, 0.15);\n",
              "      filter: drop-shadow(0px 1px 2px rgba(0, 0, 0, 0.3));\n",
              "      fill: #FFFFFF;\n",
              "    }\n",
              "  </style>\n",
              "\n",
              "      <script>\n",
              "        const buttonEl =\n",
              "          document.querySelector('#df-95d27873-4f94-4a88-b421-fb33bf58b400 button.colab-df-convert');\n",
              "        buttonEl.style.display =\n",
              "          google.colab.kernel.accessAllowed ? 'block' : 'none';\n",
              "\n",
              "        async function convertToInteractive(key) {\n",
              "          const element = document.querySelector('#df-95d27873-4f94-4a88-b421-fb33bf58b400');\n",
              "          const dataTable =\n",
              "            await google.colab.kernel.invokeFunction('convertToInteractive',\n",
              "                                                     [key], {});\n",
              "          if (!dataTable) return;\n",
              "\n",
              "          const docLinkHtml = 'Like what you see? Visit the ' +\n",
              "            '<a target=\"_blank\" href=https://colab.research.google.com/notebooks/data_table.ipynb>data table notebook</a>'\n",
              "            + ' to learn more about interactive tables.';\n",
              "          element.innerHTML = '';\n",
              "          dataTable['output_type'] = 'display_data';\n",
              "          await google.colab.output.renderOutput(dataTable, element);\n",
              "          const docLink = document.createElement('div');\n",
              "          docLink.innerHTML = docLinkHtml;\n",
              "          element.appendChild(docLink);\n",
              "        }\n",
              "      </script>\n",
              "    </div>\n",
              "  </div>\n",
              "  "
            ]
          },
          "metadata": {},
          "execution_count": 16
        }
      ],
      "source": [
        "# Aqui estamos procurando por Parlamentares sem estado e sem partido.\n",
        "sem_partido_sem_uf = valores[valores['sgUF'].isnull()][['txNomeParlamentar', 'sgUF', 'sgPartido','vlrLiquido']]\n",
        "sem_partido_sem_uf"
      ]
    },
    {
      "cell_type": "code",
      "execution_count": 17,
      "metadata": {
        "id": "dRcVVz-F84RP"
      },
      "outputs": [],
      "source": [
        "#Atribuindo os partidos correspondentes as despesas atribuídas apenas a lideranças\n",
        "df_copia['sgPartido'] = np.where(df_copia['txNomeParlamentar'] == \"LIDERANÇA DO PSL\", 'PSL', df_copia.sgPartido)\n",
        "df_copia['sgPartido'] = np.where(df_copia['txNomeParlamentar'] == \"LIDERANÇA DO PT\", 'PT', df_copia.sgPartido)\n",
        "df_copia['sgPartido'] = np.where(df_copia['txNomeParlamentar'] == \"LIDERANÇA DO PTB\", 'PTB', df_copia.sgPartido) \n",
        "df_copia['sgPartido'] = np.where(df_copia['txNomeParlamentar'] == \"LIDERANÇA DO PSDB\", 'PSDB', df_copia.sgPartido)\n",
        "df_copia['sgPartido'] = np.where(df_copia['txNomeParlamentar'] == \"LIDERANÇA DO PODEMOS\", 'PODEMOS', df_copia.sgPartido)\n",
        "df_copia['sgPartido'] = np.where(df_copia['txNomeParlamentar'] == \"LIDERANÇA DO SOLIDARIEDADE\", 'SOLIDARIEDADE', df_copia.sgPartido)\n",
        "df_copia['sgPartido'] = np.where(df_copia['txNomeParlamentar'] == \"LIDERANÇA DO PSD\", 'PSD',df_copia.sgPartido)\n",
        "df_copia['sgPartido'] = np.where(df_copia['txNomeParlamentar'] == \"LIDERANÇA DO NOVO\", 'NOVO',df_copia.sgPartido)\n",
        "df_copia['sgPartido'] = np.where(df_copia['txNomeParlamentar'] == \"LIDERANÇA DO DEMOCRATAS\", 'DEMOCRATAS', df_copia.sgPartido)\n",
        "df_copia['sgPartido'] = np.where(df_copia['txNomeParlamentar'] == \"LIDERANÇA DO CIDADANIA\", 'CIDADANIA', df_copia.sgPartido)\n",
        "df_copia['sgPartido'] = np.where(df_copia['txNomeParlamentar'] == \"LIDERANÇA DO AVANTE\", 'AVANTE', df_copia.sgPartido)\n",
        "df_copia['sgPartido'] = np.where(df_copia['txNomeParlamentar'] == \"LIDERANÇA DO PDT\", 'PDT', df_copia.sgPartido)\n",
        "df_copia['sgPartido'] = np.where(df_copia['txNomeParlamentar'] == \"LIDERANÇA DO PSOL\", 'PSOL', df_copia.sgPartido)\n",
        "df_copia['sgPartido'] = np.where(df_copia['txNomeParlamentar'] == \"LIDERANÇA DO PROGRESSISTAS\", 'PROGRESSISTAS',df_copia.sgPartido)\n",
        "df_copia['sgPartido'] = np.where(df_copia['txNomeParlamentar'] == \"LIDERANÇA DO PARTIDO REPUBLICANO DA ORDEM SOCIAL\", 'SOCIAL', df_copia.sgPartido)"
      ]
    },
    {
      "cell_type": "code",
      "execution_count": 18,
      "metadata": {
        "id": "LGqDGevB84RQ",
        "outputId": "2e99b7c4-1925-4945-ca7a-036e832b3d5b",
        "colab": {
          "base_uri": "https://localhost:8080/"
        }
      },
      "outputs": [
        {
          "output_type": "execute_result",
          "data": {
            "text/plain": [
              "LIDERANÇA DO PT                                     515\n",
              "LIDERANÇA DO PTB                                    169\n",
              "LIDERANÇA DO PSDB                                   168\n",
              "LIDERANÇA DO PODEMOS                                140\n",
              "LIDERANÇA DO SOLIDARIEDADE                          137\n",
              "LIDERANÇA DO PSD                                    104\n",
              "LIDERANÇA DO NOVO                                    94\n",
              "LIDERANÇA DO DEMOCRATAS                              75\n",
              "LIDERANÇA DO CIDADANIA                               68\n",
              "LIDMIN                                               67\n",
              "LIDERANÇA DO PARTIDO REPUBLICANO DA ORDEM SOCIAL     51\n",
              "LIDERANÇA DO AVANTE                                  49\n",
              "LIDERANÇA DO PDT                                     36\n",
              "LIDERANÇA DO PSL                                     29\n",
              "LID.GOV-CD                                           15\n",
              "LIDERANÇA DO PSOL                                    14\n",
              "LIDERANÇA DO PROGRESSISTAS                           10\n",
              "Name: txNomeParlamentar, dtype: int64"
            ]
          },
          "metadata": {},
          "execution_count": 18
        }
      ],
      "source": [
        "# Verificando quantos partidos não possuem registros de UF\n",
        "sem_partido_sem_uf['txNomeParlamentar'].value_counts()"
      ]
    },
    {
      "cell_type": "code",
      "execution_count": 19,
      "metadata": {
        "id": "KqCM54Y_84RQ",
        "outputId": "98c02e19-6fd8-4e09-866d-76d3bfdfce08",
        "colab": {
          "base_uri": "https://localhost:8080/"
        }
      },
      "outputs": [
        {
          "output_type": "execute_result",
          "data": {
            "text/plain": [
              "SP    83873\n",
              "MG    65193\n",
              "RJ    50674\n",
              "RS    48467\n",
              "BA    43331\n",
              "PR    41816\n",
              "PE    28292\n",
              "SC    19900\n",
              "CE    19632\n",
              "MA    14412\n",
              "PA    14402\n",
              "PB    12727\n",
              "GO    11315\n",
              "RN    10183\n",
              "ES     9516\n",
              "TO     9378\n",
              "MT     9260\n",
              "MS     7970\n",
              "RO     7512\n",
              "PI     7284\n",
              "AC     6702\n",
              "AL     6629\n",
              "SE     6124\n",
              "AM     5723\n",
              "RR     5405\n",
              "AP     5216\n",
              "DF     2823\n",
              "Name: sgUF, dtype: int64"
            ]
          },
          "metadata": {},
          "execution_count": 19
        }
      ],
      "source": [
        "# Realizando a contagem de frequência por estado dentro do DataFrame\n",
        "df_unico.sgUF.value_counts()"
      ]
    },
    {
      "cell_type": "code",
      "execution_count": 66,
      "metadata": {
        "id": "C6lPPzhw84RQ",
        "outputId": "db42e1ed-77ba-42f4-e10b-5dc594edf63a",
        "colab": {
          "base_uri": "https://localhost:8080/",
          "height": 612
        }
      },
      "outputs": [
        {
          "output_type": "execute_result",
          "data": {
            "text/plain": [
              "              txNomeParlamentar  cpf  ideCadastro  nuCarteiraParlamentar  \\\n",
              "344             LIDERANÇA DO PT  NaN          NaN                    NaN   \n",
              "876  LIDERANÇA DO SOLIDARIEDADE  NaN          NaN                    NaN   \n",
              "593             LIDERANÇA DO PT  NaN          NaN                    NaN   \n",
              "253        LIDERANÇA DO PODEMOS  NaN          NaN                    NaN   \n",
              "794  LIDERANÇA DO SOLIDARIEDADE  NaN          NaN                    NaN   \n",
              "\n",
              "     nuLegislatura sgUF      sgPartido  codLegislatura  numSubCota  \\\n",
              "344           2019  NaN             PT              56          13   \n",
              "876           2019  NaN  SOLIDARIEDADE              56          13   \n",
              "593           2019  NaN             PT              56          13   \n",
              "253           2019  NaN        PODEMOS              56          13   \n",
              "794           2019  NaN  SOLIDARIEDADE              56           9   \n",
              "\n",
              "                                   txtDescricao  ...  numAno numParcela  \\\n",
              "344  FORNECIMENTO DE ALIMENTAÇÃO DO PARLAMENTAR  ...    2021          0   \n",
              "876  FORNECIMENTO DE ALIMENTAÇÃO DO PARLAMENTAR  ...    2019          0   \n",
              "593  FORNECIMENTO DE ALIMENTAÇÃO DO PARLAMENTAR  ...    2019          0   \n",
              "253  FORNECIMENTO DE ALIMENTAÇÃO DO PARLAMENTAR  ...    2019          0   \n",
              "794                  PASSAGEM AÉREA - REEMBOLSO  ...    2019          0   \n",
              "\n",
              "                     txtPassageiro txtTrecho  numLote  numRessarcimento  \\\n",
              "344                            NaN       NaN  1751285               NaN   \n",
              "876                            NaN       NaN  1659293               NaN   \n",
              "593                            NaN       NaN  1583550               NaN   \n",
              "253                            NaN       NaN  1654357               NaN   \n",
              "794  JOSE RAMOS DE ALMEIDA JUNIOR;       NaN  1608197               NaN   \n",
              "\n",
              "    vlrRestituicao  nuDeputadoId  ideDocumento  \\\n",
              "344            NaN          2439       7165315   \n",
              "876            NaN          2864       6978036   \n",
              "593            NaN          2439       6803514   \n",
              "253            NaN          3172       6966460   \n",
              "794            NaN          2864       6860254   \n",
              "\n",
              "                                          urlDocumento  \n",
              "344  http://camara.leg.br/cota-parlamentar/nota-fis...  \n",
              "876  http://camara.leg.br/cota-parlamentar/nota-fis...  \n",
              "593  http://camara.leg.br/cota-parlamentar/nota-fis...  \n",
              "253  https://www.camara.leg.br/cota-parlamentar/doc...  \n",
              "794  https://www.camara.leg.br/cota-parlamentar/doc...  \n",
              "\n",
              "[5 rows x 31 columns]"
            ],
            "text/html": [
              "\n",
              "  <div id=\"df-414d68ef-7f9f-40ea-9c3f-4c5d5397dae3\">\n",
              "    <div class=\"colab-df-container\">\n",
              "      <div>\n",
              "<style scoped>\n",
              "    .dataframe tbody tr th:only-of-type {\n",
              "        vertical-align: middle;\n",
              "    }\n",
              "\n",
              "    .dataframe tbody tr th {\n",
              "        vertical-align: top;\n",
              "    }\n",
              "\n",
              "    .dataframe thead th {\n",
              "        text-align: right;\n",
              "    }\n",
              "</style>\n",
              "<table border=\"1\" class=\"dataframe\">\n",
              "  <thead>\n",
              "    <tr style=\"text-align: right;\">\n",
              "      <th></th>\n",
              "      <th>txNomeParlamentar</th>\n",
              "      <th>cpf</th>\n",
              "      <th>ideCadastro</th>\n",
              "      <th>nuCarteiraParlamentar</th>\n",
              "      <th>nuLegislatura</th>\n",
              "      <th>sgUF</th>\n",
              "      <th>sgPartido</th>\n",
              "      <th>codLegislatura</th>\n",
              "      <th>numSubCota</th>\n",
              "      <th>txtDescricao</th>\n",
              "      <th>...</th>\n",
              "      <th>numAno</th>\n",
              "      <th>numParcela</th>\n",
              "      <th>txtPassageiro</th>\n",
              "      <th>txtTrecho</th>\n",
              "      <th>numLote</th>\n",
              "      <th>numRessarcimento</th>\n",
              "      <th>vlrRestituicao</th>\n",
              "      <th>nuDeputadoId</th>\n",
              "      <th>ideDocumento</th>\n",
              "      <th>urlDocumento</th>\n",
              "    </tr>\n",
              "  </thead>\n",
              "  <tbody>\n",
              "    <tr>\n",
              "      <th>344</th>\n",
              "      <td>LIDERANÇA DO PT</td>\n",
              "      <td>NaN</td>\n",
              "      <td>NaN</td>\n",
              "      <td>NaN</td>\n",
              "      <td>2019</td>\n",
              "      <td>NaN</td>\n",
              "      <td>PT</td>\n",
              "      <td>56</td>\n",
              "      <td>13</td>\n",
              "      <td>FORNECIMENTO DE ALIMENTAÇÃO DO PARLAMENTAR</td>\n",
              "      <td>...</td>\n",
              "      <td>2021</td>\n",
              "      <td>0</td>\n",
              "      <td>NaN</td>\n",
              "      <td>NaN</td>\n",
              "      <td>1751285</td>\n",
              "      <td>NaN</td>\n",
              "      <td>NaN</td>\n",
              "      <td>2439</td>\n",
              "      <td>7165315</td>\n",
              "      <td>http://camara.leg.br/cota-parlamentar/nota-fis...</td>\n",
              "    </tr>\n",
              "    <tr>\n",
              "      <th>876</th>\n",
              "      <td>LIDERANÇA DO SOLIDARIEDADE</td>\n",
              "      <td>NaN</td>\n",
              "      <td>NaN</td>\n",
              "      <td>NaN</td>\n",
              "      <td>2019</td>\n",
              "      <td>NaN</td>\n",
              "      <td>SOLIDARIEDADE</td>\n",
              "      <td>56</td>\n",
              "      <td>13</td>\n",
              "      <td>FORNECIMENTO DE ALIMENTAÇÃO DO PARLAMENTAR</td>\n",
              "      <td>...</td>\n",
              "      <td>2019</td>\n",
              "      <td>0</td>\n",
              "      <td>NaN</td>\n",
              "      <td>NaN</td>\n",
              "      <td>1659293</td>\n",
              "      <td>NaN</td>\n",
              "      <td>NaN</td>\n",
              "      <td>2864</td>\n",
              "      <td>6978036</td>\n",
              "      <td>http://camara.leg.br/cota-parlamentar/nota-fis...</td>\n",
              "    </tr>\n",
              "    <tr>\n",
              "      <th>593</th>\n",
              "      <td>LIDERANÇA DO PT</td>\n",
              "      <td>NaN</td>\n",
              "      <td>NaN</td>\n",
              "      <td>NaN</td>\n",
              "      <td>2019</td>\n",
              "      <td>NaN</td>\n",
              "      <td>PT</td>\n",
              "      <td>56</td>\n",
              "      <td>13</td>\n",
              "      <td>FORNECIMENTO DE ALIMENTAÇÃO DO PARLAMENTAR</td>\n",
              "      <td>...</td>\n",
              "      <td>2019</td>\n",
              "      <td>0</td>\n",
              "      <td>NaN</td>\n",
              "      <td>NaN</td>\n",
              "      <td>1583550</td>\n",
              "      <td>NaN</td>\n",
              "      <td>NaN</td>\n",
              "      <td>2439</td>\n",
              "      <td>6803514</td>\n",
              "      <td>http://camara.leg.br/cota-parlamentar/nota-fis...</td>\n",
              "    </tr>\n",
              "    <tr>\n",
              "      <th>253</th>\n",
              "      <td>LIDERANÇA DO PODEMOS</td>\n",
              "      <td>NaN</td>\n",
              "      <td>NaN</td>\n",
              "      <td>NaN</td>\n",
              "      <td>2019</td>\n",
              "      <td>NaN</td>\n",
              "      <td>PODEMOS</td>\n",
              "      <td>56</td>\n",
              "      <td>13</td>\n",
              "      <td>FORNECIMENTO DE ALIMENTAÇÃO DO PARLAMENTAR</td>\n",
              "      <td>...</td>\n",
              "      <td>2019</td>\n",
              "      <td>0</td>\n",
              "      <td>NaN</td>\n",
              "      <td>NaN</td>\n",
              "      <td>1654357</td>\n",
              "      <td>NaN</td>\n",
              "      <td>NaN</td>\n",
              "      <td>3172</td>\n",
              "      <td>6966460</td>\n",
              "      <td>https://www.camara.leg.br/cota-parlamentar/doc...</td>\n",
              "    </tr>\n",
              "    <tr>\n",
              "      <th>794</th>\n",
              "      <td>LIDERANÇA DO SOLIDARIEDADE</td>\n",
              "      <td>NaN</td>\n",
              "      <td>NaN</td>\n",
              "      <td>NaN</td>\n",
              "      <td>2019</td>\n",
              "      <td>NaN</td>\n",
              "      <td>SOLIDARIEDADE</td>\n",
              "      <td>56</td>\n",
              "      <td>9</td>\n",
              "      <td>PASSAGEM AÉREA - REEMBOLSO</td>\n",
              "      <td>...</td>\n",
              "      <td>2019</td>\n",
              "      <td>0</td>\n",
              "      <td>JOSE RAMOS DE ALMEIDA JUNIOR;</td>\n",
              "      <td>NaN</td>\n",
              "      <td>1608197</td>\n",
              "      <td>NaN</td>\n",
              "      <td>NaN</td>\n",
              "      <td>2864</td>\n",
              "      <td>6860254</td>\n",
              "      <td>https://www.camara.leg.br/cota-parlamentar/doc...</td>\n",
              "    </tr>\n",
              "  </tbody>\n",
              "</table>\n",
              "<p>5 rows × 31 columns</p>\n",
              "</div>\n",
              "      <button class=\"colab-df-convert\" onclick=\"convertToInteractive('df-414d68ef-7f9f-40ea-9c3f-4c5d5397dae3')\"\n",
              "              title=\"Convert this dataframe to an interactive table.\"\n",
              "              style=\"display:none;\">\n",
              "        \n",
              "  <svg xmlns=\"http://www.w3.org/2000/svg\" height=\"24px\"viewBox=\"0 0 24 24\"\n",
              "       width=\"24px\">\n",
              "    <path d=\"M0 0h24v24H0V0z\" fill=\"none\"/>\n",
              "    <path d=\"M18.56 5.44l.94 2.06.94-2.06 2.06-.94-2.06-.94-.94-2.06-.94 2.06-2.06.94zm-11 1L8.5 8.5l.94-2.06 2.06-.94-2.06-.94L8.5 2.5l-.94 2.06-2.06.94zm10 10l.94 2.06.94-2.06 2.06-.94-2.06-.94-.94-2.06-.94 2.06-2.06.94z\"/><path d=\"M17.41 7.96l-1.37-1.37c-.4-.4-.92-.59-1.43-.59-.52 0-1.04.2-1.43.59L10.3 9.45l-7.72 7.72c-.78.78-.78 2.05 0 2.83L4 21.41c.39.39.9.59 1.41.59.51 0 1.02-.2 1.41-.59l7.78-7.78 2.81-2.81c.8-.78.8-2.07 0-2.86zM5.41 20L4 18.59l7.72-7.72 1.47 1.35L5.41 20z\"/>\n",
              "  </svg>\n",
              "      </button>\n",
              "      \n",
              "  <style>\n",
              "    .colab-df-container {\n",
              "      display:flex;\n",
              "      flex-wrap:wrap;\n",
              "      gap: 12px;\n",
              "    }\n",
              "\n",
              "    .colab-df-convert {\n",
              "      background-color: #E8F0FE;\n",
              "      border: none;\n",
              "      border-radius: 50%;\n",
              "      cursor: pointer;\n",
              "      display: none;\n",
              "      fill: #1967D2;\n",
              "      height: 32px;\n",
              "      padding: 0 0 0 0;\n",
              "      width: 32px;\n",
              "    }\n",
              "\n",
              "    .colab-df-convert:hover {\n",
              "      background-color: #E2EBFA;\n",
              "      box-shadow: 0px 1px 2px rgba(60, 64, 67, 0.3), 0px 1px 3px 1px rgba(60, 64, 67, 0.15);\n",
              "      fill: #174EA6;\n",
              "    }\n",
              "\n",
              "    [theme=dark] .colab-df-convert {\n",
              "      background-color: #3B4455;\n",
              "      fill: #D2E3FC;\n",
              "    }\n",
              "\n",
              "    [theme=dark] .colab-df-convert:hover {\n",
              "      background-color: #434B5C;\n",
              "      box-shadow: 0px 1px 3px 1px rgba(0, 0, 0, 0.15);\n",
              "      filter: drop-shadow(0px 1px 2px rgba(0, 0, 0, 0.3));\n",
              "      fill: #FFFFFF;\n",
              "    }\n",
              "  </style>\n",
              "\n",
              "      <script>\n",
              "        const buttonEl =\n",
              "          document.querySelector('#df-414d68ef-7f9f-40ea-9c3f-4c5d5397dae3 button.colab-df-convert');\n",
              "        buttonEl.style.display =\n",
              "          google.colab.kernel.accessAllowed ? 'block' : 'none';\n",
              "\n",
              "        async function convertToInteractive(key) {\n",
              "          const element = document.querySelector('#df-414d68ef-7f9f-40ea-9c3f-4c5d5397dae3');\n",
              "          const dataTable =\n",
              "            await google.colab.kernel.invokeFunction('convertToInteractive',\n",
              "                                                     [key], {});\n",
              "          if (!dataTable) return;\n",
              "\n",
              "          const docLinkHtml = 'Like what you see? Visit the ' +\n",
              "            '<a target=\"_blank\" href=https://colab.research.google.com/notebooks/data_table.ipynb>data table notebook</a>'\n",
              "            + ' to learn more about interactive tables.';\n",
              "          element.innerHTML = '';\n",
              "          dataTable['output_type'] = 'display_data';\n",
              "          await google.colab.output.renderOutput(dataTable, element);\n",
              "          const docLink = document.createElement('div');\n",
              "          docLink.innerHTML = docLinkHtml;\n",
              "          element.appendChild(docLink);\n",
              "        }\n",
              "      </script>\n",
              "    </div>\n",
              "  </div>\n",
              "  "
            ]
          },
          "metadata": {},
          "execution_count": 66
        }
      ],
      "source": [
        "#Verificando o funcionamento da atribuição\n",
        "df_copia[df_copia['txNomeParlamentar'].str.match('LIDERANÇA')].sample(5)"
      ]
    },
    {
      "cell_type": "markdown",
      "metadata": {
        "id": "Y1lAHDifTflS"
      },
      "source": [
        "## **4.** Realizando a análise com perguntas"
      ]
    },
    {
      "cell_type": "code",
      "execution_count": 21,
      "metadata": {
        "id": "OCweEFKc84RR"
      },
      "outputs": [],
      "source": [
        "#Criando uma cópia para trabalharmos nas questões e realizar as análises devidas\n",
        "df_2 = df_copia.copy()"
      ]
    },
    {
      "cell_type": "markdown",
      "metadata": {
        "id": "hCg3EIF584RR"
      },
      "source": [
        "### 1. Como se comportam os gastos com cotas parlamentares ao longo do tempo? Existe alguma tendência de aumento ou redução desse custo?"
      ]
    },
    {
      "cell_type": "code",
      "execution_count": 22,
      "metadata": {
        "id": "wdYvKDdJ84RS"
      },
      "outputs": [],
      "source": [
        "#Criando dataframes separados por ano\n",
        "df2019 = df_2[df_2['numAno'] == 2019]\n",
        "df2020 = df_2[df_2['numAno'] == 2020]\n",
        "df2021 = df_2[df_2['numAno'] == 2021]"
      ]
    },
    {
      "cell_type": "code",
      "execution_count": 23,
      "metadata": {
        "id": "apFpTecl84RS",
        "outputId": "593b08fc-b187-4047-e5f8-0b68efd449cd",
        "colab": {
          "base_uri": "https://localhost:8080/"
        }
      },
      "outputs": [
        {
          "output_type": "stream",
          "name": "stdout",
          "text": [
            "Total no período R$ 491,290,961.69\n"
          ]
        }
      ],
      "source": [
        "#Imprimindo total de gastos nos três anos\n",
        "print(f\"Total no período R$ {df_2['vlrDocumento'].sum():,.2f}\")"
      ]
    },
    {
      "cell_type": "code",
      "execution_count": 24,
      "metadata": {
        "id": "XhnlUgQk84RS",
        "outputId": "68a49e8b-ebd0-44c6-d634-a07e9c44b2b9",
        "colab": {
          "base_uri": "https://localhost:8080/"
        }
      },
      "outputs": [
        {
          "output_type": "execute_result",
          "data": {
            "text/plain": [
              "numMes\n",
              "1     15031911.98\n",
              "2     15179993.42\n",
              "3     15887663.75\n",
              "4     18358991.96\n",
              "5     18998139.82\n",
              "6     17418489.29\n",
              "7     17768588.82\n",
              "8     19388708.89\n",
              "9     18845433.28\n",
              "10    20170938.99\n",
              "11    18958231.01\n",
              "12    17587628.42\n",
              "Name: vlrDocumento, dtype: float64"
            ]
          },
          "metadata": {},
          "execution_count": 24
        }
      ],
      "source": [
        "#Soma de gastos agrupados por mês de cada ano\n",
        "df2019.groupby(['numMes'])['vlrDocumento'].sum()"
      ]
    },
    {
      "cell_type": "code",
      "execution_count": 25,
      "metadata": {
        "id": "-4SfAZGa84RS",
        "outputId": "bf41e050-6cb6-4c4e-a4ef-b34ed68bc1f5",
        "scrolled": true,
        "colab": {
          "base_uri": "https://localhost:8080/"
        }
      },
      "outputs": [
        {
          "output_type": "execute_result",
          "data": {
            "text/plain": [
              "numMes\n",
              "1     13608236.49\n",
              "2     16981054.74\n",
              "3     14829053.22\n",
              "4     10676489.54\n",
              "5     11074026.38\n",
              "6     11051403.59\n",
              "7     12214190.91\n",
              "8     13127546.17\n",
              "9     13802390.19\n",
              "10    13844965.14\n",
              "11    16059843.29\n",
              "12    25760481.34\n",
              "Name: vlrDocumento, dtype: float64"
            ]
          },
          "metadata": {},
          "execution_count": 25
        }
      ],
      "source": [
        "df2020.groupby(['numMes'])['vlrDocumento'].sum()"
      ]
    },
    {
      "cell_type": "code",
      "execution_count": 26,
      "metadata": {
        "id": "C1IQQptS84RT",
        "outputId": "8e7ef2f9-c03b-4f9f-8ec1-15d14cb0cd41",
        "colab": {
          "base_uri": "https://localhost:8080/"
        }
      },
      "outputs": [
        {
          "output_type": "execute_result",
          "data": {
            "text/plain": [
              "numMes\n",
              "1    12883504.64\n",
              "2    15504068.70\n",
              "3    14859519.73\n",
              "4    14947054.49\n",
              "5    15865528.96\n",
              "6    14690740.05\n",
              "7    12383295.66\n",
              "8     3532848.83\n",
              "Name: vlrDocumento, dtype: float64"
            ]
          },
          "metadata": {},
          "execution_count": 26
        }
      ],
      "source": [
        "#2021 até julho mais alguns dias de agosto\n",
        "df2021.groupby(['numMes'])['vlrDocumento'].sum()"
      ]
    },
    {
      "cell_type": "code",
      "execution_count": 27,
      "metadata": {
        "id": "HLQWbENU84RT"
      },
      "outputs": [],
      "source": [
        "#Criando uma cópia do dataframe de 2021 para acrescentar os demais meses restantes para criação correta do gráfico seguinte\n",
        "df2021_copia = df2021.copy()\n",
        "df2021_copia = df2021_copia.append({'numMes':9}, ignore_index = True)\n",
        "df2021_copia = df2021_copia.append({'numMes':10}, ignore_index = True)\n",
        "df2021_copia = df2021_copia.append({'numMes':11}, ignore_index = True)\n",
        "df2021_copia = df2021_copia.append({'numMes':12}, ignore_index = True)\n",
        "df2021_copia['numMes'] = df2021_copia['numMes'].astype('int64')"
      ]
    },
    {
      "cell_type": "code",
      "execution_count": 28,
      "metadata": {
        "id": "hiWgixTa84RT",
        "outputId": "5b132084-8fb4-4c5a-9348-468178ea6bff",
        "scrolled": true,
        "colab": {
          "base_uri": "https://localhost:8080/",
          "height": 350
        }
      },
      "outputs": [
        {
          "output_type": "display_data",
          "data": {
            "text/plain": [
              "<Figure size 1008x360 with 1 Axes>"
            ],
            "image/png": "[encoded data removed]"
          },
          "metadata": {
            "needs_background": "light"
          }
        }
      ],
      "source": [
        "#Gráfico agrupado por mês, com gráfico de barra dos três anos, com linha de tendência (média)\n",
        "plt.figure(figsize = (14, 5))\n",
        "wid = 0.28\n",
        "r1 = np.arange(len(df2019['numMes'].unique()))\n",
        "r2 = [x + wid for x in r1]\n",
        "r3 = [x + wid for x in r2]\n",
        "\n",
        "z = np.polyfit(df_2['numMes'].sort_values().unique(), (df_2.groupby(['numMes'])['vlrDocumento'].sum().sort_values())/3, 1)\n",
        "p = np.poly1d(z)\n",
        "plt.plot(df_2['numMes'].sort_values().unique(), p(df_2['numMes'].sort_values().unique()), 'r--', label = 'Linha de Tendência')\n",
        "\n",
        "plt.bar(r1, df2019.groupby(['numMes'])['vlrDocumento'].sum(), width = wid, label = 'Ano de 2019', color = '#7CFC00')\n",
        "plt.bar(r2, df2020.groupby(['numMes'])['vlrDocumento'].sum(), width = wid, label = 'Ano de 2020', color = '#008000')\n",
        "plt.bar(r3, df2021_copia.groupby(['numMes'])['vlrDocumento'].sum(), width = wid, label = 'Ano de 2021', color = '#32CD32')\n",
        "\n",
        "#plt.xticks([r + wid for r in range(df19['numMes'].unique())], ['2019', '2020'])\n",
        "plt.xticks([r + wid for r in range(len(df2019['numMes'].unique()))], df2019['numMes'].sort_values().unique())\n",
        "\n",
        "plt.title('Gráfico de Gastos com Linha de Tendência')\n",
        "plt.xlabel('Range Meses')\n",
        "plt.ylabel('Range Valores R$ (Mi)')\n",
        "\n",
        "plt.legend()\n",
        "plt.grid(axis = 'y')\n",
        "plt.show()"
      ]
    },
    {
      "cell_type": "markdown",
      "metadata": {
        "id": "IXNubzBJ84RT"
      },
      "source": [
        "Conforme é possível analisar em 2019, antes da pandemia, os gastos totais dos parlamentares iniciam com R$ 15.031.911,98, seguindo com os meses seguintes em tendência de alta, alcançando a casa dos 20mi no mês de outubro de 2019. Acompanhando a virada de ano, e, conforme cenário no período, deficit nos gastos aproximando da casa dos 10mi.\n",
        "\n",
        "O destaque é para o mês de dezembro de 2020, onde estourou a faixa dos 25mi."
      ]
    },
    {
      "cell_type": "markdown",
      "metadata": {
        "id": "uyELwaXh84RU"
      },
      "source": [
        "### 2. Qual a média de gastos por parlamentar?"
      ]
    },
    {
      "cell_type": "code",
      "execution_count": 29,
      "metadata": {
        "id": "mzCHXfgj84RU"
      },
      "outputs": [],
      "source": [
        "#Média de gastos agrupada por parlamentar\n",
        "mean = df_2.groupby(['txNomeParlamentar'])['vlrDocumento'].mean()\n",
        "mean = mean.sort_values()\n",
        "mean = mean.tail()"
      ]
    },
    {
      "cell_type": "code",
      "execution_count": 30,
      "metadata": {
        "id": "tv4L5a0XOU0n",
        "outputId": "515fbe8a-b74b-4c8d-b35a-c43ecf5a3b52",
        "colab": {
          "base_uri": "https://localhost:8080/",
          "height": 433
        }
      },
      "outputs": [
        {
          "output_type": "stream",
          "name": "stderr",
          "text": [
            "No handles with labels found to put in legend.\n"
          ]
        },
        {
          "output_type": "display_data",
          "data": {
            "text/plain": [
              "<Figure size 432x288 with 1 Axes>"
            ],
            "image/png": "[encoded data removed]"
          },
          "metadata": {
            "needs_background": "light"
          }
        }
      ],
      "source": [
        "plt.plot(mean, 'go')\n",
        "plt.plot(mean, 'b--')\n",
        "plt.xticks(mean.index, rotation=90)\n",
        "plt.title('Média geral de gastos por parlamentar')\n",
        "plt.xlabel('Nome do Parlamentar')\n",
        "plt.ylabel('Média de gastos')\n",
        "plt.legend()\n",
        "plt.grid(True)\n",
        "plt.show()"
      ]
    },
    {
      "cell_type": "markdown",
      "metadata": {
        "id": "3szmKAUi84RU"
      },
      "source": [
        "O Deputado com a maior média de gastos no período foi José Reinaldo (PSDB - MA), com aproximadamente R$ 13 mil reais gastos por mês em cotas parlamentares, seguido por Alberto Fraga (DEM - DF), com uma média de R$ 10 mil gastos por mês no período analisado."
      ]
    },
    {
      "cell_type": "markdown",
      "metadata": {
        "id": "1hCQzlq784RU"
      },
      "source": [
        "### 3. Quais foram os parlamentares que mais e que menos consumiram recursos?"
      ]
    },
    {
      "cell_type": "code",
      "execution_count": 31,
      "metadata": {
        "id": "48DarZ7-84RV",
        "outputId": "780638e5-4e2c-42bf-fcb3-98464fef3c26",
        "colab": {
          "base_uri": "https://localhost:8080/"
        }
      },
      "outputs": [
        {
          "output_type": "execute_result",
          "data": {
            "text/plain": [
              "txNomeParlamentar\n",
              "LUCIANA SANTOS    0.49\n",
              "MANDETTA          0.60\n",
              "DaLua do Rota     1.08\n",
              "SARNEY FILHO      1.25\n",
              "ROCHA             2.53\n",
              "Name: vlrDocumento, dtype: float64"
            ]
          },
          "metadata": {},
          "execution_count": 31
        }
      ],
      "source": [
        "#Criaçao de um dataframe excluíndo os dados negativos de valor, e criando agrupamento ordenado por soma de gastos\n",
        "df_2_2 = df_2[df_2['vlrDocumento'] >= 0]\n",
        "menos_gast = df_2_2.groupby(['txNomeParlamentar'])['vlrDocumento'].sum().sort_values().head(5)\n",
        "menos_gast"
      ]
    },
    {
      "cell_type": "code",
      "execution_count": 32,
      "metadata": {
        "id": "k4vcOJXR84RV",
        "outputId": "52a53354-24ae-4582-da2c-f82a4a7f2bd3",
        "colab": {
          "base_uri": "https://localhost:8080/",
          "height": 373
        }
      },
      "outputs": [
        {
          "output_type": "display_data",
          "data": {
            "text/plain": [
              "<Figure size 432x288 with 1 Axes>"
            ],
            "image/png": "[encoded data removed]"
          },
          "metadata": {
            "needs_background": "light"
          }
        }
      ],
      "source": [
        "plt.plot(menos_gast.index, menos_gast, 'go')\n",
        "plt.plot(menos_gast.index, menos_gast, 'b--', label = 'Gastos Parlamentares')\n",
        "\n",
        "plt.xticks(menos_gast.index, rotation=90)\n",
        "\n",
        "plt.title('Gráfico de Gastos [Menos]')\n",
        "plt.xlabel('Range Parlamentar')\n",
        "plt.ylabel('Range Valor (R$))')\n",
        "\n",
        "plt.legend()\n",
        "plt.grid(True)\n",
        "plt.show()"
      ]
    },
    {
      "cell_type": "code",
      "execution_count": 33,
      "metadata": {
        "id": "98Ja9K1J84RV",
        "outputId": "246301e6-30a8-4249-885e-4a2a08d40aa0",
        "colab": {
          "base_uri": "https://localhost:8080/"
        }
      },
      "outputs": [
        {
          "output_type": "execute_result",
          "data": {
            "text/plain": [
              "txNomeParlamentar\n",
              "Jéssica Sales         1416133.42\n",
              "Wellington Roberto    1385090.81\n",
              "Perpétua Almeida      1376839.42\n",
              "Silas Câmara          1373755.01\n",
              "Jesus Sérgio          1360451.70\n",
              "Name: vlrDocumento, dtype: float64"
            ]
          },
          "metadata": {},
          "execution_count": 33
        }
      ],
      "source": [
        "#Agrupamento de gastos de parlamentar do maior para menor\n",
        "mais_gast = df_2.groupby(['txNomeParlamentar'])['vlrDocumento'].sum().sort_values(ascending = False).head(5)\n",
        "mais_gast"
      ]
    },
    {
      "cell_type": "code",
      "execution_count": 34,
      "metadata": {
        "id": "iH2DdzFF84RV",
        "outputId": "f0f42f59-3776-40ac-d943-eca64f18a67f",
        "colab": {
          "base_uri": "https://localhost:8080/",
          "height": 380
        }
      },
      "outputs": [
        {
          "output_type": "display_data",
          "data": {
            "text/plain": [
              "<Figure size 432x288 with 1 Axes>"
            ],
            "image/png": "[encoded data removed]"
          },
          "metadata": {
            "needs_background": "light"
          }
        }
      ],
      "source": [
        "plt.plot(mais_gast.index, mais_gast, 'go')\n",
        "plt.plot(mais_gast.index, mais_gast, 'b--', label = 'Gastos Parlamentares')\n",
        "\n",
        "plt.xticks(mais_gast.index, rotation = 90)\n",
        "\n",
        "plt.title('Gráfico de Gastos [Mais]')\n",
        "plt.xlabel('Range Parlamentar')\n",
        "plt.ylabel('Range Valor R$ (Mi)')\n",
        "\n",
        "plt.legend()\n",
        "plt.grid(True)\n",
        "plt.show()"
      ]
    },
    {
      "cell_type": "markdown",
      "metadata": {
        "id": "lsWDXfWm84RW"
      },
      "source": [
        "Aqui podemos notar que o deputado que mais consumiu recursos foi a Jéssica Sales, atingindo a marca de mais de R$ 1,41 Mi no período de 2019 até 2021. Já o que menos consumiu recursos públicos foi a deputada Luciana Santos, utilizando apenas 50 reais da verba, com despesas telefônicas."
      ]
    },
    {
      "cell_type": "markdown",
      "metadata": {
        "id": "y2fpc13184RW"
      },
      "source": [
        "### 4. Quais são as categorias de despesas mais onerosas dentre os recursos destinados às cotas parlamentares?"
      ]
    },
    {
      "cell_type": "code",
      "execution_count": 35,
      "metadata": {
        "id": "Ws_1KoBx84RW",
        "outputId": "c95d53c0-77bc-4ac6-934b-2902cfb5df06",
        "colab": {
          "base_uri": "https://localhost:8080/"
        }
      },
      "outputs": [
        {
          "output_type": "execute_result",
          "data": {
            "text/plain": [
              "txtDescricao\n",
              "PARTICIPAÇÃO EM CURSO, PALESTRA OU EVENTO SIMILAR            1.539535e+05\n",
              "PASSAGENS TERRESTRES, MARÍTIMAS OU FLUVIAIS                  1.940142e+05\n",
              "LOCAÇÃO OU FRETAMENTO DE EMBARCAÇÕES                         4.450000e+05\n",
              "ASSINATURA DE PUBLICAÇÕES                                    5.832491e+05\n",
              "SERVIÇO DE TÁXI, PEDÁGIO E ESTACIONAMENTO                    1.836470e+06\n",
              "FORNECIMENTO DE ALIMENTAÇÃO DO PARLAMENTAR                   2.023309e+06\n",
              "SERVIÇO DE SEGURANÇA PRESTADO POR EMPRESA ESPECIALIZADA.     2.617691e+06\n",
              "LOCAÇÃO OU FRETAMENTO DE AERONAVES                           3.542367e+06\n",
              "HOSPEDAGEM ,EXCETO DO PARLAMENTAR NO DISTRITO FEDERAL.       3.610273e+06\n",
              "SERVIÇOS POSTAIS                                             3.998291e+06\n",
              "PASSAGEM AÉREA - REEMBOLSO                                   5.917361e+06\n",
              "TELEFONIA                                                    1.237999e+07\n",
              "PASSAGEM AÉREA - SIGEPA                                      2.060582e+07\n",
              "COMBUSTÍVEIS E LUBRIFICANTES.                                3.643998e+07\n",
              "CONSULTORIAS, PESQUISAS E TRABALHOS TÉCNICOS.                5.627142e+07\n",
              "MANUTENÇÃO DE ESCRITÓRIO DE APOIO À ATIVIDADE PARLAMENTAR    6.254503e+07\n",
              "LOCAÇÃO OU FRETAMENTO DE VEÍCULOS AUTOMOTORES                6.781413e+07\n",
              "PASSAGEM AÉREA - RPA                                         7.241028e+07\n",
              "DIVULGAÇÃO DA ATIVIDADE PARLAMENTAR.                         1.379023e+08\n",
              "Name: vlrDocumento, dtype: float64"
            ]
          },
          "metadata": {},
          "execution_count": 35
        }
      ],
      "source": [
        "#Agrupamento de gastos por categoria, somando o total e ordenando do maior para o menor\n",
        "categoria_oner = df_2.groupby(['txtDescricao'])['vlrDocumento'].sum().sort_values(ascending = True)\n",
        "categoria_oner"
      ]
    },
    {
      "cell_type": "code",
      "execution_count": 36,
      "metadata": {
        "id": "pYgVOpl884Ra",
        "outputId": "79ffe74b-2031-4d05-9b12-3a10b27390fe",
        "colab": {
          "base_uri": "https://localhost:8080/",
          "height": 350
        }
      },
      "outputs": [
        {
          "output_type": "display_data",
          "data": {
            "text/plain": [
              "<Figure size 720x360 with 1 Axes>"
            ],
            "image/png": "[encoded data removed]"
          },
          "metadata": {
            "needs_background": "light"
          }
        }
      ],
      "source": [
        "#Plotando gráfico barras na horizontal para meior visualização\n",
        "plt.figure(figsize = (10, 5))\n",
        "plt.barh(categoria_oner.index, categoria_oner, color = 'g')\n",
        "\n",
        "#plt.xticks(categoria_oner.index)\n",
        "\n",
        "plt.title('Maiores Gastos de acordo com Categoria')\n",
        "plt.xlabel('Range Valor R$ (mi)')\n",
        "plt.ylabel('Range Categorias')\n",
        "\n",
        "plt.show()"
      ]
    },
    {
      "cell_type": "code",
      "execution_count": 37,
      "metadata": {
        "id": "5qkMbx_W84Ra",
        "outputId": "c9cc5f1b-f338-402d-baef-9be3abaed16f",
        "colab": {
          "base_uri": "https://localhost:8080/"
        }
      },
      "outputs": [
        {
          "output_type": "execute_result",
          "data": {
            "text/plain": [
              "txtDescricao\n",
              "ASSINATURA DE PUBLICAÇÕES                        5.832491e+05\n",
              "FORNECIMENTO DE ALIMENTAÇÃO DO PARLAMENTAR       2.023309e+06\n",
              "COMBUSTÍVEIS E LUBRIFICANTES.                    3.643998e+07\n",
              "CONSULTORIAS, PESQUISAS E TRABALHOS TÉCNICOS.    5.627142e+07\n",
              "DIVULGAÇÃO DA ATIVIDADE PARLAMENTAR.             1.379023e+08\n",
              "Name: vlrDocumento, dtype: float64"
            ]
          },
          "metadata": {},
          "execution_count": 37
        }
      ],
      "source": [
        "categoria_oner2 = df_2.groupby(['txtDescricao'])['vlrDocumento'].sum().head().sort_values(ascending = True)\n",
        "categoria_oner2"
      ]
    },
    {
      "cell_type": "code",
      "execution_count": 38,
      "metadata": {
        "id": "EXQtUwym84Rb",
        "outputId": "0c6d7f74-b420-4e51-bb40-0e9d55b94728",
        "colab": {
          "base_uri": "https://localhost:8080/",
          "height": 357
        }
      },
      "outputs": [
        {
          "output_type": "display_data",
          "data": {
            "text/plain": [
              "<Figure size 432x432 with 1 Axes>"
            ],
            "image/png": "[encoded data removed]"
          },
          "metadata": {}
        }
      ],
      "source": [
        "#Plotando em gráfico com porcentagem para melhor visualização\n",
        "labels = categoria_oner2.index\n",
        "sizes = categoria_oner2\n",
        "\n",
        "explode = (0, 0, 0, 0, 0.2)\n",
        "\n",
        "fig1, ax1 = plt.subplots(figsize=(6, 6))\n",
        "\n",
        "cc = ['#32CD32', '#00FF00', '#7CFC00', '#006400', '#008000']\n",
        "\n",
        "ax1.pie(sizes, explode = explode, labels = labels, autopct = '%1.1f%%', shadow = True, startangle = 90, colors = cc)\n",
        "\n",
        "ax1.axis('equal')\n",
        "plt.show()"
      ]
    },
    {
      "cell_type": "markdown",
      "metadata": {
        "id": "dea8yk0q84Rb"
      },
      "source": [
        "Verificamos que os gastos com divulgação de atividade parlamentar são a maioria, com aproximadamente 59,1% dos gastos entre todas as categorias."
      ]
    },
    {
      "cell_type": "markdown",
      "metadata": {
        "id": "o1h22WBN84Rb"
      },
      "source": [
        "### 5. Quais são os trechos de viagem mais recorrentes entre as despesas de viagem?"
      ]
    },
    {
      "cell_type": "code",
      "execution_count": 39,
      "metadata": {
        "id": "C2UEIy0o84Rb",
        "outputId": "30864207-4546-422f-b372-4d23acfb9833",
        "colab": {
          "base_uri": "https://localhost:8080/"
        }
      },
      "outputs": [
        {
          "output_type": "execute_result",
          "data": {
            "text/plain": [
              "txtTrecho\n",
              "BSB/BSB    9890\n",
              "BSB/CGH    5083\n",
              "CGH/BSB    4912\n",
              "BSB/SDU    4134\n",
              "SDU/BSB    3987\n",
              "Name: txtTrecho, dtype: int64"
            ]
          },
          "metadata": {},
          "execution_count": 39
        }
      ],
      "source": [
        "#Agrupamento da contagem de viagens por trecho, as 5 maiores\n",
        "trechos_recorr = df_2.groupby(['txtTrecho'])['txtTrecho'].count().sort_values(ascending = False).head(5)\n",
        "trechos_recorr"
      ]
    },
    {
      "cell_type": "code",
      "execution_count": 40,
      "metadata": {
        "id": "RLO8iWG484Rc",
        "outputId": "00262db4-e2fd-42fa-b239-42b710629fb1",
        "colab": {
          "base_uri": "https://localhost:8080/",
          "height": 357
        }
      },
      "outputs": [
        {
          "output_type": "display_data",
          "data": {
            "text/plain": [
              "<Figure size 432x432 with 1 Axes>"
            ],
            "image/png": "[encoded data removed]"
          },
          "metadata": {}
        }
      ],
      "source": [
        "#Plotando em gráfico com porcentagem para melhor visualização\n",
        "labels = trechos_recorr.index\n",
        "sizes = trechos_recorr\n",
        "\n",
        "explode = (0.2, 0, 0, 0, 0)\n",
        "\n",
        "fig1, ax1 = plt.subplots(figsize=(6, 6))\n",
        "\n",
        "cc = ['#32CD32', '#00FF00', '#7CFC00', '#006400', '#008000']\n",
        "\n",
        "ax1.pie(sizes, explode = explode, labels = labels, autopct = '%1.1f%%', shadow = False, startangle = 90, colors = cc)\n",
        "\n",
        "ax1.axis('equal')\n",
        "plt.show()"
      ]
    },
    {
      "cell_type": "markdown",
      "metadata": {
        "id": "WHa2drCF84Rd"
      },
      "source": [
        "A maior parte dos gastos com transporte é derivada de viagens dentro de Brasilia (BSB), atingindo o percentual de 35,3% dos gastos totais. \n",
        "\n",
        "Lembrando que gastos com transporte englobam tanto o valor de gasolina gasto quanto passagens de avião e locação de carros."
      ]
    },
    {
      "cell_type": "markdown",
      "metadata": {
        "id": "n8Ec45lM84Rd"
      },
      "source": [
        "### 6. Qual a média de gastos por estado?"
      ]
    },
    {
      "cell_type": "code",
      "execution_count": 41,
      "metadata": {
        "id": "maUF3EN-84Rd",
        "outputId": "53778728-1820-4729-900f-2a698c585b0b",
        "scrolled": true,
        "colab": {
          "base_uri": "https://localhost:8080/"
        }
      },
      "outputs": [
        {
          "output_type": "execute_result",
          "data": {
            "text/plain": [
              "sgUF\n",
              "SC     564.018704\n",
              "RS     568.061800\n",
              "MG     690.850698\n",
              "PR     691.593533\n",
              "SP     692.750580\n",
              "RJ     803.591608\n",
              "MT     805.568393\n",
              "RN     847.517948\n",
              "PE     868.561441\n",
              "RO     869.159740\n",
              "MS     912.584921\n",
              "TO     920.312509\n",
              "ES     936.424195\n",
              "BA     979.921451\n",
              "PB    1075.305504\n",
              "CE    1245.679204\n",
              "PA    1257.199314\n",
              "GO    1285.133295\n",
              "MA    1376.814856\n",
              "SE    1431.695723\n",
              "AL    1473.456565\n",
              "PI    1495.355586\n",
              "DF    1553.381828\n",
              "AC    1601.271119\n",
              "AM    1606.099154\n",
              "RR    1664.401116\n",
              "AP    1944.971260\n",
              "Name: vlrDocumento, dtype: float64"
            ]
          },
          "metadata": {},
          "execution_count": 41
        }
      ],
      "source": [
        "#Média de gastos por estados\n",
        "media_estados = df_2.groupby(['sgUF'])['vlrDocumento'].mean().sort_values()\n",
        "media_estados"
      ]
    },
    {
      "cell_type": "code",
      "execution_count": 42,
      "metadata": {
        "id": "ghgmPs6o84Re",
        "outputId": "1f39aad3-4ab8-4f8d-a10d-a3e5bf9e1c4f",
        "colab": {
          "base_uri": "https://localhost:8080/"
        }
      },
      "outputs": [
        {
          "output_type": "execute_result",
          "data": {
            "text/plain": [
              "sgUF\n",
              "DF     4385196.90\n",
              "RO     6529127.97\n",
              "MS     7273301.82\n",
              "MT     7459563.32\n",
              "RN     8630275.26\n",
              "TO     8630690.71\n",
              "SE     8767704.61\n",
              "ES     8911012.64\n",
              "RR     8996088.03\n",
              "AM     9191705.46\n",
              "AL     9767543.57\n",
              "AP    10144970.09\n",
              "AC    10731719.04\n",
              "PI    10892170.09\n",
              "SC    11223972.21\n",
              "PB    13685413.15\n",
              "GO    14541283.23\n",
              "PA    18106184.52\n",
              "MA    19842655.70\n",
              "CE    24455174.13\n",
              "PE    24573340.28\n",
              "RS    27532251.28\n",
              "PR    28919675.19\n",
              "RJ    40721201.15\n",
              "BA    42460976.39\n",
              "MG    45038629.57\n",
              "SP    58103069.37\n",
              "Name: vlrDocumento, dtype: float64"
            ]
          },
          "metadata": {},
          "execution_count": 42
        }
      ],
      "source": [
        "media_estados2 = df_2.groupby(['sgUF'])['vlrDocumento'].sum().sort_values()\n",
        "media_estados2"
      ]
    },
    {
      "cell_type": "code",
      "execution_count": 43,
      "metadata": {
        "id": "UhUMRBQ-84Re",
        "outputId": "9aaa9e9c-3619-4e56-9f87-452e0331e349",
        "colab": {
          "base_uri": "https://localhost:8080/",
          "height": 350
        }
      },
      "outputs": [
        {
          "output_type": "display_data",
          "data": {
            "text/plain": [
              "<Figure size 864x360 with 1 Axes>"
            ],
            "image/png": "[encoded data removed]"
          },
          "metadata": {
            "needs_background": "light"
          }
        }
      ],
      "source": [
        "#Plotando em gráfico de barras a média dos estados, na ordem do maior para menor\n",
        "plt.figure(figsize = (12, 5))\n",
        "plt.bar(media_estados.index, media_estados, color = 'g', label = 'ESTADOS')\n",
        "#plt.plot(media_estados.index, media_estados, 'r--')\n",
        "\n",
        "#plt.xticks(media_estados.index)\n",
        "plt.title('Gráfico de Gastos Parlamentar por Estados')\n",
        "plt.xlabel('Range Estados')\n",
        "plt.ylabel('Range Valor R$ (mi)')\n",
        "\n",
        "plt.legend()\n",
        "plt.show()"
      ]
    },
    {
      "cell_type": "markdown",
      "metadata": {
        "id": "a9iBIwPa84Rf"
      },
      "source": [
        "Aqui podemos notar a região norte dominando, sendo o Amapá campeão em gastos parlamentares, com somados aproximadamente 2 bilhões em reais gastos nesses 3 anos."
      ]
    },
    {
      "cell_type": "markdown",
      "metadata": {
        "id": "KDlWL3TP9IPV"
      },
      "source": [
        "### 7. Qual é o valor total de gastos por estado?"
      ]
    },
    {
      "cell_type": "code",
      "execution_count": 44,
      "metadata": {
        "colab": {
          "base_uri": "https://localhost:8080/",
          "height": 896
        },
        "id": "iRUdUlFD9Ji6",
        "outputId": "06a869dd-878a-4960-f96d-ca7acc0003f9"
      },
      "outputs": [
        {
          "output_type": "execute_result",
          "data": {
            "text/plain": [
              "<pandas.io.formats.style.Styler at 0x7f324955c250>"
            ],
            "text/html": [
              "<style type=\"text/css\">\n",
              "#T_b4341_row0_col1 {\n",
              "  background-color: #b40426;\n",
              "  color: #f1f1f1;\n",
              "}\n",
              "#T_b4341_row1_col1 {\n",
              "  background-color: #ed8366;\n",
              "  color: #f1f1f1;\n",
              "}\n",
              "#T_b4341_row2_col1 {\n",
              "  background-color: #f6a283;\n",
              "  color: #000000;\n",
              "}\n",
              "#T_b4341_row3_col1 {\n",
              "  background-color: #f7b79b;\n",
              "  color: #000000;\n",
              "}\n",
              "#T_b4341_row4_col1 {\n",
              "  background-color: #d4dbe6;\n",
              "  color: #000000;\n",
              "}\n",
              "#T_b4341_row5_col1 {\n",
              "  background-color: #cad8ef;\n",
              "  color: #000000;\n",
              "}\n",
              "#T_b4341_row6_col1 {\n",
              "  background-color: #b5cdfa;\n",
              "  color: #000000;\n",
              "}\n",
              "#T_b4341_row7_col1 {\n",
              "  background-color: #b2ccfb;\n",
              "  color: #000000;\n",
              "}\n",
              "#T_b4341_row8_col1 {\n",
              "  background-color: #9abbff;\n",
              "  color: #000000;\n",
              "}\n",
              "#T_b4341_row9_col1 {\n",
              "  background-color: #8db0fe;\n",
              "  color: #000000;\n",
              "}\n",
              "#T_b4341_row10_col1 {\n",
              "  background-color: #7ea1fa;\n",
              "  color: #f1f1f1;\n",
              "}\n",
              "#T_b4341_row11_col1 {\n",
              "  background-color: #6e90f2;\n",
              "  color: #f1f1f1;\n",
              "}\n",
              "#T_b4341_row12_col1 {\n",
              "  background-color: #6180e9;\n",
              "  color: #f1f1f1;\n",
              "}\n",
              "#T_b4341_row13_col1 {\n",
              "  background-color: #5f7fe8;\n",
              "  color: #f1f1f1;\n",
              "}\n",
              "#T_b4341_row14_col1 {\n",
              "  background-color: #5d7ce6;\n",
              "  color: #f1f1f1;\n",
              "}\n",
              "#T_b4341_row15_col1 {\n",
              "  background-color: #5875e1;\n",
              "  color: #f1f1f1;\n",
              "}\n",
              "#T_b4341_row16_col1 {\n",
              "  background-color: #5673e0;\n",
              "  color: #f1f1f1;\n",
              "}\n",
              "#T_b4341_row17_col1, #T_b4341_row18_col1, #T_b4341_row19_col1 {\n",
              "  background-color: #516ddb;\n",
              "  color: #f1f1f1;\n",
              "}\n",
              "#T_b4341_row20_col1 {\n",
              "  background-color: #506bda;\n",
              "  color: #f1f1f1;\n",
              "}\n",
              "#T_b4341_row21_col1 {\n",
              "  background-color: #4f69d9;\n",
              "  color: #f1f1f1;\n",
              "}\n",
              "#T_b4341_row22_col1 {\n",
              "  background-color: #4e68d8;\n",
              "  color: #f1f1f1;\n",
              "}\n",
              "#T_b4341_row23_col1 {\n",
              "  background-color: #4c66d6;\n",
              "  color: #f1f1f1;\n",
              "}\n",
              "#T_b4341_row24_col1 {\n",
              "  background-color: #4a63d3;\n",
              "  color: #f1f1f1;\n",
              "}\n",
              "#T_b4341_row25_col1 {\n",
              "  background-color: #445acc;\n",
              "  color: #f1f1f1;\n",
              "}\n",
              "#T_b4341_row26_col1 {\n",
              "  background-color: #3b4cc0;\n",
              "  color: #f1f1f1;\n",
              "}\n",
              "</style>\n",
              "<table id=\"T_b4341_\" class=\"dataframe\">\n",
              "  <thead>\n",
              "    <tr>\n",
              "      <th class=\"blank level0\" >&nbsp;</th>\n",
              "      <th class=\"col_heading level0 col0\" >sgUF</th>\n",
              "      <th class=\"col_heading level0 col1\" >Valor_Total</th>\n",
              "    </tr>\n",
              "  </thead>\n",
              "  <tbody>\n",
              "    <tr>\n",
              "      <th id=\"T_b4341_level0_row0\" class=\"row_heading level0 row0\" >0</th>\n",
              "      <td id=\"T_b4341_row0_col0\" class=\"data row0 col0\" >SP</td>\n",
              "      <td id=\"T_b4341_row0_col1\" class=\"data row0 col1\" >R$ 52635438.40</td>\n",
              "    </tr>\n",
              "    <tr>\n",
              "      <th id=\"T_b4341_level0_row1\" class=\"row_heading level0 row1\" >1</th>\n",
              "      <td id=\"T_b4341_row1_col0\" class=\"data row1 col0\" >MG</td>\n",
              "      <td id=\"T_b4341_row1_col1\" class=\"data row1 col1\" >R$ 43162671.56</td>\n",
              "    </tr>\n",
              "    <tr>\n",
              "      <th id=\"T_b4341_level0_row2\" class=\"row_heading level0 row2\" >2</th>\n",
              "      <td id=\"T_b4341_row2_col0\" class=\"data row2 col0\" >BA</td>\n",
              "      <td id=\"T_b4341_row2_col1\" class=\"data row2 col1\" >R$ 39441897.60</td>\n",
              "    </tr>\n",
              "    <tr>\n",
              "      <th id=\"T_b4341_level0_row3\" class=\"row_heading level0 row3\" >3</th>\n",
              "      <td id=\"T_b4341_row3_col0\" class=\"data row3 col0\" >RJ</td>\n",
              "      <td id=\"T_b4341_row3_col1\" class=\"data row3 col1\" >R$ 36707801.80</td>\n",
              "    </tr>\n",
              "    <tr>\n",
              "      <th id=\"T_b4341_level0_row4\" class=\"row_heading level0 row4\" >4</th>\n",
              "      <td id=\"T_b4341_row4_col0\" class=\"data row4 col0\" >PR</td>\n",
              "      <td id=\"T_b4341_row4_col1\" class=\"data row4 col1\" >R$ 26785753.60</td>\n",
              "    </tr>\n",
              "    <tr>\n",
              "      <th id=\"T_b4341_level0_row5\" class=\"row_heading level0 row5\" >5</th>\n",
              "      <td id=\"T_b4341_row5_col0\" class=\"data row5 col0\" >RS</td>\n",
              "      <td id=\"T_b4341_row5_col1\" class=\"data row5 col1\" >R$ 25075845.74</td>\n",
              "    </tr>\n",
              "    <tr>\n",
              "      <th id=\"T_b4341_level0_row6\" class=\"row_heading level0 row6\" >6</th>\n",
              "      <td id=\"T_b4341_row6_col0\" class=\"data row6 col0\" >CE</td>\n",
              "      <td id=\"T_b4341_row6_col1\" class=\"data row6 col1\" >R$ 21933892.08</td>\n",
              "    </tr>\n",
              "    <tr>\n",
              "      <th id=\"T_b4341_level0_row7\" class=\"row_heading level0 row7\" >7</th>\n",
              "      <td id=\"T_b4341_row7_col0\" class=\"data row7 col0\" >PE</td>\n",
              "      <td id=\"T_b4341_row7_col1\" class=\"data row7 col1\" >R$ 21591701.23</td>\n",
              "    </tr>\n",
              "    <tr>\n",
              "      <th id=\"T_b4341_level0_row8\" class=\"row_heading level0 row8\" >8</th>\n",
              "      <td id=\"T_b4341_row8_col0\" class=\"data row8 col0\" >MA</td>\n",
              "      <td id=\"T_b4341_row8_col1\" class=\"data row8 col1\" >R$ 18126874.79</td>\n",
              "    </tr>\n",
              "    <tr>\n",
              "      <th id=\"T_b4341_level0_row9\" class=\"row_heading level0 row9\" >9</th>\n",
              "      <td id=\"T_b4341_row9_col0\" class=\"data row9 col0\" >PA</td>\n",
              "      <td id=\"T_b4341_row9_col1\" class=\"data row9 col1\" >R$ 16469118.51</td>\n",
              "    </tr>\n",
              "    <tr>\n",
              "      <th id=\"T_b4341_level0_row10\" class=\"row_heading level0 row10\" >10</th>\n",
              "      <td id=\"T_b4341_row10_col0\" class=\"data row10 col0\" >GO</td>\n",
              "      <td id=\"T_b4341_row10_col1\" class=\"data row10 col1\" >R$ 14416890.65</td>\n",
              "    </tr>\n",
              "    <tr>\n",
              "      <th id=\"T_b4341_level0_row11\" class=\"row_heading level0 row11\" >11</th>\n",
              "      <td id=\"T_b4341_row11_col0\" class=\"data row11 col0\" >PB</td>\n",
              "      <td id=\"T_b4341_row11_col1\" class=\"data row11 col1\" >R$ 12161287.75</td>\n",
              "    </tr>\n",
              "    <tr>\n",
              "      <th id=\"T_b4341_level0_row12\" class=\"row_heading level0 row12\" >12</th>\n",
              "      <td id=\"T_b4341_row12_col0\" class=\"data row12 col0\" >AC</td>\n",
              "      <td id=\"T_b4341_row12_col1\" class=\"data row12 col1\" >R$ 10293532.20</td>\n",
              "    </tr>\n",
              "    <tr>\n",
              "      <th id=\"T_b4341_level0_row13\" class=\"row_heading level0 row13\" >13</th>\n",
              "      <td id=\"T_b4341_row13_col0\" class=\"data row13 col0\" >PI</td>\n",
              "      <td id=\"T_b4341_row13_col1\" class=\"data row13 col1\" >R$ 10105986.48</td>\n",
              "    </tr>\n",
              "    <tr>\n",
              "      <th id=\"T_b4341_level0_row14\" class=\"row_heading level0 row14\" >14</th>\n",
              "      <td id=\"T_b4341_row14_col0\" class=\"data row14 col0\" >SC</td>\n",
              "      <td id=\"T_b4341_row14_col1\" class=\"data row14 col1\" >R$ 9722726.40</td>\n",
              "    </tr>\n",
              "    <tr>\n",
              "      <th id=\"T_b4341_level0_row15\" class=\"row_heading level0 row15\" >15</th>\n",
              "      <td id=\"T_b4341_row15_col0\" class=\"data row15 col0\" >AP</td>\n",
              "      <td id=\"T_b4341_row15_col1\" class=\"data row15 col1\" >R$ 8930724.82</td>\n",
              "    </tr>\n",
              "    <tr>\n",
              "      <th id=\"T_b4341_level0_row16\" class=\"row_heading level0 row16\" >16</th>\n",
              "      <td id=\"T_b4341_row16_col0\" class=\"data row16 col0\" >AM</td>\n",
              "      <td id=\"T_b4341_row16_col1\" class=\"data row16 col1\" >R$ 8698992.79</td>\n",
              "    </tr>\n",
              "    <tr>\n",
              "      <th id=\"T_b4341_level0_row17\" class=\"row_heading level0 row17\" >17</th>\n",
              "      <td id=\"T_b4341_row17_col0\" class=\"data row17 col0\" >ES</td>\n",
              "      <td id=\"T_b4341_row17_col1\" class=\"data row17 col1\" >R$ 7982895.03</td>\n",
              "    </tr>\n",
              "    <tr>\n",
              "      <th id=\"T_b4341_level0_row18\" class=\"row_heading level0 row18\" >18</th>\n",
              "      <td id=\"T_b4341_row18_col0\" class=\"data row18 col0\" >SE</td>\n",
              "      <td id=\"T_b4341_row18_col1\" class=\"data row18 col1\" >R$ 7970503.96</td>\n",
              "    </tr>\n",
              "    <tr>\n",
              "      <th id=\"T_b4341_level0_row19\" class=\"row_heading level0 row19\" >19</th>\n",
              "      <td id=\"T_b4341_row19_col0\" class=\"data row19 col0\" >TO</td>\n",
              "      <td id=\"T_b4341_row19_col1\" class=\"data row19 col1\" >R$ 7916891.67</td>\n",
              "    </tr>\n",
              "    <tr>\n",
              "      <th id=\"T_b4341_level0_row20\" class=\"row_heading level0 row20\" >20</th>\n",
              "      <td id=\"T_b4341_row20_col0\" class=\"data row20 col0\" >RR</td>\n",
              "      <td id=\"T_b4341_row20_col1\" class=\"data row20 col1\" >R$ 7854212.79</td>\n",
              "    </tr>\n",
              "    <tr>\n",
              "      <th id=\"T_b4341_level0_row21\" class=\"row_heading level0 row21\" >21</th>\n",
              "      <td id=\"T_b4341_row21_col0\" class=\"data row21 col0\" >AL</td>\n",
              "      <td id=\"T_b4341_row21_col1\" class=\"data row21 col1\" >R$ 7640373.82</td>\n",
              "    </tr>\n",
              "    <tr>\n",
              "      <th id=\"T_b4341_level0_row22\" class=\"row_heading level0 row22\" >22</th>\n",
              "      <td id=\"T_b4341_row22_col0\" class=\"data row22 col0\" >RN</td>\n",
              "      <td id=\"T_b4341_row22_col1\" class=\"data row22 col1\" >R$ 7500253.34</td>\n",
              "    </tr>\n",
              "    <tr>\n",
              "      <th id=\"T_b4341_level0_row23\" class=\"row_heading level0 row23\" >23</th>\n",
              "      <td id=\"T_b4341_row23_col0\" class=\"data row23 col0\" >MT</td>\n",
              "      <td id=\"T_b4341_row23_col1\" class=\"data row23 col1\" >R$ 7184822.30</td>\n",
              "    </tr>\n",
              "    <tr>\n",
              "      <th id=\"T_b4341_level0_row24\" class=\"row_heading level0 row24\" >24</th>\n",
              "      <td id=\"T_b4341_row24_col0\" class=\"data row24 col0\" >MS</td>\n",
              "      <td id=\"T_b4341_row24_col1\" class=\"data row24 col1\" >R$ 6942314.37</td>\n",
              "    </tr>\n",
              "    <tr>\n",
              "      <th id=\"T_b4341_level0_row25\" class=\"row_heading level0 row25\" >25</th>\n",
              "      <td id=\"T_b4341_row25_col0\" class=\"data row25 col0\" >RO</td>\n",
              "      <td id=\"T_b4341_row25_col1\" class=\"data row25 col1\" >R$ 5926355.59</td>\n",
              "    </tr>\n",
              "    <tr>\n",
              "      <th id=\"T_b4341_level0_row26\" class=\"row_heading level0 row26\" >26</th>\n",
              "      <td id=\"T_b4341_row26_col0\" class=\"data row26 col0\" >DF</td>\n",
              "      <td id=\"T_b4341_row26_col1\" class=\"data row26 col1\" >R$ 4303815.07</td>\n",
              "    </tr>\n",
              "  </tbody>\n",
              "</table>\n"
            ]
          },
          "metadata": {},
          "execution_count": 44
        }
      ],
      "source": [
        "gastos_uftotal = df_copia[['sgUF' , 'vlrLiquido']].groupby('sgUF').sum().sort_values('vlrLiquido', ascending = False).round(2)\n",
        "\n",
        "gastos_uftotal.rename(columns = {'vlrLiquido':'Valor_Total'}, inplace = True)\n",
        "\n",
        "gastos_uftotal = gastos_uftotal.reset_index()\n",
        "\n",
        "gastos_uftotal2 = gastos_uftotal.style.format({'Valor_Total': 'R$ {:.2F}'}).background_gradient(cmap = 'coolwarm')\n",
        "\n",
        "gastos_uftotal2"
      ]
    },
    {
      "cell_type": "code",
      "execution_count": 45,
      "metadata": {
        "colab": {
          "base_uri": "https://localhost:8080/",
          "height": 421
        },
        "id": "BetzrfiE9OqD",
        "outputId": "fc80cbbc-2576-43a9-9370-e731b08b5203"
      },
      "outputs": [
        {
          "output_type": "stream",
          "name": "stdout",
          "text": [
            "\n"
          ]
        },
        {
          "output_type": "display_data",
          "data": {
            "text/plain": [
              "<Figure size 1080x432 with 1 Axes>"
            ],
            "image/png": "[encoded data removed]"
          },
          "metadata": {
            "needs_background": "light"
          }
        }
      ],
      "source": [
        "plt.figure(figsize=(15,6))\n",
        "x = gastos_uftotal.sgUF\n",
        "y = gastos_uftotal['Valor_Total']/1000000\n",
        "plt.grid()\n",
        "plt.title('Despesa Total por Estados')\n",
        "plt.xlabel('Estados')\n",
        "plt.ylabel('Valores em Milhões de Reais ')\n",
        "plt.bar(x,y)\n",
        "print()"
      ]
    },
    {
      "cell_type": "markdown",
      "metadata": {
        "id": "QWjfaVHs9VH9"
      },
      "source": [
        "### 8. Quais estados têm maior número de representantes?"
      ]
    },
    {
      "cell_type": "code",
      "execution_count": 46,
      "metadata": {
        "colab": {
          "base_uri": "https://localhost:8080/",
          "height": 81
        },
        "id": "1BI03Ia99YJc",
        "outputId": "89f8c855-0ce5-4880-b52c-a7d4e92f0b78"
      },
      "outputs": [
        {
          "output_type": "execute_result",
          "data": {
            "text/plain": [
              "  sgUF  Quantidade De Representantes\n",
              "0   SP                           104"
            ],
            "text/html": [
              "\n",
              "  <div id=\"df-594e36eb-8f33-4266-9823-eb6c1bbfb0e9\">\n",
              "    <div class=\"colab-df-container\">\n",
              "      <div>\n",
              "<style scoped>\n",
              "    .dataframe tbody tr th:only-of-type {\n",
              "        vertical-align: middle;\n",
              "    }\n",
              "\n",
              "    .dataframe tbody tr th {\n",
              "        vertical-align: top;\n",
              "    }\n",
              "\n",
              "    .dataframe thead th {\n",
              "        text-align: right;\n",
              "    }\n",
              "</style>\n",
              "<table border=\"1\" class=\"dataframe\">\n",
              "  <thead>\n",
              "    <tr style=\"text-align: right;\">\n",
              "      <th></th>\n",
              "      <th>sgUF</th>\n",
              "      <th>Quantidade De Representantes</th>\n",
              "    </tr>\n",
              "  </thead>\n",
              "  <tbody>\n",
              "    <tr>\n",
              "      <th>0</th>\n",
              "      <td>SP</td>\n",
              "      <td>104</td>\n",
              "    </tr>\n",
              "  </tbody>\n",
              "</table>\n",
              "</div>\n",
              "      <button class=\"colab-df-convert\" onclick=\"convertToInteractive('df-594e36eb-8f33-4266-9823-eb6c1bbfb0e9')\"\n",
              "              title=\"Convert this dataframe to an interactive table.\"\n",
              "              style=\"display:none;\">\n",
              "        \n",
              "  <svg xmlns=\"http://www.w3.org/2000/svg\" height=\"24px\"viewBox=\"0 0 24 24\"\n",
              "       width=\"24px\">\n",
              "    <path d=\"M0 0h24v24H0V0z\" fill=\"none\"/>\n",
              "    <path d=\"M18.56 5.44l.94 2.06.94-2.06 2.06-.94-2.06-.94-.94-2.06-.94 2.06-2.06.94zm-11 1L8.5 8.5l.94-2.06 2.06-.94-2.06-.94L8.5 2.5l-.94 2.06-2.06.94zm10 10l.94 2.06.94-2.06 2.06-.94-2.06-.94-.94-2.06-.94 2.06-2.06.94z\"/><path d=\"M17.41 7.96l-1.37-1.37c-.4-.4-.92-.59-1.43-.59-.52 0-1.04.2-1.43.59L10.3 9.45l-7.72 7.72c-.78.78-.78 2.05 0 2.83L4 21.41c.39.39.9.59 1.41.59.51 0 1.02-.2 1.41-.59l7.78-7.78 2.81-2.81c.8-.78.8-2.07 0-2.86zM5.41 20L4 18.59l7.72-7.72 1.47 1.35L5.41 20z\"/>\n",
              "  </svg>\n",
              "      </button>\n",
              "      \n",
              "  <style>\n",
              "    .colab-df-container {\n",
              "      display:flex;\n",
              "      flex-wrap:wrap;\n",
              "      gap: 12px;\n",
              "    }\n",
              "\n",
              "    .colab-df-convert {\n",
              "      background-color: #E8F0FE;\n",
              "      border: none;\n",
              "      border-radius: 50%;\n",
              "      cursor: pointer;\n",
              "      display: none;\n",
              "      fill: #1967D2;\n",
              "      height: 32px;\n",
              "      padding: 0 0 0 0;\n",
              "      width: 32px;\n",
              "    }\n",
              "\n",
              "    .colab-df-convert:hover {\n",
              "      background-color: #E2EBFA;\n",
              "      box-shadow: 0px 1px 2px rgba(60, 64, 67, 0.3), 0px 1px 3px 1px rgba(60, 64, 67, 0.15);\n",
              "      fill: #174EA6;\n",
              "    }\n",
              "\n",
              "    [theme=dark] .colab-df-convert {\n",
              "      background-color: #3B4455;\n",
              "      fill: #D2E3FC;\n",
              "    }\n",
              "\n",
              "    [theme=dark] .colab-df-convert:hover {\n",
              "      background-color: #434B5C;\n",
              "      box-shadow: 0px 1px 3px 1px rgba(0, 0, 0, 0.15);\n",
              "      filter: drop-shadow(0px 1px 2px rgba(0, 0, 0, 0.3));\n",
              "      fill: #FFFFFF;\n",
              "    }\n",
              "  </style>\n",
              "\n",
              "      <script>\n",
              "        const buttonEl =\n",
              "          document.querySelector('#df-594e36eb-8f33-4266-9823-eb6c1bbfb0e9 button.colab-df-convert');\n",
              "        buttonEl.style.display =\n",
              "          google.colab.kernel.accessAllowed ? 'block' : 'none';\n",
              "\n",
              "        async function convertToInteractive(key) {\n",
              "          const element = document.querySelector('#df-594e36eb-8f33-4266-9823-eb6c1bbfb0e9');\n",
              "          const dataTable =\n",
              "            await google.colab.kernel.invokeFunction('convertToInteractive',\n",
              "                                                     [key], {});\n",
              "          if (!dataTable) return;\n",
              "\n",
              "          const docLinkHtml = 'Like what you see? Visit the ' +\n",
              "            '<a target=\"_blank\" href=https://colab.research.google.com/notebooks/data_table.ipynb>data table notebook</a>'\n",
              "            + ' to learn more about interactive tables.';\n",
              "          element.innerHTML = '';\n",
              "          dataTable['output_type'] = 'display_data';\n",
              "          await google.colab.output.renderOutput(dataTable, element);\n",
              "          const docLink = document.createElement('div');\n",
              "          docLink.innerHTML = docLinkHtml;\n",
              "          element.appendChild(docLink);\n",
              "        }\n",
              "      </script>\n",
              "    </div>\n",
              "  </div>\n",
              "  "
            ]
          },
          "metadata": {},
          "execution_count": 46
        }
      ],
      "source": [
        "parlamentares_uf = df_copia[['txNomeParlamentar', 'sgUF']].drop_duplicates()\n",
        "\n",
        "parlamentares_uf = parlamentares_uf.groupby('sgUF').count().sort_values('txNomeParlamentar', ascending = False)\n",
        "\n",
        "parlamentares_uf.rename(columns = {'txNomeParlamentar':'Quantidade De Representantes'}, inplace = True)\n",
        "\n",
        "parlamentares_uf = parlamentares_uf.reset_index()\n",
        "\n",
        "maximo = parlamentares_uf['Quantidade De Representantes'].max()\n",
        "\n",
        "parlamentares_uf.head(1)\n",
        "\n"
      ]
    },
    {
      "cell_type": "code",
      "execution_count": 47,
      "metadata": {
        "colab": {
          "base_uri": "https://localhost:8080/",
          "height": 421
        },
        "id": "-TlHWDg29bN1",
        "outputId": "2492465f-37d3-4254-d714-ac50cd908e28"
      },
      "outputs": [
        {
          "output_type": "stream",
          "name": "stdout",
          "text": [
            "\n"
          ]
        },
        {
          "output_type": "display_data",
          "data": {
            "text/plain": [
              "<Figure size 1080x432 with 1 Axes>"
            ],
            "image/png": "[encoded data removed]"
          },
          "metadata": {
            "needs_background": "light"
          }
        }
      ],
      "source": [
        "plt.figure(figsize=(15,6))\n",
        "x = parlamentares_uf.sgUF\n",
        "y = parlamentares_uf['Quantidade De Representantes']\n",
        "plt.grid()\n",
        "plt.title('Quantidade De Parlamentares por Estado')\n",
        "plt.xlabel('Estados')\n",
        "plt.ylabel('Número de Representantes')\n",
        "plt.bar(x,y)\n",
        "print()"
      ]
    },
    {
      "cell_type": "markdown",
      "metadata": {
        "id": "oirAEnbo9khS"
      },
      "source": [
        "### 9. Há alguma correlação entre a quantidade de parlamentares por estado e o valor total dos gastos?"
      ]
    },
    {
      "cell_type": "code",
      "execution_count": 48,
      "metadata": {
        "id": "BiUYDCZQ9nu-"
      },
      "outputs": [],
      "source": [
        "gastos_uftotal = df_copia[['sgUF' , 'vlrLiquido']].groupby('sgUF').sum().sort_values('vlrLiquido', ascending = False).round(2)\n",
        "\n",
        "gastos_uftotal.rename(columns = {'vlrLiquido':'Valor_Total'}, inplace = True)\n",
        "\n",
        "gastos_uftotal = gastos_uftotal.reset_index()\n",
        "\n",
        "parlamentares_uf = df_copia[['txNomeParlamentar', 'sgUF']].drop_duplicates()\n",
        "\n",
        "parlamentares_uf = parlamentares_uf.groupby('sgUF').count().sort_values('txNomeParlamentar', ascending = False)\n",
        "\n",
        "parlamentares_uf.rename(columns = {'txNomeParlamentar':'Quantidade De Representantes'}, inplace = True)\n",
        "\n",
        "parlamentares_uf = parlamentares_uf.reset_index()\n",
        "\n",
        "maximo = parlamentares_uf['Quantidade De Representantes'].max()\n",
        "\n"
      ]
    },
    {
      "cell_type": "code",
      "execution_count": 49,
      "metadata": {
        "colab": {
          "base_uri": "https://localhost:8080/",
          "height": 479
        },
        "id": "HUN1IR3q9q9h",
        "outputId": "bdda3ca0-7691-4aa7-d99d-fe7f9a9f7263"
      },
      "outputs": [
        {
          "output_type": "display_data",
          "data": {
            "text/plain": [
              "<Figure size 1440x504 with 2 Axes>"
            ],
            "image/png": "[encoded data removed]"
          },
          "metadata": {
            "needs_background": "light"
          }
        }
      ],
      "source": [
        "y = np.array(gastos_uftotal['Valor_Total']/1000000)\n",
        "x = np.array(gastos_uftotal.sgUF)\n",
        "plt.figure(figsize=(20,7))\n",
        "plt.subplot(1,2,1)\n",
        "plt.grid(axis= 'y')\n",
        "plt.bar(x,y)\n",
        "plt.title('Despesas em Milhões de Reais por Estado')\n",
        "\n",
        "x = np.array(parlamentares_uf.sgUF)\n",
        "y = np.array(parlamentares_uf['Quantidade De Representantes'])\n",
        "plt.subplot(1,2,2)\n",
        "plt.bar(x,y)\n",
        "plt.grid(axis= 'x')\n",
        "plt.title('Número de Deputado por Estados')\n",
        "plt.suptitle('Gráficos')\n",
        "plt.show()"
      ]
    },
    {
      "cell_type": "code",
      "execution_count": 50,
      "metadata": {
        "colab": {
          "base_uri": "https://localhost:8080/",
          "height": 896
        },
        "id": "-Mo4jiNX9xB9",
        "outputId": "52b22a3b-d756-48c9-cabf-37a4d7209fed"
      },
      "outputs": [
        {
          "output_type": "execute_result",
          "data": {
            "text/plain": [
              "    index sgUF  Valor_Total  Quantidade De Representantes\n",
              "0       0   SP  52635438.40                           104\n",
              "1       1   MG  43162671.56                            81\n",
              "2       2   BA  39441897.60                            56\n",
              "3       3   RJ  36707801.80                            82\n",
              "4       4   PR  26785753.60                            46\n",
              "5       5   RS  25075845.74                            47\n",
              "6       6   CE  21933892.08                            39\n",
              "7       7   PE  21591701.23                            38\n",
              "8       8   MA  18126874.79                            34\n",
              "9       9   PA  16469118.51                            27\n",
              "10     10   GO  14416890.65                            27\n",
              "11     11   PB  12161287.75                            20\n",
              "12     12   AC  10293532.20                            14\n",
              "13     13   PI  10105986.48                            15\n",
              "14     14   SC   9722726.40                            30\n",
              "15     15   AP   8930724.82                            15\n",
              "16     16   AM   8698992.79                            14\n",
              "17     17   ES   7982895.03                            17\n",
              "18     18   SE   7970503.96                            12\n",
              "19     19   TO   7916891.67                            12\n",
              "20     20   RR   7854212.79                            13\n",
              "21     21   AL   7640373.82                            14\n",
              "22     22   RN   7500253.34                            13\n",
              "23     23   MT   7184822.30                            15\n",
              "24     24   MS   6942314.37                            16\n",
              "25     25   RO   5926355.59                            13\n",
              "26     26   DF   4303815.07                            15"
            ],
            "text/html": [
              "\n",
              "  <div id=\"df-3cd26384-5855-4015-85e1-cfaa442446da\">\n",
              "    <div class=\"colab-df-container\">\n",
              "      <div>\n",
              "<style scoped>\n",
              "    .dataframe tbody tr th:only-of-type {\n",
              "        vertical-align: middle;\n",
              "    }\n",
              "\n",
              "    .dataframe tbody tr th {\n",
              "        vertical-align: top;\n",
              "    }\n",
              "\n",
              "    .dataframe thead th {\n",
              "        text-align: right;\n",
              "    }\n",
              "</style>\n",
              "<table border=\"1\" class=\"dataframe\">\n",
              "  <thead>\n",
              "    <tr style=\"text-align: right;\">\n",
              "      <th></th>\n",
              "      <th>index</th>\n",
              "      <th>sgUF</th>\n",
              "      <th>Valor_Total</th>\n",
              "      <th>Quantidade De Representantes</th>\n",
              "    </tr>\n",
              "  </thead>\n",
              "  <tbody>\n",
              "    <tr>\n",
              "      <th>0</th>\n",
              "      <td>0</td>\n",
              "      <td>SP</td>\n",
              "      <td>52635438.40</td>\n",
              "      <td>104</td>\n",
              "    </tr>\n",
              "    <tr>\n",
              "      <th>1</th>\n",
              "      <td>1</td>\n",
              "      <td>MG</td>\n",
              "      <td>43162671.56</td>\n",
              "      <td>81</td>\n",
              "    </tr>\n",
              "    <tr>\n",
              "      <th>2</th>\n",
              "      <td>2</td>\n",
              "      <td>BA</td>\n",
              "      <td>39441897.60</td>\n",
              "      <td>56</td>\n",
              "    </tr>\n",
              "    <tr>\n",
              "      <th>3</th>\n",
              "      <td>3</td>\n",
              "      <td>RJ</td>\n",
              "      <td>36707801.80</td>\n",
              "      <td>82</td>\n",
              "    </tr>\n",
              "    <tr>\n",
              "      <th>4</th>\n",
              "      <td>4</td>\n",
              "      <td>PR</td>\n",
              "      <td>26785753.60</td>\n",
              "      <td>46</td>\n",
              "    </tr>\n",
              "    <tr>\n",
              "      <th>5</th>\n",
              "      <td>5</td>\n",
              "      <td>RS</td>\n",
              "      <td>25075845.74</td>\n",
              "      <td>47</td>\n",
              "    </tr>\n",
              "    <tr>\n",
              "      <th>6</th>\n",
              "      <td>6</td>\n",
              "      <td>CE</td>\n",
              "      <td>21933892.08</td>\n",
              "      <td>39</td>\n",
              "    </tr>\n",
              "    <tr>\n",
              "      <th>7</th>\n",
              "      <td>7</td>\n",
              "      <td>PE</td>\n",
              "      <td>21591701.23</td>\n",
              "      <td>38</td>\n",
              "    </tr>\n",
              "    <tr>\n",
              "      <th>8</th>\n",
              "      <td>8</td>\n",
              "      <td>MA</td>\n",
              "      <td>18126874.79</td>\n",
              "      <td>34</td>\n",
              "    </tr>\n",
              "    <tr>\n",
              "      <th>9</th>\n",
              "      <td>9</td>\n",
              "      <td>PA</td>\n",
              "      <td>16469118.51</td>\n",
              "      <td>27</td>\n",
              "    </tr>\n",
              "    <tr>\n",
              "      <th>10</th>\n",
              "      <td>10</td>\n",
              "      <td>GO</td>\n",
              "      <td>14416890.65</td>\n",
              "      <td>27</td>\n",
              "    </tr>\n",
              "    <tr>\n",
              "      <th>11</th>\n",
              "      <td>11</td>\n",
              "      <td>PB</td>\n",
              "      <td>12161287.75</td>\n",
              "      <td>20</td>\n",
              "    </tr>\n",
              "    <tr>\n",
              "      <th>12</th>\n",
              "      <td>12</td>\n",
              "      <td>AC</td>\n",
              "      <td>10293532.20</td>\n",
              "      <td>14</td>\n",
              "    </tr>\n",
              "    <tr>\n",
              "      <th>13</th>\n",
              "      <td>13</td>\n",
              "      <td>PI</td>\n",
              "      <td>10105986.48</td>\n",
              "      <td>15</td>\n",
              "    </tr>\n",
              "    <tr>\n",
              "      <th>14</th>\n",
              "      <td>14</td>\n",
              "      <td>SC</td>\n",
              "      <td>9722726.40</td>\n",
              "      <td>30</td>\n",
              "    </tr>\n",
              "    <tr>\n",
              "      <th>15</th>\n",
              "      <td>15</td>\n",
              "      <td>AP</td>\n",
              "      <td>8930724.82</td>\n",
              "      <td>15</td>\n",
              "    </tr>\n",
              "    <tr>\n",
              "      <th>16</th>\n",
              "      <td>16</td>\n",
              "      <td>AM</td>\n",
              "      <td>8698992.79</td>\n",
              "      <td>14</td>\n",
              "    </tr>\n",
              "    <tr>\n",
              "      <th>17</th>\n",
              "      <td>17</td>\n",
              "      <td>ES</td>\n",
              "      <td>7982895.03</td>\n",
              "      <td>17</td>\n",
              "    </tr>\n",
              "    <tr>\n",
              "      <th>18</th>\n",
              "      <td>18</td>\n",
              "      <td>SE</td>\n",
              "      <td>7970503.96</td>\n",
              "      <td>12</td>\n",
              "    </tr>\n",
              "    <tr>\n",
              "      <th>19</th>\n",
              "      <td>19</td>\n",
              "      <td>TO</td>\n",
              "      <td>7916891.67</td>\n",
              "      <td>12</td>\n",
              "    </tr>\n",
              "    <tr>\n",
              "      <th>20</th>\n",
              "      <td>20</td>\n",
              "      <td>RR</td>\n",
              "      <td>7854212.79</td>\n",
              "      <td>13</td>\n",
              "    </tr>\n",
              "    <tr>\n",
              "      <th>21</th>\n",
              "      <td>21</td>\n",
              "      <td>AL</td>\n",
              "      <td>7640373.82</td>\n",
              "      <td>14</td>\n",
              "    </tr>\n",
              "    <tr>\n",
              "      <th>22</th>\n",
              "      <td>22</td>\n",
              "      <td>RN</td>\n",
              "      <td>7500253.34</td>\n",
              "      <td>13</td>\n",
              "    </tr>\n",
              "    <tr>\n",
              "      <th>23</th>\n",
              "      <td>23</td>\n",
              "      <td>MT</td>\n",
              "      <td>7184822.30</td>\n",
              "      <td>15</td>\n",
              "    </tr>\n",
              "    <tr>\n",
              "      <th>24</th>\n",
              "      <td>24</td>\n",
              "      <td>MS</td>\n",
              "      <td>6942314.37</td>\n",
              "      <td>16</td>\n",
              "    </tr>\n",
              "    <tr>\n",
              "      <th>25</th>\n",
              "      <td>25</td>\n",
              "      <td>RO</td>\n",
              "      <td>5926355.59</td>\n",
              "      <td>13</td>\n",
              "    </tr>\n",
              "    <tr>\n",
              "      <th>26</th>\n",
              "      <td>26</td>\n",
              "      <td>DF</td>\n",
              "      <td>4303815.07</td>\n",
              "      <td>15</td>\n",
              "    </tr>\n",
              "  </tbody>\n",
              "</table>\n",
              "</div>\n",
              "      <button class=\"colab-df-convert\" onclick=\"convertToInteractive('df-3cd26384-5855-4015-85e1-cfaa442446da')\"\n",
              "              title=\"Convert this dataframe to an interactive table.\"\n",
              "              style=\"display:none;\">\n",
              "        \n",
              "  <svg xmlns=\"http://www.w3.org/2000/svg\" height=\"24px\"viewBox=\"0 0 24 24\"\n",
              "       width=\"24px\">\n",
              "    <path d=\"M0 0h24v24H0V0z\" fill=\"none\"/>\n",
              "    <path d=\"M18.56 5.44l.94 2.06.94-2.06 2.06-.94-2.06-.94-.94-2.06-.94 2.06-2.06.94zm-11 1L8.5 8.5l.94-2.06 2.06-.94-2.06-.94L8.5 2.5l-.94 2.06-2.06.94zm10 10l.94 2.06.94-2.06 2.06-.94-2.06-.94-.94-2.06-.94 2.06-2.06.94z\"/><path d=\"M17.41 7.96l-1.37-1.37c-.4-.4-.92-.59-1.43-.59-.52 0-1.04.2-1.43.59L10.3 9.45l-7.72 7.72c-.78.78-.78 2.05 0 2.83L4 21.41c.39.39.9.59 1.41.59.51 0 1.02-.2 1.41-.59l7.78-7.78 2.81-2.81c.8-.78.8-2.07 0-2.86zM5.41 20L4 18.59l7.72-7.72 1.47 1.35L5.41 20z\"/>\n",
              "  </svg>\n",
              "      </button>\n",
              "      \n",
              "  <style>\n",
              "    .colab-df-container {\n",
              "      display:flex;\n",
              "      flex-wrap:wrap;\n",
              "      gap: 12px;\n",
              "    }\n",
              "\n",
              "    .colab-df-convert {\n",
              "      background-color: #E8F0FE;\n",
              "      border: none;\n",
              "      border-radius: 50%;\n",
              "      cursor: pointer;\n",
              "      display: none;\n",
              "      fill: #1967D2;\n",
              "      height: 32px;\n",
              "      padding: 0 0 0 0;\n",
              "      width: 32px;\n",
              "    }\n",
              "\n",
              "    .colab-df-convert:hover {\n",
              "      background-color: #E2EBFA;\n",
              "      box-shadow: 0px 1px 2px rgba(60, 64, 67, 0.3), 0px 1px 3px 1px rgba(60, 64, 67, 0.15);\n",
              "      fill: #174EA6;\n",
              "    }\n",
              "\n",
              "    [theme=dark] .colab-df-convert {\n",
              "      background-color: #3B4455;\n",
              "      fill: #D2E3FC;\n",
              "    }\n",
              "\n",
              "    [theme=dark] .colab-df-convert:hover {\n",
              "      background-color: #434B5C;\n",
              "      box-shadow: 0px 1px 3px 1px rgba(0, 0, 0, 0.15);\n",
              "      filter: drop-shadow(0px 1px 2px rgba(0, 0, 0, 0.3));\n",
              "      fill: #FFFFFF;\n",
              "    }\n",
              "  </style>\n",
              "\n",
              "      <script>\n",
              "        const buttonEl =\n",
              "          document.querySelector('#df-3cd26384-5855-4015-85e1-cfaa442446da button.colab-df-convert');\n",
              "        buttonEl.style.display =\n",
              "          google.colab.kernel.accessAllowed ? 'block' : 'none';\n",
              "\n",
              "        async function convertToInteractive(key) {\n",
              "          const element = document.querySelector('#df-3cd26384-5855-4015-85e1-cfaa442446da');\n",
              "          const dataTable =\n",
              "            await google.colab.kernel.invokeFunction('convertToInteractive',\n",
              "                                                     [key], {});\n",
              "          if (!dataTable) return;\n",
              "\n",
              "          const docLinkHtml = 'Like what you see? Visit the ' +\n",
              "            '<a target=\"_blank\" href=https://colab.research.google.com/notebooks/data_table.ipynb>data table notebook</a>'\n",
              "            + ' to learn more about interactive tables.';\n",
              "          element.innerHTML = '';\n",
              "          dataTable['output_type'] = 'display_data';\n",
              "          await google.colab.output.renderOutput(dataTable, element);\n",
              "          const docLink = document.createElement('div');\n",
              "          docLink.innerHTML = docLinkHtml;\n",
              "          element.appendChild(docLink);\n",
              "        }\n",
              "      </script>\n",
              "    </div>\n",
              "  </div>\n",
              "  "
            ]
          },
          "metadata": {},
          "execution_count": 50
        }
      ],
      "source": [
        "auxiliar = pd.merge(gastos_uftotal,parlamentares_uf, on = ['sgUF'])\n",
        "\n",
        "auxiliar = auxiliar.reset_index()\n",
        "\n",
        "auxiliar.rename(columns = {'Valor_Total\t': 'Valor_Total'}, inplace = True)\n",
        "\n",
        "auxiliar"
      ]
    },
    {
      "cell_type": "markdown",
      "metadata": {
        "id": "pjX-qaBx93s2"
      },
      "source": [
        "Aplicando Normalização Biblioteca MinMaxScaler"
      ]
    },
    {
      "cell_type": "code",
      "execution_count": 51,
      "metadata": {
        "id": "uNfnWLNz95QM"
      },
      "outputs": [],
      "source": [
        "from sklearn.preprocessing import MinMaxScaler\n",
        "\n",
        "scaler = MinMaxScaler()\n",
        "\n",
        "dados_normalizados = scaler.fit_transform(auxiliar[['Valor_Total', 'Quantidade De Representantes']])"
      ]
    },
    {
      "cell_type": "code",
      "execution_count": 52,
      "metadata": {
        "colab": {
          "base_uri": "https://localhost:8080/",
          "height": 896
        },
        "id": "EUbEmXw398Pz",
        "outputId": "281b2daf-bce9-400b-a855-77a18086af91"
      },
      "outputs": [
        {
          "output_type": "execute_result",
          "data": {
            "text/plain": [
              "    Valor_Total  Quantidade De Representantes\n",
              "0      1.000000                      1.000000\n",
              "1      0.804005                      0.750000\n",
              "2      0.727021                      0.478261\n",
              "3      0.670451                      0.760870\n",
              "4      0.465160                      0.369565\n",
              "5      0.429781                      0.380435\n",
              "6      0.364773                      0.293478\n",
              "7      0.357693                      0.282609\n",
              "8      0.286004                      0.239130\n",
              "9      0.251705                      0.163043\n",
              "10     0.209243                      0.163043\n",
              "11     0.162574                      0.086957\n",
              "12     0.123930                      0.021739\n",
              "13     0.120049                      0.032609\n",
              "14     0.112119                      0.195652\n",
              "15     0.095733                      0.032609\n",
              "16     0.090938                      0.021739\n",
              "17     0.076122                      0.054348\n",
              "18     0.075865                      0.000000\n",
              "19     0.074756                      0.000000\n",
              "20     0.073459                      0.010870\n",
              "21     0.069035                      0.021739\n",
              "22     0.066136                      0.010870\n",
              "23     0.059609                      0.032609\n",
              "24     0.054592                      0.043478\n",
              "25     0.033571                      0.010870\n",
              "26     0.000000                      0.032609"
            ],
            "text/html": [
              "\n",
              "  <div id=\"df-0844919d-8c4e-41ba-b53d-e7925a239512\">\n",
              "    <div class=\"colab-df-container\">\n",
              "      <div>\n",
              "<style scoped>\n",
              "    .dataframe tbody tr th:only-of-type {\n",
              "        vertical-align: middle;\n",
              "    }\n",
              "\n",
              "    .dataframe tbody tr th {\n",
              "        vertical-align: top;\n",
              "    }\n",
              "\n",
              "    .dataframe thead th {\n",
              "        text-align: right;\n",
              "    }\n",
              "</style>\n",
              "<table border=\"1\" class=\"dataframe\">\n",
              "  <thead>\n",
              "    <tr style=\"text-align: right;\">\n",
              "      <th></th>\n",
              "      <th>Valor_Total</th>\n",
              "      <th>Quantidade De Representantes</th>\n",
              "    </tr>\n",
              "  </thead>\n",
              "  <tbody>\n",
              "    <tr>\n",
              "      <th>0</th>\n",
              "      <td>1.000000</td>\n",
              "      <td>1.000000</td>\n",
              "    </tr>\n",
              "    <tr>\n",
              "      <th>1</th>\n",
              "      <td>0.804005</td>\n",
              "      <td>0.750000</td>\n",
              "    </tr>\n",
              "    <tr>\n",
              "      <th>2</th>\n",
              "      <td>0.727021</td>\n",
              "      <td>0.478261</td>\n",
              "    </tr>\n",
              "    <tr>\n",
              "      <th>3</th>\n",
              "      <td>0.670451</td>\n",
              "      <td>0.760870</td>\n",
              "    </tr>\n",
              "    <tr>\n",
              "      <th>4</th>\n",
              "      <td>0.465160</td>\n",
              "      <td>0.369565</td>\n",
              "    </tr>\n",
              "    <tr>\n",
              "      <th>5</th>\n",
              "      <td>0.429781</td>\n",
              "      <td>0.380435</td>\n",
              "    </tr>\n",
              "    <tr>\n",
              "      <th>6</th>\n",
              "      <td>0.364773</td>\n",
              "      <td>0.293478</td>\n",
              "    </tr>\n",
              "    <tr>\n",
              "      <th>7</th>\n",
              "      <td>0.357693</td>\n",
              "      <td>0.282609</td>\n",
              "    </tr>\n",
              "    <tr>\n",
              "      <th>8</th>\n",
              "      <td>0.286004</td>\n",
              "      <td>0.239130</td>\n",
              "    </tr>\n",
              "    <tr>\n",
              "      <th>9</th>\n",
              "      <td>0.251705</td>\n",
              "      <td>0.163043</td>\n",
              "    </tr>\n",
              "    <tr>\n",
              "      <th>10</th>\n",
              "      <td>0.209243</td>\n",
              "      <td>0.163043</td>\n",
              "    </tr>\n",
              "    <tr>\n",
              "      <th>11</th>\n",
              "      <td>0.162574</td>\n",
              "      <td>0.086957</td>\n",
              "    </tr>\n",
              "    <tr>\n",
              "      <th>12</th>\n",
              "      <td>0.123930</td>\n",
              "      <td>0.021739</td>\n",
              "    </tr>\n",
              "    <tr>\n",
              "      <th>13</th>\n",
              "      <td>0.120049</td>\n",
              "      <td>0.032609</td>\n",
              "    </tr>\n",
              "    <tr>\n",
              "      <th>14</th>\n",
              "      <td>0.112119</td>\n",
              "      <td>0.195652</td>\n",
              "    </tr>\n",
              "    <tr>\n",
              "      <th>15</th>\n",
              "      <td>0.095733</td>\n",
              "      <td>0.032609</td>\n",
              "    </tr>\n",
              "    <tr>\n",
              "      <th>16</th>\n",
              "      <td>0.090938</td>\n",
              "      <td>0.021739</td>\n",
              "    </tr>\n",
              "    <tr>\n",
              "      <th>17</th>\n",
              "      <td>0.076122</td>\n",
              "      <td>0.054348</td>\n",
              "    </tr>\n",
              "    <tr>\n",
              "      <th>18</th>\n",
              "      <td>0.075865</td>\n",
              "      <td>0.000000</td>\n",
              "    </tr>\n",
              "    <tr>\n",
              "      <th>19</th>\n",
              "      <td>0.074756</td>\n",
              "      <td>0.000000</td>\n",
              "    </tr>\n",
              "    <tr>\n",
              "      <th>20</th>\n",
              "      <td>0.073459</td>\n",
              "      <td>0.010870</td>\n",
              "    </tr>\n",
              "    <tr>\n",
              "      <th>21</th>\n",
              "      <td>0.069035</td>\n",
              "      <td>0.021739</td>\n",
              "    </tr>\n",
              "    <tr>\n",
              "      <th>22</th>\n",
              "      <td>0.066136</td>\n",
              "      <td>0.010870</td>\n",
              "    </tr>\n",
              "    <tr>\n",
              "      <th>23</th>\n",
              "      <td>0.059609</td>\n",
              "      <td>0.032609</td>\n",
              "    </tr>\n",
              "    <tr>\n",
              "      <th>24</th>\n",
              "      <td>0.054592</td>\n",
              "      <td>0.043478</td>\n",
              "    </tr>\n",
              "    <tr>\n",
              "      <th>25</th>\n",
              "      <td>0.033571</td>\n",
              "      <td>0.010870</td>\n",
              "    </tr>\n",
              "    <tr>\n",
              "      <th>26</th>\n",
              "      <td>0.000000</td>\n",
              "      <td>0.032609</td>\n",
              "    </tr>\n",
              "  </tbody>\n",
              "</table>\n",
              "</div>\n",
              "      <button class=\"colab-df-convert\" onclick=\"convertToInteractive('df-0844919d-8c4e-41ba-b53d-e7925a239512')\"\n",
              "              title=\"Convert this dataframe to an interactive table.\"\n",
              "              style=\"display:none;\">\n",
              "        \n",
              "  <svg xmlns=\"http://www.w3.org/2000/svg\" height=\"24px\"viewBox=\"0 0 24 24\"\n",
              "       width=\"24px\">\n",
              "    <path d=\"M0 0h24v24H0V0z\" fill=\"none\"/>\n",
              "    <path d=\"M18.56 5.44l.94 2.06.94-2.06 2.06-.94-2.06-.94-.94-2.06-.94 2.06-2.06.94zm-11 1L8.5 8.5l.94-2.06 2.06-.94-2.06-.94L8.5 2.5l-.94 2.06-2.06.94zm10 10l.94 2.06.94-2.06 2.06-.94-2.06-.94-.94-2.06-.94 2.06-2.06.94z\"/><path d=\"M17.41 7.96l-1.37-1.37c-.4-.4-.92-.59-1.43-.59-.52 0-1.04.2-1.43.59L10.3 9.45l-7.72 7.72c-.78.78-.78 2.05 0 2.83L4 21.41c.39.39.9.59 1.41.59.51 0 1.02-.2 1.41-.59l7.78-7.78 2.81-2.81c.8-.78.8-2.07 0-2.86zM5.41 20L4 18.59l7.72-7.72 1.47 1.35L5.41 20z\"/>\n",
              "  </svg>\n",
              "      </button>\n",
              "      \n",
              "  <style>\n",
              "    .colab-df-container {\n",
              "      display:flex;\n",
              "      flex-wrap:wrap;\n",
              "      gap: 12px;\n",
              "    }\n",
              "\n",
              "    .colab-df-convert {\n",
              "      background-color: #E8F0FE;\n",
              "      border: none;\n",
              "      border-radius: 50%;\n",
              "      cursor: pointer;\n",
              "      display: none;\n",
              "      fill: #1967D2;\n",
              "      height: 32px;\n",
              "      padding: 0 0 0 0;\n",
              "      width: 32px;\n",
              "    }\n",
              "\n",
              "    .colab-df-convert:hover {\n",
              "      background-color: #E2EBFA;\n",
              "      box-shadow: 0px 1px 2px rgba(60, 64, 67, 0.3), 0px 1px 3px 1px rgba(60, 64, 67, 0.15);\n",
              "      fill: #174EA6;\n",
              "    }\n",
              "\n",
              "    [theme=dark] .colab-df-convert {\n",
              "      background-color: #3B4455;\n",
              "      fill: #D2E3FC;\n",
              "    }\n",
              "\n",
              "    [theme=dark] .colab-df-convert:hover {\n",
              "      background-color: #434B5C;\n",
              "      box-shadow: 0px 1px 3px 1px rgba(0, 0, 0, 0.15);\n",
              "      filter: drop-shadow(0px 1px 2px rgba(0, 0, 0, 0.3));\n",
              "      fill: #FFFFFF;\n",
              "    }\n",
              "  </style>\n",
              "\n",
              "      <script>\n",
              "        const buttonEl =\n",
              "          document.querySelector('#df-0844919d-8c4e-41ba-b53d-e7925a239512 button.colab-df-convert');\n",
              "        buttonEl.style.display =\n",
              "          google.colab.kernel.accessAllowed ? 'block' : 'none';\n",
              "\n",
              "        async function convertToInteractive(key) {\n",
              "          const element = document.querySelector('#df-0844919d-8c4e-41ba-b53d-e7925a239512');\n",
              "          const dataTable =\n",
              "            await google.colab.kernel.invokeFunction('convertToInteractive',\n",
              "                                                     [key], {});\n",
              "          if (!dataTable) return;\n",
              "\n",
              "          const docLinkHtml = 'Like what you see? Visit the ' +\n",
              "            '<a target=\"_blank\" href=https://colab.research.google.com/notebooks/data_table.ipynb>data table notebook</a>'\n",
              "            + ' to learn more about interactive tables.';\n",
              "          element.innerHTML = '';\n",
              "          dataTable['output_type'] = 'display_data';\n",
              "          await google.colab.output.renderOutput(dataTable, element);\n",
              "          const docLink = document.createElement('div');\n",
              "          docLink.innerHTML = docLinkHtml;\n",
              "          element.appendChild(docLink);\n",
              "        }\n",
              "      </script>\n",
              "    </div>\n",
              "  </div>\n",
              "  "
            ]
          },
          "metadata": {},
          "execution_count": 52
        }
      ],
      "source": [
        "dados_normalizados = pd.DataFrame(dados_normalizados)\n",
        "\n",
        "dados_normalizados.rename(columns= {0:'Valor_Total', 1: 'Quantidade De Representantes'}, inplace = True)\n",
        "\n",
        "dados_normalizados"
      ]
    },
    {
      "cell_type": "code",
      "execution_count": 53,
      "metadata": {
        "colab": {
          "base_uri": "https://localhost:8080/",
          "height": 387
        },
        "id": "e4gNFm119_r2",
        "outputId": "f50d597e-72f8-4bfd-b84c-9fe17f01678b"
      },
      "outputs": [
        {
          "output_type": "stream",
          "name": "stderr",
          "text": [
            "No handles with labels found to put in legend.\n"
          ]
        },
        {
          "output_type": "display_data",
          "data": {
            "text/plain": [
              "<Figure size 864x360 with 2 Axes>"
            ],
            "image/png": "[encoded data removed]"
          },
          "metadata": {}
        }
      ],
      "source": [
        "fig, ax1 = plt.subplots()\n",
        "\n",
        "color = 'tab:blue'\n",
        "ax1.set_xlabel('Estados')\n",
        "ax1.set_ylabel('Gastos em Milhões de Reais', color = color)\n",
        "ax1.plot(auxiliar.sgUF, dados_normalizados.Valor_Total, color = color)\n",
        "ax1.tick_params(axis = 'y',labelcolor = color)\n",
        "\n",
        "ax2 = ax1.twinx()\n",
        " \n",
        "color = 'tab:orange'\n",
        "ax2.set_ylabel('Quantidade de Parlemantares por Estado', color = color, rotation = '270')\n",
        "ax2.plot(dados_normalizados['Quantidade De Representantes'], color = color)\n",
        "ax2.tick_params(axis = 'y',labelcolor = color)\n",
        "\n",
        "plt.gcf().set_size_inches(12,5)\n",
        "fig.tight_layout()\n",
        "plt.grid()\n",
        "plt.legend()\n",
        "plt.show()"
      ]
    },
    {
      "cell_type": "markdown",
      "metadata": {
        "id": "kvA3wXJk-JBb"
      },
      "source": [
        "### 10. Qual a média de gastos por partido?"
      ]
    },
    {
      "cell_type": "code",
      "execution_count": 54,
      "metadata": {
        "colab": {
          "base_uri": "https://localhost:8080/",
          "height": 1000
        },
        "id": "ZFldQcsk-MPJ",
        "outputId": "b18d3de7-f0c2-4b06-dae2-3c93ca10b423"
      },
      "outputs": [
        {
          "output_type": "execute_result",
          "data": {
            "text/plain": [
              "<pandas.io.formats.style.Styler at 0x7f3248f38d50>"
            ],
            "text/html": [
              "<style type=\"text/css\">\n",
              "#T_30708_row0_col1 {\n",
              "  background-color: #67000d;\n",
              "  color: #f1f1f1;\n",
              "}\n",
              "#T_30708_row1_col1 {\n",
              "  background-color: #fc9b7c;\n",
              "  color: #000000;\n",
              "}\n",
              "#T_30708_row2_col1 {\n",
              "  background-color: #fca689;\n",
              "  color: #000000;\n",
              "}\n",
              "#T_30708_row3_col1 {\n",
              "  background-color: #fdc6b0;\n",
              "  color: #000000;\n",
              "}\n",
              "#T_30708_row4_col1 {\n",
              "  background-color: #fdd5c4;\n",
              "  color: #000000;\n",
              "}\n",
              "#T_30708_row5_col1 {\n",
              "  background-color: #fedbcc;\n",
              "  color: #000000;\n",
              "}\n",
              "#T_30708_row6_col1 {\n",
              "  background-color: #fedccd;\n",
              "  color: #000000;\n",
              "}\n",
              "#T_30708_row7_col1, #T_30708_row8_col1, #T_30708_row9_col1 {\n",
              "  background-color: #fedfd0;\n",
              "  color: #000000;\n",
              "}\n",
              "#T_30708_row10_col1 {\n",
              "  background-color: #fee0d2;\n",
              "  color: #000000;\n",
              "}\n",
              "#T_30708_row11_col1 {\n",
              "  background-color: #fee1d3;\n",
              "  color: #000000;\n",
              "}\n",
              "#T_30708_row12_col1, #T_30708_row13_col1 {\n",
              "  background-color: #fee1d4;\n",
              "  color: #000000;\n",
              "}\n",
              "#T_30708_row14_col1 {\n",
              "  background-color: #fee3d6;\n",
              "  color: #000000;\n",
              "}\n",
              "#T_30708_row15_col1, #T_30708_row16_col1 {\n",
              "  background-color: #fee4d8;\n",
              "  color: #000000;\n",
              "}\n",
              "#T_30708_row17_col1, #T_30708_row18_col1 {\n",
              "  background-color: #fee5d8;\n",
              "  color: #000000;\n",
              "}\n",
              "#T_30708_row19_col1 {\n",
              "  background-color: #fee5d9;\n",
              "  color: #000000;\n",
              "}\n",
              "#T_30708_row20_col1, #T_30708_row21_col1 {\n",
              "  background-color: #fee6da;\n",
              "  color: #000000;\n",
              "}\n",
              "#T_30708_row22_col1, #T_30708_row23_col1, #T_30708_row24_col1 {\n",
              "  background-color: #fee7db;\n",
              "  color: #000000;\n",
              "}\n",
              "#T_30708_row25_col1 {\n",
              "  background-color: #fee7dc;\n",
              "  color: #000000;\n",
              "}\n",
              "#T_30708_row26_col1, #T_30708_row27_col1 {\n",
              "  background-color: #fee8dd;\n",
              "  color: #000000;\n",
              "}\n",
              "#T_30708_row28_col1 {\n",
              "  background-color: #fee8de;\n",
              "  color: #000000;\n",
              "}\n",
              "#T_30708_row29_col1 {\n",
              "  background-color: #feeae0;\n",
              "  color: #000000;\n",
              "}\n",
              "#T_30708_row30_col1 {\n",
              "  background-color: #feeae1;\n",
              "  color: #000000;\n",
              "}\n",
              "#T_30708_row31_col1 {\n",
              "  background-color: #ffebe2;\n",
              "  color: #000000;\n",
              "}\n",
              "#T_30708_row32_col1, #T_30708_row33_col1 {\n",
              "  background-color: #ffede5;\n",
              "  color: #000000;\n",
              "}\n",
              "#T_30708_row34_col1 {\n",
              "  background-color: #fff5f0;\n",
              "  color: #000000;\n",
              "}\n",
              "</style>\n",
              "<table id=\"T_30708_\" class=\"dataframe\">\n",
              "  <thead>\n",
              "    <tr>\n",
              "      <th class=\"blank level0\" >&nbsp;</th>\n",
              "      <th class=\"col_heading level0 col0\" >sgPartido</th>\n",
              "      <th class=\"col_heading level0 col1\" >vlrLiquido</th>\n",
              "    </tr>\n",
              "  </thead>\n",
              "  <tbody>\n",
              "    <tr>\n",
              "      <th id=\"T_30708_level0_row0\" class=\"row_heading level0 row0\" >0</th>\n",
              "      <td id=\"T_30708_row0_col0\" class=\"data row0 col0\" >PROGRESSISTAS</td>\n",
              "      <td id=\"T_30708_row0_col1\" class=\"data row0 col1\" >R$ 6487.50</td>\n",
              "    </tr>\n",
              "    <tr>\n",
              "      <th id=\"T_30708_level0_row1\" class=\"row_heading level0 row1\" >1</th>\n",
              "      <td id=\"T_30708_row1_col0\" class=\"data row1 col0\" >SOCIAL</td>\n",
              "      <td id=\"T_30708_row1_col1\" class=\"data row1 col1\" >R$ 2464.79</td>\n",
              "    </tr>\n",
              "    <tr>\n",
              "      <th id=\"T_30708_level0_row2\" class=\"row_heading level0 row2\" >2</th>\n",
              "      <td id=\"T_30708_row2_col0\" class=\"data row2 col0\" >PPL</td>\n",
              "      <td id=\"T_30708_row2_col1\" class=\"data row2 col1\" >R$ 2246.29</td>\n",
              "    </tr>\n",
              "    <tr>\n",
              "      <th id=\"T_30708_level0_row3\" class=\"row_heading level0 row3\" >3</th>\n",
              "      <td id=\"T_30708_row3_col0\" class=\"data row3 col0\" >S.PART.</td>\n",
              "      <td id=\"T_30708_row3_col1\" class=\"data row3 col1\" >R$ 1614.39</td>\n",
              "    </tr>\n",
              "    <tr>\n",
              "      <th id=\"T_30708_level0_row4\" class=\"row_heading level0 row4\" >4</th>\n",
              "      <td id=\"T_30708_row4_col0\" class=\"data row4 col0\" >PHS</td>\n",
              "      <td id=\"T_30708_row4_col1\" class=\"data row4 col1\" >R$ 1295.36</td>\n",
              "    </tr>\n",
              "    <tr>\n",
              "      <th id=\"T_30708_level0_row5\" class=\"row_heading level0 row5\" >5</th>\n",
              "      <td id=\"T_30708_row5_col0\" class=\"data row5 col0\" >PRB</td>\n",
              "      <td id=\"T_30708_row5_col1\" class=\"data row5 col1\" >R$ 1169.67</td>\n",
              "    </tr>\n",
              "    <tr>\n",
              "      <th id=\"T_30708_level0_row6\" class=\"row_heading level0 row6\" >6</th>\n",
              "      <td id=\"T_30708_row6_col0\" class=\"data row6 col0\" >REDE</td>\n",
              "      <td id=\"T_30708_row6_col1\" class=\"data row6 col1\" >R$ 1151.66</td>\n",
              "    </tr>\n",
              "    <tr>\n",
              "      <th id=\"T_30708_level0_row7\" class=\"row_heading level0 row7\" >7</th>\n",
              "      <td id=\"T_30708_row7_col0\" class=\"data row7 col0\" >PCdoB</td>\n",
              "      <td id=\"T_30708_row7_col1\" class=\"data row7 col1\" >R$ 1101.11</td>\n",
              "    </tr>\n",
              "    <tr>\n",
              "      <th id=\"T_30708_level0_row8\" class=\"row_heading level0 row8\" >8</th>\n",
              "      <td id=\"T_30708_row8_col0\" class=\"data row8 col0\" >PSC</td>\n",
              "      <td id=\"T_30708_row8_col1\" class=\"data row8 col1\" >R$ 1092.36</td>\n",
              "    </tr>\n",
              "    <tr>\n",
              "      <th id=\"T_30708_level0_row9\" class=\"row_heading level0 row9\" >9</th>\n",
              "      <td id=\"T_30708_row9_col0\" class=\"data row9 col0\" >PR</td>\n",
              "      <td id=\"T_30708_row9_col1\" class=\"data row9 col1\" >R$ 1090.14</td>\n",
              "    </tr>\n",
              "    <tr>\n",
              "      <th id=\"T_30708_level0_row10\" class=\"row_heading level0 row10\" >10</th>\n",
              "      <td id=\"T_30708_row10_col0\" class=\"data row10 col0\" >PROS</td>\n",
              "      <td id=\"T_30708_row10_col1\" class=\"data row10 col1\" >R$ 1074.20</td>\n",
              "    </tr>\n",
              "    <tr>\n",
              "      <th id=\"T_30708_level0_row11\" class=\"row_heading level0 row11\" >11</th>\n",
              "      <td id=\"T_30708_row11_col0\" class=\"data row11 col0\" >PATRI</td>\n",
              "      <td id=\"T_30708_row11_col1\" class=\"data row11 col1\" >R$ 1050.25</td>\n",
              "    </tr>\n",
              "    <tr>\n",
              "      <th id=\"T_30708_level0_row12\" class=\"row_heading level0 row12\" >12</th>\n",
              "      <td id=\"T_30708_row12_col0\" class=\"data row12 col0\" >SOLIDARIEDADE</td>\n",
              "      <td id=\"T_30708_row12_col1\" class=\"data row12 col1\" >R$ 1024.73</td>\n",
              "    </tr>\n",
              "    <tr>\n",
              "      <th id=\"T_30708_level0_row13\" class=\"row_heading level0 row13\" >13</th>\n",
              "      <td id=\"T_30708_row13_col0\" class=\"data row13 col0\" >REPUBLICANOS</td>\n",
              "      <td id=\"T_30708_row13_col1\" class=\"data row13 col1\" >R$ 1021.40</td>\n",
              "    </tr>\n",
              "    <tr>\n",
              "      <th id=\"T_30708_level0_row14\" class=\"row_heading level0 row14\" >14</th>\n",
              "      <td id=\"T_30708_row14_col0\" class=\"data row14 col0\" >PPS</td>\n",
              "      <td id=\"T_30708_row14_col1\" class=\"data row14 col1\" >R$ 970.75</td>\n",
              "    </tr>\n",
              "    <tr>\n",
              "      <th id=\"T_30708_level0_row15\" class=\"row_heading level0 row15\" >15</th>\n",
              "      <td id=\"T_30708_row15_col0\" class=\"data row15 col0\" >PL</td>\n",
              "      <td id=\"T_30708_row15_col1\" class=\"data row15 col1\" >R$ 935.43</td>\n",
              "    </tr>\n",
              "    <tr>\n",
              "      <th id=\"T_30708_level0_row16\" class=\"row_heading level0 row16\" >16</th>\n",
              "      <td id=\"T_30708_row16_col0\" class=\"data row16 col0\" >DEM</td>\n",
              "      <td id=\"T_30708_row16_col1\" class=\"data row16 col1\" >R$ 918.02</td>\n",
              "    </tr>\n",
              "    <tr>\n",
              "      <th id=\"T_30708_level0_row17\" class=\"row_heading level0 row17\" >17</th>\n",
              "      <td id=\"T_30708_row17_col0\" class=\"data row17 col0\" >PDT</td>\n",
              "      <td id=\"T_30708_row17_col1\" class=\"data row17 col1\" >R$ 911.19</td>\n",
              "    </tr>\n",
              "    <tr>\n",
              "      <th id=\"T_30708_level0_row18\" class=\"row_heading level0 row18\" >18</th>\n",
              "      <td id=\"T_30708_row18_col0\" class=\"data row18 col0\" >DEMOCRATAS</td>\n",
              "      <td id=\"T_30708_row18_col1\" class=\"data row18 col1\" >R$ 894.71</td>\n",
              "    </tr>\n",
              "    <tr>\n",
              "      <th id=\"T_30708_level0_row19\" class=\"row_heading level0 row19\" >19</th>\n",
              "      <td id=\"T_30708_row19_col0\" class=\"data row19 col0\" >PTB</td>\n",
              "      <td id=\"T_30708_row19_col1\" class=\"data row19 col1\" >R$ 871.67</td>\n",
              "    </tr>\n",
              "    <tr>\n",
              "      <th id=\"T_30708_level0_row20\" class=\"row_heading level0 row20\" >20</th>\n",
              "      <td id=\"T_30708_row20_col0\" class=\"data row20 col0\" >PSOL</td>\n",
              "      <td id=\"T_30708_row20_col1\" class=\"data row20 col1\" >R$ 852.07</td>\n",
              "    </tr>\n",
              "    <tr>\n",
              "      <th id=\"T_30708_level0_row21\" class=\"row_heading level0 row21\" >21</th>\n",
              "      <td id=\"T_30708_row21_col0\" class=\"data row21 col0\" >PSDB</td>\n",
              "      <td id=\"T_30708_row21_col1\" class=\"data row21 col1\" >R$ 847.88</td>\n",
              "    </tr>\n",
              "    <tr>\n",
              "      <th id=\"T_30708_level0_row22\" class=\"row_heading level0 row22\" >22</th>\n",
              "      <td id=\"T_30708_row22_col0\" class=\"data row22 col0\" >PSD</td>\n",
              "      <td id=\"T_30708_row22_col1\" class=\"data row22 col1\" >R$ 843.55</td>\n",
              "    </tr>\n",
              "    <tr>\n",
              "      <th id=\"T_30708_level0_row23\" class=\"row_heading level0 row23\" >23</th>\n",
              "      <td id=\"T_30708_row23_col0\" class=\"data row23 col0\" >PATRIOTA</td>\n",
              "      <td id=\"T_30708_row23_col1\" class=\"data row23 col1\" >R$ 840.10</td>\n",
              "    </tr>\n",
              "    <tr>\n",
              "      <th id=\"T_30708_level0_row24\" class=\"row_heading level0 row24\" >24</th>\n",
              "      <td id=\"T_30708_row24_col0\" class=\"data row24 col0\" >PODE</td>\n",
              "      <td id=\"T_30708_row24_col1\" class=\"data row24 col1\" >R$ 828.54</td>\n",
              "    </tr>\n",
              "    <tr>\n",
              "      <th id=\"T_30708_level0_row25\" class=\"row_heading level0 row25\" >25</th>\n",
              "      <td id=\"T_30708_row25_col0\" class=\"data row25 col0\" >MDB</td>\n",
              "      <td id=\"T_30708_row25_col1\" class=\"data row25 col1\" >R$ 818.61</td>\n",
              "    </tr>\n",
              "    <tr>\n",
              "      <th id=\"T_30708_level0_row26\" class=\"row_heading level0 row26\" >26</th>\n",
              "      <td id=\"T_30708_row26_col0\" class=\"data row26 col0\" >PODEMOS</td>\n",
              "      <td id=\"T_30708_row26_col1\" class=\"data row26 col1\" >R$ 791.69</td>\n",
              "    </tr>\n",
              "    <tr>\n",
              "      <th id=\"T_30708_level0_row27\" class=\"row_heading level0 row27\" >27</th>\n",
              "      <td id=\"T_30708_row27_col0\" class=\"data row27 col0\" >PP</td>\n",
              "      <td id=\"T_30708_row27_col1\" class=\"data row27 col1\" >R$ 781.41</td>\n",
              "    </tr>\n",
              "    <tr>\n",
              "      <th id=\"T_30708_level0_row28\" class=\"row_heading level0 row28\" >28</th>\n",
              "      <td id=\"T_30708_row28_col0\" class=\"data row28 col0\" >PT</td>\n",
              "      <td id=\"T_30708_row28_col1\" class=\"data row28 col1\" >R$ 748.67</td>\n",
              "    </tr>\n",
              "    <tr>\n",
              "      <th id=\"T_30708_level0_row29\" class=\"row_heading level0 row29\" >29</th>\n",
              "      <td id=\"T_30708_row29_col0\" class=\"data row29 col0\" >AVANTE</td>\n",
              "      <td id=\"T_30708_row29_col1\" class=\"data row29 col1\" >R$ 709.72</td>\n",
              "    </tr>\n",
              "    <tr>\n",
              "      <th id=\"T_30708_level0_row30\" class=\"row_heading level0 row30\" >30</th>\n",
              "      <td id=\"T_30708_row30_col0\" class=\"data row30 col0\" >PSB</td>\n",
              "      <td id=\"T_30708_row30_col1\" class=\"data row30 col1\" >R$ 682.99</td>\n",
              "    </tr>\n",
              "    <tr>\n",
              "      <th id=\"T_30708_level0_row31\" class=\"row_heading level0 row31\" >31</th>\n",
              "      <td id=\"T_30708_row31_col0\" class=\"data row31 col0\" >PV</td>\n",
              "      <td id=\"T_30708_row31_col1\" class=\"data row31 col1\" >R$ 671.55</td>\n",
              "    </tr>\n",
              "    <tr>\n",
              "      <th id=\"T_30708_level0_row32\" class=\"row_heading level0 row32\" >32</th>\n",
              "      <td id=\"T_30708_row32_col0\" class=\"data row32 col0\" >CIDADANIA</td>\n",
              "      <td id=\"T_30708_row32_col1\" class=\"data row32 col1\" >R$ 584.07</td>\n",
              "    </tr>\n",
              "    <tr>\n",
              "      <th id=\"T_30708_level0_row33\" class=\"row_heading level0 row33\" >33</th>\n",
              "      <td id=\"T_30708_row33_col0\" class=\"data row33 col0\" >PSL</td>\n",
              "      <td id=\"T_30708_row33_col1\" class=\"data row33 col1\" >R$ 578.02</td>\n",
              "    </tr>\n",
              "    <tr>\n",
              "      <th id=\"T_30708_level0_row34\" class=\"row_heading level0 row34\" >34</th>\n",
              "      <td id=\"T_30708_row34_col0\" class=\"data row34 col0\" >NOVO</td>\n",
              "      <td id=\"T_30708_row34_col1\" class=\"data row34 col1\" >R$ 287.05</td>\n",
              "    </tr>\n",
              "  </tbody>\n",
              "</table>\n"
            ]
          },
          "metadata": {},
          "execution_count": 54
        }
      ],
      "source": [
        "gastos_partidos = df_copia[['sgPartido','vlrLiquido']].groupby(['sgPartido']).mean().sort_values('vlrLiquido', ascending = False)\n",
        "\n",
        "gastos_partidos = gastos_partidos.reset_index()\n",
        "\n",
        "gastos_partidos.style.format({'vlrLiquido':'R$ {:.2f}'}).background_gradient(cmap = 'Reds')"
      ]
    },
    {
      "cell_type": "code",
      "execution_count": 55,
      "metadata": {
        "id": "EePOrdLNOU0w",
        "outputId": "8c82dbdb-ddee-4fe6-ec34-7af9114cb7c7",
        "colab": {
          "base_uri": "https://localhost:8080/",
          "height": 493
        }
      },
      "outputs": [
        {
          "output_type": "stream",
          "name": "stdout",
          "text": [
            "\n"
          ]
        },
        {
          "output_type": "display_data",
          "data": {
            "text/plain": [
              "<Figure size 1080x432 with 1 Axes>"
            ],
            "image/png": "[encoded data removed]"
          },
          "metadata": {
            "needs_background": "light"
          }
        }
      ],
      "source": [
        "plt.figure(figsize=(15,6))\n",
        "x = gastos_partidos.sgPartido\n",
        "y = gastos_partidos['vlrLiquido']/1000000\n",
        "plt.xticks(gastos_partidos.index, rotation=90)\n",
        "plt.grid()\n",
        "plt.title('Despesa Total por Partido')\n",
        "plt.xlabel('Partidos')\n",
        "plt.ylabel('Valores em Milhões de Reais ')\n",
        "plt.bar(x,y)\n",
        "print()"
      ]
    },
    {
      "cell_type": "markdown",
      "metadata": {
        "id": "uuFjdyby-_8D"
      },
      "source": [
        "### 11. Quais são os partidos que mais e que menos consumiram a cota parlamentar?"
      ]
    },
    {
      "cell_type": "code",
      "execution_count": 56,
      "metadata": {
        "colab": {
          "base_uri": "https://localhost:8080/",
          "height": 1000
        },
        "id": "6jO5CP-N_D1b",
        "outputId": "3228d357-e62a-4b37-ad69-e0128bc1d086"
      },
      "outputs": [
        {
          "output_type": "execute_result",
          "data": {
            "text/plain": [
              "<pandas.io.formats.style.Styler at 0x7f32495edb10>"
            ],
            "text/html": [
              "<style type=\"text/css\">\n",
              "#T_ea8ce_row0_col1 {\n",
              "  background-color: #67000d;\n",
              "  color: #f1f1f1;\n",
              "}\n",
              "#T_ea8ce_row1_col1 {\n",
              "  background-color: #d21f20;\n",
              "  color: #f1f1f1;\n",
              "}\n",
              "#T_ea8ce_row2_col1 {\n",
              "  background-color: #e12d26;\n",
              "  color: #f1f1f1;\n",
              "}\n",
              "#T_ea8ce_row3_col1 {\n",
              "  background-color: #ea362a;\n",
              "  color: #f1f1f1;\n",
              "}\n",
              "#T_ea8ce_row4_col1 {\n",
              "  background-color: #f34935;\n",
              "  color: #f1f1f1;\n",
              "}\n",
              "#T_ea8ce_row5_col1 {\n",
              "  background-color: #f34c37;\n",
              "  color: #f1f1f1;\n",
              "}\n",
              "#T_ea8ce_row6_col1 {\n",
              "  background-color: #f6563d;\n",
              "  color: #f1f1f1;\n",
              "}\n",
              "#T_ea8ce_row7_col1 {\n",
              "  background-color: #f7593f;\n",
              "  color: #f1f1f1;\n",
              "}\n",
              "#T_ea8ce_row8_col1 {\n",
              "  background-color: #fb6d4d;\n",
              "  color: #f1f1f1;\n",
              "}\n",
              "#T_ea8ce_row9_col1 {\n",
              "  background-color: #fb7656;\n",
              "  color: #f1f1f1;\n",
              "}\n",
              "#T_ea8ce_row10_col1 {\n",
              "  background-color: #fb7c5c;\n",
              "  color: #f1f1f1;\n",
              "}\n",
              "#T_ea8ce_row11_col1 {\n",
              "  background-color: #fcbea5;\n",
              "  color: #000000;\n",
              "}\n",
              "#T_ea8ce_row12_col1 {\n",
              "  background-color: #fdc7b2;\n",
              "  color: #000000;\n",
              "}\n",
              "#T_ea8ce_row13_col1 {\n",
              "  background-color: #fdd3c1;\n",
              "  color: #000000;\n",
              "}\n",
              "#T_ea8ce_row14_col1 {\n",
              "  background-color: #fdd5c4;\n",
              "  color: #000000;\n",
              "}\n",
              "#T_ea8ce_row15_col1 {\n",
              "  background-color: #fed9c9;\n",
              "  color: #000000;\n",
              "}\n",
              "#T_ea8ce_row16_col1 {\n",
              "  background-color: #fedbcc;\n",
              "  color: #000000;\n",
              "}\n",
              "#T_ea8ce_row17_col1 {\n",
              "  background-color: #fee0d2;\n",
              "  color: #000000;\n",
              "}\n",
              "#T_ea8ce_row18_col1 {\n",
              "  background-color: #fee1d3;\n",
              "  color: #000000;\n",
              "}\n",
              "#T_ea8ce_row19_col1 {\n",
              "  background-color: #fee4d8;\n",
              "  color: #000000;\n",
              "}\n",
              "#T_ea8ce_row20_col1 {\n",
              "  background-color: #fee6da;\n",
              "  color: #000000;\n",
              "}\n",
              "#T_ea8ce_row21_col1 {\n",
              "  background-color: #ffeee6;\n",
              "  color: #000000;\n",
              "}\n",
              "#T_ea8ce_row22_col1 {\n",
              "  background-color: #fff0e9;\n",
              "  color: #000000;\n",
              "}\n",
              "#T_ea8ce_row23_col1 {\n",
              "  background-color: #fff2eb;\n",
              "  color: #000000;\n",
              "}\n",
              "#T_ea8ce_row24_col1 {\n",
              "  background-color: #fff3ed;\n",
              "  color: #000000;\n",
              "}\n",
              "#T_ea8ce_row25_col1, #T_ea8ce_row26_col1 {\n",
              "  background-color: #fff4ee;\n",
              "  color: #000000;\n",
              "}\n",
              "#T_ea8ce_row27_col1, #T_ea8ce_row28_col1, #T_ea8ce_row29_col1, #T_ea8ce_row30_col1, #T_ea8ce_row31_col1, #T_ea8ce_row32_col1, #T_ea8ce_row33_col1, #T_ea8ce_row34_col1 {\n",
              "  background-color: #fff5f0;\n",
              "  color: #000000;\n",
              "}\n",
              "</style>\n",
              "<table id=\"T_ea8ce_\" class=\"dataframe\">\n",
              "  <thead>\n",
              "    <tr>\n",
              "      <th class=\"blank level0\" >&nbsp;</th>\n",
              "      <th class=\"col_heading level0 col0\" >sgPartido</th>\n",
              "      <th class=\"col_heading level0 col1\" >vlrLiquido</th>\n",
              "    </tr>\n",
              "  </thead>\n",
              "  <tbody>\n",
              "    <tr>\n",
              "      <th id=\"T_ea8ce_level0_row0\" class=\"row_heading level0 row0\" >0</th>\n",
              "      <td id=\"T_ea8ce_row0_col0\" class=\"data row0 col0\" >PT</td>\n",
              "      <td id=\"T_ea8ce_row0_col1\" class=\"data row0 col1\" >R$ 53547200.12</td>\n",
              "    </tr>\n",
              "    <tr>\n",
              "      <th id=\"T_ea8ce_level0_row1\" class=\"row_heading level0 row1\" >1</th>\n",
              "      <td id=\"T_ea8ce_row1_col0\" class=\"data row1 col0\" >PSL</td>\n",
              "      <td id=\"T_ea8ce_row1_col1\" class=\"data row1 col1\" >R$ 38760321.58</td>\n",
              "    </tr>\n",
              "    <tr>\n",
              "      <th id=\"T_ea8ce_level0_row2\" class=\"row_heading level0 row2\" >2</th>\n",
              "      <td id=\"T_ea8ce_row2_col0\" class=\"data row2 col0\" >PL</td>\n",
              "      <td id=\"T_ea8ce_row2_col1\" class=\"data row2 col1\" >R$ 36009565.01</td>\n",
              "    </tr>\n",
              "    <tr>\n",
              "      <th id=\"T_ea8ce_level0_row3\" class=\"row_heading level0 row3\" >3</th>\n",
              "      <td id=\"T_ea8ce_row3_col0\" class=\"data row3 col0\" >PP</td>\n",
              "      <td id=\"T_ea8ce_row3_col1\" class=\"data row3 col1\" >R$ 34429101.14</td>\n",
              "    </tr>\n",
              "    <tr>\n",
              "      <th id=\"T_ea8ce_level0_row4\" class=\"row_heading level0 row4\" >4</th>\n",
              "      <td id=\"T_ea8ce_row4_col0\" class=\"data row4 col0\" >MDB</td>\n",
              "      <td id=\"T_ea8ce_row4_col1\" class=\"data row4 col1\" >R$ 31505872.66</td>\n",
              "    </tr>\n",
              "    <tr>\n",
              "      <th id=\"T_ea8ce_level0_row5\" class=\"row_heading level0 row5\" >5</th>\n",
              "      <td id=\"T_ea8ce_row5_col0\" class=\"data row5 col0\" >PSD</td>\n",
              "      <td id=\"T_ea8ce_row5_col1\" class=\"data row5 col1\" >R$ 30980983.76</td>\n",
              "    </tr>\n",
              "    <tr>\n",
              "      <th id=\"T_ea8ce_level0_row6\" class=\"row_heading level0 row6\" >6</th>\n",
              "      <td id=\"T_ea8ce_row6_col0\" class=\"data row6 col0\" >REPUBLICANOS</td>\n",
              "      <td id=\"T_ea8ce_row6_col1\" class=\"data row6 col1\" >R$ 29649278.16</td>\n",
              "    </tr>\n",
              "    <tr>\n",
              "      <th id=\"T_ea8ce_level0_row7\" class=\"row_heading level0 row7\" >7</th>\n",
              "      <td id=\"T_ea8ce_row7_col0\" class=\"data row7 col0\" >PSDB</td>\n",
              "      <td id=\"T_ea8ce_row7_col1\" class=\"data row7 col1\" >R$ 29284952.26</td>\n",
              "    </tr>\n",
              "    <tr>\n",
              "      <th id=\"T_ea8ce_level0_row8\" class=\"row_heading level0 row8\" >8</th>\n",
              "      <td id=\"T_ea8ce_row8_col0\" class=\"data row8 col0\" >PDT</td>\n",
              "      <td id=\"T_ea8ce_row8_col1\" class=\"data row8 col1\" >R$ 26189478.80</td>\n",
              "    </tr>\n",
              "    <tr>\n",
              "      <th id=\"T_ea8ce_level0_row9\" class=\"row_heading level0 row9\" >9</th>\n",
              "      <td id=\"T_ea8ce_row9_col0\" class=\"data row9 col0\" >DEM</td>\n",
              "      <td id=\"T_ea8ce_row9_col1\" class=\"data row9 col1\" >R$ 24800421.63</td>\n",
              "    </tr>\n",
              "    <tr>\n",
              "      <th id=\"T_ea8ce_level0_row10\" class=\"row_heading level0 row10\" >10</th>\n",
              "      <td id=\"T_ea8ce_row10_col0\" class=\"data row10 col0\" >PSB</td>\n",
              "      <td id=\"T_ea8ce_row10_col1\" class=\"data row10 col1\" >R$ 23840979.53</td>\n",
              "    </tr>\n",
              "    <tr>\n",
              "      <th id=\"T_ea8ce_level0_row11\" class=\"row_heading level0 row11\" >11</th>\n",
              "      <td id=\"T_ea8ce_row11_col0\" class=\"data row11 col0\" >SOLIDARIEDADE</td>\n",
              "      <td id=\"T_ea8ce_row11_col1\" class=\"data row11 col1\" >R$ 12795796.84</td>\n",
              "    </tr>\n",
              "    <tr>\n",
              "      <th id=\"T_ea8ce_level0_row12\" class=\"row_heading level0 row12\" >12</th>\n",
              "      <td id=\"T_ea8ce_row12_col0\" class=\"data row12 col0\" >PTB</td>\n",
              "      <td id=\"T_ea8ce_row12_col1\" class=\"data row12 col1\" >R$ 11234061.09</td>\n",
              "    </tr>\n",
              "    <tr>\n",
              "      <th id=\"T_ea8ce_level0_row13\" class=\"row_heading level0 row13\" >13</th>\n",
              "      <td id=\"T_ea8ce_row13_col0\" class=\"data row13 col0\" >PROS</td>\n",
              "      <td id=\"T_ea8ce_row13_col1\" class=\"data row13 col1\" >R$ 9237066.10</td>\n",
              "    </tr>\n",
              "    <tr>\n",
              "      <th id=\"T_ea8ce_level0_row14\" class=\"row_heading level0 row14\" >14</th>\n",
              "      <td id=\"T_ea8ce_row14_col0\" class=\"data row14 col0\" >PODE</td>\n",
              "      <td id=\"T_ea8ce_row14_col1\" class=\"data row14 col1\" >R$ 8760995.95</td>\n",
              "    </tr>\n",
              "    <tr>\n",
              "      <th id=\"T_ea8ce_level0_row15\" class=\"row_heading level0 row15\" >15</th>\n",
              "      <td id=\"T_ea8ce_row15_col0\" class=\"data row15 col0\" >PCdoB</td>\n",
              "      <td id=\"T_ea8ce_row15_col1\" class=\"data row15 col1\" >R$ 8024907.11</td>\n",
              "    </tr>\n",
              "    <tr>\n",
              "      <th id=\"T_ea8ce_level0_row16\" class=\"row_heading level0 row16\" >16</th>\n",
              "      <td id=\"T_ea8ce_row16_col0\" class=\"data row16 col0\" >PSC</td>\n",
              "      <td id=\"T_ea8ce_row16_col1\" class=\"data row16 col1\" >R$ 7636683.06</td>\n",
              "    </tr>\n",
              "    <tr>\n",
              "      <th id=\"T_ea8ce_level0_row17\" class=\"row_heading level0 row17\" >17</th>\n",
              "      <td id=\"T_ea8ce_row17_col0\" class=\"data row17 col0\" >PSOL</td>\n",
              "      <td id=\"T_ea8ce_row17_col1\" class=\"data row17 col1\" >R$ 6912851.31</td>\n",
              "    </tr>\n",
              "    <tr>\n",
              "      <th id=\"T_ea8ce_level0_row18\" class=\"row_heading level0 row18\" >18</th>\n",
              "      <td id=\"T_ea8ce_row18_col0\" class=\"data row18 col0\" >AVANTE</td>\n",
              "      <td id=\"T_ea8ce_row18_col1\" class=\"data row18 col1\" >R$ 6604638.64</td>\n",
              "    </tr>\n",
              "    <tr>\n",
              "      <th id=\"T_ea8ce_level0_row19\" class=\"row_heading level0 row19\" >19</th>\n",
              "      <td id=\"T_ea8ce_row19_col0\" class=\"data row19 col0\" >CIDADANIA</td>\n",
              "      <td id=\"T_ea8ce_row19_col1\" class=\"data row19 col1\" >R$ 5495531.74</td>\n",
              "    </tr>\n",
              "    <tr>\n",
              "      <th id=\"T_ea8ce_level0_row20\" class=\"row_heading level0 row20\" >20</th>\n",
              "      <td id=\"T_ea8ce_row20_col0\" class=\"data row20 col0\" >PATRIOTA</td>\n",
              "      <td id=\"T_ea8ce_row20_col1\" class=\"data row20 col1\" >R$ 4999415.72</td>\n",
              "    </tr>\n",
              "    <tr>\n",
              "      <th id=\"T_ea8ce_level0_row21\" class=\"row_heading level0 row21\" >21</th>\n",
              "      <td id=\"T_ea8ce_row21_col0\" class=\"data row21 col0\" >PV</td>\n",
              "      <td id=\"T_ea8ce_row21_col1\" class=\"data row21 col1\" >R$ 2525711.92</td>\n",
              "    </tr>\n",
              "    <tr>\n",
              "      <th id=\"T_ea8ce_level0_row22\" class=\"row_heading level0 row22\" >22</th>\n",
              "      <td id=\"T_ea8ce_row22_col0\" class=\"data row22 col0\" >NOVO</td>\n",
              "      <td id=\"T_ea8ce_row22_col1\" class=\"data row22 col1\" >R$ 1700180.19</td>\n",
              "    </tr>\n",
              "    <tr>\n",
              "      <th id=\"T_ea8ce_level0_row23\" class=\"row_heading level0 row23\" >23</th>\n",
              "      <td id=\"T_ea8ce_row23_col0\" class=\"data row23 col0\" >PR</td>\n",
              "      <td id=\"T_ea8ce_row23_col1\" class=\"data row23 col1\" >R$ 1218771.70</td>\n",
              "    </tr>\n",
              "    <tr>\n",
              "      <th id=\"T_ea8ce_level0_row24\" class=\"row_heading level0 row24\" >24</th>\n",
              "      <td id=\"T_ea8ce_row24_col0\" class=\"data row24 col0\" >REDE</td>\n",
              "      <td id=\"T_ea8ce_row24_col1\" class=\"data row24 col1\" >R$ 815376.91</td>\n",
              "    </tr>\n",
              "    <tr>\n",
              "      <th id=\"T_ea8ce_level0_row25\" class=\"row_heading level0 row25\" >25</th>\n",
              "      <td id=\"T_ea8ce_row25_col0\" class=\"data row25 col0\" >PRB</td>\n",
              "      <td id=\"T_ea8ce_row25_col1\" class=\"data row25 col1\" >R$ 621097.18</td>\n",
              "    </tr>\n",
              "    <tr>\n",
              "      <th id=\"T_ea8ce_level0_row26\" class=\"row_heading level0 row26\" >26</th>\n",
              "      <td id=\"T_ea8ce_row26_col0\" class=\"data row26 col0\" >S.PART.</td>\n",
              "      <td id=\"T_ea8ce_row26_col1\" class=\"data row26 col1\" >R$ 608624.30</td>\n",
              "    </tr>\n",
              "    <tr>\n",
              "      <th id=\"T_ea8ce_level0_row27\" class=\"row_heading level0 row27\" >27</th>\n",
              "      <td id=\"T_ea8ce_row27_col0\" class=\"data row27 col0\" >PPS</td>\n",
              "      <td id=\"T_ea8ce_row27_col1\" class=\"data row27 col1\" >R$ 218419.43</td>\n",
              "    </tr>\n",
              "    <tr>\n",
              "      <th id=\"T_ea8ce_level0_row28\" class=\"row_heading level0 row28\" >28</th>\n",
              "      <td id=\"T_ea8ce_row28_col0\" class=\"data row28 col0\" >PHS</td>\n",
              "      <td id=\"T_ea8ce_row28_col1\" class=\"data row28 col1\" >R$ 180055.49</td>\n",
              "    </tr>\n",
              "    <tr>\n",
              "      <th id=\"T_ea8ce_level0_row29\" class=\"row_heading level0 row29\" >29</th>\n",
              "      <td id=\"T_ea8ce_row29_col0\" class=\"data row29 col0\" >PATRI</td>\n",
              "      <td id=\"T_ea8ce_row29_col1\" class=\"data row29 col1\" >R$ 161737.83</td>\n",
              "    </tr>\n",
              "    <tr>\n",
              "      <th id=\"T_ea8ce_level0_row30\" class=\"row_heading level0 row30\" >30</th>\n",
              "      <td id=\"T_ea8ce_row30_col0\" class=\"data row30 col0\" >SOCIAL</td>\n",
              "      <td id=\"T_ea8ce_row30_col1\" class=\"data row30 col1\" >R$ 125704.52</td>\n",
              "    </tr>\n",
              "    <tr>\n",
              "      <th id=\"T_ea8ce_level0_row31\" class=\"row_heading level0 row31\" >31</th>\n",
              "      <td id=\"T_ea8ce_row31_col0\" class=\"data row31 col0\" >PODEMOS</td>\n",
              "      <td id=\"T_ea8ce_row31_col1\" class=\"data row31 col1\" >R$ 110837.08</td>\n",
              "    </tr>\n",
              "    <tr>\n",
              "      <th id=\"T_ea8ce_level0_row32\" class=\"row_heading level0 row32\" >32</th>\n",
              "      <td id=\"T_ea8ce_row32_col0\" class=\"data row32 col0\" >DEMOCRATAS</td>\n",
              "      <td id=\"T_ea8ce_row32_col1\" class=\"data row32 col1\" >R$ 67103.60</td>\n",
              "    </tr>\n",
              "    <tr>\n",
              "      <th id=\"T_ea8ce_level0_row33\" class=\"row_heading level0 row33\" >33</th>\n",
              "      <td id=\"T_ea8ce_row33_col0\" class=\"data row33 col0\" >PROGRESSISTAS</td>\n",
              "      <td id=\"T_ea8ce_row33_col1\" class=\"data row33 col1\" >R$ 64875.00</td>\n",
              "    </tr>\n",
              "    <tr>\n",
              "      <th id=\"T_ea8ce_level0_row34\" class=\"row_heading level0 row34\" >34</th>\n",
              "      <td id=\"T_ea8ce_row34_col0\" class=\"data row34 col0\" >PPL</td>\n",
              "      <td id=\"T_ea8ce_row34_col1\" class=\"data row34 col1\" >R$ 44925.75</td>\n",
              "    </tr>\n",
              "  </tbody>\n",
              "</table>\n"
            ]
          },
          "metadata": {},
          "execution_count": 56
        }
      ],
      "source": [
        "gastos_partidos2 = df_copia[['sgPartido','vlrLiquido']].groupby(['sgPartido']).sum().sort_values('vlrLiquido', ascending = False)\n",
        "\n",
        "gastos_partidos2 = gastos_partidos2.reset_index()\n",
        "\n",
        "gastos_partidos2.style.format({'vlrLiquido':'R$ {:.2f}'}).background_gradient(cmap = 'Reds')"
      ]
    },
    {
      "cell_type": "code",
      "execution_count": 57,
      "metadata": {
        "colab": {
          "base_uri": "https://localhost:8080/",
          "height": 493
        },
        "id": "jgwsjyE-_G3K",
        "outputId": "fff4f1e0-f2b5-407c-96c4-3a026375148f"
      },
      "outputs": [
        {
          "output_type": "stream",
          "name": "stdout",
          "text": [
            "\n"
          ]
        },
        {
          "output_type": "display_data",
          "data": {
            "text/plain": [
              "<Figure size 1080x432 with 1 Axes>"
            ],
            "image/png": "[encoded data removed]"
          },
          "metadata": {
            "needs_background": "light"
          }
        }
      ],
      "source": [
        "plt.figure(figsize=(15,6))\n",
        "x = gastos_partidos2.sgPartido\n",
        "y = gastos_partidos2['vlrLiquido']/1000000\n",
        "plt.xticks(gastos_partidos2.index, rotation=90)\n",
        "plt.grid()\n",
        "plt.title('Despesa Total por Partido')\n",
        "plt.xlabel('Partidos')\n",
        "plt.ylabel('Valores em Milhões de Reais ')\n",
        "plt.bar(x,y)\n",
        "print()"
      ]
    },
    {
      "cell_type": "code",
      "execution_count": 58,
      "metadata": {
        "colab": {
          "base_uri": "https://localhost:8080/",
          "height": 363
        },
        "id": "XaycfFUs_Nyd",
        "outputId": "4eac68f6-3c98-45bf-93b1-69dcfb402b31"
      },
      "outputs": [
        {
          "output_type": "execute_result",
          "data": {
            "text/plain": [
              "<pandas.io.formats.style.Styler at 0x7f3249d2b1d0>"
            ],
            "text/html": [
              "<style type=\"text/css\">\n",
              "#T_6ac2d_row0_col1 {\n",
              "  background-color: #fff5f0;\n",
              "  color: #000000;\n",
              "}\n",
              "#T_6ac2d_row1_col1 {\n",
              "  background-color: #fff0e8;\n",
              "  color: #000000;\n",
              "}\n",
              "#T_6ac2d_row2_col1 {\n",
              "  background-color: #ffefe8;\n",
              "  color: #000000;\n",
              "}\n",
              "#T_6ac2d_row3_col1 {\n",
              "  background-color: #fee2d5;\n",
              "  color: #000000;\n",
              "}\n",
              "#T_6ac2d_row4_col1 {\n",
              "  background-color: #fedccd;\n",
              "  color: #000000;\n",
              "}\n",
              "#T_6ac2d_row5_col1 {\n",
              "  background-color: #fdcab5;\n",
              "  color: #000000;\n",
              "}\n",
              "#T_6ac2d_row6_col1 {\n",
              "  background-color: #fcbfa7;\n",
              "  color: #000000;\n",
              "}\n",
              "#T_6ac2d_row7_col1 {\n",
              "  background-color: #fcaa8d;\n",
              "  color: #000000;\n",
              "}\n",
              "#T_6ac2d_row8_col1 {\n",
              "  background-color: #71020e;\n",
              "  color: #f1f1f1;\n",
              "}\n",
              "#T_6ac2d_row9_col1 {\n",
              "  background-color: #67000d;\n",
              "  color: #f1f1f1;\n",
              "}\n",
              "</style>\n",
              "<table id=\"T_6ac2d_\" class=\"dataframe\">\n",
              "  <thead>\n",
              "    <tr>\n",
              "      <th class=\"blank level0\" >&nbsp;</th>\n",
              "      <th class=\"col_heading level0 col0\" >sgPartido</th>\n",
              "      <th class=\"col_heading level0 col1\" >vlrLiquido</th>\n",
              "    </tr>\n",
              "  </thead>\n",
              "  <tbody>\n",
              "    <tr>\n",
              "      <th id=\"T_6ac2d_level0_row0\" class=\"row_heading level0 row0\" >0</th>\n",
              "      <td id=\"T_6ac2d_row0_col0\" class=\"data row0 col0\" >PPL</td>\n",
              "      <td id=\"T_6ac2d_row0_col1\" class=\"data row0 col1\" >R$ 44925.75</td>\n",
              "    </tr>\n",
              "    <tr>\n",
              "      <th id=\"T_6ac2d_level0_row1\" class=\"row_heading level0 row1\" >1</th>\n",
              "      <td id=\"T_6ac2d_row1_col0\" class=\"data row1 col0\" >PROGRESSISTAS</td>\n",
              "      <td id=\"T_6ac2d_row1_col1\" class=\"data row1 col1\" >R$ 64875.00</td>\n",
              "    </tr>\n",
              "    <tr>\n",
              "      <th id=\"T_6ac2d_level0_row2\" class=\"row_heading level0 row2\" >2</th>\n",
              "      <td id=\"T_6ac2d_row2_col0\" class=\"data row2 col0\" >DEMOCRATAS</td>\n",
              "      <td id=\"T_6ac2d_row2_col1\" class=\"data row2 col1\" >R$ 67103.60</td>\n",
              "    </tr>\n",
              "    <tr>\n",
              "      <th id=\"T_6ac2d_level0_row3\" class=\"row_heading level0 row3\" >3</th>\n",
              "      <td id=\"T_6ac2d_row3_col0\" class=\"data row3 col0\" >PODEMOS</td>\n",
              "      <td id=\"T_6ac2d_row3_col1\" class=\"data row3 col1\" >R$ 110837.08</td>\n",
              "    </tr>\n",
              "    <tr>\n",
              "      <th id=\"T_6ac2d_level0_row4\" class=\"row_heading level0 row4\" >4</th>\n",
              "      <td id=\"T_6ac2d_row4_col0\" class=\"data row4 col0\" >SOCIAL</td>\n",
              "      <td id=\"T_6ac2d_row4_col1\" class=\"data row4 col1\" >R$ 125704.52</td>\n",
              "    </tr>\n",
              "    <tr>\n",
              "      <th id=\"T_6ac2d_level0_row5\" class=\"row_heading level0 row5\" >5</th>\n",
              "      <td id=\"T_6ac2d_row5_col0\" class=\"data row5 col0\" >PATRI</td>\n",
              "      <td id=\"T_6ac2d_row5_col1\" class=\"data row5 col1\" >R$ 161737.83</td>\n",
              "    </tr>\n",
              "    <tr>\n",
              "      <th id=\"T_6ac2d_level0_row6\" class=\"row_heading level0 row6\" >6</th>\n",
              "      <td id=\"T_6ac2d_row6_col0\" class=\"data row6 col0\" >PHS</td>\n",
              "      <td id=\"T_6ac2d_row6_col1\" class=\"data row6 col1\" >R$ 180055.49</td>\n",
              "    </tr>\n",
              "    <tr>\n",
              "      <th id=\"T_6ac2d_level0_row7\" class=\"row_heading level0 row7\" >7</th>\n",
              "      <td id=\"T_6ac2d_row7_col0\" class=\"data row7 col0\" >PPS</td>\n",
              "      <td id=\"T_6ac2d_row7_col1\" class=\"data row7 col1\" >R$ 218419.43</td>\n",
              "    </tr>\n",
              "    <tr>\n",
              "      <th id=\"T_6ac2d_level0_row8\" class=\"row_heading level0 row8\" >8</th>\n",
              "      <td id=\"T_6ac2d_row8_col0\" class=\"data row8 col0\" >S.PART.</td>\n",
              "      <td id=\"T_6ac2d_row8_col1\" class=\"data row8 col1\" >R$ 608624.30</td>\n",
              "    </tr>\n",
              "    <tr>\n",
              "      <th id=\"T_6ac2d_level0_row9\" class=\"row_heading level0 row9\" >9</th>\n",
              "      <td id=\"T_6ac2d_row9_col0\" class=\"data row9 col0\" >PRB</td>\n",
              "      <td id=\"T_6ac2d_row9_col1\" class=\"data row9 col1\" >R$ 621097.18</td>\n",
              "    </tr>\n",
              "  </tbody>\n",
              "</table>\n"
            ]
          },
          "metadata": {},
          "execution_count": 58
        }
      ],
      "source": [
        "gastos_partidos2 = df_copia[['sgPartido','vlrLiquido']].groupby(['sgPartido']).sum().sort_values('vlrLiquido', ascending = True)\n",
        "\n",
        "gastos_partidos2 = gastos_partidos2.reset_index().head(10)\n",
        "\n",
        "gastos_partidos2.style.format({'vlrLiquido':'R$ {:.2f}'}).background_gradient(cmap = 'Reds')"
      ]
    },
    {
      "cell_type": "code",
      "execution_count": 59,
      "metadata": {
        "colab": {
          "base_uri": "https://localhost:8080/",
          "height": 421
        },
        "id": "l5jhz9B9_RRq",
        "outputId": "291c16fa-1070-4eb6-b1c3-eafcd51a33ba"
      },
      "outputs": [
        {
          "output_type": "stream",
          "name": "stdout",
          "text": [
            "\n"
          ]
        },
        {
          "output_type": "display_data",
          "data": {
            "text/plain": [
              "<Figure size 1080x432 with 1 Axes>"
            ],
            "image/png": "[encoded data removed]"
          },
          "metadata": {
            "needs_background": "light"
          }
        }
      ],
      "source": [
        "plt.figure(figsize=(15,6))\n",
        "x = gastos_partidos2.sgPartido\n",
        "y = gastos_partidos2['vlrLiquido']/1000000\n",
        "plt.grid()\n",
        "plt.title('Despesa Total por Partido')\n",
        "plt.xlabel('Partidos')\n",
        "plt.ylabel('Valores em Milhões de Reais ')\n",
        "plt.bar(x,y)\n",
        "print()"
      ]
    },
    {
      "cell_type": "markdown",
      "metadata": {
        "id": "ncKCMbRx_ZNV"
      },
      "source": [
        "### 12. Há alguma correlação entre a quantidade de parlamentares por partido e o valor total dos gastos?"
      ]
    },
    {
      "cell_type": "code",
      "execution_count": 60,
      "metadata": {
        "id": "4AKHOYSW_asl"
      },
      "outputs": [],
      "source": [
        "gastos_uftotal = df_copia[['sgPartido' , 'vlrLiquido']].groupby('sgPartido').sum().sort_values('vlrLiquido', ascending = False).round(2)\n",
        "\n",
        "gastos_uftotal.rename(columns = {'vlrLiquido':'Valor_Total'}, inplace = True)\n",
        "\n",
        "gastos_uftotal = gastos_uftotal.reset_index()\n",
        "\n",
        "parlamentares_uf = df_copia[['txNomeParlamentar', 'sgPartido']].drop_duplicates()\n",
        "\n",
        "parlamentares_uf = parlamentares_uf.groupby('sgPartido').count().sort_values('txNomeParlamentar', ascending = False)\n",
        "\n",
        "parlamentares_uf.rename(columns = {'txNomeParlamentar':'Quantidade De Representantes'}, inplace = True)\n",
        "\n",
        "parlamentares_uf = parlamentares_uf.reset_index()\n",
        "\n",
        "maximo = parlamentares_uf['Quantidade De Representantes'].max()"
      ]
    },
    {
      "cell_type": "code",
      "execution_count": 61,
      "metadata": {
        "colab": {
          "base_uri": "https://localhost:8080/",
          "height": 1000
        },
        "id": "83tKW6n1_lQC",
        "outputId": "cd84df28-5133-4445-f3bc-4a85cecb0079"
      },
      "outputs": [
        {
          "output_type": "display_data",
          "data": {
            "text/plain": [
              "<Figure size 1440x504 with 1 Axes>"
            ],
            "image/png": "[encoded data removed]"
          },
          "metadata": {
            "needs_background": "light"
          }
        },
        {
          "output_type": "display_data",
          "data": {
            "text/plain": [
              "<Figure size 1440x504 with 1 Axes>"
            ],
            "image/png": "[encoded data removed]"
          },
          "metadata": {
            "needs_background": "light"
          }
        }
      ],
      "source": [
        "y = np.array(gastos_uftotal['Valor_Total']/1000000)\n",
        "x = np.array(gastos_uftotal.sgPartido)\n",
        "plt.figure(figsize=(20,7))\n",
        "plt.subplot(1,2,1)\n",
        "plt.xticks(gastos_uftotal.index, rotation = 90)\n",
        "plt.grid(axis= 'y')\n",
        "plt.bar(x,y)\n",
        "plt.title('Despesas em Milhões de Reais por Partido')\n",
        "\n",
        "x = np.array(parlamentares_uf.sgPartido)\n",
        "y = np.array(parlamentares_uf['Quantidade De Representantes'])\n",
        "plt.figure(figsize=(20,7))\n",
        "plt.subplot(1,2,2)\n",
        "plt.xticks(parlamentares_uf.index, rotation = 90)\n",
        "plt.bar(x,y)\n",
        "plt.grid(axis= 'x')\n",
        "plt.title('Número de Deputado por Partido')\n",
        "plt.show()"
      ]
    },
    {
      "cell_type": "markdown",
      "metadata": {
        "id": "qgkdys5YOU0y"
      },
      "source": [
        "## Extra - 1 . Qual foi o CNPJ que recebeu mais pagamentos de parlamentares ?"
      ]
    },
    {
      "cell_type": "code",
      "execution_count": 62,
      "metadata": {
        "id": "UnIzgK7xOU0z",
        "outputId": "26500aff-7a5b-4036-8b9f-70dfc8bd9395",
        "colab": {
          "base_uri": "https://localhost:8080/"
        }
      },
      "outputs": [
        {
          "output_type": "execute_result",
          "data": {
            "text/plain": [
              "txtFornecedor\n",
              "Cia Aérea - TAM                                          32752885.79\n",
              "Cia Aérea - GOL                                          29256102.71\n",
              "TAM                                                      10427117.77\n",
              "GOL                                                       8986462.99\n",
              "Cia Aérea - AZUL                                          8724624.30\n",
              "PANTANAL VEÍCULOS LTDA                                    5987345.18\n",
              "CELULAR FUNCIONAL                                         2618129.02\n",
              "GOLD CAR BRASILIA LOCADORA DE VEICULOS ME                 2539853.00\n",
              "DMD Gestão Administrativa LTDA - ME                       2210000.00\n",
              "VERTICE - SOCIEDADE CIVIL DE PROFISSIONAIS ASSOCIADOS     1855697.00\n",
              "Name: vlrDocumento, dtype: float64"
            ]
          },
          "metadata": {},
          "execution_count": 62
        }
      ],
      "source": [
        "#Agrupando por CNPJ/CPF e somando os valores dos documentos e ordenando do maior para o menor e capturando o top five\n",
        "df_extra1 = df_2.groupby(['txtFornecedor'])['vlrDocumento'].sum().sort_values(ascending = False).head(10)\n",
        "df_extra1"
      ]
    },
    {
      "cell_type": "code",
      "execution_count": 63,
      "metadata": {
        "id": "8xn01RYbOU0z",
        "outputId": "45752d69-5a3a-41e6-ea29-1819d4bdee4b",
        "colab": {
          "base_uri": "https://localhost:8080/",
          "height": 404
        }
      },
      "outputs": [
        {
          "output_type": "display_data",
          "data": {
            "text/plain": [
              "<Figure size 792x432 with 1 Axes>"
            ],
            "image/png": "[encoded data removed]"
          },
          "metadata": {
            "needs_background": "light"
          }
        }
      ],
      "source": [
        "df_extra1.plot(kind='barh',figsize=(11,6),grid=False,rot=0,color='green')\n",
        "plt.title('Qual CNPJ recebeu mais pagamentos de parlamentares ?')\n",
        "plt.xlabel('Quantidade recebida em milhões')\n",
        "plt.ylabel('Nome Fantasia')\n",
        "plt.show()"
      ]
    },
    {
      "cell_type": "markdown",
      "metadata": {
        "id": "0TpMPqLoOU0z"
      },
      "source": [
        "## Extra - 2. Em qual mês foram emitidos mais notas fiscais no ano de 2020 ?"
      ]
    },
    {
      "cell_type": "code",
      "execution_count": 64,
      "metadata": {
        "id": "5bw5LUbQOU0z",
        "outputId": "18ddaf6e-d82a-4f66-ff3f-320a77a2db4c",
        "colab": {
          "base_uri": "https://localhost:8080/"
        }
      },
      "outputs": [
        {
          "output_type": "execute_result",
          "data": {
            "text/plain": [
              "numMes\n",
              "2     20920\n",
              "3     16859\n",
              "12    15019\n",
              "1     14463\n",
              "10    13439\n",
              "11    12986\n",
              "9     12408\n",
              "8     12090\n",
              "7     11358\n",
              "6      9589\n",
              "5      8241\n",
              "4      7615\n",
              "Name: datEmissao, dtype: int64"
            ]
          },
          "metadata": {},
          "execution_count": 64
        }
      ],
      "source": [
        "#Agrupando por mês e contando a quantidade de notas emitidas ordenando do maior para o menor e capturando apenas o 1 elemento\n",
        "df2020 = df2020.groupby(['numMes'])['datEmissao'].count().sort_values(ascending = False)\n",
        "df2020"
      ]
    },
    {
      "cell_type": "code",
      "execution_count": 65,
      "metadata": {
        "id": "v-ihHne6OU00",
        "outputId": "48af087d-8610-424a-a817-ed39d412292b",
        "colab": {
          "base_uri": "https://localhost:8080/",
          "height": 404
        }
      },
      "outputs": [
        {
          "output_type": "display_data",
          "data": {
            "text/plain": [
              "<Figure size 792x432 with 1 Axes>"
            ],
            "image/png": "[encoded data removed]"
          },
          "metadata": {
            "needs_background": "light"
          }
        }
      ],
      "source": [
        "df2020.plot(kind='barh',figsize=(11,6),grid=False,rot=0,color='green')\n",
        "plt.title('Qual mês teve a maior taxa de emissão de pagamentos ?')\n",
        "plt.xlabel('Quantidade de Notas Fiscais recebidas para reembolso')\n",
        "plt.ylabel('Número do Mês')\n",
        "plt.show()"
      ]
    }
  ],
  "metadata": {
    "colab": {
      "collapsed_sections": [],
      "name": "notebook1.ipynb",
      "provenance": [],
      "include_colab_link": true
    },
    "interpreter": {
      "hash": "1899763f7b86cc3880a639718ab7c3bc6becf25acf3b993d363e255dc1991165"
    },
    "kernelspec": {
      "display_name": "Python 3",
      "language": "python",
      "name": "python3"
    },
    "language_info": {
      "codemirror_mode": {
        "name": "ipython",
        "version": 3
      },
      "file_extension": ".py",
      "mimetype": "text/x-python",
      "name": "python",
      "nbconvert_exporter": "python",
      "pygments_lexer": "ipython3",
      "version": "3.10.2"
    }
  },
  "nbformat": 4,
  "nbformat_minor": 0
}