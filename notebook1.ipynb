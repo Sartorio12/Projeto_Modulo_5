{
  "cells": [
    {
      "cell_type": "markdown",
      "metadata": {
        "colab_type": "text",
        "id": "view-in-github"
      },
      "source": [
        "<a href=\"https://colab.research.google.com/github/Sartorio12/Projeto_Modulo_5/blob/main/notebook1.ipynb\" target=\"_parent\"><img src=\"https://colab.research.google.com/assets/colab-badge.svg\" alt=\"Open In Colab\"/></a>"
      ]
    },
    {
      "cell_type": "markdown",
      "metadata": {
        "id": "6kuFvbzcyGHZ"
      },
      "source": [
        "# <center>Projeto Final do Módulo V</center>\n",
        "<center> Um breve estudo sobre gastos parlamentares Brasileiros\n",
        "\n",
        "<center><img src='https://i.imgur.com/QLJaHpa.png' style=\"width:200px\">\n",
        "\n",
        "<center><a href=\"https://colab.research.google.com/github/Sartorio12/Projeto_Modulo_5/blob/main/notebook1.ipynb\" target=\"_parent\"><img src=\"https://colab.research.google.com/assets/colab-badge.svg\" alt=\"Open In Colab\"/></a>\n",
        "\n",
        "**Grupo 5:** <a href=\"https://github.com/analumf\" target=\"_blank\">Analu Francisco</a> ; <a href=\"https://github.com/leticiafelippe\" target=\"_blank\">Letícia Felippe</a> ; <a href=\"https://github.com/sartorio12\" target=\"_blank\">Mateus Sartorio</a> ; <a href=\"www.linkedin.com/in/mateus-sartorio\" target=\"blank\">Mateus Sartório</a> ; <a href=\"https://github.com/hara0-tavares\" target=\"_blank\">Harão Tavares</a> ; <a href=\"https://github.com/jonathaslkc\" target=\"_blank\">Jonathas Carvalho</a>\n",
        "\n"
      ]
    },
    {
      "cell_type": "markdown",
      "metadata": {
        "id": "0MaDnzd0yGHf"
      },
      "source": [
        "<center><img src='https://i.imgur.com/QadqCNH.jpg' style=\"width:600px\">\n",
        "<center>Fonte: Agência Câmara de Notícias — Roque de Sá/Agência Senado"
      ]
    },
    {
      "cell_type": "markdown",
      "metadata": {
        "id": "LsnDu4L7yGHg"
      },
      "source": [
        "---\n",
        "\n",
        "# **1.** Sobre o estudo e objetivos"
      ]
    },
    {
      "cell_type": "markdown",
      "metadata": {
        "id": "SGceyLO7yGHh"
      },
      "source": [
        "O que você imagina quando ouve o conceito **\"Cota Parlamentar\"** ou **\"Cota para o Exercício da Atividade Parlamentar (CEAP)\"**?\n",
        "\n",
        "Você sabia que é através da **CEAP** que deputados e senadores custeiam suas despesas em atividades parlamentares? O mais interessante disso, é que os dados da CEAP que iremos analisar hoje são abertos e podem ser acessados por qualquer pesso, ou seja, qualquer pessoa pode ver como os deputados e senadores utilizam essse tipo de recurso. \n",
        "\n",
        "Apesar de cobrir uma quantidade grande de despesas, os gastos com a CEAP devem seguir uma série de regras definidas pelo Ato da Mesa 43/2009. Isso quer dizer que os parlamentares não podem utilizar esses recursos de qualquer maneira. Alguns exemplos de gastos vedados são a aquisição de gêneros alimentícios (ex.: o parlamentar pode gastar com as suas refeições mas não pode comprar carne para o churrasco no fim de semana), gastos de caráter eleitoral e gastos com a participação em cursos de educação básica, graduação e pós-graduação.\n",
        "\n",
        "Além disso, como citado anteriormente, a CEAP é destinada a custear gastos exclusivamente vinculados ao exercício da atividade parlamentar, o que veda o seu uso para o benefício de terceiros, como por exemplo, o pagamento de refeições para outras pessoas além do próprio parlamentar.\n",
        "Apesar de todas essas regras, a fiscalização desses gastos é bastante falha, sendo comum o surgimento de denúncias sobre irregularidades.\n",
        "\n",
        "Neste cenário surgiu um projeto chamado Operação Serenata de Amor ( https://serenata.ai/ ), que tem como objetivo utilizar ferramentas de ciência de dados para fiscalizar gastos públicos e compartilhar informações relevantes com o público. O projeto tem uma série de módulos. Alguns deles são responsáveis por baixar e limpar os dados, outros por identificar irregularidades e por fim existem alguns módulos responsáveis pela divulgação de eventuais alertas de irregularidades. Um desses módulos de divulgação é o bot @RosieDaSerenata, responsável por publicar alertas de irregularidades no Twitter.\n",
        "\n",
        "<center><img src='https://i.imgur.com/AjyWlf1.jpg'>"
      ]
    },
    {
      "cell_type": "markdown",
      "metadata": {
        "id": "l0jqrjiNyGHi"
      },
      "source": [
        "**É sobre isso que vamos tratar nesta análise, que tem dois focos principais:**\n",
        "- *Demonstrar como investigaremos esses dados utilizando Python.*\n",
        "- *Elaborar conceitos a respeito da utilização da CEAP nos últimos 3 anos, com destaques no cenário de pandemia(COVID-19).*\n",
        "\n",
        "#### <center> **Nós do grupo 5 esperamos que a leitura desse notebook seja esclarecedora e útil :)**"
      ]
    },
    {
      "cell_type": "markdown",
      "metadata": {
        "id": "R5t_lltCyGHi"
      },
      "source": [
        "# **2.** Começando a nossa análise"
      ]
    },
    {
      "cell_type": "markdown",
      "metadata": {
        "id": "mLB01ormyGHj"
      },
      "source": [
        "Essa parte será um pouco teórica, pois nela exibiremos um pouco sobre a limpeza dos dados coletados no site da Câmara. Caso você queira somente acompanhar quais foram as nossas deduções baseadas nessas informações, pode pular para a parte X ( Preciso preencher a parte ).\n",
        "\n",
        "*Antes de mais nada, vamos apresentar um glossário sobre o DataSet:*\n",
        "\n",
        "- `Nome Parlamentar(txNomeParlamentar)` :  *Nome adotado pelo Parlamentar ao tomar posse do seu mandato.*\n",
        "- `ideCadastro(Identificador Único do Parlamentar)` : *Número que identifica unicamente um deputado federal na CD.*\n",
        "- `nuCarteiraParlamentar(Número da Carteira Parlamentar)` : *Documento usado para identificar um deputado federal na CD.*\n",
        "- `nuLegislatura(Número da  Legislatura)` : *No contexto da cota CEAP, representa o ano base de início da legislatura.*\n",
        "- `sgUF(Sigla da Unidade Federal)` : *Representa a UF do parlamentar.*\n",
        "- `sdPartido(Sigla do Partido)` : *Representa o partido do parlamentar.*\n",
        "- `codLegislatura(Código da Legislatura)` : *No contexto da cota CEAP, o seu conteúdo representa o código identificador da Legislatura.*\n",
        "- `numSubCota(Número da Subcota) `: *Representa o código do Tipo de Despesa, comprovada por meio da emissão de um documento fiscal, a qual é debitada na cota do deputado.*\n",
        "- `txtDescricao(Descrição da Subcota)` : *Descrição do Tipo de Despesa.*\n",
        "- `numEspecificacaoSubCota(Número da Especificação da Subcota)` : *Representa o código desta especificação mais detalhada.*\n",
        "- `txtDescricaoEspecificacao(Descrição da Especificação da Subcota)` : *Detalha o tipo de despesa efetuada.*\n",
        "- `txtFornecedor(Fornecedor)` : *Representa o fornecedor do produto ou serviço presente no documento fiscal.*\n",
        "- `txtCNPJCPF(CNPJ/CPF)` : *Indica se o fornecedor é CNPJ ou CPF , presente no documento fiscal.*\n",
        "- `txtNumero(Número do Documento)` : *Indica o número do documento do emissor da NF em questão.*\n",
        "- `indTipoDocumento(Indicativo de Tipo de Documento Fiscal)` : *Tipo de documento do fiscal – 0 para Nota Fiscal; 1 para Recibo; 2 para Despesa no Exterior.*\n",
        "- `datEmissao(Data de Emissão)` : *A data de emissão do documento.*\n",
        "- `vlrDocumento(Valor do Documento)` : *O seu conteúdo é o valor de face do documento fiscal ou o valor do documento que deu causa à despesa.*\n",
        "- `vlrGlosa(Valor da Glosa)` : *Valor da glosa do documento que deu causa à despesa.*\n",
        "- `vlrLiquido(Valor Liquido)` : *Valor líquido do documento (será calculado pela diferença entre o Valor do Documento e o Valor da Glosa)*\n",
        "- `numMes(Mês) `: *Indica o mês da emissão da nota.*\n",
        "- `numAno(Ano) `: *Indica o ano da emissão da nota.*\n",
        "- `numParcela(Número da Parcela)` : *O seu conteúdo representa o número da parcela do documento fiscal. Ocorre quando o documento tem de ser reembolsado de forma parcelada.*\n",
        "- `txtPassageiro(Nome do Passageiro)` : *O nome do passageiro, em caso da emissão do documento ser uma passagem aérea.*\n",
        "- `txtTrecho(Trecho)` : *Representa qual o trecho da viagem, somente em casos de viagem aérea.*\n",
        "- `numLote(Número do Lote) `: *Representa a capa do lote em que esse documento será incluído para ser entregue na Câmara para ressarcimento.*\n",
        "- `numRessarcimento(Número do Ressarcimento) `: *Indica o ressarcimento do qual o documento faz parte.*\n",
        "- `vlrRestituição(Valor da Restituição)` : *Indica o valor que será restituído sobre aquele documento.*\n",
        "- `nuDeputadoId(Identificador do Solicitante)` : *Número que identifica um Parlamentar ou Liderança na Transparência da Cota para Exercício da Atividade Parlamentar.*"
      ]
    },
    {
      "cell_type": "markdown",
      "metadata": {
        "id": "rVSxv6U-yGHk"
      },
      "source": [
        "## **2.1.** Materiais e métodos"
      ]
    },
    {
      "cell_type": "markdown",
      "metadata": {
        "id": "eR5PiQp4yGHl"
      },
      "source": [
        "O presente trabalho foi desenvolvido utilizando `Google Colaboratory` e `Jupyter Notebook`, com a importação das seguintes bibliotecas:\n",
        "> * `Pandas`: é uma biblioteca para uso em Python, open-source e de uso gratuito (sob uma licença BSD), que fornece ferramentas para análise e manipulação de dados. ;<br>\n",
        "> * `Numpy`: é uma biblioteca para a linguagem Python com funções para se trabalhar com computação numérica. Seu principal objeto é o vetor n-dimensional, ou ndarray .;<br>\n",
        "> * `Matplotlib`: é uma biblioteca com recursos para a geração de gráficos 2D a partir de arrays. Gráficos comuns podem ser criados com alta qualidade a partir de comandos simples, inspirados nos comandos gráficos do MATLAB;<br>\n",
        "> * `Seaborn`: é uma biblioteca que atua em cima do matplotlib e ajuda a melhorar o visual dos gráficos, dando uma aparência mais bem acabada; e<br>\n",
        "> * `Datetime`: é um módulo que fornece as classes para manipulação de datas e horas. Ainda que a aritmética de data e hora seja suportada, o foco da implementação é na extração eficiente do atributo para formatação da saída e manipulação.\n",
        "\n",
        "A base de dados pode ser encontrada no site da Câmara (https://www.camara.leg.br/cota-parlamentar/), de acesso livre.\n",
        "\n",
        "Para versionamento do código utilizamos o `Git` e `GitHub` para publicação do trabalho.\n",
        "\n",
        "Para organização e acompanhamento das tarefas entre os integrantes do grupo foi utilizado o `Trello`.\n",
        "\n",
        "As reuniões foram estabelecidas através da plataforma `Discord`."
      ]
    },
    {
      "cell_type": "markdown",
      "metadata": {
        "id": "MYTpLGG2yGHm"
      },
      "source": [
        "## **2.2.** Importando nossas bibliotecas"
      ]
    },
    {
      "cell_type": "markdown",
      "metadata": {
        "id": "wUVpvk5tyGHm"
      },
      "source": [
        "A parte incial, simples importação de bibliotecas que serão utilizadas."
      ]
    },
    {
      "cell_type": "code",
      "execution_count": 3,
      "metadata": {
        "id": "6X5ldIquTfk9"
      },
      "outputs": [],
      "source": [
        "import pandas as pd\n",
        "import numpy as np\n",
        "import matplotlib.pyplot as plt"
      ]
    },
    {
      "cell_type": "markdown",
      "metadata": {
        "id": "i7R8bFEPTflC"
      },
      "source": [
        "## **2.3.** Importando nossos dados"
      ]
    },
    {
      "cell_type": "code",
      "execution_count": 4,
      "metadata": {
        "id": "n1PvipkSTflO"
      },
      "outputs": [],
      "source": [
        "df1 = pd.read_csv('Ano-2019.csv', sep=';')\n",
        "df2 = pd.read_csv('Ano-2020.csv', sep=';')\n",
        "df3 = pd.read_csv('Ano-2021.csv', sep=';')"
      ]
    },
    {
      "cell_type": "code",
      "execution_count": null,
      "metadata": {
        "colab": {
          "base_uri": "https://localhost:8080/"
        },
        "id": "oWpgPnQ1XWtE",
        "outputId": "edccd180-1a85-42ee-e57d-42eeda1abef9"
      },
      "outputs": [],
      "source": [
        "# Criando uma cópia do dataframe como boa prática\n",
        "df_copia = df_unico.copy()\n",
        "df_copia.shape"
      ]
    },
    {
      "cell_type": "code",
      "execution_count": null,
      "metadata": {},
      "outputs": [],
      "source": []
    },
    {
      "cell_type": "code",
      "execution_count": null,
      "metadata": {
        "colab": {
          "base_uri": "https://localhost:8080/"
        },
        "id": "cs7mB3tNXZ7Y",
        "outputId": "19d892d7-900d-4a1c-bf18-ba42e36bde48"
      },
      "outputs": [],
      "source": [
        "# Nome das colunas\n",
        "df_copia.columns"
      ]
    },
    {
      "cell_type": "code",
      "execution_count": null,
      "metadata": {
        "colab": {
          "base_uri": "https://localhost:8080/"
        },
        "id": "dnmX5tRsXhbX",
        "outputId": "aefcaa14-e570-435e-8490-43158b09f7cd"
      },
      "outputs": [],
      "source": [
        "# Tipo de dado de cada coluna\n",
        "df_copia.dtypes"
      ]
    },
    {
      "cell_type": "code",
      "execution_count": null,
      "metadata": {
        "colab": {
          "base_uri": "https://localhost:8080/"
        },
        "id": "L8gbslV8Xh7G",
        "outputId": "58bc0fb8-c03e-4e16-8275-9b76c0aad64e"
      },
      "outputs": [],
      "source": [
        "# Vendo todas as informações\n",
        "df_copia.info()"
      ]
    },
    {
      "cell_type": "markdown",
      "metadata": {
        "id": "Die2K1p9XrnY"
      },
      "source": [
        "observação: fizemos a consulta e achamos alguns valores nulos em algumas colunas mas achamos que elas não são relevantes pras consultas do nosso projeto.\n",
        "è preciso analisar em grupo se devemos removê-las ou mantê-las."
      ]
    },
    {
      "cell_type": "code",
      "execution_count": null,
      "metadata": {
        "colab": {
          "base_uri": "https://localhost:8080/"
        },
        "id": "Bk7JsqaMXnB1",
        "outputId": "8efc4357-af1f-473d-eaf6-1ebb31bcb55b"
      },
      "outputs": [],
      "source": [
        "# Procurando numero de dados nulos em percentual\n",
        "round(df_copia.isnull().mean()*100,2)"
      ]
    },
    {
      "cell_type": "code",
      "execution_count": null,
      "metadata": {
        "colab": {
          "base_uri": "https://localhost:8080/",
          "height": 364
        },
        "id": "KFgu2unNXnlN",
        "outputId": "ac2660c1-1de0-483a-da16-58df8d2b8a62"
      },
      "outputs": [],
      "source": [
        "# o describe foi feito pra destacar os valores negativos presentes nas colunas:'vlrDocumento' e 'vlrLiquido' \n",
        "df_copia.describe()"
      ]
    },
    {
      "cell_type": "markdown",
      "metadata": {
        "id": "OflcX1LRZfSP"
      },
      "source": [
        "observação: Achamos importante explicar o que são esses valores negativos ( compensação de passagens aéreas) conforme dicionário do arquivo.\n",
        "https://www2.camara.leg.br/transparencia/cota-para-exercicio-da-atividade-parlamentar/explicacoes-sobre-o-formato-dos-arquivos-xml"
      ]
    },
    {
      "cell_type": "code",
      "execution_count": null,
      "metadata": {
        "colab": {
          "base_uri": "https://localhost:8080/",
          "height": 647
        },
        "id": "3aIl9ufhXyuW",
        "outputId": "006bd199-2dc9-4cef-b6bc-0c88d81d50f4"
      },
      "outputs": [],
      "source": [
        "# Visualizando as 5 primeiras linhas do dataframe\n",
        "df_copia.head()"
      ]
    },
    {
      "cell_type": "code",
      "execution_count": null,
      "metadata": {
        "colab": {
          "base_uri": "https://localhost:8080/",
          "height": 403
        },
        "id": "pu1MeZ8PX0p9",
        "outputId": "302f309a-23f9-4ae9-c2ad-37c8c6e1c5ad"
      },
      "outputs": [],
      "source": [
        "# Visualizando as cinco últimas linhas do dataframe\n",
        "df_copia.tail()"
      ]
    },
    {
      "cell_type": "code",
      "execution_count": null,
      "metadata": {
        "colab": {
          "base_uri": "https://localhost:8080/",
          "height": 525
        },
        "id": "o63c7OS7X3pk",
        "outputId": "118afce7-bac6-464d-8192-8fdad970081a"
      },
      "outputs": [],
      "source": [
        "# Buscamos amostra aleatória de cinco linhas\n",
        "df_copia.sample(5)"
      ]
    },
    {
      "cell_type": "code",
      "execution_count": null,
      "metadata": {
        "colab": {
          "base_uri": "https://localhost:8080/"
        },
        "id": "Y0Ld6i5VX5EP",
        "outputId": "46ec49ea-eb2d-4f25-ae4d-5e770207466b"
      },
      "outputs": [],
      "source": [
        "# Essa consulta fizemos um novo df, filtrando na coluna 'txtDescricao' valores diferentes de 'PASSAGEM AÉREA - RPA'  e 'PASSAGEM AÉREA - SIGEPA' e a partir desse novo df fazer os cálculos de despesas.\n",
        "valores = df_copia[(df_copia['txtDescricao'] != 'PASSAGEM AÉREA - RPA')&(df_copia['txtDescricao'] != 'PASSAGEM AÉREA - SIGEPA')]\n",
        "valores['txtDescricao'].unique()\n",
        "valores.vlrLiquido"
      ]
    },
    {
      "cell_type": "code",
      "execution_count": null,
      "metadata": {
        "colab": {
          "base_uri": "https://localhost:8080/"
        },
        "id": "I10CR2QeZBSV",
        "outputId": "1a14330a-edeb-4184-b504-ac8ca3ce81f2"
      },
      "outputs": [],
      "source": [
        "# os dois valores negativos da coluna 'VrlLiquido'\n",
        "valores.query('vlrLiquido < 0')['vlrLiquido']"
      ]
    },
    {
      "cell_type": "code",
      "execution_count": null,
      "metadata": {
        "colab": {
          "base_uri": "https://localhost:8080/"
        },
        "id": "vLCzhibdZRFE",
        "outputId": "d93926b8-055c-4a98-f6fc-cc32a317aa2f"
      },
      "outputs": [],
      "source": [
        "# Convertemos a coluna datEmissao de object para datatime e colocamos só pra mostrar o formato dia/mes/ano pq o horário é irrelevante para as consultas\n",
        "df_copia['datEmissao'] = pd.to_datetime(df_copia['datEmissao'], format = '%Y/%m/%d')\n",
        "df_copia['datEmissao']"
      ]
    },
    {
      "cell_type": "code",
      "execution_count": null,
      "metadata": {
        "colab": {
          "base_uri": "https://localhost:8080/"
        },
        "id": "dCWjhkYqZUUE",
        "outputId": "96fb56c6-ca46-48d3-db4d-5e0bcf4065a1"
      },
      "outputs": [],
      "source": [
        "#Conferindo se o type da data foi transformado\n",
        "df_copia.dtypes"
      ]
    },
    {
      "cell_type": "code",
      "execution_count": null,
      "metadata": {
        "colab": {
          "base_uri": "https://localhost:8080/"
        },
        "id": "7OkJyUO6yGH1",
        "outputId": "73d04395-81fe-4f54-d299-640e040fec91"
      },
      "outputs": [],
      "source": [
        "df_copia.shape"
      ]
    },
    {
      "cell_type": "code",
      "execution_count": null,
      "metadata": {
        "colab": {
          "base_uri": "https://localhost:8080/"
        },
        "id": "Sfx_71euyGH2",
        "outputId": "878c0483-ae81-4d1d-fff3-17d19cb7a32e"
      },
      "outputs": [],
      "source": [
        "# df_copia[df_copia['cpf'].isnull()]\n",
        "df_copia.isnull().sum()\n"
      ]
    },
    {
      "cell_type": "code",
      "execution_count": null,
      "metadata": {
        "colab": {
          "base_uri": "https://localhost:8080/"
        },
        "id": "C8KCGTGKyGH2",
        "outputId": "ff5dd1b2-1d3e-49f6-cedf-a55276836341"
      },
      "outputs": [],
      "source": [
        "df_copia['txNomeParlamentar'].str.contains('LIDMIN', na=False)"
      ]
    },
    {
      "cell_type": "code",
      "execution_count": null,
      "metadata": {
        "colab": {
          "base_uri": "https://localhost:8080/",
          "height": 423
        },
        "id": "F2QkcsYuyGH2",
        "outputId": "64eb2919-d077-4630-bd8e-458982ecf3ac"
      },
      "outputs": [],
      "source": [
        "sem_partido_sem_uf = valores[valores['sgUF'].isnull()][['txNomeParlamentar', 'sgUF', 'sgPartido','vlrLiquido']]\n",
        "\n",
        "sem_partido_sem_uf"
      ]
    },
    {
      "cell_type": "code",
      "execution_count": null,
      "metadata": {
        "colab": {
          "base_uri": "https://localhost:8080/"
        },
        "id": "_51VgrZayGH3",
        "outputId": "73b0d25f-9bb2-4c3e-edef-736d5cd5ae9d"
      },
      "outputs": [],
      "source": [
        "sem_partido_sem_uf['txNomeParlamentar'].value_counts()"
      ]
    },
    {
      "cell_type": "code",
      "execution_count": null,
      "metadata": {
        "colab": {
          "base_uri": "https://localhost:8080/"
        },
        "id": "IAKBc8iLyGH3",
        "outputId": "6ccb1734-f419-4def-84f1-d3e71fa37b2f"
      },
      "outputs": [],
      "source": [
        "df_unico.sgUF.value_counts()"
      ]
    },
    {
      "cell_type": "code",
      "execution_count": null,
      "metadata": {
        "id": "eWBUh7YlyGH3"
      },
      "outputs": [],
      "source": [
        "#Atribuindo os paritdo correspondentes as despesas atribuídas apenas a lideranças\n",
        "df_copia['sgPartido'] = np.where(df_copia['txNomeParlamentar'] == \"LIDERANÇA DO PSL\", 'PSL', df_copia.sgPartido)\n",
        "df_copia['sgPartido'] = np.where(df_copia['txNomeParlamentar'] == \"LIDERANÇA DO PT\", 'PT', df_copia.sgPartido)\n",
        "df_copia['sgPartido'] = np.where(df_copia['txNomeParlamentar'] == \"LIDERANÇA DO PTB\", 'PTB', df_copia.sgPartido) \n",
        "df_copia['sgPartido'] = np.where(df_copia['txNomeParlamentar'] == \"LIDERANÇA DO PSDB\", 'PSDB', df_copia.sgPartido)\n",
        "df_copia['sgPartido'] = np.where(df_copia['txNomeParlamentar'] == \"LIDERANÇA DO PODEMOS\", 'PODEMOS', df_copia.sgPartido)\n",
        "df_copia['sgPartido'] = np.where(df_copia['txNomeParlamentar'] == \"LIDERANÇA DO SOLIDARIEDADE\", 'SOLIDARIEDADE', df_copia.sgPartido)\n",
        "df_copia['sgPartido'] = np.where(df_copia['txNomeParlamentar'] == \"LIDERANÇA DO PSD\", 'PSD',df_copia.sgPartido)\n",
        "df_copia['sgPartido'] = np.where(df_copia['txNomeParlamentar'] == \"LIDERANÇA DO NOVO\", 'NOVO',df_copia.sgPartido)\n",
        "df_copia['sgPartido'] = np.where(df_copia['txNomeParlamentar'] == \"LIDERANÇA DO DEMOCRATAS\", 'DEMOCRATAS', df_copia.sgPartido)\n",
        "df_copia['sgPartido'] = np.where(df_copia['txNomeParlamentar'] == \"LIDERANÇA DO CIDADANIA\", 'CIDADANIA', df_copia.sgPartido)\n",
        "df_copia['sgPartido'] = np.where(df_copia['txNomeParlamentar'] == \"LIDERANÇA DO AVANTE\", 'AVANTE', df_copia.sgPartido)\n",
        "df_copia['sgPartido'] = np.where(df_copia['txNomeParlamentar'] == \"LIDERANÇA DO PDT\", 'PDT', df_copia.sgPartido)\n",
        "df_copia['sgPartido'] = np.where(df_copia['txNomeParlamentar'] == \"LIDERANÇA DO PSOL\", 'PSOL', df_copia.sgPartido)\n",
        "df_copia['sgPartido'] = np.where(df_copia['txNomeParlamentar'] == \"LIDERANÇA DO PROGRESSISTAS\", 'PROGRESSISTAS',df_copia.sgPartido)\n",
        "df_copia['sgPartido'] = np.where(df_copia['txNomeParlamentar'] == \"LIDERANÇA DO PARTIDO REPUBLICANO DA ORDEM SOCIAL\", 'SOCIAL', df_copia.sgPartido)"
      ]
    },
    {
      "cell_type": "code",
      "execution_count": null,
      "metadata": {
        "colab": {
          "base_uri": "https://localhost:8080/",
          "height": 612
        },
        "id": "6eAL9O3IyGH4",
        "outputId": "29c7a9c4-d012-40da-fb54-2374d625c539"
      },
      "outputs": [],
      "source": [
        "#Verificando o funcionamento da atribuição\n",
        "df_copia[df_copia['txNomeParlamentar'].str.match('LIDERANÇA')].sample(5)"
      ]
    },
    {
      "cell_type": "markdown",
      "metadata": {
        "id": "Y1lAHDifTflS"
      },
      "source": [
        "### Análise dos DataFrames ( Harão e Jonathas)"
      ]
    }
  ],
  "metadata": {
    "colab": {
      "collapsed_sections": [],
      "include_colab_link": true,
      "name": "notebook1.ipynb",
      "provenance": []
    },
    "interpreter": {
      "hash": "1899763f7b86cc3880a639718ab7c3bc6becf25acf3b993d363e255dc1991165"
    },
    "kernelspec": {
      "display_name": "Python 3.10.2 64-bit",
      "language": "python",
      "name": "python3"
    },
    "language_info": {
      "codemirror_mode": {
        "name": "ipython",
        "version": 3
      },
      "file_extension": ".py",
      "mimetype": "text/x-python",
      "name": "python",
      "nbconvert_exporter": "python",
      "pygments_lexer": "ipython3",
      "version": "3.10.2"
    },
    "orig_nbformat": 4
  },
  "nbformat": 4,
  "nbformat_minor": 0
}
