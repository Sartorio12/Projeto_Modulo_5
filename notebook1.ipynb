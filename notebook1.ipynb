{
 "cells": [
  {
   "cell_type": "code",
   "execution_count": 1,
   "metadata": {},
   "outputs": [],
   "source": [
    "import pandas as pd\n",
    "import numpy as np"
   ]
  },
  {
   "cell_type": "code",
   "execution_count": 5,
   "metadata": {},
   "outputs": [],
   "source": [
    "df = pd.read_csv('Ano-2019.csv', sep=';')\n",
    "df2 = pd.read_csv('Ano-2020.csv', sep=';')\n",
    "df3 = pd.read_csv('Ano-2021.csv', sep=';')"
   ]
  },
  {
   "cell_type": "code",
   "execution_count": 8,
   "metadata": {},
   "outputs": [
    {
     "data": {
      "text/plain": [
       "0                  NaN\n",
       "1                  NaN\n",
       "2                  NaN\n",
       "3                  NaN\n",
       "4                  NaN\n",
       "              ...     \n",
       "160898    4.392800e+10\n",
       "160899    4.392800e+10\n",
       "160900    4.392800e+10\n",
       "160901    4.392800e+10\n",
       "160902    4.392800e+10\n",
       "Name: cpf, Length: 160903, dtype: float64"
      ]
     },
     "execution_count": 8,
     "metadata": {},
     "output_type": "execute_result"
    }
   ],
   "source": [
    "df2['cpf']"
   ]
  }
 ],
 "metadata": {
  "interpreter": {
   "hash": "1899763f7b86cc3880a639718ab7c3bc6becf25acf3b993d363e255dc1991165"
  },
  "kernelspec": {
   "display_name": "Python 3.10.2 64-bit",
   "language": "python",
   "name": "python3"
  },
  "language_info": {
   "codemirror_mode": {
    "name": "ipython",
    "version": 3
   },
   "file_extension": ".py",
   "mimetype": "text/x-python",
   "name": "python",
   "nbconvert_exporter": "python",
   "pygments_lexer": "ipython3",
   "version": "3.10.2"
  },
  "orig_nbformat": 4
 },
 "nbformat": 4,
 "nbformat_minor": 2
}
