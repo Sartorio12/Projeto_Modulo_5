{
 "cells": [
  {
   "cell_type": "markdown",
   "metadata": {},
   "source": [
    "# <center>Projeto Final do Módulo V</center>\n",
    "<center> Um breve estudo sobre gastos parlamentares Brasileiros\n",
    "\n",
    "<center><img src='https://i.imgur.com/QLJaHpa.png' style=\"width:200px\">\n",
    "\n",
    "<center><a href=\"https://colab.research.google.com/github/Sartorio12/Projeto_Modulo_5/blob/main/notebook1.ipynb\" target=\"_parent\"><img src=\"https://colab.research.google.com/assets/colab-badge.svg\" alt=\"Open In Colab\"/></a>\n",
    "\n",
    "**Grupo 5:** <a href=\"https://github.com/analumf\" target=\"_blank\">Analu Francisco</a> ; <a href=\"https://github.com/leticiafelippe\" target=\"_blank\">Letícia Felippe</a> ; <a href=\"https://github.com/sartorio12\" target=\"_blank\">Mateus Sartorio</a> ; <a href=\"www.linkedin.com/in/mateus-sartorio\" target=\"blank\">Mateus Sartório</a> ; <a href=\"https://github.com/hara0-tavares\" target=\"_blank\">Harão Tavares</a> ; <a href=\"https://github.com/jonathaslkc\" target=\"_blank\">Jonathas Carvalho</a>\n"
   ]
  },
  {
   "cell_type": "markdown",
   "metadata": {},
   "source": [
    "<center><img src='https://i.imgur.com/QadqCNH.jpg' style=\"width:600px\">\n",
    "<center>Fonte: Agência Câmara de Notícias — Roque de Sá/Agência Senado"
   ]
  },
  {
   "cell_type": "markdown",
   "metadata": {},
   "source": [
    "---\n",
    "\n",
    "# **1.** Sobre o estudo e objetivos"
   ]
  },
  {
   "cell_type": "markdown",
   "metadata": {},
   "source": [
    "O que você imagina quando ouve o conceito **\"Cota Parlamentar\"** ou **\"Cota para o Exercício da Atividade Parlamentar (CEAP)\"**?\n",
    "\n",
    "Você sabia que é através da **CEAP** que deputados e senadores custeiam suas despesas em atividades parlamentares? O mais interessante disso, é que os dados da CEAP que iremos analisar hoje são abertos e podem ser acessados por qualquer pesso, ou seja, qualquer pessoa pode ver como os deputados e senadores utilizam essse tipo de recurso. \n",
    "\n",
    "Apesar de cobrir uma quantidade grande de despesas, os gastos com a CEAP devem seguir uma série de regras definidas pelo Ato da Mesa 43/2009. Isso quer dizer que os parlamentares não podem utilizar esses recursos de qualquer maneira. Alguns exemplos de gastos vedados são a aquisição de gêneros alimentícios (ex.: o parlamentar pode gastar com as suas refeições mas não pode comprar carne para o churrasco no fim de semana), gastos de caráter eleitoral e gastos com a participação em cursos de educação básica, graduação e pós-graduação.\n",
    "\n",
    "Além disso, como citado anteriormente, a CEAP é destinada a custear gastos exclusivamente vinculados ao exercício da atividade parlamentar, o que veda o seu uso para o benefício de terceiros, como por exemplo, o pagamento de refeições para outras pessoas além do próprio parlamentar.\n",
    "Apesar de todas essas regras, a fiscalização desses gastos é bastante falha, sendo comum o surgimento de denúncias sobre irregularidades.\n",
    "\n",
    "Neste cenário surgiu um projeto chamado Operação Serenata de Amor ( https://serenata.ai/ ), que tem como objetivo utilizar ferramentas de ciência de dados para fiscalizar gastos públicos e compartilhar informações relevantes com o público. O projeto tem uma série de módulos. Alguns deles são responsáveis por baixar e limpar os dados, outros por identificar irregularidades e por fim existem alguns módulos responsáveis pela divulgação de eventuais alertas de irregularidades. Um desses módulos de divulgação é o bot @RosieDaSerenata, responsável por publicar alertas de irregularidades no Twitter."
   ]
  },
  {
   "cell_type": "markdown",
   "metadata": {},
   "source": [
    "<center><img src='https://i.imgur.com/AjyWlf1.jpg'>"
   ]
  },
  {
   "cell_type": "markdown",
   "metadata": {},
   "source": [
    "**É sobre isso que vamos tratar nesta análise, que tem dois focos principais:**\n",
    "- *Demonstrar como investigaremos esses dados utilizando Python.*\n",
    "- *Elaborar conceitos a respeito da utilização da CEAP nos últimos 3 anos, com destaques no cenário de pandemia(COVID-19).*\n"
   ]
  },
  {
   "cell_type": "markdown",
   "metadata": {},
   "source": [
    "# **2.** Começando a nossa análise"
   ]
  },
  {
   "cell_type": "markdown",
   "metadata": {},
   "source": [
    "Essa parte será um pouco teórica, pois nela exibiremos um pouco sobre a limpeza dos dados coletados no site da Câmara. Caso você queira somente acompanhar quais foram as nossas deduções baseadas nessas informações, pode pular para a parte X ( Preciso preencher a parte ).\n",
    "\n",
    "*Antes de mais nada, vamos apresentar um glossário sobre o DataSet:*\n",
    "\n",
    "- `Nome Parlamentar(txNomeParlamentar)` :  *Nome adotado pelo Parlamentar ao tomar posse do seu mandato.*\n",
    "- `ideCadastro(Identificador Único do Parlamentar)` : *Número que identifica unicamente um deputado federal na CD.*\n",
    "- `nuCarteiraParlamentar(Número da Carteira Parlamentar)` : *Documento usado para identificar um deputado federal na CD.*\n",
    "- `nuLegislatura(Número da  Legislatura)` : *No contexto da cota CEAP, representa o ano base de início da legislatura.*\n",
    "- `sgUF(Sigla da Unidade Federal)` : *Representa a UF do parlamentar.*\n",
    "- `sdPartido(Sigla do Partido)` : *Representa o partido do parlamentar.*\n",
    "- `codLegislatura(Código da Legislatura)` : *No contexto da cota CEAP, o seu conteúdo representa o código identificador da Legislatura.*\n",
    "- `numSubCota(Número da Subcota) `: *Representa o código do Tipo de Despesa, comprovada por meio da emissão de um documento fiscal, a qual é debitada na cota do deputado.*\n",
    "- `txtDescricao(Descrição da Subcota)` : *Descrição do Tipo de Despesa.*\n",
    "- `numEspecificacaoSubCota(Número da Especificação da Subcota)` : *Representa o código desta especificação mais detalhada.*\n",
    "- `txtDescricaoEspecificacao(Descrição da Especificação da Subcota)` : *Detalha o tipo de despesa efetuada.*\n",
    "- `txtFornecedor(Fornecedor)` : *Representa o fornecedor do produto ou serviço presente no documento fiscal.*\n",
    "- `txtCNPJCPF(CNPJ/CPF)` : *Indica se o fornecedor é CNPJ ou CPF , presente no documento fiscal.*\n",
    "- `txtNumero(Número do Documento)` : *Indica o número do documento do emissor da NF em questão.*\n",
    "- `indTipoDocumento(Indicativo de Tipo de Documento Fiscal)` : *Tipo de documento do fiscal – 0 para Nota Fiscal; 1 para Recibo; 2 para Despesa no Exterior.*\n",
    "- `datEmissao(Data de Emissão)` : *A data de emissão do documento.*\n",
    "- `vlrDocumento(Valor do Documento)` : *O seu conteúdo é o valor de face do documento fiscal ou o valor do documento que deu causa à despesa.*\n",
    "- `vlrGlosa(Valor da Glosa)` : *Valor da glosa do documento que deu causa à despesa.*\n",
    "- `vlrLiquido(Valor Liquido)` : *Valor líquido do documento (será calculado pela diferença entre o Valor do Documento e o Valor da Glosa)*\n",
    "- `numMes(Mês) `: *Indica o mês da emissão da nota.*\n",
    "- `numAno(Ano) `: *Indica o ano da emissão da nota.*\n",
    "- `numParcela(Número da Parcela)` : *O seu conteúdo representa o número da parcela do documento fiscal. Ocorre quando o documento tem de ser reembolsado de forma parcelada.*\n",
    "- `txtPassageiro(Nome do Passageiro)` : *O nome do passageiro, em caso da emissão do documento ser uma passagem aérea.*\n",
    "- `txtTrecho(Trecho)` : *Representa qual o trecho da viagem, somente em casos de viagem aérea.*\n",
    "- `numLote(Número do Lote) `: *Representa a capa do lote em que esse documento será incluído para ser entregue na Câmara para ressarcimento.*\n",
    "- `numRessarcimento(Número do Ressarcimento) `: *Indica o ressarcimento do qual o documento faz parte.*\n",
    "- `vlrRestituição(Valor da Restituição)` : *Indica o valor que será restituído sobre aquele documento.*\n",
    "- `nuDeputadoId(Identificador do Solicitante)` : *Número que identifica um Parlamentar ou Liderança na Transparência da Cota para Exercício da Atividade Parlamentar.*"
   ]
  },
  {
   "cell_type": "markdown",
   "metadata": {},
   "source": [
    "## **2.1.** Materiais e métodos"
   ]
  },
  {
   "cell_type": "markdown",
   "metadata": {},
   "source": [
    "O presente trabalho foi desenvolvido utilizando `Google Colaboratory` e `Jupyter Notebook`, com a importação das seguintes bibliotecas:\n",
    "> * `Pandas`: é uma biblioteca para uso em Python, open-source e de uso gratuito (sob uma licença BSD), que fornece ferramentas para análise e manipulação de dados. ;<br>\n",
    "> * `Numpy`: é uma biblioteca para a linguagem Python com funções para se trabalhar com computação numérica. Seu principal objeto é o vetor n-dimensional, ou ndarray .;<br>\n",
    "> * `Matplotlib`: é uma biblioteca com recursos para a geração de gráficos 2D a partir de arrays. Gráficos comuns podem ser criados com alta qualidade a partir de comandos simples, inspirados nos comandos gráficos do MATLAB;<br>\n",
    "> * `Seaborn`: é uma biblioteca que atua em cima do matplotlib e ajuda a melhorar o visual dos gráficos, dando uma aparência mais bem acabada; e<br>\n",
    "> * `Datetime`: é um módulo que fornece as classes para manipulação de datas e horas. Ainda que a aritmética de data e hora seja suportada, o foco da implementação é na extração eficiente do atributo para formatação da saída e manipulação.\n",
    "\n",
    "A base de dados pode ser encontrada no site da Câmara (https://www.camara.leg.br/cota-parlamentar/), de acesso livre.\n",
    "\n",
    "Para versionamento do código utilizamos o `Git` e `GitHub` para publicação do trabalho.\n",
    "\n",
    "Para organização e acompanhamento das tarefas entre os integrantes do grupo foi utilizado o `Trello`.\n",
    "\n",
    "As reuniões foram estabelecidas através da plataforma `Discord`."
   ]
  },
  {
   "cell_type": "markdown",
   "metadata": {},
   "source": [
    "## **3.** Principais Resultados"
   ]
  },
  {
   "cell_type": "markdown",
   "metadata": {},
   "source": [
    "A pesquisa do Módulo 5 de dados da Resilia sobre os Gastos Parlamentares ( 2019 - 2021 ) indicam vários fatores, notamos que alguns gastam muito enquanto outros gastam bem pouco, conseguimos perceber que a pandemia do Covid 19 teve sim uma forte influência em como os deputados utilizam suas cotas, também nota-se uma leve tendência de aumento para os próximos anos, baseados nos gastos atuais, e que a categoria que mais custou ao estado nesse período foi a de divulgação parlamentar (Campanhas políticas, propagandas do deputado, etc.) dentre outros que iremos abordar. Os principais resultados são esses:"
   ]
  },
  {
   "cell_type": "markdown",
   "metadata": {},
   "source": [
    "- **Deputados de todo país utilizaram mais verbas durante o início da pandemia (2020)**,conforme é possível analisar em 2019, antes da pandemia, os gastos totais dos parlamentares iniciam com R$ 15 mi, seguindo com os meses seguintes em tendência de alta, alcançando a casa dos R$ 20 mi no mês de outubro de 2019. Acompanhando a virada de ano, e, conforme cenário no período, deficit nos gastos aproximando da casa dos 10mi. O destaque segue para o mês de dezembro de 2020, onde estourou a faixa dos 25mi.\n",
    "\n",
    "<center><img src='https://i.imgur.com/BAdgN6p.jpg'>\n",
    "<center> Nota: no ano de 2021, temos registros faltantes a partir do mês de Agosto, então optamos por não incluir os mesmos no gráfico\n"
   ]
  },
  {
   "cell_type": "markdown",
   "metadata": {},
   "source": [
    "- **O Deputado com a maior média de gastos no período foi José Reinaldo (PSDB - MA)**, com aproximadamente R$ 13 mil reais gastos por mês em cotas parlamentares, seguido por Alberto Fraga (DEM - DF), com uma média de R$ 10 mil gastos por mês no período analisado.\n",
    "\n",
    "<center><img src='https://i.imgur.com/wx36Gyr.jpg'>"
   ]
  },
  {
   "cell_type": "markdown",
   "metadata": {},
   "source": [
    "- **O parlamentar que mais consumiu recursos no período foi Jéssica Sales (MDB - AC), atingindo a marca de mais de R$ 1,41 Mi no período de 2019 até 2021**, já o que menos consumiu recursos públicos foi a deputada Luciana Santos, utilizando apenas 50 reais da verba, com despesas telefônicas.\n",
    "<center><img src='https://i.imgur.com/7O9CBWF.jpg'><img src='https://i.imgur.com/pqkMPmJ.jpg'>\n",
    "<center>Nota: Os gráficos demonstram o valor dos gastos separados pelo top 5 parlamentares em ambos os casos\n",
    "\n"
   ]
  },
  {
   "cell_type": "markdown",
   "metadata": {},
   "source": [
    "- **Gastos com divulgação de atividade parlamentar são a maioria, com aproximadamente 59,1% dos gastos entre todas as categorias**, nessa categoria atribuímos propagandas políticas, marketing, propagandas de partido e todo material relacionado.\n",
    "\n",
    "<center><img src='https://i.imgur.com/SPNSXEF.jpg'>\n",
    "<center>Em suma, considera-se que as passagens aéreas conferem tanto para viagens no exterior quanto dentro de território nacional\n",
    "\n"
   ]
  },
  {
   "cell_type": "markdown",
   "metadata": {},
   "source": [
    "- **A maior parte dos gastos com transporte é derivada de viagens dentro de Brasilia (BSB), atingindo o percentual de 35,3% dos gastos totais**,lembrando que gastos com transporte englobam tanto o valor de gasolina gasto quanto passagens de avião e locação de carros.\n",
    "\n",
    "<center><img src='https://i.imgur.com/KzvJO7m.png'>\n",
    "\n",
    "\n",
    "A movimentação dentro de Brasilia acaba custando caro, pois dentro desse cálculo, entra o valor da gasolina do parlamentar, que muitas vezes o utiliza de forma indevida, com viagens pessoais e afins.\n"
   ]
  },
  {
   "cell_type": "markdown",
   "metadata": {},
   "source": [
    "- **Dentro da média de gastos divididos por estado, o Amapá é a UF que mais consome a cota, com aproximadamente R$ 2 bi consumidos no período**, seguido pelo estado de Roraima, que tem aproximadamente **R$ 1.6 bi** gastos no período em questão.\n",
    "\n",
    "<center><img src='https://i.imgur.com/EHqYXBW.jpg'>\n",
    "<center>Observação importante, a maioria dos estados presentes na categoria dos que mais consomem a cota se localiza na região Norte, e existem diversos fatores que determinam isso, um deles é que a legislação do estado costuma ser muito omissa quanto a isso, já que são estados mais isolados do centro político brasileiro (que seria o DF)."
   ]
  },
  {
   "cell_type": "markdown",
   "metadata": {},
   "source": [
    "- **O estado de São Paulo concentra a maior utilização em R$ da cota, atingindo o valor máximo de R$ 52.635.438,40 no período**, já o estado que menos consome a cota seria o Distrito Federal, com **R$ 4.303.815,07** utilizados em 3 anos.\n",
    "\n",
    "<center><img src='https://i.imgur.com/CekWBly.jpg'>"
   ]
  },
  {
   "cell_type": "markdown",
   "metadata": {},
   "source": [
    "- **O estado que apresenta o maior número de representantes é também o estado de São Paulo, com 104 parlamentares**, o que representa *12.54%* do total de parlamentares em todo território nacional.\n",
    "\n",
    "<center><img src='https://i.imgur.com/2GBaBTm.jpg'>"
   ]
  },
  {
   "cell_type": "markdown",
   "metadata": {},
   "source": [
    "- **Existe uma correlação direta entre o número de parlamentares e o valor total dos gastos**, uma é diretamente proporcional a outra, como podemos conferir no gráfico abaixo, as linhas caminham praticamente juntas.\n",
    "\n",
    "<center><img src='https://i.imgur.com/FhFHgyW.png'>"
   ]
  },
  {
   "cell_type": "markdown",
   "metadata": {},
   "source": [
    "- **Dentre todos os partidos, a maior média de gastos fica por conta do PPL, com R$ 2.246.29 de média total**, isso se dá por conta da distribuição igual da cota, que acontece de forma mais uniforme dentro desse partido.\n",
    "\n",
    "<center><img src='https://i.imgur.com/agEOXQU.jpg'>"
   ]
  },
  {
   "cell_type": "markdown",
   "metadata": {},
   "source": [
    "- **O partido que mais consumiu a cota no período foi o PT, com um total de R$ 53.101.273,58 utilizados**, e em último lugar, fica o PPL com apenas R$ 44.925,75 consumidos.\n",
    "\n",
    "<center><img src='https://i.imgur.com/xUnVZRp.png'>"
   ]
  },
  {
   "cell_type": "markdown",
   "metadata": {},
   "source": [
    "- **Existe também uma correlação direta entre o número de deputados por partido e o valor das despesas daquele partido**, por exemplo, partidos com poucos Deputados costumam consumir menos justamente por ter menos parlamentares.\n",
    "\n",
    "<center><img src='https://i.imgur.com/xUnVZRp.png'><img src='https://i.imgur.com/r4e5WD3.png'>"
   ]
  },
  {
   "cell_type": "markdown",
   "metadata": {},
   "source": [
    "- Conseguimos verificar também que o CNPJ que mais recebeu dinheiro dos parlamentares foi a **Companhia Aérea TAM**, recebendo aproximadamente **R$ 32.752.885,79** nos três anos."
   ]
  },
  {
   "cell_type": "markdown",
   "metadata": {},
   "source": [
    "- Por último mas não menos importante, a movimentação fiscal do ano de **2020** foi a maior registrada durante os três anos coletados, com destaque pro mês de **Fevereiro**, que contou com **20920** registros de reembolsos enviados a Câmara."
   ]
  },
  {
   "cell_type": "markdown",
   "metadata": {},
   "source": [
    "## **4.**  Considerações finais"
   ]
  },
  {
   "cell_type": "markdown",
   "metadata": {},
   "source": [
    "Como um todo, esse estudo nos proporcionou enxergar com outros olhos como nosso dinheiro é gasto, e que tipo de gasto é feito. Projetos como o **Serenata de Amor** são fundamentais para que brasileiros possam ficar cientes de tudo que ocorre dentro do Parlamento, e a transparência é fundamental nesse sentido. \n",
    "\n",
    "Esta análise traz apenas alguns indícios de que a forma como os partidos gastam a CEAP pode mudar muito de um partido para o outro. Contudo, como consideramos apenas alguns partidos, ela pode estar enviesada em algumas observações (um exemplo é o gasto com Locação e Fretamento de Aeronaves, onde os maiores gastos, considerando todos os partidos, são realizados pelo PSD e pelo REPUBLICANOS)."
   ]
  }
 ],
 "metadata": {
  "language_info": {
   "name": "python"
  },
  "orig_nbformat": 4
 },
 "nbformat": 4,
 "nbformat_minor": 2
}
