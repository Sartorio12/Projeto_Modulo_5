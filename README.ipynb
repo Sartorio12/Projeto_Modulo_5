# <center>Projeto Final do Módulo V</center>
<center> Um breve estudo sobre gastos parlamentares Brasileiros

<center><img src='https://i.imgur.com/QLJaHpa.png' style="width:200px">

<center><a href="https://colab.research.google.com/github/Sartorio12/Projeto_Modulo_5/blob/main/notebook1.ipynb" target="_parent"><img src="https://colab.research.google.com/assets/colab-badge.svg" alt="Open In Colab"/></a>

**Grupo 5:** <a href="https://github.com/analumf" target="_blank">Analu Francisco</a> ; <a href="https://github.com/leticiafelippe" target="_blank">Letícia Felippe</a> ; <a href="https://github.com/sartorio12" target="_blank">Mateus Sartorio</a> ; <a href="www.linkedin.com/in/mateus-sartorio" target="blank">Mateus Sartório</a> ; <a href="https://github.com/hara0-tavares" target="_blank">Harão Tavares</a> ; <a href="https://github.com/jonathaslkc" target="_blank">Jonathas Carvalho</a>
